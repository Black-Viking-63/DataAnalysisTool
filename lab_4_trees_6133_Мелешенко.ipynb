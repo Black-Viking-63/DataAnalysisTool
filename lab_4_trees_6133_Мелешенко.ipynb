{
  "nbformat": 4,
  "nbformat_minor": 0,
  "metadata": {
    "colab": {
      "name": "lab_4_trees_6133_Мелешенко.ipynb",
      "provenance": []
    },
    "kernelspec": {
      "name": "python3",
      "display_name": "Python 3"
    },
    "language_info": {
      "name": "python"
    }
  },
  "cells": [
    {
      "cell_type": "markdown",
      "source": [
        "# Лабораторная работа №4 по курсу \"Интеллектуальный анализ данных\"."
      ],
      "metadata": {
        "id": "R_EbF65XKY1y"
      }
    },
    {
      "cell_type": "markdown",
      "source": [
        "Лабораторная работа №4 \"Деревья решений\".<br>\n",
        "Выполнил студент группы 6133-010402 Мелешенко Иван."
      ],
      "metadata": {
        "id": "FjQ9rQBlKkCv"
      }
    },
    {
      "cell_type": "markdown",
      "source": [
        "# [**Задание на лабораторную работу.**](https://github.com/kvvik/DS_SamU/blob/main/tasks/lab_4_trees_groupNumber_SecondName.ipynb)"
      ],
      "metadata": {
        "id": "fA8nqfo_MoY7"
      }
    },
    {
      "cell_type": "markdown",
      "source": [
        "## ***Задание 1.***<br>Выберите наборы данных, подходящие для многоклассовой и бинарной классификации.<br>\n",
        "\n",
        "Произвести описание данные, что обозначает каждый столбец, какого типа (категориальный, вещественный, целочисленный, бинарный) данный столбец, при необходимости для категориальных в том числе бинарных признаков привести расшифровку их значений. В общем, проведите \"визуальный\" анализ ваших данных.\n",
        "\n",
        "---\n",
        "\n",
        "## ***Задание 2.***<br>Демонстрация работы KNeighborsClassifier<br>\n",
        "\n",
        "* Для вашего датасета преобразовать категориальные признаки в бинарные с помощью pd.factorize / pd.get_dummies\n",
        "* С помощью sklearn.preprocessing.StandardScaler нормализовать значения признаков и построить для нормализованного датасета KNeighborsClassifier (без использования конвееров)\n",
        "* То же самое и использованием sklearn.pipeline.Pipeline\n",
        "* С помощью GridSearchCV произвести подбор гиперпараметра KNeighborsClassifier (n_neighbors) и выведите значение гиперпараметра и метрику для наилучшей модели\n",
        "\n",
        "---\n",
        "\n",
        "## ***Задание 3.***<br>Демонстрация работы DecisionTreeClassifier<br>\n",
        "\n",
        "* Продемонстрировать работу DecisionTreeClassifier, посчитать метрики качества на отложенной выборке\n",
        "* С помощью GridSearchCV произвести подбор гиперпараметров для поиска наилучшего дерева (перебрать max_depth, max_features и может быть что-то ещё)\n",
        "* Для полученного наилучшего дерева построить график feature_importances и дополнительно напечатать 3 наиболее важных признака, отсортировав их по убыванию важности\n",
        "\n",
        "---\n",
        "\n",
        "## ***Задание 4.***<br>Демонстрация работы RandomForestClassifier<br>\n",
        "\n",
        "* Продемонстрировать работу случайного леса RandomForestClassifier\n",
        "* С помощью GridSearchCV произвести подбор гиперпараметров для поиск наилучшего леса, посмотреть насколько улучшились метрики\n",
        "\n",
        "\n",
        "---\n",
        "\n",
        "## ***Задание 5.***<br>Подведение итогов<br>\n",
        "\n",
        "Сделать выводы. Какой классификатор и с камими гиперпараметрами дал в итоге наилучший результат для выбранного датасета на отложенной выборке."
      ],
      "metadata": {
        "id": "XSQPdXQtMykZ"
      }
    },
    {
      "cell_type": "markdown",
      "source": [
        "# Выполнение заданий лабораторной работы"
      ],
      "metadata": {
        "id": "TSi6B6YqONaq"
      }
    },
    {
      "cell_type": "markdown",
      "source": [
        "## Этап 0. Подготовка данных."
      ],
      "metadata": {
        "id": "72zgDnsPRHhd"
      }
    },
    {
      "cell_type": "markdown",
      "source": [
        "### Импорт библиотек."
      ],
      "metadata": {
        "id": "nzlAYqI8S0rK"
      }
    },
    {
      "cell_type": "code",
      "execution_count": null,
      "metadata": {
        "id": "CJnnsHg8JzgT"
      },
      "outputs": [],
      "source": [
        "import pandas as pd\n",
        "from sklearn.preprocessing import StandardScaler\n",
        "from sklearn.neighbors import KNeighborsClassifier\n",
        "import sklearn.model_selection\n",
        "import numpy as np\n",
        "import sklearn.metrics as metr\n",
        "import sklearn.pipeline\n",
        "import sklearn.tree\n",
        "import matplotlib.pyplot as plt\n",
        "import sklearn.ensemble\n",
        "import warnings\n",
        "import sys  \n",
        "if not sys.warnoptions:\n",
        "    warnings.simplefilter(\"ignore\")"
      ]
    },
    {
      "cell_type": "markdown",
      "source": [
        "### Подключение Google Drive"
      ],
      "metadata": {
        "id": "glgVOa0AS5Yb"
      }
    },
    {
      "cell_type": "code",
      "source": [
        "from google.colab import drive\n",
        "drive.mount('/content/drive')"
      ],
      "metadata": {
        "id": "s1QFbGMrPXRa",
        "colab": {
          "base_uri": "https://localhost:8080/"
        },
        "outputId": "78beef58-162b-4973-d1f1-8a4252747ff6"
      },
      "execution_count": null,
      "outputs": [
        {
          "output_type": "stream",
          "name": "stdout",
          "text": [
            "Mounted at /content/drive\n"
          ]
        }
      ]
    },
    {
      "cell_type": "markdown",
      "source": [
        "### Описание [Dataset](http://archive.ics.uci.edu/ml/datasets/Automobile)"
      ],
      "metadata": {
        "id": "tCj5kIPiTDyT"
      }
    },
    {
      "cell_type": "code",
      "source": [
        "fp = \"/content/drive/MyDrive/datasets/imports-85_inf.txt\" #вытащим описание датасета\n",
        "with open(fp) as file_handler:\n",
        "    for line in file_handler:\n",
        "        print(line)"
      ],
      "metadata": {
        "id": "Vd03rrnAPjYi"
      },
      "execution_count": null,
      "outputs": []
    },
    {
      "cell_type": "markdown",
      "source": [
        "### Загрузка Dataset-а"
      ],
      "metadata": {
        "id": "Qix9-itXTUlC"
      }
    },
    {
      "cell_type": "code",
      "source": [
        "machframe = pd.read_csv(\"/content/drive/MyDrive/datasets/imports-85.txt\",names=['symboling', 'normalized-losses', 'make', 'fuel-type', \n",
        "                                           'aspiration', 'num-of-doors','body-style','drive-wheels',\n",
        "                                           'engine-location','wheel-base','length','width','height',\n",
        "                                           'curb-weight','engine-type','num-of-cylinders','engine-size',\n",
        "                                           'fuel-system','bore','stroke','compression-ratio','horsepower',\n",
        "                                          'peak-rpm','city-mpg','highway-mpg','price'])"
      ],
      "metadata": {
        "id": "0BShbyBSPz6x"
      },
      "execution_count": null,
      "outputs": []
    },
    {
      "cell_type": "markdown",
      "source": [
        "### Просмотр Dataset-а"
      ],
      "metadata": {
        "id": "f4nyDmBjTdeS"
      }
    },
    {
      "cell_type": "code",
      "source": [
        "machframe.head(10)"
      ],
      "metadata": {
        "colab": {
          "base_uri": "https://localhost:8080/",
          "height": 506
        },
        "id": "VA6AoBGaQfS7",
        "outputId": "eb956941-0f4a-434a-cc3f-3b0fd56fb69c"
      },
      "execution_count": null,
      "outputs": [
        {
          "output_type": "execute_result",
          "data": {
            "text/html": [
              "\n",
              "  <div id=\"df-839e0259-75b1-4dc4-9e86-7abc57dc9c27\">\n",
              "    <div class=\"colab-df-container\">\n",
              "      <div>\n",
              "<style scoped>\n",
              "    .dataframe tbody tr th:only-of-type {\n",
              "        vertical-align: middle;\n",
              "    }\n",
              "\n",
              "    .dataframe tbody tr th {\n",
              "        vertical-align: top;\n",
              "    }\n",
              "\n",
              "    .dataframe thead th {\n",
              "        text-align: right;\n",
              "    }\n",
              "</style>\n",
              "<table border=\"1\" class=\"dataframe\">\n",
              "  <thead>\n",
              "    <tr style=\"text-align: right;\">\n",
              "      <th></th>\n",
              "      <th>symboling</th>\n",
              "      <th>normalized-losses</th>\n",
              "      <th>make</th>\n",
              "      <th>fuel-type</th>\n",
              "      <th>aspiration</th>\n",
              "      <th>num-of-doors</th>\n",
              "      <th>body-style</th>\n",
              "      <th>drive-wheels</th>\n",
              "      <th>engine-location</th>\n",
              "      <th>wheel-base</th>\n",
              "      <th>...</th>\n",
              "      <th>engine-size</th>\n",
              "      <th>fuel-system</th>\n",
              "      <th>bore</th>\n",
              "      <th>stroke</th>\n",
              "      <th>compression-ratio</th>\n",
              "      <th>horsepower</th>\n",
              "      <th>peak-rpm</th>\n",
              "      <th>city-mpg</th>\n",
              "      <th>highway-mpg</th>\n",
              "      <th>price</th>\n",
              "    </tr>\n",
              "  </thead>\n",
              "  <tbody>\n",
              "    <tr>\n",
              "      <th>0</th>\n",
              "      <td>3</td>\n",
              "      <td>?</td>\n",
              "      <td>alfa-romero</td>\n",
              "      <td>gas</td>\n",
              "      <td>std</td>\n",
              "      <td>two</td>\n",
              "      <td>convertible</td>\n",
              "      <td>rwd</td>\n",
              "      <td>front</td>\n",
              "      <td>88.6</td>\n",
              "      <td>...</td>\n",
              "      <td>130</td>\n",
              "      <td>mpfi</td>\n",
              "      <td>3.47</td>\n",
              "      <td>2.68</td>\n",
              "      <td>9.0</td>\n",
              "      <td>111</td>\n",
              "      <td>5000</td>\n",
              "      <td>21</td>\n",
              "      <td>27</td>\n",
              "      <td>13495</td>\n",
              "    </tr>\n",
              "    <tr>\n",
              "      <th>1</th>\n",
              "      <td>3</td>\n",
              "      <td>?</td>\n",
              "      <td>alfa-romero</td>\n",
              "      <td>gas</td>\n",
              "      <td>std</td>\n",
              "      <td>two</td>\n",
              "      <td>convertible</td>\n",
              "      <td>rwd</td>\n",
              "      <td>front</td>\n",
              "      <td>88.6</td>\n",
              "      <td>...</td>\n",
              "      <td>130</td>\n",
              "      <td>mpfi</td>\n",
              "      <td>3.47</td>\n",
              "      <td>2.68</td>\n",
              "      <td>9.0</td>\n",
              "      <td>111</td>\n",
              "      <td>5000</td>\n",
              "      <td>21</td>\n",
              "      <td>27</td>\n",
              "      <td>16500</td>\n",
              "    </tr>\n",
              "    <tr>\n",
              "      <th>2</th>\n",
              "      <td>1</td>\n",
              "      <td>?</td>\n",
              "      <td>alfa-romero</td>\n",
              "      <td>gas</td>\n",
              "      <td>std</td>\n",
              "      <td>two</td>\n",
              "      <td>hatchback</td>\n",
              "      <td>rwd</td>\n",
              "      <td>front</td>\n",
              "      <td>94.5</td>\n",
              "      <td>...</td>\n",
              "      <td>152</td>\n",
              "      <td>mpfi</td>\n",
              "      <td>2.68</td>\n",
              "      <td>3.47</td>\n",
              "      <td>9.0</td>\n",
              "      <td>154</td>\n",
              "      <td>5000</td>\n",
              "      <td>19</td>\n",
              "      <td>26</td>\n",
              "      <td>16500</td>\n",
              "    </tr>\n",
              "    <tr>\n",
              "      <th>3</th>\n",
              "      <td>2</td>\n",
              "      <td>164</td>\n",
              "      <td>audi</td>\n",
              "      <td>gas</td>\n",
              "      <td>std</td>\n",
              "      <td>four</td>\n",
              "      <td>sedan</td>\n",
              "      <td>fwd</td>\n",
              "      <td>front</td>\n",
              "      <td>99.8</td>\n",
              "      <td>...</td>\n",
              "      <td>109</td>\n",
              "      <td>mpfi</td>\n",
              "      <td>3.19</td>\n",
              "      <td>3.40</td>\n",
              "      <td>10.0</td>\n",
              "      <td>102</td>\n",
              "      <td>5500</td>\n",
              "      <td>24</td>\n",
              "      <td>30</td>\n",
              "      <td>13950</td>\n",
              "    </tr>\n",
              "    <tr>\n",
              "      <th>4</th>\n",
              "      <td>2</td>\n",
              "      <td>164</td>\n",
              "      <td>audi</td>\n",
              "      <td>gas</td>\n",
              "      <td>std</td>\n",
              "      <td>four</td>\n",
              "      <td>sedan</td>\n",
              "      <td>4wd</td>\n",
              "      <td>front</td>\n",
              "      <td>99.4</td>\n",
              "      <td>...</td>\n",
              "      <td>136</td>\n",
              "      <td>mpfi</td>\n",
              "      <td>3.19</td>\n",
              "      <td>3.40</td>\n",
              "      <td>8.0</td>\n",
              "      <td>115</td>\n",
              "      <td>5500</td>\n",
              "      <td>18</td>\n",
              "      <td>22</td>\n",
              "      <td>17450</td>\n",
              "    </tr>\n",
              "    <tr>\n",
              "      <th>5</th>\n",
              "      <td>2</td>\n",
              "      <td>?</td>\n",
              "      <td>audi</td>\n",
              "      <td>gas</td>\n",
              "      <td>std</td>\n",
              "      <td>two</td>\n",
              "      <td>sedan</td>\n",
              "      <td>fwd</td>\n",
              "      <td>front</td>\n",
              "      <td>99.8</td>\n",
              "      <td>...</td>\n",
              "      <td>136</td>\n",
              "      <td>mpfi</td>\n",
              "      <td>3.19</td>\n",
              "      <td>3.40</td>\n",
              "      <td>8.5</td>\n",
              "      <td>110</td>\n",
              "      <td>5500</td>\n",
              "      <td>19</td>\n",
              "      <td>25</td>\n",
              "      <td>15250</td>\n",
              "    </tr>\n",
              "    <tr>\n",
              "      <th>6</th>\n",
              "      <td>1</td>\n",
              "      <td>158</td>\n",
              "      <td>audi</td>\n",
              "      <td>gas</td>\n",
              "      <td>std</td>\n",
              "      <td>four</td>\n",
              "      <td>sedan</td>\n",
              "      <td>fwd</td>\n",
              "      <td>front</td>\n",
              "      <td>105.8</td>\n",
              "      <td>...</td>\n",
              "      <td>136</td>\n",
              "      <td>mpfi</td>\n",
              "      <td>3.19</td>\n",
              "      <td>3.40</td>\n",
              "      <td>8.5</td>\n",
              "      <td>110</td>\n",
              "      <td>5500</td>\n",
              "      <td>19</td>\n",
              "      <td>25</td>\n",
              "      <td>17710</td>\n",
              "    </tr>\n",
              "    <tr>\n",
              "      <th>7</th>\n",
              "      <td>1</td>\n",
              "      <td>?</td>\n",
              "      <td>audi</td>\n",
              "      <td>gas</td>\n",
              "      <td>std</td>\n",
              "      <td>four</td>\n",
              "      <td>wagon</td>\n",
              "      <td>fwd</td>\n",
              "      <td>front</td>\n",
              "      <td>105.8</td>\n",
              "      <td>...</td>\n",
              "      <td>136</td>\n",
              "      <td>mpfi</td>\n",
              "      <td>3.19</td>\n",
              "      <td>3.40</td>\n",
              "      <td>8.5</td>\n",
              "      <td>110</td>\n",
              "      <td>5500</td>\n",
              "      <td>19</td>\n",
              "      <td>25</td>\n",
              "      <td>18920</td>\n",
              "    </tr>\n",
              "    <tr>\n",
              "      <th>8</th>\n",
              "      <td>1</td>\n",
              "      <td>158</td>\n",
              "      <td>audi</td>\n",
              "      <td>gas</td>\n",
              "      <td>turbo</td>\n",
              "      <td>four</td>\n",
              "      <td>sedan</td>\n",
              "      <td>fwd</td>\n",
              "      <td>front</td>\n",
              "      <td>105.8</td>\n",
              "      <td>...</td>\n",
              "      <td>131</td>\n",
              "      <td>mpfi</td>\n",
              "      <td>3.13</td>\n",
              "      <td>3.40</td>\n",
              "      <td>8.3</td>\n",
              "      <td>140</td>\n",
              "      <td>5500</td>\n",
              "      <td>17</td>\n",
              "      <td>20</td>\n",
              "      <td>23875</td>\n",
              "    </tr>\n",
              "    <tr>\n",
              "      <th>9</th>\n",
              "      <td>0</td>\n",
              "      <td>?</td>\n",
              "      <td>audi</td>\n",
              "      <td>gas</td>\n",
              "      <td>turbo</td>\n",
              "      <td>two</td>\n",
              "      <td>hatchback</td>\n",
              "      <td>4wd</td>\n",
              "      <td>front</td>\n",
              "      <td>99.5</td>\n",
              "      <td>...</td>\n",
              "      <td>131</td>\n",
              "      <td>mpfi</td>\n",
              "      <td>3.13</td>\n",
              "      <td>3.40</td>\n",
              "      <td>7.0</td>\n",
              "      <td>160</td>\n",
              "      <td>5500</td>\n",
              "      <td>16</td>\n",
              "      <td>22</td>\n",
              "      <td>?</td>\n",
              "    </tr>\n",
              "  </tbody>\n",
              "</table>\n",
              "<p>10 rows × 26 columns</p>\n",
              "</div>\n",
              "      <button class=\"colab-df-convert\" onclick=\"convertToInteractive('df-839e0259-75b1-4dc4-9e86-7abc57dc9c27')\"\n",
              "              title=\"Convert this dataframe to an interactive table.\"\n",
              "              style=\"display:none;\">\n",
              "        \n",
              "  <svg xmlns=\"http://www.w3.org/2000/svg\" height=\"24px\"viewBox=\"0 0 24 24\"\n",
              "       width=\"24px\">\n",
              "    <path d=\"M0 0h24v24H0V0z\" fill=\"none\"/>\n",
              "    <path d=\"M18.56 5.44l.94 2.06.94-2.06 2.06-.94-2.06-.94-.94-2.06-.94 2.06-2.06.94zm-11 1L8.5 8.5l.94-2.06 2.06-.94-2.06-.94L8.5 2.5l-.94 2.06-2.06.94zm10 10l.94 2.06.94-2.06 2.06-.94-2.06-.94-.94-2.06-.94 2.06-2.06.94z\"/><path d=\"M17.41 7.96l-1.37-1.37c-.4-.4-.92-.59-1.43-.59-.52 0-1.04.2-1.43.59L10.3 9.45l-7.72 7.72c-.78.78-.78 2.05 0 2.83L4 21.41c.39.39.9.59 1.41.59.51 0 1.02-.2 1.41-.59l7.78-7.78 2.81-2.81c.8-.78.8-2.07 0-2.86zM5.41 20L4 18.59l7.72-7.72 1.47 1.35L5.41 20z\"/>\n",
              "  </svg>\n",
              "      </button>\n",
              "      \n",
              "  <style>\n",
              "    .colab-df-container {\n",
              "      display:flex;\n",
              "      flex-wrap:wrap;\n",
              "      gap: 12px;\n",
              "    }\n",
              "\n",
              "    .colab-df-convert {\n",
              "      background-color: #E8F0FE;\n",
              "      border: none;\n",
              "      border-radius: 50%;\n",
              "      cursor: pointer;\n",
              "      display: none;\n",
              "      fill: #1967D2;\n",
              "      height: 32px;\n",
              "      padding: 0 0 0 0;\n",
              "      width: 32px;\n",
              "    }\n",
              "\n",
              "    .colab-df-convert:hover {\n",
              "      background-color: #E2EBFA;\n",
              "      box-shadow: 0px 1px 2px rgba(60, 64, 67, 0.3), 0px 1px 3px 1px rgba(60, 64, 67, 0.15);\n",
              "      fill: #174EA6;\n",
              "    }\n",
              "\n",
              "    [theme=dark] .colab-df-convert {\n",
              "      background-color: #3B4455;\n",
              "      fill: #D2E3FC;\n",
              "    }\n",
              "\n",
              "    [theme=dark] .colab-df-convert:hover {\n",
              "      background-color: #434B5C;\n",
              "      box-shadow: 0px 1px 3px 1px rgba(0, 0, 0, 0.15);\n",
              "      filter: drop-shadow(0px 1px 2px rgba(0, 0, 0, 0.3));\n",
              "      fill: #FFFFFF;\n",
              "    }\n",
              "  </style>\n",
              "\n",
              "      <script>\n",
              "        const buttonEl =\n",
              "          document.querySelector('#df-839e0259-75b1-4dc4-9e86-7abc57dc9c27 button.colab-df-convert');\n",
              "        buttonEl.style.display =\n",
              "          google.colab.kernel.accessAllowed ? 'block' : 'none';\n",
              "\n",
              "        async function convertToInteractive(key) {\n",
              "          const element = document.querySelector('#df-839e0259-75b1-4dc4-9e86-7abc57dc9c27');\n",
              "          const dataTable =\n",
              "            await google.colab.kernel.invokeFunction('convertToInteractive',\n",
              "                                                     [key], {});\n",
              "          if (!dataTable) return;\n",
              "\n",
              "          const docLinkHtml = 'Like what you see? Visit the ' +\n",
              "            '<a target=\"_blank\" href=https://colab.research.google.com/notebooks/data_table.ipynb>data table notebook</a>'\n",
              "            + ' to learn more about interactive tables.';\n",
              "          element.innerHTML = '';\n",
              "          dataTable['output_type'] = 'display_data';\n",
              "          await google.colab.output.renderOutput(dataTable, element);\n",
              "          const docLink = document.createElement('div');\n",
              "          docLink.innerHTML = docLinkHtml;\n",
              "          element.appendChild(docLink);\n",
              "        }\n",
              "      </script>\n",
              "    </div>\n",
              "  </div>\n",
              "  "
            ],
            "text/plain": [
              "   symboling normalized-losses         make fuel-type aspiration num-of-doors  \\\n",
              "0          3                 ?  alfa-romero       gas        std          two   \n",
              "1          3                 ?  alfa-romero       gas        std          two   \n",
              "2          1                 ?  alfa-romero       gas        std          two   \n",
              "3          2               164         audi       gas        std         four   \n",
              "4          2               164         audi       gas        std         four   \n",
              "5          2                 ?         audi       gas        std          two   \n",
              "6          1               158         audi       gas        std         four   \n",
              "7          1                 ?         audi       gas        std         four   \n",
              "8          1               158         audi       gas      turbo         four   \n",
              "9          0                 ?         audi       gas      turbo          two   \n",
              "\n",
              "    body-style drive-wheels engine-location  wheel-base  ...  engine-size  \\\n",
              "0  convertible          rwd           front        88.6  ...          130   \n",
              "1  convertible          rwd           front        88.6  ...          130   \n",
              "2    hatchback          rwd           front        94.5  ...          152   \n",
              "3        sedan          fwd           front        99.8  ...          109   \n",
              "4        sedan          4wd           front        99.4  ...          136   \n",
              "5        sedan          fwd           front        99.8  ...          136   \n",
              "6        sedan          fwd           front       105.8  ...          136   \n",
              "7        wagon          fwd           front       105.8  ...          136   \n",
              "8        sedan          fwd           front       105.8  ...          131   \n",
              "9    hatchback          4wd           front        99.5  ...          131   \n",
              "\n",
              "   fuel-system  bore  stroke compression-ratio horsepower  peak-rpm city-mpg  \\\n",
              "0         mpfi  3.47    2.68               9.0        111      5000       21   \n",
              "1         mpfi  3.47    2.68               9.0        111      5000       21   \n",
              "2         mpfi  2.68    3.47               9.0        154      5000       19   \n",
              "3         mpfi  3.19    3.40              10.0        102      5500       24   \n",
              "4         mpfi  3.19    3.40               8.0        115      5500       18   \n",
              "5         mpfi  3.19    3.40               8.5        110      5500       19   \n",
              "6         mpfi  3.19    3.40               8.5        110      5500       19   \n",
              "7         mpfi  3.19    3.40               8.5        110      5500       19   \n",
              "8         mpfi  3.13    3.40               8.3        140      5500       17   \n",
              "9         mpfi  3.13    3.40               7.0        160      5500       16   \n",
              "\n",
              "  highway-mpg  price  \n",
              "0          27  13495  \n",
              "1          27  16500  \n",
              "2          26  16500  \n",
              "3          30  13950  \n",
              "4          22  17450  \n",
              "5          25  15250  \n",
              "6          25  17710  \n",
              "7          25  18920  \n",
              "8          20  23875  \n",
              "9          22      ?  \n",
              "\n",
              "[10 rows x 26 columns]"
            ]
          },
          "metadata": {},
          "execution_count": 5
        }
      ]
    },
    {
      "cell_type": "markdown",
      "source": [
        "### Предварительная обработка Dataset-а"
      ],
      "metadata": {
        "id": "P07HmssucFB0"
      }
    },
    {
      "cell_type": "code",
      "source": [
        "machframe = machframe[machframe[:] != '?'].iloc[:,:] #найдем все пропуски в данных и заменим их на медианный\n",
        "machframe.fillna(machframe.median(), inplace = True)"
      ],
      "metadata": {
        "colab": {
          "base_uri": "https://localhost:8080/"
        },
        "id": "k1kk8hx2cFlE",
        "outputId": "46e9e595-7bbc-4235-8030-dbffbb049300"
      },
      "execution_count": null,
      "outputs": [
        {
          "output_type": "stream",
          "name": "stderr",
          "text": [
            "/usr/local/lib/python3.7/dist-packages/ipykernel_launcher.py:2: FutureWarning: Dropping of nuisance columns in DataFrame reductions (with 'numeric_only=None') is deprecated; in a future version this will raise TypeError.  Select only valid columns before calling the reduction.\n",
            "  \n"
          ]
        }
      ]
    },
    {
      "cell_type": "code",
      "source": [
        "mach = machframe.drop(columns=['make', 'body-style', 'drive-wheels', 'fuel-system', 'engine-type'])"
      ],
      "metadata": {
        "id": "RqS495pKcuEd"
      },
      "execution_count": null,
      "outputs": []
    },
    {
      "cell_type": "code",
      "source": [
        "mach = pd.concat([mach,pd.get_dummies(machframe['make'],drop_first = True)],axis = 1)\n",
        "mach = pd.concat([mach,pd.get_dummies(machframe['body-style'],drop_first = True)],axis = 1)\n",
        "mach = pd.concat([mach,pd.get_dummies(machframe['drive-wheels'],drop_first = True)],axis = 1)\n",
        "mach = pd.concat([mach,pd.get_dummies(machframe['fuel-system'],drop_first = True)],axis = 1)\n",
        "mach = pd.concat([mach,pd.get_dummies(machframe['engine-type'], drop_first = True)],axis = 1)"
      ],
      "metadata": {
        "id": "Wl2E8SDXcwNt"
      },
      "execution_count": null,
      "outputs": []
    },
    {
      "cell_type": "markdown",
      "source": [
        "## Этап 1. Демонстрация работы KNeighborsClassifier"
      ],
      "metadata": {
        "id": "Tmo5Pqx3cRSs"
      }
    },
    {
      "cell_type": "markdown",
      "source": [
        "### Преобразование категориальных признаков в бинарные с помощью pd.factorize / pd.get_dummies"
      ],
      "metadata": {
        "id": "KRh8S1sece9F"
      }
    },
    {
      "cell_type": "code",
      "source": [
        "mach['fuel-type'] = pd.factorize(machframe['fuel-type'])[0]\n",
        "mach['aspiration'] = pd.factorize(machframe['aspiration'])[0]\n",
        "mach['num-of-doors'] = pd.factorize(machframe['num-of-doors'])[0]\n",
        "mach['engine-location'] = pd.factorize(machframe['engine-location'])[0]\n",
        "mach['num-of-cylinders'] = pd.factorize(machframe['num-of-cylinders'])[0]\n",
        "mach"
      ],
      "metadata": {
        "colab": {
          "base_uri": "https://localhost:8080/",
          "height": 424
        },
        "id": "2IiWR9iYcpNX",
        "outputId": "93018e25-c83c-4cb4-e387-e0729e23fed0"
      },
      "execution_count": null,
      "outputs": [
        {
          "output_type": "execute_result",
          "data": {
            "text/html": [
              "\n",
              "  <div id=\"df-d38122b6-deb2-4915-a36e-b7e7db9a1a40\">\n",
              "    <div class=\"colab-df-container\">\n",
              "      <div>\n",
              "<style scoped>\n",
              "    .dataframe tbody tr th:only-of-type {\n",
              "        vertical-align: middle;\n",
              "    }\n",
              "\n",
              "    .dataframe tbody tr th {\n",
              "        vertical-align: top;\n",
              "    }\n",
              "\n",
              "    .dataframe thead th {\n",
              "        text-align: right;\n",
              "    }\n",
              "</style>\n",
              "<table border=\"1\" class=\"dataframe\">\n",
              "  <thead>\n",
              "    <tr style=\"text-align: right;\">\n",
              "      <th></th>\n",
              "      <th>symboling</th>\n",
              "      <th>normalized-losses</th>\n",
              "      <th>fuel-type</th>\n",
              "      <th>aspiration</th>\n",
              "      <th>num-of-doors</th>\n",
              "      <th>engine-location</th>\n",
              "      <th>wheel-base</th>\n",
              "      <th>length</th>\n",
              "      <th>width</th>\n",
              "      <th>height</th>\n",
              "      <th>...</th>\n",
              "      <th>mfi</th>\n",
              "      <th>mpfi</th>\n",
              "      <th>spdi</th>\n",
              "      <th>spfi</th>\n",
              "      <th>dohcv</th>\n",
              "      <th>l</th>\n",
              "      <th>ohc</th>\n",
              "      <th>ohcf</th>\n",
              "      <th>ohcv</th>\n",
              "      <th>rotor</th>\n",
              "    </tr>\n",
              "  </thead>\n",
              "  <tbody>\n",
              "    <tr>\n",
              "      <th>0</th>\n",
              "      <td>3</td>\n",
              "      <td>115.0</td>\n",
              "      <td>0</td>\n",
              "      <td>0</td>\n",
              "      <td>0</td>\n",
              "      <td>0</td>\n",
              "      <td>88.6</td>\n",
              "      <td>168.8</td>\n",
              "      <td>64.1</td>\n",
              "      <td>48.8</td>\n",
              "      <td>...</td>\n",
              "      <td>0</td>\n",
              "      <td>1</td>\n",
              "      <td>0</td>\n",
              "      <td>0</td>\n",
              "      <td>0</td>\n",
              "      <td>0</td>\n",
              "      <td>0</td>\n",
              "      <td>0</td>\n",
              "      <td>0</td>\n",
              "      <td>0</td>\n",
              "    </tr>\n",
              "    <tr>\n",
              "      <th>1</th>\n",
              "      <td>3</td>\n",
              "      <td>115.0</td>\n",
              "      <td>0</td>\n",
              "      <td>0</td>\n",
              "      <td>0</td>\n",
              "      <td>0</td>\n",
              "      <td>88.6</td>\n",
              "      <td>168.8</td>\n",
              "      <td>64.1</td>\n",
              "      <td>48.8</td>\n",
              "      <td>...</td>\n",
              "      <td>0</td>\n",
              "      <td>1</td>\n",
              "      <td>0</td>\n",
              "      <td>0</td>\n",
              "      <td>0</td>\n",
              "      <td>0</td>\n",
              "      <td>0</td>\n",
              "      <td>0</td>\n",
              "      <td>0</td>\n",
              "      <td>0</td>\n",
              "    </tr>\n",
              "    <tr>\n",
              "      <th>2</th>\n",
              "      <td>1</td>\n",
              "      <td>115.0</td>\n",
              "      <td>0</td>\n",
              "      <td>0</td>\n",
              "      <td>0</td>\n",
              "      <td>0</td>\n",
              "      <td>94.5</td>\n",
              "      <td>171.2</td>\n",
              "      <td>65.5</td>\n",
              "      <td>52.4</td>\n",
              "      <td>...</td>\n",
              "      <td>0</td>\n",
              "      <td>1</td>\n",
              "      <td>0</td>\n",
              "      <td>0</td>\n",
              "      <td>0</td>\n",
              "      <td>0</td>\n",
              "      <td>0</td>\n",
              "      <td>0</td>\n",
              "      <td>1</td>\n",
              "      <td>0</td>\n",
              "    </tr>\n",
              "    <tr>\n",
              "      <th>3</th>\n",
              "      <td>2</td>\n",
              "      <td>164</td>\n",
              "      <td>0</td>\n",
              "      <td>0</td>\n",
              "      <td>1</td>\n",
              "      <td>0</td>\n",
              "      <td>99.8</td>\n",
              "      <td>176.6</td>\n",
              "      <td>66.2</td>\n",
              "      <td>54.3</td>\n",
              "      <td>...</td>\n",
              "      <td>0</td>\n",
              "      <td>1</td>\n",
              "      <td>0</td>\n",
              "      <td>0</td>\n",
              "      <td>0</td>\n",
              "      <td>0</td>\n",
              "      <td>1</td>\n",
              "      <td>0</td>\n",
              "      <td>0</td>\n",
              "      <td>0</td>\n",
              "    </tr>\n",
              "    <tr>\n",
              "      <th>4</th>\n",
              "      <td>2</td>\n",
              "      <td>164</td>\n",
              "      <td>0</td>\n",
              "      <td>0</td>\n",
              "      <td>1</td>\n",
              "      <td>0</td>\n",
              "      <td>99.4</td>\n",
              "      <td>176.6</td>\n",
              "      <td>66.4</td>\n",
              "      <td>54.3</td>\n",
              "      <td>...</td>\n",
              "      <td>0</td>\n",
              "      <td>1</td>\n",
              "      <td>0</td>\n",
              "      <td>0</td>\n",
              "      <td>0</td>\n",
              "      <td>0</td>\n",
              "      <td>1</td>\n",
              "      <td>0</td>\n",
              "      <td>0</td>\n",
              "      <td>0</td>\n",
              "    </tr>\n",
              "    <tr>\n",
              "      <th>...</th>\n",
              "      <td>...</td>\n",
              "      <td>...</td>\n",
              "      <td>...</td>\n",
              "      <td>...</td>\n",
              "      <td>...</td>\n",
              "      <td>...</td>\n",
              "      <td>...</td>\n",
              "      <td>...</td>\n",
              "      <td>...</td>\n",
              "      <td>...</td>\n",
              "      <td>...</td>\n",
              "      <td>...</td>\n",
              "      <td>...</td>\n",
              "      <td>...</td>\n",
              "      <td>...</td>\n",
              "      <td>...</td>\n",
              "      <td>...</td>\n",
              "      <td>...</td>\n",
              "      <td>...</td>\n",
              "      <td>...</td>\n",
              "      <td>...</td>\n",
              "    </tr>\n",
              "    <tr>\n",
              "      <th>200</th>\n",
              "      <td>-1</td>\n",
              "      <td>95</td>\n",
              "      <td>0</td>\n",
              "      <td>0</td>\n",
              "      <td>1</td>\n",
              "      <td>0</td>\n",
              "      <td>109.1</td>\n",
              "      <td>188.8</td>\n",
              "      <td>68.9</td>\n",
              "      <td>55.5</td>\n",
              "      <td>...</td>\n",
              "      <td>0</td>\n",
              "      <td>1</td>\n",
              "      <td>0</td>\n",
              "      <td>0</td>\n",
              "      <td>0</td>\n",
              "      <td>0</td>\n",
              "      <td>1</td>\n",
              "      <td>0</td>\n",
              "      <td>0</td>\n",
              "      <td>0</td>\n",
              "    </tr>\n",
              "    <tr>\n",
              "      <th>201</th>\n",
              "      <td>-1</td>\n",
              "      <td>95</td>\n",
              "      <td>0</td>\n",
              "      <td>1</td>\n",
              "      <td>1</td>\n",
              "      <td>0</td>\n",
              "      <td>109.1</td>\n",
              "      <td>188.8</td>\n",
              "      <td>68.8</td>\n",
              "      <td>55.5</td>\n",
              "      <td>...</td>\n",
              "      <td>0</td>\n",
              "      <td>1</td>\n",
              "      <td>0</td>\n",
              "      <td>0</td>\n",
              "      <td>0</td>\n",
              "      <td>0</td>\n",
              "      <td>1</td>\n",
              "      <td>0</td>\n",
              "      <td>0</td>\n",
              "      <td>0</td>\n",
              "    </tr>\n",
              "    <tr>\n",
              "      <th>202</th>\n",
              "      <td>-1</td>\n",
              "      <td>95</td>\n",
              "      <td>0</td>\n",
              "      <td>0</td>\n",
              "      <td>1</td>\n",
              "      <td>0</td>\n",
              "      <td>109.1</td>\n",
              "      <td>188.8</td>\n",
              "      <td>68.9</td>\n",
              "      <td>55.5</td>\n",
              "      <td>...</td>\n",
              "      <td>0</td>\n",
              "      <td>1</td>\n",
              "      <td>0</td>\n",
              "      <td>0</td>\n",
              "      <td>0</td>\n",
              "      <td>0</td>\n",
              "      <td>0</td>\n",
              "      <td>0</td>\n",
              "      <td>1</td>\n",
              "      <td>0</td>\n",
              "    </tr>\n",
              "    <tr>\n",
              "      <th>203</th>\n",
              "      <td>-1</td>\n",
              "      <td>95</td>\n",
              "      <td>1</td>\n",
              "      <td>1</td>\n",
              "      <td>1</td>\n",
              "      <td>0</td>\n",
              "      <td>109.1</td>\n",
              "      <td>188.8</td>\n",
              "      <td>68.9</td>\n",
              "      <td>55.5</td>\n",
              "      <td>...</td>\n",
              "      <td>0</td>\n",
              "      <td>0</td>\n",
              "      <td>0</td>\n",
              "      <td>0</td>\n",
              "      <td>0</td>\n",
              "      <td>0</td>\n",
              "      <td>1</td>\n",
              "      <td>0</td>\n",
              "      <td>0</td>\n",
              "      <td>0</td>\n",
              "    </tr>\n",
              "    <tr>\n",
              "      <th>204</th>\n",
              "      <td>-1</td>\n",
              "      <td>95</td>\n",
              "      <td>0</td>\n",
              "      <td>1</td>\n",
              "      <td>1</td>\n",
              "      <td>0</td>\n",
              "      <td>109.1</td>\n",
              "      <td>188.8</td>\n",
              "      <td>68.9</td>\n",
              "      <td>55.5</td>\n",
              "      <td>...</td>\n",
              "      <td>0</td>\n",
              "      <td>1</td>\n",
              "      <td>0</td>\n",
              "      <td>0</td>\n",
              "      <td>0</td>\n",
              "      <td>0</td>\n",
              "      <td>1</td>\n",
              "      <td>0</td>\n",
              "      <td>0</td>\n",
              "      <td>0</td>\n",
              "    </tr>\n",
              "  </tbody>\n",
              "</table>\n",
              "<p>205 rows × 61 columns</p>\n",
              "</div>\n",
              "      <button class=\"colab-df-convert\" onclick=\"convertToInteractive('df-d38122b6-deb2-4915-a36e-b7e7db9a1a40')\"\n",
              "              title=\"Convert this dataframe to an interactive table.\"\n",
              "              style=\"display:none;\">\n",
              "        \n",
              "  <svg xmlns=\"http://www.w3.org/2000/svg\" height=\"24px\"viewBox=\"0 0 24 24\"\n",
              "       width=\"24px\">\n",
              "    <path d=\"M0 0h24v24H0V0z\" fill=\"none\"/>\n",
              "    <path d=\"M18.56 5.44l.94 2.06.94-2.06 2.06-.94-2.06-.94-.94-2.06-.94 2.06-2.06.94zm-11 1L8.5 8.5l.94-2.06 2.06-.94-2.06-.94L8.5 2.5l-.94 2.06-2.06.94zm10 10l.94 2.06.94-2.06 2.06-.94-2.06-.94-.94-2.06-.94 2.06-2.06.94z\"/><path d=\"M17.41 7.96l-1.37-1.37c-.4-.4-.92-.59-1.43-.59-.52 0-1.04.2-1.43.59L10.3 9.45l-7.72 7.72c-.78.78-.78 2.05 0 2.83L4 21.41c.39.39.9.59 1.41.59.51 0 1.02-.2 1.41-.59l7.78-7.78 2.81-2.81c.8-.78.8-2.07 0-2.86zM5.41 20L4 18.59l7.72-7.72 1.47 1.35L5.41 20z\"/>\n",
              "  </svg>\n",
              "      </button>\n",
              "      \n",
              "  <style>\n",
              "    .colab-df-container {\n",
              "      display:flex;\n",
              "      flex-wrap:wrap;\n",
              "      gap: 12px;\n",
              "    }\n",
              "\n",
              "    .colab-df-convert {\n",
              "      background-color: #E8F0FE;\n",
              "      border: none;\n",
              "      border-radius: 50%;\n",
              "      cursor: pointer;\n",
              "      display: none;\n",
              "      fill: #1967D2;\n",
              "      height: 32px;\n",
              "      padding: 0 0 0 0;\n",
              "      width: 32px;\n",
              "    }\n",
              "\n",
              "    .colab-df-convert:hover {\n",
              "      background-color: #E2EBFA;\n",
              "      box-shadow: 0px 1px 2px rgba(60, 64, 67, 0.3), 0px 1px 3px 1px rgba(60, 64, 67, 0.15);\n",
              "      fill: #174EA6;\n",
              "    }\n",
              "\n",
              "    [theme=dark] .colab-df-convert {\n",
              "      background-color: #3B4455;\n",
              "      fill: #D2E3FC;\n",
              "    }\n",
              "\n",
              "    [theme=dark] .colab-df-convert:hover {\n",
              "      background-color: #434B5C;\n",
              "      box-shadow: 0px 1px 3px 1px rgba(0, 0, 0, 0.15);\n",
              "      filter: drop-shadow(0px 1px 2px rgba(0, 0, 0, 0.3));\n",
              "      fill: #FFFFFF;\n",
              "    }\n",
              "  </style>\n",
              "\n",
              "      <script>\n",
              "        const buttonEl =\n",
              "          document.querySelector('#df-d38122b6-deb2-4915-a36e-b7e7db9a1a40 button.colab-df-convert');\n",
              "        buttonEl.style.display =\n",
              "          google.colab.kernel.accessAllowed ? 'block' : 'none';\n",
              "\n",
              "        async function convertToInteractive(key) {\n",
              "          const element = document.querySelector('#df-d38122b6-deb2-4915-a36e-b7e7db9a1a40');\n",
              "          const dataTable =\n",
              "            await google.colab.kernel.invokeFunction('convertToInteractive',\n",
              "                                                     [key], {});\n",
              "          if (!dataTable) return;\n",
              "\n",
              "          const docLinkHtml = 'Like what you see? Visit the ' +\n",
              "            '<a target=\"_blank\" href=https://colab.research.google.com/notebooks/data_table.ipynb>data table notebook</a>'\n",
              "            + ' to learn more about interactive tables.';\n",
              "          element.innerHTML = '';\n",
              "          dataTable['output_type'] = 'display_data';\n",
              "          await google.colab.output.renderOutput(dataTable, element);\n",
              "          const docLink = document.createElement('div');\n",
              "          docLink.innerHTML = docLinkHtml;\n",
              "          element.appendChild(docLink);\n",
              "        }\n",
              "      </script>\n",
              "    </div>\n",
              "  </div>\n",
              "  "
            ],
            "text/plain": [
              "     symboling normalized-losses  fuel-type  aspiration  num-of-doors  \\\n",
              "0            3             115.0          0           0             0   \n",
              "1            3             115.0          0           0             0   \n",
              "2            1             115.0          0           0             0   \n",
              "3            2               164          0           0             1   \n",
              "4            2               164          0           0             1   \n",
              "..         ...               ...        ...         ...           ...   \n",
              "200         -1                95          0           0             1   \n",
              "201         -1                95          0           1             1   \n",
              "202         -1                95          0           0             1   \n",
              "203         -1                95          1           1             1   \n",
              "204         -1                95          0           1             1   \n",
              "\n",
              "     engine-location  wheel-base  length  width  height  ...  mfi  mpfi  spdi  \\\n",
              "0                  0        88.6   168.8   64.1    48.8  ...    0     1     0   \n",
              "1                  0        88.6   168.8   64.1    48.8  ...    0     1     0   \n",
              "2                  0        94.5   171.2   65.5    52.4  ...    0     1     0   \n",
              "3                  0        99.8   176.6   66.2    54.3  ...    0     1     0   \n",
              "4                  0        99.4   176.6   66.4    54.3  ...    0     1     0   \n",
              "..               ...         ...     ...    ...     ...  ...  ...   ...   ...   \n",
              "200                0       109.1   188.8   68.9    55.5  ...    0     1     0   \n",
              "201                0       109.1   188.8   68.8    55.5  ...    0     1     0   \n",
              "202                0       109.1   188.8   68.9    55.5  ...    0     1     0   \n",
              "203                0       109.1   188.8   68.9    55.5  ...    0     0     0   \n",
              "204                0       109.1   188.8   68.9    55.5  ...    0     1     0   \n",
              "\n",
              "    spfi dohcv  l ohc ohcf  ohcv  rotor  \n",
              "0      0     0  0   0    0     0      0  \n",
              "1      0     0  0   0    0     0      0  \n",
              "2      0     0  0   0    0     1      0  \n",
              "3      0     0  0   1    0     0      0  \n",
              "4      0     0  0   1    0     0      0  \n",
              "..   ...   ... ..  ..  ...   ...    ...  \n",
              "200    0     0  0   1    0     0      0  \n",
              "201    0     0  0   1    0     0      0  \n",
              "202    0     0  0   0    0     1      0  \n",
              "203    0     0  0   1    0     0      0  \n",
              "204    0     0  0   1    0     0      0  \n",
              "\n",
              "[205 rows x 61 columns]"
            ]
          },
          "metadata": {},
          "execution_count": 9
        }
      ]
    },
    {
      "cell_type": "markdown",
      "source": [
        "### sklearn.preprocessing.StandardScaler"
      ],
      "metadata": {
        "id": "v1jhTj8tmk6f"
      }
    },
    {
      "cell_type": "markdown",
      "source": [
        "#### Нормализовать значения признаков и построить для нормализовапнного датасета KNeighborsClassifier (без использования конвееров)"
      ],
      "metadata": {
        "id": "LoHTe17kc50k"
      }
    },
    {
      "cell_type": "code",
      "source": [
        "scaler = StandardScaler()\n",
        "data_tr = mach.drop(\"num-of-doors\",axis = 1)\n",
        "target = mach[\"num-of-doors\"]"
      ],
      "metadata": {
        "id": "j4pIQKdIdAeN"
      },
      "execution_count": null,
      "outputs": []
    },
    {
      "cell_type": "markdown",
      "source": [
        "#### Разделение данных на тестовую и обучающую выборки."
      ],
      "metadata": {
        "id": "AnpsW4gBlwrM"
      }
    },
    {
      "cell_type": "code",
      "source": [
        "X_train, X_test, y_train, y_test = sklearn.model_selection.train_test_split(data_tr, target, random_state = 0)"
      ],
      "metadata": {
        "id": "4csvFFridFNs"
      },
      "execution_count": null,
      "outputs": []
    },
    {
      "cell_type": "markdown",
      "source": [
        "#### Нормализация данных"
      ],
      "metadata": {
        "id": "L8Yf33Dnlro1"
      }
    },
    {
      "cell_type": "code",
      "source": [
        "scaler.fit(X_train)\n",
        "tdtr = scaler.transform(X_train)\n",
        "tdt = scaler.transform(X_test)"
      ],
      "metadata": {
        "id": "naWNHvKHdJXc"
      },
      "execution_count": null,
      "outputs": []
    },
    {
      "cell_type": "markdown",
      "source": [
        "#### Классификация при помощи KNeighborsClassifier"
      ],
      "metadata": {
        "id": "AzIY7HYzljct"
      }
    },
    {
      "cell_type": "code",
      "source": [
        "clf = KNeighborsClassifier(n_neighbors = 5) \n",
        "clf.fit(tdtr, y_train)\n",
        "cl1 = clf.predict(tdt)"
      ],
      "metadata": {
        "id": "U-Z06XhldKzk"
      },
      "execution_count": null,
      "outputs": []
    },
    {
      "cell_type": "markdown",
      "source": [
        "### Посмотрим долю правильных ответов"
      ],
      "metadata": {
        "id": "NDEN6RCl0lrj"
      }
    },
    {
      "cell_type": "code",
      "source": [
        "metr.accuracy_score(y_test, cl1) "
      ],
      "metadata": {
        "colab": {
          "base_uri": "https://localhost:8080/"
        },
        "id": "7ZTbLs26dKuT",
        "outputId": "0f1583e5-fb15-4e3d-e4e9-a13a77eae9c6"
      },
      "execution_count": null,
      "outputs": [
        {
          "output_type": "execute_result",
          "data": {
            "text/plain": [
              "0.6923076923076923"
            ]
          },
          "metadata": {},
          "execution_count": 16
        }
      ]
    },
    {
      "cell_type": "markdown",
      "source": [
        "### sklearn.pipeline.Pipeline"
      ],
      "metadata": {
        "id": "7S1JuUCrnmzt"
      }
    },
    {
      "cell_type": "code",
      "source": [
        "knn_pipe = sklearn.pipeline.Pipeline([ #инициализируем пайплайн, сначала данные попадут в scaler, потом сразу в kNN \n",
        "    ('scaler', sklearn.preprocessing.StandardScaler()), #помогает сократить код, чтоб не писать одно и тоже\n",
        "    ('knn', sklearn.neighbors.KNeighborsClassifier(n_jobs=-1))\n",
        "])"
      ],
      "metadata": {
        "id": "Is5mNWvBnoL9"
      },
      "execution_count": null,
      "outputs": []
    },
    {
      "cell_type": "code",
      "source": [
        "knn_pipe.fit(tdtr,y_train) #вызываемые методы должны совпадать у всех объектов пайплайна\n",
        "cl2 = knn_pipe.predict(tdt)"
      ],
      "metadata": {
        "id": "ULmXzNN2nv_1"
      },
      "execution_count": null,
      "outputs": []
    },
    {
      "cell_type": "markdown",
      "source": [
        "#### Посмотрим долю правильных ответов."
      ],
      "metadata": {
        "id": "MY3CBZK4q7WY"
      }
    },
    {
      "cell_type": "code",
      "source": [
        "metr.accuracy_score(y_test, cl2) #доля правильных ответов"
      ],
      "metadata": {
        "colab": {
          "base_uri": "https://localhost:8080/"
        },
        "id": "asWUQIGcnwYG",
        "outputId": "dc649e2a-09b7-44aa-9a8b-6a1d56e70c16"
      },
      "execution_count": null,
      "outputs": [
        {
          "output_type": "execute_result",
          "data": {
            "text/plain": [
              "0.6923076923076923"
            ]
          },
          "metadata": {},
          "execution_count": 19
        }
      ]
    },
    {
      "cell_type": "markdown",
      "source": [
        "### Подбор гиперпараметров для KNeighborsClassifier с помощью GridSearchCV"
      ],
      "metadata": {
        "id": "1j8wFtnEotBG"
      }
    },
    {
      "cell_type": "code",
      "source": [
        "knn = sklearn.neighbors.KNeighborsClassifier( n_neighbors = 10 )\n",
        "#__________#\n",
        "knn_params = { 'n_neighbors': range(3, 17) } \n",
        "#__________#\n",
        "knn_grid = sklearn.model_selection.GridSearchCV(knn, knn_params) \n",
        "#__________#\n",
        "knn_grid.fit( tdtr, y_train )"
      ],
      "metadata": {
        "colab": {
          "base_uri": "https://localhost:8080/"
        },
        "id": "YkCg7yspo3Su",
        "outputId": "41d998db-d987-4b7b-a789-2dd2bb18b717"
      },
      "execution_count": null,
      "outputs": [
        {
          "output_type": "stream",
          "name": "stderr",
          "text": [
            "/usr/local/lib/python3.7/dist-packages/sklearn/model_selection/_split.py:680: UserWarning: The least populated class in y has only 2 members, which is less than n_splits=5.\n",
            "  UserWarning,\n"
          ]
        },
        {
          "output_type": "execute_result",
          "data": {
            "text/plain": [
              "GridSearchCV(estimator=KNeighborsClassifier(n_neighbors=10),\n",
              "             param_grid={'n_neighbors': range(3, 17)})"
            ]
          },
          "metadata": {},
          "execution_count": 20
        }
      ]
    },
    {
      "cell_type": "markdown",
      "source": [
        "#### Получаем оптимальные параметры для заданного классификатора"
      ],
      "metadata": {
        "id": "fO-U-nUWrH7g"
      }
    },
    {
      "cell_type": "code",
      "source": [
        "knn_grid.best_params_, knn_grid.best_score_ "
      ],
      "metadata": {
        "colab": {
          "base_uri": "https://localhost:8080/"
        },
        "id": "uyct4N-vo55O",
        "outputId": "21cd1523-7087-4917-9c9e-f940d9dbbc9b"
      },
      "execution_count": null,
      "outputs": [
        {
          "output_type": "execute_result",
          "data": {
            "text/plain": [
              "({'n_neighbors': 14}, 0.8567741935483871)"
            ]
          },
          "metadata": {},
          "execution_count": 21
        }
      ]
    },
    {
      "cell_type": "markdown",
      "source": [
        "#### Доля правильных ответов"
      ],
      "metadata": {
        "id": "yOHl9EYxrMwm"
      }
    },
    {
      "cell_type": "code",
      "source": [
        "metr.accuracy_score(y_test, knn_grid.predict(tdt)) #доля правильных ответов"
      ],
      "metadata": {
        "id": "CdNxWtMopK0o",
        "outputId": "f1e383e7-ab95-457c-8fd6-6a15417e5d8b",
        "colab": {
          "base_uri": "https://localhost:8080/"
        }
      },
      "execution_count": null,
      "outputs": [
        {
          "output_type": "execute_result",
          "data": {
            "text/plain": [
              "0.7692307692307693"
            ]
          },
          "metadata": {},
          "execution_count": 22
        }
      ]
    },
    {
      "cell_type": "markdown",
      "source": [
        "## Этап 2. Демонстрация работы DecisionTreeClassifier"
      ],
      "metadata": {
        "id": "D4Spr49zJZBr"
      }
    },
    {
      "cell_type": "markdown",
      "source": [
        "### Cоздаем дерево c max_depth (максимальная глубина) 3 и random_state(случайный разброс) 17"
      ],
      "metadata": {
        "id": "FGBaybDlrVpB"
      }
    },
    {
      "cell_type": "code",
      "source": [
        "clf_tree = sklearn.tree.DecisionTreeClassifier( \n",
        "    criterion = 'entropy', max_depth = 3, random_state = 42\n",
        ")\n",
        "clf_tree.fit( tdtr, y_train )\n",
        "cl_t = clf_tree.predict(tdt)\n",
        "metr.accuracy_score(y_test, cl_t)"
      ],
      "metadata": {
        "colab": {
          "base_uri": "https://localhost:8080/"
        },
        "id": "sdy57XpWJlBz",
        "outputId": "07c1cfa3-1bf1-4caa-c1ef-1103dcee0f38"
      },
      "execution_count": null,
      "outputs": [
        {
          "output_type": "execute_result",
          "data": {
            "text/plain": [
              "0.8269230769230769"
            ]
          },
          "metadata": {},
          "execution_count": 23
        }
      ]
    },
    {
      "cell_type": "markdown",
      "source": [
        "### Cмотрим на табличку метрик"
      ],
      "metadata": {
        "id": "cF7Wa65qrcmo"
      }
    },
    {
      "cell_type": "code",
      "source": [
        "print( sklearn.metrics.classification_report( \n",
        "    cl_t, y_test, target_names=[\"two\", \"four\"]\n",
        ") )"
      ],
      "metadata": {
        "colab": {
          "base_uri": "https://localhost:8080/"
        },
        "id": "btGPN4XPJpgm",
        "outputId": "1a3e9c2b-61a5-44a0-eca4-5dca3cb299d7"
      },
      "execution_count": null,
      "outputs": [
        {
          "output_type": "stream",
          "name": "stdout",
          "text": [
            "              precision    recall  f1-score   support\n",
            "\n",
            "         two       0.72      0.95      0.82        22\n",
            "        four       0.96      0.73      0.83        30\n",
            "\n",
            "    accuracy                           0.83        52\n",
            "   macro avg       0.84      0.84      0.83        52\n",
            "weighted avg       0.86      0.83      0.83        52\n",
            "\n"
          ]
        }
      ]
    },
    {
      "cell_type": "markdown",
      "source": [
        "### Произведем подбор параметров для дерева"
      ],
      "metadata": {
        "id": "I2OmmpCtrpTB"
      }
    },
    {
      "cell_type": "code",
      "source": [
        "tree = sklearn.tree.DecisionTreeClassifier( max_depth = 3, random_state = 42 )\n",
        "tree_params = { 'max_depth': range(1, 25),\n",
        "              'max_features': range(2, 20)}\n",
        "tree_grid = sklearn.model_selection.GridSearchCV(tree, tree_params) \n",
        "\n",
        "tree_grid.fit( tdtr, y_train )"
      ],
      "metadata": {
        "colab": {
          "base_uri": "https://localhost:8080/"
        },
        "id": "0AAX3XXQJraE",
        "outputId": "b8cabe33-e5d7-4767-cc53-8c8520a084d4"
      },
      "execution_count": null,
      "outputs": [
        {
          "output_type": "stream",
          "name": "stderr",
          "text": [
            "/usr/local/lib/python3.7/dist-packages/sklearn/model_selection/_split.py:680: UserWarning: The least populated class in y has only 2 members, which is less than n_splits=5.\n",
            "  UserWarning,\n"
          ]
        },
        {
          "output_type": "execute_result",
          "data": {
            "text/plain": [
              "GridSearchCV(estimator=DecisionTreeClassifier(max_depth=3, random_state=42),\n",
              "             param_grid={'max_depth': range(1, 25),\n",
              "                         'max_features': range(2, 20)})"
            ]
          },
          "metadata": {},
          "execution_count": 25
        }
      ]
    },
    {
      "cell_type": "markdown",
      "source": [
        "### Посмотрим подобранные оптимальные параметры"
      ],
      "metadata": {
        "id": "1tGLPO8Yr01X"
      }
    },
    {
      "cell_type": "code",
      "source": [
        "tree_grid.best_params_, tree_grid.best_score_ "
      ],
      "metadata": {
        "colab": {
          "base_uri": "https://localhost:8080/"
        },
        "id": "oCZ_gikrJtND",
        "outputId": "da9ee335-6d15-4488-b6e5-464e3cbaca9e"
      },
      "execution_count": null,
      "outputs": [
        {
          "output_type": "execute_result",
          "data": {
            "text/plain": [
              "({'max_depth': 5, 'max_features': 9}, 0.9017204301075269)"
            ]
          },
          "metadata": {},
          "execution_count": 26
        }
      ]
    },
    {
      "cell_type": "markdown",
      "source": [
        "### Проверим долю правильных ответов"
      ],
      "metadata": {
        "id": "OKECrO8gr9Jw"
      }
    },
    {
      "cell_type": "code",
      "source": [
        "metr.accuracy_score(y_test, tree_grid.predict(tdt)) "
      ],
      "metadata": {
        "colab": {
          "base_uri": "https://localhost:8080/"
        },
        "id": "j2XDVnP2JzGT",
        "outputId": "068e7522-f8ef-4b78-ccee-7d89271f4f03"
      },
      "execution_count": null,
      "outputs": [
        {
          "output_type": "execute_result",
          "data": {
            "text/plain": [
              "0.7692307692307693"
            ]
          },
          "metadata": {},
          "execution_count": 27
        }
      ]
    },
    {
      "cell_type": "markdown",
      "source": [
        "### Оценим важность каждого признака для классификации"
      ],
      "metadata": {
        "id": "JC4hpUbZsCYp"
      }
    },
    {
      "cell_type": "code",
      "source": [
        "clf_tree.feature_importances_ "
      ],
      "metadata": {
        "colab": {
          "base_uri": "https://localhost:8080/"
        },
        "id": "BfAFrnzOJ1li",
        "outputId": "8772eccd-b70b-4144-fb0e-ddebf7de4e57"
      },
      "execution_count": null,
      "outputs": [
        {
          "output_type": "execute_result",
          "data": {
            "text/plain": [
              "array([0.49533809, 0.0533553 , 0.        , 0.        , 0.        ,\n",
              "       0.        , 0.        , 0.        , 0.06428366, 0.        ,\n",
              "       0.06316038, 0.        , 0.        , 0.        , 0.04030901,\n",
              "       0.        , 0.        , 0.        , 0.        , 0.        ,\n",
              "       0.        , 0.        , 0.        , 0.        , 0.        ,\n",
              "       0.        , 0.        , 0.        , 0.        , 0.        ,\n",
              "       0.        , 0.        , 0.        , 0.        , 0.        ,\n",
              "       0.        , 0.        , 0.        , 0.        , 0.        ,\n",
              "       0.        , 0.        , 0.        , 0.21379229, 0.06976128,\n",
              "       0.        , 0.        , 0.        , 0.        , 0.        ,\n",
              "       0.        , 0.        , 0.        , 0.        , 0.        ,\n",
              "       0.        , 0.        , 0.        , 0.        , 0.        ])"
            ]
          },
          "metadata": {},
          "execution_count": 28
        }
      ]
    },
    {
      "cell_type": "code",
      "source": [
        "name_col = mach.drop(columns = 'rotor').columns\n",
        "name_col"
      ],
      "metadata": {
        "colab": {
          "base_uri": "https://localhost:8080/"
        },
        "id": "4bBuwTpbJ3py",
        "outputId": "4fbdd0e4-263d-47bb-821c-ffc33709af84"
      },
      "execution_count": null,
      "outputs": [
        {
          "output_type": "execute_result",
          "data": {
            "text/plain": [
              "Index(['symboling', 'normalized-losses', 'fuel-type', 'aspiration',\n",
              "       'num-of-doors', 'engine-location', 'wheel-base', 'length', 'width',\n",
              "       'height', 'curb-weight', 'num-of-cylinders', 'engine-size', 'bore',\n",
              "       'stroke', 'compression-ratio', 'horsepower', 'peak-rpm', 'city-mpg',\n",
              "       'highway-mpg', 'price', 'audi', 'bmw', 'chevrolet', 'dodge', 'honda',\n",
              "       'isuzu', 'jaguar', 'mazda', 'mercedes-benz', 'mercury', 'mitsubishi',\n",
              "       'nissan', 'peugot', 'plymouth', 'porsche', 'renault', 'saab', 'subaru',\n",
              "       'toyota', 'volkswagen', 'volvo', 'hardtop', 'hatchback', 'sedan',\n",
              "       'wagon', 'fwd', 'rwd', '2bbl', '4bbl', 'idi', 'mfi', 'mpfi', 'spdi',\n",
              "       'spfi', 'dohcv', 'l', 'ohc', 'ohcf', 'ohcv'],\n",
              "      dtype='object')"
            ]
          },
          "metadata": {},
          "execution_count": 29
        }
      ]
    },
    {
      "cell_type": "code",
      "source": [
        "y = pd.Series(data=clf_tree.feature_importances_, index=name_col)\n",
        "ind = y[:] == 0\n",
        "y = y[~ind]"
      ],
      "metadata": {
        "id": "FKIAUaEVJ56z"
      },
      "execution_count": null,
      "outputs": []
    },
    {
      "cell_type": "markdown",
      "source": [
        "### Построить график feature_importance"
      ],
      "metadata": {
        "id": "EGH29hXwsa9B"
      }
    },
    {
      "cell_type": "code",
      "source": [
        "x = range(len(y))\n",
        "plt.bar(x, y)\n",
        "plt.xticks(x, y.index,rotation = 45)"
      ],
      "metadata": {
        "colab": {
          "base_uri": "https://localhost:8080/",
          "height": 569
        },
        "id": "ozfuQEhMJ7ci",
        "outputId": "f31151d5-341a-4b0d-abd9-b1979dc11880"
      },
      "execution_count": null,
      "outputs": [
        {
          "output_type": "execute_result",
          "data": {
            "text/plain": [
              "([<matplotlib.axis.XTick at 0x7fee0166fc90>,\n",
              "  <matplotlib.axis.XTick at 0x7fedfe50a650>,\n",
              "  <matplotlib.axis.XTick at 0x7fedfe5025d0>,\n",
              "  <matplotlib.axis.XTick at 0x7fedfe56d790>,\n",
              "  <matplotlib.axis.XTick at 0x7fedfe56dcd0>,\n",
              "  <matplotlib.axis.XTick at 0x7fedfe570ed0>,\n",
              "  <matplotlib.axis.XTick at 0x7fedfe5709d0>],\n",
              " [Text(0, 0, 'symboling'),\n",
              "  Text(0, 0, 'normalized-losses'),\n",
              "  Text(0, 0, 'width'),\n",
              "  Text(0, 0, 'curb-weight'),\n",
              "  Text(0, 0, 'stroke'),\n",
              "  Text(0, 0, 'hatchback'),\n",
              "  Text(0, 0, 'sedan')])"
            ]
          },
          "metadata": {},
          "execution_count": 31
        },
        {
          "output_type": "display_data",
          "data": {
            "image/png": "[encoded data removed]",
            "text/plain": [
              "<Figure size 432x288 with 1 Axes>"
            ]
          },
          "metadata": {
            "needs_background": "light"
          }
        }
      ]
    },
    {
      "cell_type": "markdown",
      "source": [
        "### 3 наиболее важных признака в обратной сортировке"
      ],
      "metadata": {
        "id": "om4coSVushnp"
      }
    },
    {
      "cell_type": "code",
      "source": [
        "y.sort_values().iloc[-4: -1]"
      ],
      "metadata": {
        "colab": {
          "base_uri": "https://localhost:8080/"
        },
        "id": "eNj8psaBJ-SD",
        "outputId": "edfc6ed2-8ac2-4a56-98be-a82acd3ad821"
      },
      "execution_count": null,
      "outputs": [
        {
          "output_type": "execute_result",
          "data": {
            "text/plain": [
              "width        0.064284\n",
              "sedan        0.069761\n",
              "hatchback    0.213792\n",
              "dtype: float64"
            ]
          },
          "metadata": {},
          "execution_count": 32
        }
      ]
    },
    {
      "cell_type": "markdown",
      "source": [
        "## Этап 3. Демонстрация работы RandomForestClassifier"
      ],
      "metadata": {
        "id": "uGm7J1WEt-GA"
      }
    },
    {
      "cell_type": "markdown",
      "source": [
        "### Построение леса"
      ],
      "metadata": {
        "id": "DfSwXjJruOEQ"
      }
    },
    {
      "cell_type": "code",
      "source": [
        "import sklearn.ensemble\n",
        "\n",
        "#количество деревьев 20\n",
        "forest = sklearn.ensemble.RandomForestClassifier( n_estimators=20, random_state=17 )\n",
        "forest.fit( tdtr, y_train )"
      ],
      "metadata": {
        "colab": {
          "base_uri": "https://localhost:8080/"
        },
        "id": "vxL-G9zluWzr",
        "outputId": "fd1b1411-87f3-4b7c-e268-1ecbd403ae40"
      },
      "execution_count": null,
      "outputs": [
        {
          "output_type": "execute_result",
          "data": {
            "text/plain": [
              "RandomForestClassifier(n_estimators=20, random_state=17)"
            ]
          },
          "metadata": {},
          "execution_count": 33
        }
      ]
    },
    {
      "cell_type": "markdown",
      "source": [
        "### Посмотрим на долю правильных ответов"
      ],
      "metadata": {
        "id": "d-LBZAQkuZBg"
      }
    },
    {
      "cell_type": "code",
      "source": [
        "metr.accuracy_score( y_test, forest.predict(tdt) )"
      ],
      "metadata": {
        "colab": {
          "base_uri": "https://localhost:8080/"
        },
        "id": "2YBeHs2pulBP",
        "outputId": "0b6c2312-6d74-47db-8e65-bf710d3c4afa"
      },
      "execution_count": null,
      "outputs": [
        {
          "output_type": "execute_result",
          "data": {
            "text/plain": [
              "0.8269230769230769"
            ]
          },
          "metadata": {},
          "execution_count": 34
        }
      ]
    },
    {
      "cell_type": "markdown",
      "source": [
        "### При помощи GridSearchCV произвести подбор гиперпараметров для поиска наилучшего леса"
      ],
      "metadata": {
        "id": "-1T5hZ1KurWY"
      }
    },
    {
      "cell_type": "code",
      "source": [
        "forest_params = {\n",
        "    'max_depth': range(1,20),\n",
        "    'max_features': range(3,15)\n",
        "}\n",
        "#подбираем параметры \n",
        "#чем больший охват у параметров, тем дольше работает алгоритм, поэтому надо аккуратнее подбирать\n",
        "forest_grid = sklearn.model_selection.GridSearchCV(forest, forest_params, cv = 5)\n",
        "\n",
        "forest_grid.fit( tdtr, y_train )"
      ],
      "metadata": {
        "colab": {
          "base_uri": "https://localhost:8080/"
        },
        "id": "BMR-uUttu1E4",
        "outputId": "df2850ce-5af4-4229-91fa-63966bba038e"
      },
      "execution_count": null,
      "outputs": [
        {
          "output_type": "stream",
          "name": "stderr",
          "text": [
            "/usr/local/lib/python3.7/dist-packages/sklearn/model_selection/_split.py:680: UserWarning: The least populated class in y has only 2 members, which is less than n_splits=5.\n",
            "  UserWarning,\n"
          ]
        },
        {
          "output_type": "execute_result",
          "data": {
            "text/plain": [
              "GridSearchCV(cv=5,\n",
              "             estimator=RandomForestClassifier(n_estimators=20, random_state=17),\n",
              "             param_grid={'max_depth': range(1, 20),\n",
              "                         'max_features': range(3, 15)})"
            ]
          },
          "metadata": {},
          "execution_count": 35
        }
      ]
    },
    {
      "cell_type": "markdown",
      "source": [
        "### Посмотрм на определенные параметры"
      ],
      "metadata": {
        "id": "qYrOVjA2veAg"
      }
    },
    {
      "cell_type": "code",
      "source": [
        "forest_grid.best_params_, forest_grid.best_score_ "
      ],
      "metadata": {
        "colab": {
          "base_uri": "https://localhost:8080/"
        },
        "id": "AIDUlwEju8iI",
        "outputId": "95d856c1-ae06-4e83-b373-26c1213780b7"
      },
      "execution_count": null,
      "outputs": [
        {
          "output_type": "execute_result",
          "data": {
            "text/plain": [
              "({'max_depth': 9, 'max_features': 11}, 0.9286021505376343)"
            ]
          },
          "metadata": {},
          "execution_count": 36
        }
      ]
    },
    {
      "cell_type": "markdown",
      "source": [
        "### Посмотрим на долю правильных ответов"
      ],
      "metadata": {
        "id": "fUdU4T6uu3Ng"
      }
    },
    {
      "cell_type": "code",
      "source": [
        "metr.accuracy_score( y_test, forest_grid.predict(tdt) ) "
      ],
      "metadata": {
        "colab": {
          "base_uri": "https://localhost:8080/"
        },
        "id": "rYikj3VFvckQ",
        "outputId": "8b0a2db2-dbf9-496e-bfff-c40016a7bba6"
      },
      "execution_count": null,
      "outputs": [
        {
          "output_type": "execute_result",
          "data": {
            "text/plain": [
              "0.8461538461538461"
            ]
          },
          "metadata": {},
          "execution_count": 37
        }
      ]
    },
    {
      "cell_type": "markdown",
      "source": [
        "#Итоги\n",
        "По итогу самым точным алгоритмом оказался \"Лес\" и \"Дерево\" с долей правильных ответов в 0.82, следом идет kNN с  0.69. Оптимизация параметров, увеличивает долю правильных ответов в пределах до +0.1 для каждого случая."
      ],
      "metadata": {
        "id": "_oBTjGf01Wyk"
      }
    }
  ]
}