{
  "nbformat": 4,
  "nbformat_minor": 0,
  "metadata": {
    "colab": {
      "name": "lab_5_catboost_6133_Мелешенко.ipynb",
      "provenance": []
    },
    "kernelspec": {
      "name": "python3",
      "display_name": "Python 3"
    },
    "language_info": {
      "name": "python"
    }
  },
  "cells": [
    {
      "cell_type": "markdown",
      "source": [
        "# Лабораторная работа №5 по курсу \"Интеллектуальный анализ данных\"."
      ],
      "metadata": {
        "id": "GPCqvaTE3F02"
      }
    },
    {
      "cell_type": "markdown",
      "source": [
        "Лабораторная работа №5 \"Градиентный бустинг с Catboost\".<br>\n",
        "Выполнил студент группы 6133-010402 Мелешенко Иван."
      ],
      "metadata": {
        "id": "5QYMDJpO3HVD"
      }
    },
    {
      "cell_type": "markdown",
      "source": [
        "# [Задание на лабораторную работу](https://github.com/kvvik/DS_SamU/blob/main/tasks/lab_5_catboost_groupNumber_SecondName.ipynb)"
      ],
      "metadata": {
        "id": "PYS8V3vE3_PO"
      }
    },
    {
      "cell_type": "markdown",
      "source": [
        "## ***Задание 1.***<br>Подобрать набор данных для классификации (количество классов не имеет значения) и регрессии.<br>\n",
        "Важно наличие числовых и категориальных признаков в данных.<br>\n",
        "Опишите данные, что обозначает каждый столбец, какого типа (категориальный, вещественный, целочисленный, бинарный) данный столбец, при необходимости для категориальных в том числе бинарных признаков привести расшифровку их значений. \n",
        "\n",
        "## ***Задание 2.***<br>Применить классификатор CatBoostClassifier к набору данных.<br>\n",
        "Обратите внимание, что catboost умеет работать с категориальными признаками (параметр cat_features - список индексов категориальных признаков), поэтому использование pd.factorize / pd.get_dummies здесь лишнее.\n",
        "\n",
        "* Вывести итерацию с наилучшим значением AUC (для бинарной классификации) или наилучшим значением Logloss.\n",
        "* Вывести значения метрик качества классификации на тестовых данных (accuracy и precision / recall / AUC, если применимо).\n",
        "* В случае бинарной классификации на основе CatBoostClassifier построить кривые PRC и ROC. Вычислить значения PRC-AUC и ROC-AUC.\n",
        "\n",
        "## ***Задание 3.***<br> Применить регрессию CatBoostRegressor к набору данных для регрессии.<br>\n",
        "Вывести номер итерации и значения метрик (MAE и MSE) для наилучшей итерации. Обратите внимание, что в задаче восстановления регрессии целевая переменная имеет непрерывные значения."
      ],
      "metadata": {
        "id": "5lg-utPe4JPC"
      }
    },
    {
      "cell_type": "markdown",
      "source": [
        "# Выполнение заданий работы"
      ],
      "metadata": {
        "id": "twahjPqw48Pr"
      }
    },
    {
      "cell_type": "markdown",
      "source": [
        "## Этап 0. Подготовка данных."
      ],
      "metadata": {
        "id": "1wZ2Y0kq5FCC"
      }
    },
    {
      "cell_type": "markdown",
      "source": [
        "### Установкка catboost"
      ],
      "metadata": {
        "id": "yVzi0hh75KN7"
      }
    },
    {
      "cell_type": "code",
      "execution_count": null,
      "metadata": {
        "id": "mA46ODIv25a3",
        "colab": {
          "base_uri": "https://localhost:8080/"
        },
        "outputId": "b55f6d06-312e-4e9b-8c6f-581d86268c80"
      },
      "outputs": [
        {
          "output_type": "stream",
          "name": "stdout",
          "text": [
            "Collecting catboost\n",
            "  Downloading catboost-1.0.4-cp37-none-manylinux1_x86_64.whl (76.1 MB)\n",
            "\u001b[K     |████████████████████████████████| 76.1 MB 57 kB/s \n",
            "\u001b[?25hCollecting shap\n",
            "  Downloading shap-0.40.0-cp37-cp37m-manylinux2010_x86_64.whl (564 kB)\n",
            "\u001b[K     |████████████████████████████████| 564 kB 43.0 MB/s \n",
            "\u001b[?25hRequirement already satisfied: ipywidgets in /usr/local/lib/python3.7/dist-packages (7.6.5)\n",
            "Requirement already satisfied: six in /usr/local/lib/python3.7/dist-packages (from catboost) (1.15.0)\n",
            "Requirement already satisfied: plotly in /usr/local/lib/python3.7/dist-packages (from catboost) (5.5.0)\n",
            "Requirement already satisfied: scipy in /usr/local/lib/python3.7/dist-packages (from catboost) (1.4.1)\n",
            "Requirement already satisfied: numpy>=1.16.0 in /usr/local/lib/python3.7/dist-packages (from catboost) (1.21.5)\n",
            "Requirement already satisfied: matplotlib in /usr/local/lib/python3.7/dist-packages (from catboost) (3.2.2)\n",
            "Requirement already satisfied: pandas>=0.24.0 in /usr/local/lib/python3.7/dist-packages (from catboost) (1.3.5)\n",
            "Requirement already satisfied: graphviz in /usr/local/lib/python3.7/dist-packages (from catboost) (0.10.1)\n",
            "Requirement already satisfied: python-dateutil>=2.7.3 in /usr/local/lib/python3.7/dist-packages (from pandas>=0.24.0->catboost) (2.8.2)\n",
            "Requirement already satisfied: pytz>=2017.3 in /usr/local/lib/python3.7/dist-packages (from pandas>=0.24.0->catboost) (2018.9)\n",
            "Requirement already satisfied: packaging>20.9 in /usr/local/lib/python3.7/dist-packages (from shap) (21.3)\n",
            "Requirement already satisfied: tqdm>4.25.0 in /usr/local/lib/python3.7/dist-packages (from shap) (4.63.0)\n",
            "Requirement already satisfied: scikit-learn in /usr/local/lib/python3.7/dist-packages (from shap) (1.0.2)\n",
            "Requirement already satisfied: numba in /usr/local/lib/python3.7/dist-packages (from shap) (0.51.2)\n",
            "Requirement already satisfied: cloudpickle in /usr/local/lib/python3.7/dist-packages (from shap) (1.3.0)\n",
            "Collecting slicer==0.0.7\n",
            "  Downloading slicer-0.0.7-py3-none-any.whl (14 kB)\n",
            "Requirement already satisfied: pyparsing!=3.0.5,>=2.0.2 in /usr/local/lib/python3.7/dist-packages (from packaging>20.9->shap) (3.0.7)\n",
            "Requirement already satisfied: ipython-genutils~=0.2.0 in /usr/local/lib/python3.7/dist-packages (from ipywidgets) (0.2.0)\n",
            "Requirement already satisfied: nbformat>=4.2.0 in /usr/local/lib/python3.7/dist-packages (from ipywidgets) (5.1.3)\n",
            "Requirement already satisfied: ipython>=4.0.0 in /usr/local/lib/python3.7/dist-packages (from ipywidgets) (5.5.0)\n",
            "Requirement already satisfied: ipykernel>=4.5.1 in /usr/local/lib/python3.7/dist-packages (from ipywidgets) (4.10.1)\n",
            "Requirement already satisfied: jupyterlab-widgets>=1.0.0 in /usr/local/lib/python3.7/dist-packages (from ipywidgets) (1.0.2)\n",
            "Requirement already satisfied: traitlets>=4.3.1 in /usr/local/lib/python3.7/dist-packages (from ipywidgets) (5.1.1)\n",
            "Requirement already satisfied: widgetsnbextension~=3.5.0 in /usr/local/lib/python3.7/dist-packages (from ipywidgets) (3.5.2)\n",
            "Requirement already satisfied: jupyter-client in /usr/local/lib/python3.7/dist-packages (from ipykernel>=4.5.1->ipywidgets) (5.3.5)\n",
            "Requirement already satisfied: tornado>=4.0 in /usr/local/lib/python3.7/dist-packages (from ipykernel>=4.5.1->ipywidgets) (5.1.1)\n",
            "Requirement already satisfied: decorator in /usr/local/lib/python3.7/dist-packages (from ipython>=4.0.0->ipywidgets) (4.4.2)\n",
            "Requirement already satisfied: pexpect in /usr/local/lib/python3.7/dist-packages (from ipython>=4.0.0->ipywidgets) (4.8.0)\n",
            "Requirement already satisfied: prompt-toolkit<2.0.0,>=1.0.4 in /usr/local/lib/python3.7/dist-packages (from ipython>=4.0.0->ipywidgets) (1.0.18)\n",
            "Requirement already satisfied: pygments in /usr/local/lib/python3.7/dist-packages (from ipython>=4.0.0->ipywidgets) (2.6.1)\n",
            "Requirement already satisfied: setuptools>=18.5 in /usr/local/lib/python3.7/dist-packages (from ipython>=4.0.0->ipywidgets) (57.4.0)\n",
            "Requirement already satisfied: pickleshare in /usr/local/lib/python3.7/dist-packages (from ipython>=4.0.0->ipywidgets) (0.7.5)\n",
            "Requirement already satisfied: simplegeneric>0.8 in /usr/local/lib/python3.7/dist-packages (from ipython>=4.0.0->ipywidgets) (0.8.1)\n",
            "Requirement already satisfied: jsonschema!=2.5.0,>=2.4 in /usr/local/lib/python3.7/dist-packages (from nbformat>=4.2.0->ipywidgets) (4.3.3)\n",
            "Requirement already satisfied: jupyter-core in /usr/local/lib/python3.7/dist-packages (from nbformat>=4.2.0->ipywidgets) (4.9.2)\n",
            "Requirement already satisfied: typing-extensions in /usr/local/lib/python3.7/dist-packages (from jsonschema!=2.5.0,>=2.4->nbformat>=4.2.0->ipywidgets) (3.10.0.2)\n",
            "Requirement already satisfied: importlib-resources>=1.4.0 in /usr/local/lib/python3.7/dist-packages (from jsonschema!=2.5.0,>=2.4->nbformat>=4.2.0->ipywidgets) (5.4.0)\n",
            "Requirement already satisfied: importlib-metadata in /usr/local/lib/python3.7/dist-packages (from jsonschema!=2.5.0,>=2.4->nbformat>=4.2.0->ipywidgets) (4.11.2)\n",
            "Requirement already satisfied: pyrsistent!=0.17.0,!=0.17.1,!=0.17.2,>=0.14.0 in /usr/local/lib/python3.7/dist-packages (from jsonschema!=2.5.0,>=2.4->nbformat>=4.2.0->ipywidgets) (0.18.1)\n",
            "Requirement already satisfied: attrs>=17.4.0 in /usr/local/lib/python3.7/dist-packages (from jsonschema!=2.5.0,>=2.4->nbformat>=4.2.0->ipywidgets) (21.4.0)\n",
            "Requirement already satisfied: zipp>=3.1.0 in /usr/local/lib/python3.7/dist-packages (from importlib-resources>=1.4.0->jsonschema!=2.5.0,>=2.4->nbformat>=4.2.0->ipywidgets) (3.7.0)\n",
            "Requirement already satisfied: wcwidth in /usr/local/lib/python3.7/dist-packages (from prompt-toolkit<2.0.0,>=1.0.4->ipython>=4.0.0->ipywidgets) (0.2.5)\n",
            "Requirement already satisfied: notebook>=4.4.1 in /usr/local/lib/python3.7/dist-packages (from widgetsnbextension~=3.5.0->ipywidgets) (5.3.1)\n",
            "Requirement already satisfied: nbconvert in /usr/local/lib/python3.7/dist-packages (from notebook>=4.4.1->widgetsnbextension~=3.5.0->ipywidgets) (5.6.1)\n",
            "Requirement already satisfied: jinja2 in /usr/local/lib/python3.7/dist-packages (from notebook>=4.4.1->widgetsnbextension~=3.5.0->ipywidgets) (2.11.3)\n",
            "Requirement already satisfied: Send2Trash in /usr/local/lib/python3.7/dist-packages (from notebook>=4.4.1->widgetsnbextension~=3.5.0->ipywidgets) (1.8.0)\n",
            "Requirement already satisfied: terminado>=0.8.1 in /usr/local/lib/python3.7/dist-packages (from notebook>=4.4.1->widgetsnbextension~=3.5.0->ipywidgets) (0.13.1)\n",
            "Requirement already satisfied: pyzmq>=13 in /usr/local/lib/python3.7/dist-packages (from jupyter-client->ipykernel>=4.5.1->ipywidgets) (22.3.0)\n",
            "Requirement already satisfied: ptyprocess in /usr/local/lib/python3.7/dist-packages (from terminado>=0.8.1->notebook>=4.4.1->widgetsnbextension~=3.5.0->ipywidgets) (0.7.0)\n",
            "Requirement already satisfied: MarkupSafe>=0.23 in /usr/local/lib/python3.7/dist-packages (from jinja2->notebook>=4.4.1->widgetsnbextension~=3.5.0->ipywidgets) (2.0.1)\n",
            "Requirement already satisfied: kiwisolver>=1.0.1 in /usr/local/lib/python3.7/dist-packages (from matplotlib->catboost) (1.3.2)\n",
            "Requirement already satisfied: cycler>=0.10 in /usr/local/lib/python3.7/dist-packages (from matplotlib->catboost) (0.11.0)\n",
            "Requirement already satisfied: entrypoints>=0.2.2 in /usr/local/lib/python3.7/dist-packages (from nbconvert->notebook>=4.4.1->widgetsnbextension~=3.5.0->ipywidgets) (0.4)\n",
            "Requirement already satisfied: testpath in /usr/local/lib/python3.7/dist-packages (from nbconvert->notebook>=4.4.1->widgetsnbextension~=3.5.0->ipywidgets) (0.6.0)\n",
            "Requirement already satisfied: pandocfilters>=1.4.1 in /usr/local/lib/python3.7/dist-packages (from nbconvert->notebook>=4.4.1->widgetsnbextension~=3.5.0->ipywidgets) (1.5.0)\n",
            "Requirement already satisfied: defusedxml in /usr/local/lib/python3.7/dist-packages (from nbconvert->notebook>=4.4.1->widgetsnbextension~=3.5.0->ipywidgets) (0.7.1)\n",
            "Requirement already satisfied: bleach in /usr/local/lib/python3.7/dist-packages (from nbconvert->notebook>=4.4.1->widgetsnbextension~=3.5.0->ipywidgets) (4.1.0)\n",
            "Requirement already satisfied: mistune<2,>=0.8.1 in /usr/local/lib/python3.7/dist-packages (from nbconvert->notebook>=4.4.1->widgetsnbextension~=3.5.0->ipywidgets) (0.8.4)\n",
            "Requirement already satisfied: webencodings in /usr/local/lib/python3.7/dist-packages (from bleach->nbconvert->notebook>=4.4.1->widgetsnbextension~=3.5.0->ipywidgets) (0.5.1)\n",
            "Requirement already satisfied: llvmlite<0.35,>=0.34.0.dev0 in /usr/local/lib/python3.7/dist-packages (from numba->shap) (0.34.0)\n",
            "Requirement already satisfied: tenacity>=6.2.0 in /usr/local/lib/python3.7/dist-packages (from plotly->catboost) (8.0.1)\n",
            "Requirement already satisfied: threadpoolctl>=2.0.0 in /usr/local/lib/python3.7/dist-packages (from scikit-learn->shap) (3.1.0)\n",
            "Requirement already satisfied: joblib>=0.11 in /usr/local/lib/python3.7/dist-packages (from scikit-learn->shap) (1.1.0)\n",
            "Installing collected packages: slicer, shap, catboost\n",
            "Successfully installed catboost-1.0.4 shap-0.40.0 slicer-0.0.7\n",
            "Enabling notebook extension jupyter-js-widgets/extension...\n",
            "      - Validating: \u001b[32mOK\u001b[0m\n"
          ]
        }
      ],
      "source": [
        "! pip install catboost shap ipywidgets\n",
        "! jupyter nbextension enable --py widgetsnbextension"
      ]
    },
    {
      "cell_type": "markdown",
      "source": [
        "### Импорт библиотек"
      ],
      "metadata": {
        "id": "93dlDs435O7r"
      }
    },
    {
      "cell_type": "code",
      "source": [
        "import pandas as pd\n",
        "import numpy as np\n",
        "np.set_printoptions(precision=4)\n",
        "import catboost\n",
        "from catboost import *\n",
        "from catboost import datasets\n",
        "\n",
        "import warnings\n",
        "import sys  \n",
        "if not sys.warnoptions:\n",
        "    warnings.simplefilter(\"ignore\")"
      ],
      "metadata": {
        "id": "FHO-Lmfn5Uwr"
      },
      "execution_count": null,
      "outputs": []
    },
    {
      "cell_type": "markdown",
      "source": [
        "### Подключение Google Drive"
      ],
      "metadata": {
        "id": "dUmed_5G5XhD"
      }
    },
    {
      "cell_type": "code",
      "source": [
        "from google.colab import drive\n",
        "drive.mount('/content/drive')"
      ],
      "metadata": {
        "id": "BfNAEz7Q5cFa",
        "colab": {
          "base_uri": "https://localhost:8080/"
        },
        "outputId": "37ca312e-a98d-4636-ae14-7fc0f6b78436"
      },
      "execution_count": null,
      "outputs": [
        {
          "output_type": "stream",
          "name": "stdout",
          "text": [
            "Mounted at /content/drive\n"
          ]
        }
      ]
    },
    {
      "cell_type": "markdown",
      "source": [
        "### Описание [Dataset](http://archive.ics.uci.edu/ml/datasets/Automobile)"
      ],
      "metadata": {
        "id": "qRX8vjM_5goK"
      }
    },
    {
      "cell_type": "code",
      "source": [
        "fp = \"/content/drive/MyDrive/datasets/imports-85_inf.txt\" #вытащим описание датасета\n",
        "with open(fp) as file_handler:\n",
        "    for line in file_handler:\n",
        "        print(line)"
      ],
      "metadata": {
        "id": "hAbGjCBC5fDq",
        "colab": {
          "base_uri": "https://localhost:8080/"
        },
        "outputId": "c36dbc41-56b2-4438-bd83-5bb6d2794913"
      },
      "execution_count": null,
      "outputs": [
        {
          "output_type": "stream",
          "name": "stdout",
          "text": [
            "1. Title: 1985 Auto Imports Database\n",
            "\n",
            "\n",
            "\n",
            "2. Source Information:\n",
            "\n",
            "   -- Creator/Donor: Jeffrey C. Schlimmer (Jeffrey.Schlimmer@a.gp.cs.cmu.edu)\n",
            "\n",
            "   -- Date: 19 May 1987\n",
            "\n",
            "   -- Sources:\n",
            "\n",
            "     1) 1985 Model Import Car and Truck Specifications, 1985 Ward's\n",
            "\n",
            "        Automotive Yearbook.\n",
            "\n",
            "     2) Personal Auto Manuals, Insurance Services Office, 160 Water\n",
            "\n",
            "        Street, New York, NY 10038 \n",
            "\n",
            "     3) Insurance Collision Report, Insurance Institute for Highway\n",
            "\n",
            "        Safety, Watergate 600, Washington, DC 20037\n",
            "\n",
            "\n",
            "\n",
            "3. Past Usage:\n",
            "\n",
            "   -- Kibler,~D., Aha,~D.~W., \\& Albert,~M. (1989).  Instance-based prediction\n",
            "\n",
            "      of real-valued attributes.  {\\it Computational Intelligence}, {\\it 5},\n",
            "\n",
            "      51--57.\n",
            "\n",
            "\t -- Predicted price of car using all numeric and Boolean attributes\n",
            "\n",
            "\t -- Method: an instance-based learning (IBL) algorithm derived from a\n",
            "\n",
            "\t    localized k-nearest neighbor algorithm.  Compared with a\n",
            "\n",
            "\t    linear regression prediction...so all instances\n",
            "\n",
            "\t    with missing attribute values were discarded.  This resulted with\n",
            "\n",
            "\t    a training set of 159 instances, which was also used as a test\n",
            "\n",
            "\t    set (minus the actual instance during testing).\n",
            "\n",
            "\t -- Results: Percent Average Deviation Error of Prediction from Actual\n",
            "\n",
            "\t    -- 11.84% for the IBL algorithm\n",
            "\n",
            "\t    -- 14.12% for the resulting linear regression equation\n",
            "\n",
            "\n",
            "\n",
            "4. Relevant Information:\n",
            "\n",
            "   -- Description\n",
            "\n",
            "      This data set consists of three types of entities: (a) the\n",
            "\n",
            "      specification of an auto in terms of various characteristics, (b)\n",
            "\n",
            "      its assigned insurance risk rating, (c) its normalized losses in use\n",
            "\n",
            "      as compared to other cars.  The second rating corresponds to the\n",
            "\n",
            "      degree to which the auto is more risky than its price indicates.\n",
            "\n",
            "      Cars are initially assigned a risk factor symbol associated with its\n",
            "\n",
            "      price.   Then, if it is more risky (or less), this symbol is\n",
            "\n",
            "      adjusted by moving it up (or down) the scale.  Actuarians call this\n",
            "\n",
            "      process \"symboling\".  A value of +3 indicates that the auto is\n",
            "\n",
            "      risky, -3 that it is probably pretty safe.\n",
            "\n",
            "\n",
            "\n",
            "      The third factor is the relative average loss payment per insured\n",
            "\n",
            "      vehicle year.  This value is normalized for all autos within a\n",
            "\n",
            "      particular size classification (two-door small, station wagons,\n",
            "\n",
            "      sports/speciality, etc...), and represents the average loss per car\n",
            "\n",
            "      per year.\n",
            "\n",
            "\n",
            "\n",
            "   -- Note: Several of the attributes in the database could be used as a\n",
            "\n",
            "            \"class\" attribute.\n",
            "\n",
            "\n",
            "\n",
            "5. Number of Instances: 205\n",
            "\n",
            "\n",
            "\n",
            "6. Number of Attributes: 26 total\n",
            "\n",
            "   -- 15 continuous\n",
            "\n",
            "   -- 1 integer\n",
            "\n",
            "   -- 10 nominal\n",
            "\n",
            "\n",
            "\n",
            "7. Attribute Information:     \n",
            "\n",
            "     Attribute:                Attribute Range:\n",
            "\n",
            "     ------------------        -----------------------------------------------\n",
            "\n",
            "  1. symboling:                -3, -2, -1, 0, 1, 2, 3.\n",
            "\n",
            "  2. normalized-losses:        continuous from 65 to 256.\n",
            "\n",
            "  3. make:                     alfa-romero, audi, bmw, chevrolet, dodge, honda,\n",
            "\n",
            "                               isuzu, jaguar, mazda, mercedes-benz, mercury,\n",
            "\n",
            "                               mitsubishi, nissan, peugot, plymouth, porsche,\n",
            "\n",
            "                               renault, saab, subaru, toyota, volkswagen, volvo\n",
            "\n",
            "  4. fuel-type:                diesel, gas.\n",
            "\n",
            "  5. aspiration:               std, turbo.\n",
            "\n",
            "  6. num-of-doors:             four, two.\n",
            "\n",
            "  7. body-style:               hardtop, wagon, sedan, hatchback, convertible.\n",
            "\n",
            "  8. drive-wheels:             4wd, fwd, rwd.\n",
            "\n",
            "  9. engine-location:          front, rear.\n",
            "\n",
            " 10. wheel-base:               continuous from 86.6 120.9.\n",
            "\n",
            " 11. length:                   continuous from 141.1 to 208.1.\n",
            "\n",
            " 12. width:                    continuous from 60.3 to 72.3.\n",
            "\n",
            " 13. height:                   continuous from 47.8 to 59.8.\n",
            "\n",
            " 14. curb-weight:              continuous from 1488 to 4066.\n",
            "\n",
            " 15. engine-type:              dohc, dohcv, l, ohc, ohcf, ohcv, rotor.\n",
            "\n",
            " 16. num-of-cylinders:         eight, five, four, six, three, twelve, two.\n",
            "\n",
            " 17. engine-size:              continuous from 61 to 326.\n",
            "\n",
            " 18. fuel-system:              1bbl, 2bbl, 4bbl, idi, mfi, mpfi, spdi, spfi.\n",
            "\n",
            " 19. bore:                     continuous from 2.54 to 3.94.\n",
            "\n",
            " 20. stroke:                   continuous from 2.07 to 4.17.\n",
            "\n",
            " 21. compression-ratio:        continuous from 7 to 23.\n",
            "\n",
            " 22. horsepower:               continuous from 48 to 288.\n",
            "\n",
            " 23. peak-rpm:                 continuous from 4150 to 6600.\n",
            "\n",
            " 24. city-mpg:                 continuous from 13 to 49.\n",
            "\n",
            " 25. highway-mpg:              continuous from 16 to 54.\n",
            "\n",
            " 26. price:                    continuous from 5118 to 45400.\n",
            "\n",
            "\n",
            "\n",
            "8. Missing Attribute Values: (denoted by \"?\")\n",
            "\n",
            "   Attribute #:   Number of instances missing a value:\n",
            "\n",
            "   2.             41\n",
            "\n",
            "   6.             2\n",
            "\n",
            "   19.            4\n",
            "\n",
            "   20.            4\n",
            "\n",
            "   22.            2\n",
            "\n",
            "   23.            2\n",
            "\n",
            "   26.            4\n",
            "\n",
            "\n",
            "\n",
            "\n",
            "\n",
            "\n",
            "\n",
            "\n",
            "\n"
          ]
        }
      ]
    },
    {
      "cell_type": "markdown",
      "source": [
        "### Загрузка Dataset-а"
      ],
      "metadata": {
        "id": "oZeArcp95ke7"
      }
    },
    {
      "cell_type": "code",
      "source": [
        "machframe = pd.read_csv(\"/content/drive/MyDrive/datasets/imports-85.txt\",names=['symboling', 'normalized-losses', 'make', 'fuel-type', \n",
        "                                           'aspiration', 'num-of-doors','body-style','drive-wheels',\n",
        "                                           'engine-location','wheel-base','length','width','height',\n",
        "                                           'curb-weight','engine-type','num-of-cylinders','engine-size',\n",
        "                                           'fuel-system','bore','stroke','compression-ratio','horsepower',\n",
        "                                          'peak-rpm','city-mpg','highway-mpg','price'])"
      ],
      "metadata": {
        "id": "9rbP8qmA5lF7"
      },
      "execution_count": null,
      "outputs": []
    },
    {
      "cell_type": "markdown",
      "source": [
        "### Просмотр Dataset-а"
      ],
      "metadata": {
        "id": "m6IaK2P45mfz"
      }
    },
    {
      "cell_type": "code",
      "source": [
        "machframe.head(10)"
      ],
      "metadata": {
        "id": "op_laOXE5oVk",
        "colab": {
          "base_uri": "https://localhost:8080/",
          "height": 506
        },
        "outputId": "bcbbb5be-5984-4c8f-ea38-708d78754b00"
      },
      "execution_count": null,
      "outputs": [
        {
          "output_type": "execute_result",
          "data": {
            "text/html": [
              "\n",
              "  <div id=\"df-e459b701-2349-4179-a032-a751ab87a7f9\">\n",
              "    <div class=\"colab-df-container\">\n",
              "      <div>\n",
              "<style scoped>\n",
              "    .dataframe tbody tr th:only-of-type {\n",
              "        vertical-align: middle;\n",
              "    }\n",
              "\n",
              "    .dataframe tbody tr th {\n",
              "        vertical-align: top;\n",
              "    }\n",
              "\n",
              "    .dataframe thead th {\n",
              "        text-align: right;\n",
              "    }\n",
              "</style>\n",
              "<table border=\"1\" class=\"dataframe\">\n",
              "  <thead>\n",
              "    <tr style=\"text-align: right;\">\n",
              "      <th></th>\n",
              "      <th>symboling</th>\n",
              "      <th>normalized-losses</th>\n",
              "      <th>make</th>\n",
              "      <th>fuel-type</th>\n",
              "      <th>aspiration</th>\n",
              "      <th>num-of-doors</th>\n",
              "      <th>body-style</th>\n",
              "      <th>drive-wheels</th>\n",
              "      <th>engine-location</th>\n",
              "      <th>wheel-base</th>\n",
              "      <th>...</th>\n",
              "      <th>engine-size</th>\n",
              "      <th>fuel-system</th>\n",
              "      <th>bore</th>\n",
              "      <th>stroke</th>\n",
              "      <th>compression-ratio</th>\n",
              "      <th>horsepower</th>\n",
              "      <th>peak-rpm</th>\n",
              "      <th>city-mpg</th>\n",
              "      <th>highway-mpg</th>\n",
              "      <th>price</th>\n",
              "    </tr>\n",
              "  </thead>\n",
              "  <tbody>\n",
              "    <tr>\n",
              "      <th>0</th>\n",
              "      <td>3</td>\n",
              "      <td>?</td>\n",
              "      <td>alfa-romero</td>\n",
              "      <td>gas</td>\n",
              "      <td>std</td>\n",
              "      <td>two</td>\n",
              "      <td>convertible</td>\n",
              "      <td>rwd</td>\n",
              "      <td>front</td>\n",
              "      <td>88.6</td>\n",
              "      <td>...</td>\n",
              "      <td>130</td>\n",
              "      <td>mpfi</td>\n",
              "      <td>3.47</td>\n",
              "      <td>2.68</td>\n",
              "      <td>9.0</td>\n",
              "      <td>111</td>\n",
              "      <td>5000</td>\n",
              "      <td>21</td>\n",
              "      <td>27</td>\n",
              "      <td>13495</td>\n",
              "    </tr>\n",
              "    <tr>\n",
              "      <th>1</th>\n",
              "      <td>3</td>\n",
              "      <td>?</td>\n",
              "      <td>alfa-romero</td>\n",
              "      <td>gas</td>\n",
              "      <td>std</td>\n",
              "      <td>two</td>\n",
              "      <td>convertible</td>\n",
              "      <td>rwd</td>\n",
              "      <td>front</td>\n",
              "      <td>88.6</td>\n",
              "      <td>...</td>\n",
              "      <td>130</td>\n",
              "      <td>mpfi</td>\n",
              "      <td>3.47</td>\n",
              "      <td>2.68</td>\n",
              "      <td>9.0</td>\n",
              "      <td>111</td>\n",
              "      <td>5000</td>\n",
              "      <td>21</td>\n",
              "      <td>27</td>\n",
              "      <td>16500</td>\n",
              "    </tr>\n",
              "    <tr>\n",
              "      <th>2</th>\n",
              "      <td>1</td>\n",
              "      <td>?</td>\n",
              "      <td>alfa-romero</td>\n",
              "      <td>gas</td>\n",
              "      <td>std</td>\n",
              "      <td>two</td>\n",
              "      <td>hatchback</td>\n",
              "      <td>rwd</td>\n",
              "      <td>front</td>\n",
              "      <td>94.5</td>\n",
              "      <td>...</td>\n",
              "      <td>152</td>\n",
              "      <td>mpfi</td>\n",
              "      <td>2.68</td>\n",
              "      <td>3.47</td>\n",
              "      <td>9.0</td>\n",
              "      <td>154</td>\n",
              "      <td>5000</td>\n",
              "      <td>19</td>\n",
              "      <td>26</td>\n",
              "      <td>16500</td>\n",
              "    </tr>\n",
              "    <tr>\n",
              "      <th>3</th>\n",
              "      <td>2</td>\n",
              "      <td>164</td>\n",
              "      <td>audi</td>\n",
              "      <td>gas</td>\n",
              "      <td>std</td>\n",
              "      <td>four</td>\n",
              "      <td>sedan</td>\n",
              "      <td>fwd</td>\n",
              "      <td>front</td>\n",
              "      <td>99.8</td>\n",
              "      <td>...</td>\n",
              "      <td>109</td>\n",
              "      <td>mpfi</td>\n",
              "      <td>3.19</td>\n",
              "      <td>3.40</td>\n",
              "      <td>10.0</td>\n",
              "      <td>102</td>\n",
              "      <td>5500</td>\n",
              "      <td>24</td>\n",
              "      <td>30</td>\n",
              "      <td>13950</td>\n",
              "    </tr>\n",
              "    <tr>\n",
              "      <th>4</th>\n",
              "      <td>2</td>\n",
              "      <td>164</td>\n",
              "      <td>audi</td>\n",
              "      <td>gas</td>\n",
              "      <td>std</td>\n",
              "      <td>four</td>\n",
              "      <td>sedan</td>\n",
              "      <td>4wd</td>\n",
              "      <td>front</td>\n",
              "      <td>99.4</td>\n",
              "      <td>...</td>\n",
              "      <td>136</td>\n",
              "      <td>mpfi</td>\n",
              "      <td>3.19</td>\n",
              "      <td>3.40</td>\n",
              "      <td>8.0</td>\n",
              "      <td>115</td>\n",
              "      <td>5500</td>\n",
              "      <td>18</td>\n",
              "      <td>22</td>\n",
              "      <td>17450</td>\n",
              "    </tr>\n",
              "    <tr>\n",
              "      <th>5</th>\n",
              "      <td>2</td>\n",
              "      <td>?</td>\n",
              "      <td>audi</td>\n",
              "      <td>gas</td>\n",
              "      <td>std</td>\n",
              "      <td>two</td>\n",
              "      <td>sedan</td>\n",
              "      <td>fwd</td>\n",
              "      <td>front</td>\n",
              "      <td>99.8</td>\n",
              "      <td>...</td>\n",
              "      <td>136</td>\n",
              "      <td>mpfi</td>\n",
              "      <td>3.19</td>\n",
              "      <td>3.40</td>\n",
              "      <td>8.5</td>\n",
              "      <td>110</td>\n",
              "      <td>5500</td>\n",
              "      <td>19</td>\n",
              "      <td>25</td>\n",
              "      <td>15250</td>\n",
              "    </tr>\n",
              "    <tr>\n",
              "      <th>6</th>\n",
              "      <td>1</td>\n",
              "      <td>158</td>\n",
              "      <td>audi</td>\n",
              "      <td>gas</td>\n",
              "      <td>std</td>\n",
              "      <td>four</td>\n",
              "      <td>sedan</td>\n",
              "      <td>fwd</td>\n",
              "      <td>front</td>\n",
              "      <td>105.8</td>\n",
              "      <td>...</td>\n",
              "      <td>136</td>\n",
              "      <td>mpfi</td>\n",
              "      <td>3.19</td>\n",
              "      <td>3.40</td>\n",
              "      <td>8.5</td>\n",
              "      <td>110</td>\n",
              "      <td>5500</td>\n",
              "      <td>19</td>\n",
              "      <td>25</td>\n",
              "      <td>17710</td>\n",
              "    </tr>\n",
              "    <tr>\n",
              "      <th>7</th>\n",
              "      <td>1</td>\n",
              "      <td>?</td>\n",
              "      <td>audi</td>\n",
              "      <td>gas</td>\n",
              "      <td>std</td>\n",
              "      <td>four</td>\n",
              "      <td>wagon</td>\n",
              "      <td>fwd</td>\n",
              "      <td>front</td>\n",
              "      <td>105.8</td>\n",
              "      <td>...</td>\n",
              "      <td>136</td>\n",
              "      <td>mpfi</td>\n",
              "      <td>3.19</td>\n",
              "      <td>3.40</td>\n",
              "      <td>8.5</td>\n",
              "      <td>110</td>\n",
              "      <td>5500</td>\n",
              "      <td>19</td>\n",
              "      <td>25</td>\n",
              "      <td>18920</td>\n",
              "    </tr>\n",
              "    <tr>\n",
              "      <th>8</th>\n",
              "      <td>1</td>\n",
              "      <td>158</td>\n",
              "      <td>audi</td>\n",
              "      <td>gas</td>\n",
              "      <td>turbo</td>\n",
              "      <td>four</td>\n",
              "      <td>sedan</td>\n",
              "      <td>fwd</td>\n",
              "      <td>front</td>\n",
              "      <td>105.8</td>\n",
              "      <td>...</td>\n",
              "      <td>131</td>\n",
              "      <td>mpfi</td>\n",
              "      <td>3.13</td>\n",
              "      <td>3.40</td>\n",
              "      <td>8.3</td>\n",
              "      <td>140</td>\n",
              "      <td>5500</td>\n",
              "      <td>17</td>\n",
              "      <td>20</td>\n",
              "      <td>23875</td>\n",
              "    </tr>\n",
              "    <tr>\n",
              "      <th>9</th>\n",
              "      <td>0</td>\n",
              "      <td>?</td>\n",
              "      <td>audi</td>\n",
              "      <td>gas</td>\n",
              "      <td>turbo</td>\n",
              "      <td>two</td>\n",
              "      <td>hatchback</td>\n",
              "      <td>4wd</td>\n",
              "      <td>front</td>\n",
              "      <td>99.5</td>\n",
              "      <td>...</td>\n",
              "      <td>131</td>\n",
              "      <td>mpfi</td>\n",
              "      <td>3.13</td>\n",
              "      <td>3.40</td>\n",
              "      <td>7.0</td>\n",
              "      <td>160</td>\n",
              "      <td>5500</td>\n",
              "      <td>16</td>\n",
              "      <td>22</td>\n",
              "      <td>?</td>\n",
              "    </tr>\n",
              "  </tbody>\n",
              "</table>\n",
              "<p>10 rows × 26 columns</p>\n",
              "</div>\n",
              "      <button class=\"colab-df-convert\" onclick=\"convertToInteractive('df-e459b701-2349-4179-a032-a751ab87a7f9')\"\n",
              "              title=\"Convert this dataframe to an interactive table.\"\n",
              "              style=\"display:none;\">\n",
              "        \n",
              "  <svg xmlns=\"http://www.w3.org/2000/svg\" height=\"24px\"viewBox=\"0 0 24 24\"\n",
              "       width=\"24px\">\n",
              "    <path d=\"M0 0h24v24H0V0z\" fill=\"none\"/>\n",
              "    <path d=\"M18.56 5.44l.94 2.06.94-2.06 2.06-.94-2.06-.94-.94-2.06-.94 2.06-2.06.94zm-11 1L8.5 8.5l.94-2.06 2.06-.94-2.06-.94L8.5 2.5l-.94 2.06-2.06.94zm10 10l.94 2.06.94-2.06 2.06-.94-2.06-.94-.94-2.06-.94 2.06-2.06.94z\"/><path d=\"M17.41 7.96l-1.37-1.37c-.4-.4-.92-.59-1.43-.59-.52 0-1.04.2-1.43.59L10.3 9.45l-7.72 7.72c-.78.78-.78 2.05 0 2.83L4 21.41c.39.39.9.59 1.41.59.51 0 1.02-.2 1.41-.59l7.78-7.78 2.81-2.81c.8-.78.8-2.07 0-2.86zM5.41 20L4 18.59l7.72-7.72 1.47 1.35L5.41 20z\"/>\n",
              "  </svg>\n",
              "      </button>\n",
              "      \n",
              "  <style>\n",
              "    .colab-df-container {\n",
              "      display:flex;\n",
              "      flex-wrap:wrap;\n",
              "      gap: 12px;\n",
              "    }\n",
              "\n",
              "    .colab-df-convert {\n",
              "      background-color: #E8F0FE;\n",
              "      border: none;\n",
              "      border-radius: 50%;\n",
              "      cursor: pointer;\n",
              "      display: none;\n",
              "      fill: #1967D2;\n",
              "      height: 32px;\n",
              "      padding: 0 0 0 0;\n",
              "      width: 32px;\n",
              "    }\n",
              "\n",
              "    .colab-df-convert:hover {\n",
              "      background-color: #E2EBFA;\n",
              "      box-shadow: 0px 1px 2px rgba(60, 64, 67, 0.3), 0px 1px 3px 1px rgba(60, 64, 67, 0.15);\n",
              "      fill: #174EA6;\n",
              "    }\n",
              "\n",
              "    [theme=dark] .colab-df-convert {\n",
              "      background-color: #3B4455;\n",
              "      fill: #D2E3FC;\n",
              "    }\n",
              "\n",
              "    [theme=dark] .colab-df-convert:hover {\n",
              "      background-color: #434B5C;\n",
              "      box-shadow: 0px 1px 3px 1px rgba(0, 0, 0, 0.15);\n",
              "      filter: drop-shadow(0px 1px 2px rgba(0, 0, 0, 0.3));\n",
              "      fill: #FFFFFF;\n",
              "    }\n",
              "  </style>\n",
              "\n",
              "      <script>\n",
              "        const buttonEl =\n",
              "          document.querySelector('#df-e459b701-2349-4179-a032-a751ab87a7f9 button.colab-df-convert');\n",
              "        buttonEl.style.display =\n",
              "          google.colab.kernel.accessAllowed ? 'block' : 'none';\n",
              "\n",
              "        async function convertToInteractive(key) {\n",
              "          const element = document.querySelector('#df-e459b701-2349-4179-a032-a751ab87a7f9');\n",
              "          const dataTable =\n",
              "            await google.colab.kernel.invokeFunction('convertToInteractive',\n",
              "                                                     [key], {});\n",
              "          if (!dataTable) return;\n",
              "\n",
              "          const docLinkHtml = 'Like what you see? Visit the ' +\n",
              "            '<a target=\"_blank\" href=https://colab.research.google.com/notebooks/data_table.ipynb>data table notebook</a>'\n",
              "            + ' to learn more about interactive tables.';\n",
              "          element.innerHTML = '';\n",
              "          dataTable['output_type'] = 'display_data';\n",
              "          await google.colab.output.renderOutput(dataTable, element);\n",
              "          const docLink = document.createElement('div');\n",
              "          docLink.innerHTML = docLinkHtml;\n",
              "          element.appendChild(docLink);\n",
              "        }\n",
              "      </script>\n",
              "    </div>\n",
              "  </div>\n",
              "  "
            ],
            "text/plain": [
              "   symboling normalized-losses         make fuel-type aspiration num-of-doors  \\\n",
              "0          3                 ?  alfa-romero       gas        std          two   \n",
              "1          3                 ?  alfa-romero       gas        std          two   \n",
              "2          1                 ?  alfa-romero       gas        std          two   \n",
              "3          2               164         audi       gas        std         four   \n",
              "4          2               164         audi       gas        std         four   \n",
              "5          2                 ?         audi       gas        std          two   \n",
              "6          1               158         audi       gas        std         four   \n",
              "7          1                 ?         audi       gas        std         four   \n",
              "8          1               158         audi       gas      turbo         four   \n",
              "9          0                 ?         audi       gas      turbo          two   \n",
              "\n",
              "    body-style drive-wheels engine-location  wheel-base  ...  engine-size  \\\n",
              "0  convertible          rwd           front        88.6  ...          130   \n",
              "1  convertible          rwd           front        88.6  ...          130   \n",
              "2    hatchback          rwd           front        94.5  ...          152   \n",
              "3        sedan          fwd           front        99.8  ...          109   \n",
              "4        sedan          4wd           front        99.4  ...          136   \n",
              "5        sedan          fwd           front        99.8  ...          136   \n",
              "6        sedan          fwd           front       105.8  ...          136   \n",
              "7        wagon          fwd           front       105.8  ...          136   \n",
              "8        sedan          fwd           front       105.8  ...          131   \n",
              "9    hatchback          4wd           front        99.5  ...          131   \n",
              "\n",
              "   fuel-system  bore  stroke compression-ratio horsepower  peak-rpm city-mpg  \\\n",
              "0         mpfi  3.47    2.68               9.0        111      5000       21   \n",
              "1         mpfi  3.47    2.68               9.0        111      5000       21   \n",
              "2         mpfi  2.68    3.47               9.0        154      5000       19   \n",
              "3         mpfi  3.19    3.40              10.0        102      5500       24   \n",
              "4         mpfi  3.19    3.40               8.0        115      5500       18   \n",
              "5         mpfi  3.19    3.40               8.5        110      5500       19   \n",
              "6         mpfi  3.19    3.40               8.5        110      5500       19   \n",
              "7         mpfi  3.19    3.40               8.5        110      5500       19   \n",
              "8         mpfi  3.13    3.40               8.3        140      5500       17   \n",
              "9         mpfi  3.13    3.40               7.0        160      5500       16   \n",
              "\n",
              "  highway-mpg  price  \n",
              "0          27  13495  \n",
              "1          27  16500  \n",
              "2          26  16500  \n",
              "3          30  13950  \n",
              "4          22  17450  \n",
              "5          25  15250  \n",
              "6          25  17710  \n",
              "7          25  18920  \n",
              "8          20  23875  \n",
              "9          22      ?  \n",
              "\n",
              "[10 rows x 26 columns]"
            ]
          },
          "metadata": {},
          "execution_count": 6
        }
      ]
    },
    {
      "cell_type": "markdown",
      "source": [
        "### Предварительная обработка Dataset-а"
      ],
      "metadata": {
        "id": "Y8xGX3K65ry7"
      }
    },
    {
      "cell_type": "code",
      "source": [
        "machframe = machframe.drop(machframe[machframe['num-of-doors'] == '?'].index)\n",
        "machframe = machframe[machframe[:] != '?'].iloc[:,:] #найдем все пропуски в данных и заменим их на медианный\n",
        "machframe.fillna(machframe.median(),inplace = True)\n",
        "machframe[\"num-of-doors\"].unique() #проверим бинарный признак"
      ],
      "metadata": {
        "id": "zxJxqsev5rRj",
        "colab": {
          "base_uri": "https://localhost:8080/"
        },
        "outputId": "69bc6ddc-7b23-4820-f89e-201731b526c4"
      },
      "execution_count": null,
      "outputs": [
        {
          "output_type": "stream",
          "name": "stderr",
          "text": [
            "/usr/local/lib/python3.7/dist-packages/ipykernel_launcher.py:3: FutureWarning: Dropping of nuisance columns in DataFrame reductions (with 'numeric_only=None') is deprecated; in a future version this will raise TypeError.  Select only valid columns before calling the reduction.\n",
            "  This is separate from the ipykernel package so we can avoid doing imports until\n"
          ]
        },
        {
          "output_type": "execute_result",
          "data": {
            "text/plain": [
              "array(['two', 'four'], dtype=object)"
            ]
          },
          "metadata": {},
          "execution_count": 7
        }
      ]
    },
    {
      "cell_type": "markdown",
      "source": [
        "## Этап 1. CatBoostClassifier"
      ],
      "metadata": {
        "id": "kG7A_n5FkSvP"
      }
    },
    {
      "cell_type": "markdown",
      "source": [
        "### Разделение признаков"
      ],
      "metadata": {
        "id": "-idgtKtJxdZI"
      }
    },
    {
      "cell_type": "code",
      "source": [
        "y = machframe[\"num-of-doors\"]"
      ],
      "metadata": {
        "id": "cY5uvlfRkghR"
      },
      "execution_count": null,
      "outputs": []
    },
    {
      "cell_type": "code",
      "source": [
        "X = machframe.drop(\"num-of-doors\", axis=1)"
      ],
      "metadata": {
        "id": "oP571eKFkm14"
      },
      "execution_count": null,
      "outputs": []
    },
    {
      "cell_type": "markdown",
      "source": [
        "### Задаем колонки категориальных признаков"
      ],
      "metadata": {
        "id": "kYBrIcm1xXH-"
      }
    },
    {
      "cell_type": "code",
      "source": [
        "cat_features = list([0,2,3,4,5,6,7,13,14,16]) \n",
        "print(cat_features)"
      ],
      "metadata": {
        "id": "DjKlmaG0kmyw",
        "colab": {
          "base_uri": "https://localhost:8080/"
        },
        "outputId": "ff76357b-5831-4e16-c19f-e0c54cd30686"
      },
      "execution_count": null,
      "outputs": [
        {
          "output_type": "stream",
          "name": "stdout",
          "text": [
            "[0, 2, 3, 4, 5, 6, 7, 13, 14, 16]\n"
          ]
        }
      ]
    },
    {
      "cell_type": "markdown",
      "source": [
        "### Разбиение на тестовую и обучающую выборки"
      ],
      "metadata": {
        "id": "iIHZ8wtNxj8Q"
      }
    },
    {
      "cell_type": "code",
      "source": [
        "import sklearn.model_selection"
      ],
      "metadata": {
        "id": "B8bsLHIrklfJ"
      },
      "execution_count": null,
      "outputs": []
    },
    {
      "cell_type": "code",
      "source": [
        "X_train, X_test, y_train, y_test = sklearn.model_selection.train_test_split(\n",
        "    X, y, random_state = 0\n",
        ")"
      ],
      "metadata": {
        "id": "790t50ROkrVA"
      },
      "execution_count": null,
      "outputs": []
    },
    {
      "cell_type": "markdown",
      "source": [
        "### Построние CatBoostClassifier"
      ],
      "metadata": {
        "id": "ePcHyjouxqMv"
      }
    },
    {
      "cell_type": "code",
      "source": [
        "model = CatBoostClassifier(\n",
        "    iterations=100,\n",
        "    learning_rate=0.1,\n",
        "    loss_function='Logloss', \n",
        ")\n",
        "model.fit(\n",
        "    X_train, y_train,\n",
        "    cat_features=cat_features,\n",
        "    eval_set=(X_test, y_test),\n",
        "    verbose = False\n",
        "    \n",
        ")\n",
        "\n",
        "print('Model is fitted: ' + str(model.is_fitted()))\n",
        "print('Model params:')\n",
        "print(model.get_params())"
      ],
      "metadata": {
        "id": "kpXMgDAGksr3",
        "colab": {
          "base_uri": "https://localhost:8080/"
        },
        "outputId": "502696c2-f8fb-41cd-be04-96ceccdc0f42"
      },
      "execution_count": null,
      "outputs": [
        {
          "output_type": "stream",
          "name": "stdout",
          "text": [
            "Model is fitted: True\n",
            "Model params:\n",
            "{'iterations': 100, 'learning_rate': 0.1, 'loss_function': 'Logloss'}\n"
          ]
        }
      ]
    },
    {
      "cell_type": "markdown",
      "source": [
        "### Определение итерации с наименьшим logloss"
      ],
      "metadata": {
        "id": "lG7V2wtixyzf"
      }
    },
    {
      "cell_type": "code",
      "source": [
        "model.get_best_iteration() "
      ],
      "metadata": {
        "id": "CGFFoAG6kuuY",
        "colab": {
          "base_uri": "https://localhost:8080/"
        },
        "outputId": "cc0df323-65d9-4c46-b933-97ab9f683fb8"
      },
      "execution_count": null,
      "outputs": [
        {
          "output_type": "execute_result",
          "data": {
            "text/plain": [
              "12"
            ]
          },
          "metadata": {},
          "execution_count": 14
        }
      ]
    },
    {
      "cell_type": "markdown",
      "source": [
        "### Определение значения на итерации с наименьшим logloss"
      ],
      "metadata": {
        "id": "qt6yfqgrx5cn"
      }
    },
    {
      "cell_type": "code",
      "source": [
        "model.best_score_ "
      ],
      "metadata": {
        "id": "COpqnuFxkv4Q",
        "colab": {
          "base_uri": "https://localhost:8080/"
        },
        "outputId": "13d45dc1-3222-405c-e9f0-0ea4500a9edc"
      },
      "execution_count": null,
      "outputs": [
        {
          "output_type": "execute_result",
          "data": {
            "text/plain": [
              "{'learn': {'Logloss': 0.02763345062205948},\n",
              " 'validation': {'Logloss': 0.3717899272574765}}"
            ]
          },
          "metadata": {},
          "execution_count": 15
        }
      ]
    },
    {
      "cell_type": "markdown",
      "source": [
        "### Потрим на табличку метрик"
      ],
      "metadata": {
        "id": "MC9D_76GyC2v"
      }
    },
    {
      "cell_type": "code",
      "source": [
        "print(sklearn.metrics.classification_report( \n",
        "    model.predict(X_test), y_test, target_names=[\"two\", \"four\"]\n",
        ") )"
      ],
      "metadata": {
        "id": "jIff2GPUkxdI",
        "colab": {
          "base_uri": "https://localhost:8080/"
        },
        "outputId": "88a790ea-5ca9-498a-d10f-159de63618a9"
      },
      "execution_count": null,
      "outputs": [
        {
          "output_type": "stream",
          "name": "stdout",
          "text": [
            "              precision    recall  f1-score   support\n",
            "\n",
            "         two       0.96      0.79      0.86        28\n",
            "        four       0.79      0.96      0.86        23\n",
            "\n",
            "    accuracy                           0.86        51\n",
            "   macro avg       0.87      0.87      0.86        51\n",
            "weighted avg       0.88      0.86      0.86        51\n",
            "\n"
          ]
        }
      ]
    },
    {
      "cell_type": "markdown",
      "source": [
        "В сравнении с алгоритмами лес и дерево, которые имели долю правильных ответов в 0.82, catboostclassifier дал долю правильных ответов в 0.88"
      ],
      "metadata": {
        "id": "g6ONKG3iky0I"
      }
    },
    {
      "cell_type": "markdown",
      "source": [
        "## Этап 2. CatBoostRegressor"
      ],
      "metadata": {
        "id": "2a_gLMOGk14Z"
      }
    },
    {
      "cell_type": "markdown",
      "source": [
        "### Запишем в лист все категориальные колонки"
      ],
      "metadata": {
        "id": "pW3nm6a83It6"
      }
    },
    {
      "cell_type": "code",
      "source": [
        "mach = machframe \n",
        "col = list(['make','body-style','drive-wheels', \n",
        "            'fuel-system','engine-type','fuel-type',\n",
        "           'aspiration','num-of-doors','engine-location','num-of-cylinders'])"
      ],
      "metadata": {
        "id": "bKNPvABik6lI"
      },
      "execution_count": null,
      "outputs": []
    },
    {
      "cell_type": "code",
      "source": [
        "for num in col: \n",
        "    mach[num] = pd.factorize(machframe[num])[0]"
      ],
      "metadata": {
        "id": "GMZWwhLhk8BI"
      },
      "execution_count": null,
      "outputs": []
    },
    {
      "cell_type": "markdown",
      "source": [
        "### Произведем разбиение признаков"
      ],
      "metadata": {
        "id": "pha3D9qM3Wpx"
      }
    },
    {
      "cell_type": "code",
      "source": [
        "y_r = mach[\"num-of-doors\"]\n",
        "X_r = mach.drop(\"num-of-doors\", axis=1)"
      ],
      "metadata": {
        "id": "BIUIHC4kk-0A"
      },
      "execution_count": null,
      "outputs": []
    },
    {
      "cell_type": "code",
      "source": [
        "X_train_r, X_test_r, y_train_r, y_test_r = sklearn.model_selection.train_test_split(\n",
        "    X_r, y_r, random_state = 0\n",
        ")"
      ],
      "metadata": {
        "id": "Qsypgt_klAcY"
      },
      "execution_count": null,
      "outputs": []
    },
    {
      "cell_type": "markdown",
      "source": [
        "### Выведем номера итераций с значениями метрик (MAE и MSE) для наилучших итераций."
      ],
      "metadata": {
        "id": "jQrvFCOulBz4"
      }
    },
    {
      "cell_type": "markdown",
      "source": [
        "#### Метрика MSE"
      ],
      "metadata": {
        "id": "8ql1g9umlD7S"
      }
    },
    {
      "cell_type": "markdown",
      "source": [
        "##### Создаем и передаем выборку КБ"
      ],
      "metadata": {
        "id": "mcDeo3Ng4UMK"
      }
    },
    {
      "cell_type": "code",
      "source": [
        "model_r = CatBoostRegressor(iterations=500, learning_rate=0.1, use_best_model=True, loss_function = 'RMSE') \n",
        "model_r.fit(X_train_r, y_train_r, verbose=False, eval_set=(X_test_r, y_test_r))"
      ],
      "metadata": {
        "id": "eWyJzo7zlFap",
        "colab": {
          "base_uri": "https://localhost:8080/"
        },
        "outputId": "374f80b6-90f3-4306-ce06-04f94daa15f1"
      },
      "execution_count": null,
      "outputs": [
        {
          "output_type": "execute_result",
          "data": {
            "text/plain": [
              "<catboost.core.CatBoostRegressor at 0x7f50e78e8c10>"
            ]
          },
          "metadata": {},
          "execution_count": 22
        }
      ]
    },
    {
      "cell_type": "markdown",
      "source": [
        "##### Наилучшая итерация"
      ],
      "metadata": {
        "id": "Dg6KHfeC4Nea"
      }
    },
    {
      "cell_type": "code",
      "source": [
        "model_r.get_best_iteration() "
      ],
      "metadata": {
        "id": "BbGbATVvlHFR",
        "colab": {
          "base_uri": "https://localhost:8080/"
        },
        "outputId": "89979834-8614-41d3-fb14-19f65fb9b944"
      },
      "execution_count": null,
      "outputs": [
        {
          "output_type": "execute_result",
          "data": {
            "text/plain": [
              "98"
            ]
          },
          "metadata": {},
          "execution_count": 23
        }
      ]
    },
    {
      "cell_type": "markdown",
      "source": [
        "##### Подсчитаем метрики"
      ],
      "metadata": {
        "id": "KsUGKtPu4Zzo"
      }
    },
    {
      "cell_type": "code",
      "source": [
        "print('MAE: ' + str(sklearn.metrics.mean_absolute_error(y_test_r, model_r.predict(data=X_test_r))))\n",
        "print('MSE: ' + str(sklearn.metrics.mean_squared_error(y_test_r, model_r.predict(data=X_test_r))))"
      ],
      "metadata": {
        "id": "nJ956VBtlI3Q",
        "colab": {
          "base_uri": "https://localhost:8080/"
        },
        "outputId": "ada79258-2d3d-401e-e211-6a8c2d7dd73d"
      },
      "execution_count": null,
      "outputs": [
        {
          "output_type": "stream",
          "name": "stdout",
          "text": [
            "MAE: 0.2319734838190081\n",
            "MSE: 0.11140620857227031\n"
          ]
        }
      ]
    },
    {
      "cell_type": "markdown",
      "source": [
        "#### Метрика MAE"
      ],
      "metadata": {
        "id": "hUFm2gDSlMXK"
      }
    },
    {
      "cell_type": "markdown",
      "source": [
        "##### Создаем и передаем выборку КБ"
      ],
      "metadata": {
        "id": "BJzJCXEx4trZ"
      }
    },
    {
      "cell_type": "code",
      "source": [
        "model_r = CatBoostRegressor(iterations=500, learning_rate=0.1, use_best_model=True, loss_function = 'MAE') \n",
        "model_r.fit(X_train_r, y_train_r, verbose=False, eval_set=(X_test_r, y_test_r))"
      ],
      "metadata": {
        "id": "QAxkd2BYlKuY",
        "colab": {
          "base_uri": "https://localhost:8080/"
        },
        "outputId": "b7002487-b52b-4625-8351-d8bbd48e4670"
      },
      "execution_count": null,
      "outputs": [
        {
          "output_type": "execute_result",
          "data": {
            "text/plain": [
              "<catboost.core.CatBoostRegressor at 0x7f50e6cd2510>"
            ]
          },
          "metadata": {},
          "execution_count": 25
        }
      ]
    },
    {
      "cell_type": "markdown",
      "source": [
        "##### Определим наилучшую итерация"
      ],
      "metadata": {
        "id": "pSuBjuGc40Sa"
      }
    },
    {
      "cell_type": "code",
      "source": [
        "model_r.get_best_iteration() "
      ],
      "metadata": {
        "id": "L7v5PA1mlOHA",
        "colab": {
          "base_uri": "https://localhost:8080/"
        },
        "outputId": "5bff114c-4c57-48a4-b9f4-f9096d204f81"
      },
      "execution_count": null,
      "outputs": [
        {
          "output_type": "execute_result",
          "data": {
            "text/plain": [
              "49"
            ]
          },
          "metadata": {},
          "execution_count": 26
        }
      ]
    },
    {
      "cell_type": "markdown",
      "source": [
        "##### Подсчитаем метрики"
      ],
      "metadata": {
        "id": "h9IRMi0u482o"
      }
    },
    {
      "cell_type": "code",
      "source": [
        "print('MAE: ' + str(sklearn.metrics.mean_absolute_error(y_test_r, model_r.predict(data=X_test_r))))\n",
        "print('MSE: ' + str(sklearn.metrics.mean_squared_error(y_test_r, model_r.predict(data=X_test_r))))"
      ],
      "metadata": {
        "id": "5HoyhR-wlPWh",
        "colab": {
          "base_uri": "https://localhost:8080/"
        },
        "outputId": "1dbdf67a-5cd2-4713-87c1-e5d1b401957a"
      },
      "execution_count": null,
      "outputs": [
        {
          "output_type": "stream",
          "name": "stdout",
          "text": [
            "MAE: 0.20442635753395877\n",
            "MSE: 0.11933934835570116\n"
          ]
        }
      ]
    },
    {
      "cell_type": "markdown",
      "source": [
        "## Этап 3. График для CatBoostClassifier"
      ],
      "metadata": {
        "id": "NtHbjKNmlQ7Y"
      }
    },
    {
      "cell_type": "markdown",
      "source": [
        "Для бинарного классификатора на основе CatBoostClassifier построить кривые PRC и ROC. Вычислить значения PRC-AUC и ROC-AUC."
      ],
      "metadata": {
        "id": "96GGSb-RlUwJ"
      }
    },
    {
      "cell_type": "code",
      "source": [
        "from catboost.utils import get_roc_curve\n",
        "import sklearn.metrics"
      ],
      "metadata": {
        "id": "9hO9ftC1lYOA"
      },
      "execution_count": null,
      "outputs": []
    },
    {
      "cell_type": "code",
      "source": [
        "# наподобие класса с конструктором, чтоб передавать удобнее было\n",
        "eval_pool = Pool(X_test, y_test, cat_features=cat_features) \n",
        "curve = get_roc_curve(model, eval_pool)\n",
        "(fpr, tpr, thresholds) = curve\n",
        "roc_auc = sklearn.metrics.auc(fpr, tpr)\n",
        "\n",
        "#ROC AUC\n",
        "print('ROC-AUC: ' + str(roc_auc)) "
      ],
      "metadata": {
        "id": "y3sQJZvBlZzP",
        "colab": {
          "base_uri": "https://localhost:8080/"
        },
        "outputId": "163fd026-baee-4484-a0f7-42e27c172981"
      },
      "execution_count": null,
      "outputs": [
        {
          "output_type": "stream",
          "name": "stdout",
          "text": [
            "ROC-AUC: 0.937888198757764\n"
          ]
        }
      ]
    },
    {
      "cell_type": "markdown",
      "source": [
        "### Построение ROC-кривой"
      ],
      "metadata": {
        "id": "rA17bHAZ6X0B"
      }
    },
    {
      "cell_type": "code",
      "source": [
        "import matplotlib.pyplot as plt\n",
        "\n",
        "plt.figure(figsize=(15, 5))\n",
        "\n",
        "plt.plot(fpr, tpr, color='green', lw=3, label='ROC curve (area = %0.3f)' % roc_auc, alpha=0.5)\n",
        "\n",
        " #настроим область отображения, размеры шрифта, подписи и тд\n",
        "plt.xlim([0.0, 1.0])\n",
        "plt.ylim([0.6, 1.05])\n",
        "plt.xticks(fontsize=16)\n",
        "plt.yticks(fontsize=16)\n",
        "plt.grid(True)\n",
        "plt.xlabel('False positive', fontsize=16)\n",
        "plt.ylabel('True positive', fontsize=16)\n",
        "plt.title('ROC curve', fontsize=24)\n",
        "plt.show()"
      ],
      "metadata": {
        "id": "M8QmeXcolcFY",
        "colab": {
          "base_uri": "https://localhost:8080/",
          "height": 369
        },
        "outputId": "009ca3c1-1a39-48bc-9e70-d47be965bd0c"
      },
      "execution_count": null,
      "outputs": [
        {
          "output_type": "display_data",
          "data": {
            "image/png": "[encoded data removed]",
            "text/plain": [
              "<Figure size 1080x360 with 1 Axes>"
            ]
          },
          "metadata": {
            "needs_background": "light"
          }
        }
      ]
    },
    {
      "cell_type": "markdown",
      "source": [
        "### Построение PRC-кривой"
      ],
      "metadata": {
        "id": "eXHegqMl6cNC"
      }
    },
    {
      "cell_type": "code",
      "source": [
        "fig, ax = plt.subplots(figsize=(15, 5))\n",
        "\n",
        "\n",
        "sklearn.metrics.plot_precision_recall_curve(model, X_test, y_test, ax=ax, lw = 3)\n",
        "\n",
        "plt.xlim([0.0, 1.0])\n",
        "plt.ylim([0.6, 1.05])\n",
        "plt.xticks(fontsize=16)\n",
        "plt.yticks(fontsize=16)\n",
        "plt.grid(True)\n",
        "plt.xlabel('Recall', fontsize=16)\n",
        "plt.ylabel('Precision', fontsize=16)\n",
        "plt.title('PRC', fontsize=24)\n",
        "\n",
        "plt.show()"
      ],
      "metadata": {
        "id": "Gfh8lu8_ldpw",
        "colab": {
          "base_uri": "https://localhost:8080/",
          "height": 424
        },
        "outputId": "70888083-bbd1-456f-ef66-10afbfc7512d"
      },
      "execution_count": null,
      "outputs": [
        {
          "output_type": "stream",
          "name": "stderr",
          "text": [
            "/usr/local/lib/python3.7/dist-packages/sklearn/utils/deprecation.py:87: FutureWarning: Function plot_precision_recall_curve is deprecated; Function `plot_precision_recall_curve` is deprecated in 1.0 and will be removed in 1.2. Use one of the class methods: PrecisionRecallDisplay.from_predictions or PrecisionRecallDisplay.from_estimator.\n",
            "  warnings.warn(msg, category=FutureWarning)\n"
          ]
        },
        {
          "output_type": "display_data",
          "data": {
            "image/png": "[encoded data removed]",
            "text/plain": [
              "<Figure size 1080x360 with 1 Axes>"
            ]
          },
          "metadata": {
            "needs_background": "light"
          }
        }
      ]
    },
    {
      "cell_type": "code",
      "source": [
        "#RPC AUC\n",
        "s = sklearn.metrics.average_precision_score(pd.factorize(y_test)[0], model.predict_proba(X_test)[:,0]) \n",
        "print('RPC-AUC: ' + str(s))"
      ],
      "metadata": {
        "id": "onbC9BUulfFZ",
        "colab": {
          "base_uri": "https://localhost:8080/"
        },
        "outputId": "2fc2d294-73c7-417b-8326-4c59bd5f5676"
      },
      "execution_count": null,
      "outputs": [
        {
          "output_type": "stream",
          "name": "stdout",
          "text": [
            "RPC-AUC: 0.9213305046695979\n"
          ]
        }
      ]
    }
  ]
}