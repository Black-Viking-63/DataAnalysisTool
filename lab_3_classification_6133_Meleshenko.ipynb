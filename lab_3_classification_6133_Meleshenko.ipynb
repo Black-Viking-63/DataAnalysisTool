{
  "nbformat": 4,
  "nbformat_minor": 0,
  "metadata": {
    "colab": {
      "name": "lab_3_classification_6133_Мелешенко.ipynb",
      "provenance": []
    },
    "kernelspec": {
      "name": "python3",
      "display_name": "Python 3"
    },
    "language_info": {
      "name": "python"
    }
  },
  "cells": [
    {
      "cell_type": "markdown",
      "source": [
        "# Лабораторная работа №3 по курсу \"Интеллектуальный анализ данных\"."
      ],
      "metadata": {
        "id": "ApFfrTgt9yET"
      }
    },
    {
      "cell_type": "markdown",
      "source": [
        "Лабораторная работа №3 \"Классификация в sklearn. Метрики классификации\".<br>\n",
        "Выполнил студент группы 6133-010402 Мелешенко Иван."
      ],
      "metadata": {
        "id": "VrVFkU5Z-FUs"
      }
    },
    {
      "cell_type": "markdown",
      "source": [
        "# [**Задание на лабораторную работу.**](https://github.com/kvvik/DS_SamU/blob/main/tasks/lab_3_classification_groupNumber_SecondName.ipynb)"
      ],
      "metadata": {
        "id": "ow8Zo7MT-MER"
      }
    },
    {
      "cell_type": "markdown",
      "source": [
        "## ***Задание 1.***<br>Выберите наборы данных, подходящие для многоклассовой и бинарной классификации.<br>\n",
        "\n",
        "Произвести описание данные. В общем, провести \"визуальный\" анализ данных.\n",
        "\n",
        "---\n",
        "\n",
        "## ***Задание 2.***<br>Многоклассовая классификация<br>\n",
        "\n",
        "* 1.1. На любом датасете продемонстрировать многоклассовую классификацию с помощью ЛЮБОГО алгоритма. Оценить accuracy.\n",
        "\n",
        "* 1.2. То же самое с использованием кросс-валидации\n",
        "\n",
        "* 1.3. Поиграться с гиперпараметром, связанным со сложностью модели (в случае kNN — k_neighbours) и построить график accuracy для train set и test_set для разных значений гиперпараметра (в лекции есть пример построения подобного графика для kNN и датасета cancer, но можно строить как угодно такой график)\n",
        "\n",
        "* 1.4. Построить confusion matrix (это вроде матрицы TN / TP/ FN/ FP, только расширенной для многоклассовой классификации, чтобы понять в какие стороны чаще ошибается классификатор). (пример):\n",
        "\n",
        "---\n",
        "\n",
        "## ***Задание 3.***<br>Бинарная классификация<br>\n",
        "\n",
        "На любом (но уже другом, бинарном) датасете продемонстрировать бинарную классификацию (можно использовать любой алгоритм), посчитать метрики: accuracy, precision, recall, f-measure, а также составить classification_report\n",
        "\n",
        "---\n",
        "\n",
        "## ***Задание 4.***<br>Нормализация признаков <br>\n",
        "\n",
        "Использование нормализации признаков в обоих задачах (бинарной и многоклассовой классификации) попробовать также вариант с предварительной нормализацией признаков (StandardScalerили MinMaxScaler). Оценить метрики качества в случае с нормализованными признаками и ненормализованными."
      ],
      "metadata": {
        "id": "3pW4I2CQ-PP5"
      }
    },
    {
      "cell_type": "markdown",
      "source": [
        "# Выполнение заданий лабораторной работы"
      ],
      "metadata": {
        "id": "1-Khap18_REi"
      }
    },
    {
      "cell_type": "markdown",
      "source": [
        "## Этап 0. Загрузка библиотек. Подключение Google Drive."
      ],
      "metadata": {
        "id": "BlsEbcd__Utp"
      }
    },
    {
      "cell_type": "markdown",
      "source": [
        "Подключим необхоимые для работы библиотеки."
      ],
      "metadata": {
        "id": "1YoUEMCW_mAJ"
      }
    },
    {
      "cell_type": "code",
      "source": [
        "import pandas as pd\n",
        "import numpy as np\n",
        "import matplotlib.pyplot as plt \n",
        "import seaborn as sns \n",
        "sns.set_style(\"darkgrid\")\n",
        "\n",
        "from sklearn.model_selection import StratifiedKFold\n",
        "from sklearn.model_selection import GridSearchCV\n",
        "from sklearn.model_selection import train_test_split\n",
        "from sklearn.metrics import classification_report,confusion_matrix\n",
        "from sklearn.tree import DecisionTreeClassifier\n",
        "from sklearn.model_selection import cross_val_score\n",
        "\n",
        "import warnings\n",
        "import sys  \n",
        "if not sys.warnoptions:\n",
        "    warnings.simplefilter(\"ignore\")"
      ],
      "metadata": {
        "id": "c7iRAgpX_fQE"
      },
      "execution_count": 1,
      "outputs": []
    },
    {
      "cell_type": "markdown",
      "source": [
        "Смонтируем образ Google диска для ускоренной и упрощенной загрузки файл в программу."
      ],
      "metadata": {
        "id": "7ImNcmbG_pM5"
      }
    },
    {
      "cell_type": "code",
      "source": [
        "from google.colab import drive\n",
        "drive.mount('/content/drive')"
      ],
      "metadata": {
        "colab": {
          "base_uri": "https://localhost:8080/"
        },
        "id": "lYS1e_J7_i6R",
        "outputId": "0d9419e6-bfb6-4d57-cd4b-a99295d69b9a"
      },
      "execution_count": 2,
      "outputs": [
        {
          "output_type": "stream",
          "name": "stdout",
          "text": [
            "Mounted at /content/drive\n"
          ]
        }
      ]
    },
    {
      "cell_type": "markdown",
      "source": [
        "## Этап 1. Многоклассовая классификация. Классификация при помощи решающего дерева."
      ],
      "metadata": {
        "id": "b69YbUukDzpK"
      }
    },
    {
      "cell_type": "markdown",
      "source": [
        "### Загрузка данных"
      ],
      "metadata": {
        "id": "GCdCmiUjTmwi"
      }
    },
    {
      "cell_type": "markdown",
      "source": [
        "Загрузка данных из файла в качестве набора данных используется этот [Dataset](https://www.kaggle.com/rajyellow46/wine-quality)."
      ],
      "metadata": {
        "id": "N-9BUG6QSKB9"
      }
    },
    {
      "cell_type": "code",
      "source": [
        "wine_data = pd.read_csv('/content/drive/MyDrive/datasets/winequalityN.csv')"
      ],
      "metadata": {
        "id": "HxjaGo9cD0vi"
      },
      "execution_count": 3,
      "outputs": []
    },
    {
      "cell_type": "markdown",
      "source": [
        "Просмотрим загруженные данные."
      ],
      "metadata": {
        "id": "2bbZaXi-SPld"
      }
    },
    {
      "cell_type": "code",
      "source": [
        "wine_data.head(10)"
      ],
      "metadata": {
        "colab": {
          "base_uri": "https://localhost:8080/",
          "height": 363
        },
        "id": "hM9xJzUiEjVj",
        "outputId": "9b1d7dc8-a338-428d-d3ec-97571784baa3"
      },
      "execution_count": 4,
      "outputs": [
        {
          "output_type": "execute_result",
          "data": {
            "text/html": [
              "\n",
              "  <div id=\"df-171f72d4-8b4a-4ade-be76-73b0e7eefe5b\">\n",
              "    <div class=\"colab-df-container\">\n",
              "      <div>\n",
              "<style scoped>\n",
              "    .dataframe tbody tr th:only-of-type {\n",
              "        vertical-align: middle;\n",
              "    }\n",
              "\n",
              "    .dataframe tbody tr th {\n",
              "        vertical-align: top;\n",
              "    }\n",
              "\n",
              "    .dataframe thead th {\n",
              "        text-align: right;\n",
              "    }\n",
              "</style>\n",
              "<table border=\"1\" class=\"dataframe\">\n",
              "  <thead>\n",
              "    <tr style=\"text-align: right;\">\n",
              "      <th></th>\n",
              "      <th>type</th>\n",
              "      <th>fixed acidity</th>\n",
              "      <th>volatile acidity</th>\n",
              "      <th>citric acid</th>\n",
              "      <th>residual sugar</th>\n",
              "      <th>chlorides</th>\n",
              "      <th>free sulfur dioxide</th>\n",
              "      <th>total sulfur dioxide</th>\n",
              "      <th>density</th>\n",
              "      <th>pH</th>\n",
              "      <th>sulphates</th>\n",
              "      <th>alcohol</th>\n",
              "      <th>quality</th>\n",
              "    </tr>\n",
              "  </thead>\n",
              "  <tbody>\n",
              "    <tr>\n",
              "      <th>0</th>\n",
              "      <td>white</td>\n",
              "      <td>7.0</td>\n",
              "      <td>0.27</td>\n",
              "      <td>0.36</td>\n",
              "      <td>20.7</td>\n",
              "      <td>0.045</td>\n",
              "      <td>45.0</td>\n",
              "      <td>170.0</td>\n",
              "      <td>1.0010</td>\n",
              "      <td>3.00</td>\n",
              "      <td>0.45</td>\n",
              "      <td>8.8</td>\n",
              "      <td>6</td>\n",
              "    </tr>\n",
              "    <tr>\n",
              "      <th>1</th>\n",
              "      <td>white</td>\n",
              "      <td>6.3</td>\n",
              "      <td>0.30</td>\n",
              "      <td>0.34</td>\n",
              "      <td>1.6</td>\n",
              "      <td>0.049</td>\n",
              "      <td>14.0</td>\n",
              "      <td>132.0</td>\n",
              "      <td>0.9940</td>\n",
              "      <td>3.30</td>\n",
              "      <td>0.49</td>\n",
              "      <td>9.5</td>\n",
              "      <td>6</td>\n",
              "    </tr>\n",
              "    <tr>\n",
              "      <th>2</th>\n",
              "      <td>white</td>\n",
              "      <td>8.1</td>\n",
              "      <td>0.28</td>\n",
              "      <td>0.40</td>\n",
              "      <td>6.9</td>\n",
              "      <td>0.050</td>\n",
              "      <td>30.0</td>\n",
              "      <td>97.0</td>\n",
              "      <td>0.9951</td>\n",
              "      <td>3.26</td>\n",
              "      <td>0.44</td>\n",
              "      <td>10.1</td>\n",
              "      <td>6</td>\n",
              "    </tr>\n",
              "    <tr>\n",
              "      <th>3</th>\n",
              "      <td>white</td>\n",
              "      <td>7.2</td>\n",
              "      <td>0.23</td>\n",
              "      <td>0.32</td>\n",
              "      <td>8.5</td>\n",
              "      <td>0.058</td>\n",
              "      <td>47.0</td>\n",
              "      <td>186.0</td>\n",
              "      <td>0.9956</td>\n",
              "      <td>3.19</td>\n",
              "      <td>0.40</td>\n",
              "      <td>9.9</td>\n",
              "      <td>6</td>\n",
              "    </tr>\n",
              "    <tr>\n",
              "      <th>4</th>\n",
              "      <td>white</td>\n",
              "      <td>7.2</td>\n",
              "      <td>0.23</td>\n",
              "      <td>0.32</td>\n",
              "      <td>8.5</td>\n",
              "      <td>0.058</td>\n",
              "      <td>47.0</td>\n",
              "      <td>186.0</td>\n",
              "      <td>0.9956</td>\n",
              "      <td>3.19</td>\n",
              "      <td>0.40</td>\n",
              "      <td>9.9</td>\n",
              "      <td>6</td>\n",
              "    </tr>\n",
              "    <tr>\n",
              "      <th>5</th>\n",
              "      <td>white</td>\n",
              "      <td>8.1</td>\n",
              "      <td>0.28</td>\n",
              "      <td>0.40</td>\n",
              "      <td>6.9</td>\n",
              "      <td>0.050</td>\n",
              "      <td>30.0</td>\n",
              "      <td>97.0</td>\n",
              "      <td>0.9951</td>\n",
              "      <td>3.26</td>\n",
              "      <td>0.44</td>\n",
              "      <td>10.1</td>\n",
              "      <td>6</td>\n",
              "    </tr>\n",
              "    <tr>\n",
              "      <th>6</th>\n",
              "      <td>white</td>\n",
              "      <td>6.2</td>\n",
              "      <td>0.32</td>\n",
              "      <td>0.16</td>\n",
              "      <td>7.0</td>\n",
              "      <td>0.045</td>\n",
              "      <td>30.0</td>\n",
              "      <td>136.0</td>\n",
              "      <td>0.9949</td>\n",
              "      <td>3.18</td>\n",
              "      <td>0.47</td>\n",
              "      <td>9.6</td>\n",
              "      <td>6</td>\n",
              "    </tr>\n",
              "    <tr>\n",
              "      <th>7</th>\n",
              "      <td>white</td>\n",
              "      <td>7.0</td>\n",
              "      <td>0.27</td>\n",
              "      <td>0.36</td>\n",
              "      <td>20.7</td>\n",
              "      <td>0.045</td>\n",
              "      <td>45.0</td>\n",
              "      <td>170.0</td>\n",
              "      <td>1.0010</td>\n",
              "      <td>3.00</td>\n",
              "      <td>0.45</td>\n",
              "      <td>8.8</td>\n",
              "      <td>6</td>\n",
              "    </tr>\n",
              "    <tr>\n",
              "      <th>8</th>\n",
              "      <td>white</td>\n",
              "      <td>6.3</td>\n",
              "      <td>0.30</td>\n",
              "      <td>0.34</td>\n",
              "      <td>1.6</td>\n",
              "      <td>0.049</td>\n",
              "      <td>14.0</td>\n",
              "      <td>132.0</td>\n",
              "      <td>0.9940</td>\n",
              "      <td>3.30</td>\n",
              "      <td>0.49</td>\n",
              "      <td>9.5</td>\n",
              "      <td>6</td>\n",
              "    </tr>\n",
              "    <tr>\n",
              "      <th>9</th>\n",
              "      <td>white</td>\n",
              "      <td>8.1</td>\n",
              "      <td>0.22</td>\n",
              "      <td>0.43</td>\n",
              "      <td>1.5</td>\n",
              "      <td>0.044</td>\n",
              "      <td>28.0</td>\n",
              "      <td>129.0</td>\n",
              "      <td>0.9938</td>\n",
              "      <td>3.22</td>\n",
              "      <td>0.45</td>\n",
              "      <td>11.0</td>\n",
              "      <td>6</td>\n",
              "    </tr>\n",
              "  </tbody>\n",
              "</table>\n",
              "</div>\n",
              "      <button class=\"colab-df-convert\" onclick=\"convertToInteractive('df-171f72d4-8b4a-4ade-be76-73b0e7eefe5b')\"\n",
              "              title=\"Convert this dataframe to an interactive table.\"\n",
              "              style=\"display:none;\">\n",
              "        \n",
              "  <svg xmlns=\"http://www.w3.org/2000/svg\" height=\"24px\"viewBox=\"0 0 24 24\"\n",
              "       width=\"24px\">\n",
              "    <path d=\"M0 0h24v24H0V0z\" fill=\"none\"/>\n",
              "    <path d=\"M18.56 5.44l.94 2.06.94-2.06 2.06-.94-2.06-.94-.94-2.06-.94 2.06-2.06.94zm-11 1L8.5 8.5l.94-2.06 2.06-.94-2.06-.94L8.5 2.5l-.94 2.06-2.06.94zm10 10l.94 2.06.94-2.06 2.06-.94-2.06-.94-.94-2.06-.94 2.06-2.06.94z\"/><path d=\"M17.41 7.96l-1.37-1.37c-.4-.4-.92-.59-1.43-.59-.52 0-1.04.2-1.43.59L10.3 9.45l-7.72 7.72c-.78.78-.78 2.05 0 2.83L4 21.41c.39.39.9.59 1.41.59.51 0 1.02-.2 1.41-.59l7.78-7.78 2.81-2.81c.8-.78.8-2.07 0-2.86zM5.41 20L4 18.59l7.72-7.72 1.47 1.35L5.41 20z\"/>\n",
              "  </svg>\n",
              "      </button>\n",
              "      \n",
              "  <style>\n",
              "    .colab-df-container {\n",
              "      display:flex;\n",
              "      flex-wrap:wrap;\n",
              "      gap: 12px;\n",
              "    }\n",
              "\n",
              "    .colab-df-convert {\n",
              "      background-color: #E8F0FE;\n",
              "      border: none;\n",
              "      border-radius: 50%;\n",
              "      cursor: pointer;\n",
              "      display: none;\n",
              "      fill: #1967D2;\n",
              "      height: 32px;\n",
              "      padding: 0 0 0 0;\n",
              "      width: 32px;\n",
              "    }\n",
              "\n",
              "    .colab-df-convert:hover {\n",
              "      background-color: #E2EBFA;\n",
              "      box-shadow: 0px 1px 2px rgba(60, 64, 67, 0.3), 0px 1px 3px 1px rgba(60, 64, 67, 0.15);\n",
              "      fill: #174EA6;\n",
              "    }\n",
              "\n",
              "    [theme=dark] .colab-df-convert {\n",
              "      background-color: #3B4455;\n",
              "      fill: #D2E3FC;\n",
              "    }\n",
              "\n",
              "    [theme=dark] .colab-df-convert:hover {\n",
              "      background-color: #434B5C;\n",
              "      box-shadow: 0px 1px 3px 1px rgba(0, 0, 0, 0.15);\n",
              "      filter: drop-shadow(0px 1px 2px rgba(0, 0, 0, 0.3));\n",
              "      fill: #FFFFFF;\n",
              "    }\n",
              "  </style>\n",
              "\n",
              "      <script>\n",
              "        const buttonEl =\n",
              "          document.querySelector('#df-171f72d4-8b4a-4ade-be76-73b0e7eefe5b button.colab-df-convert');\n",
              "        buttonEl.style.display =\n",
              "          google.colab.kernel.accessAllowed ? 'block' : 'none';\n",
              "\n",
              "        async function convertToInteractive(key) {\n",
              "          const element = document.querySelector('#df-171f72d4-8b4a-4ade-be76-73b0e7eefe5b');\n",
              "          const dataTable =\n",
              "            await google.colab.kernel.invokeFunction('convertToInteractive',\n",
              "                                                     [key], {});\n",
              "          if (!dataTable) return;\n",
              "\n",
              "          const docLinkHtml = 'Like what you see? Visit the ' +\n",
              "            '<a target=\"_blank\" href=https://colab.research.google.com/notebooks/data_table.ipynb>data table notebook</a>'\n",
              "            + ' to learn more about interactive tables.';\n",
              "          element.innerHTML = '';\n",
              "          dataTable['output_type'] = 'display_data';\n",
              "          await google.colab.output.renderOutput(dataTable, element);\n",
              "          const docLink = document.createElement('div');\n",
              "          docLink.innerHTML = docLinkHtml;\n",
              "          element.appendChild(docLink);\n",
              "        }\n",
              "      </script>\n",
              "    </div>\n",
              "  </div>\n",
              "  "
            ],
            "text/plain": [
              "    type  fixed acidity  volatile acidity  ...  sulphates  alcohol  quality\n",
              "0  white            7.0              0.27  ...       0.45      8.8        6\n",
              "1  white            6.3              0.30  ...       0.49      9.5        6\n",
              "2  white            8.1              0.28  ...       0.44     10.1        6\n",
              "3  white            7.2              0.23  ...       0.40      9.9        6\n",
              "4  white            7.2              0.23  ...       0.40      9.9        6\n",
              "5  white            8.1              0.28  ...       0.44     10.1        6\n",
              "6  white            6.2              0.32  ...       0.47      9.6        6\n",
              "7  white            7.0              0.27  ...       0.45      8.8        6\n",
              "8  white            6.3              0.30  ...       0.49      9.5        6\n",
              "9  white            8.1              0.22  ...       0.45     11.0        6\n",
              "\n",
              "[10 rows x 13 columns]"
            ]
          },
          "metadata": {},
          "execution_count": 4
        }
      ]
    },
    {
      "cell_type": "markdown",
      "source": [
        "### Описание данных"
      ],
      "metadata": {
        "id": "7QGclo1zhWcJ"
      }
    },
    {
      "cell_type": "markdown",
      "source": [
        "***Небольшая ремарка:***<br>\n",
        "*Эти два набора данных относятся к красному и белому вариантам португальского вина \"Винью Верде\". Ссылка [Cortez et al., 2009]. Из-за проблем с конфиденциальностью и логистики доступны только физико-химические (исходные) и сенсорные (выходные) переменные (например, нет данных о сортах винограда, марке вина, цене продажи вина и т. д.).<br>Эти наборы данных можно рассматривать как задачи классификации или регрессии. Классы упорядочены и не сбалансированы (например, нормальных вин потребляют больше, чем отличных или плохих). Алгоритмы обнаружения посторонних элементов могут использоваться для обнаружения нескольких отличных или плохих вин.*\n",
        "<br>"
      ],
      "metadata": {
        "id": "L-bSdFJgTuUw"
      }
    },
    {
      "cell_type": "markdown",
      "source": [
        "Набор атрибутов:\n",
        "\n",
        "Тип вина\n",
        "* fixed acidity - фиксированная кислотность\n",
        "* volatile acidity - летучая кислотность\n",
        "* citric acid - лимонная кислота\n",
        "* residual sugar - остаточный сахар\n",
        "* chlorides - хлориды\n",
        "* free sulfur dioxide - свободный диоксид серы\n",
        "* total sulfur dioxide - общий диоксид серы\n",
        "* density - плотнось\n",
        "* pH - водородный показатель\n",
        "* sulphates - сульфаты\n",
        "* alcohol - степень содержания алкоголя\n",
        "* quality - оценка (от 0 до 10)"
      ],
      "metadata": {
        "id": "F0DMA2mJhUgC"
      }
    },
    {
      "cell_type": "markdown",
      "source": [
        "### Обработка данных."
      ],
      "metadata": {
        "id": "FHm6ymgig4vB"
      }
    },
    {
      "cell_type": "markdown",
      "source": [
        "#### Балансировка целевой переменной (качество):"
      ],
      "metadata": {
        "id": "Get2Jy6khLbl"
      }
    },
    {
      "cell_type": "code",
      "source": [
        "fig, ax = plt.subplots(figsize=(25,5))\n",
        "sns.countplot(wine_data['quality'], palette='winter')\n",
        "ax.set(title='Значения качества вин')\n",
        "plt.show()"
      ],
      "metadata": {
        "colab": {
          "base_uri": "https://localhost:8080/",
          "height": 405
        },
        "id": "-xUohTD4E506",
        "outputId": "79f3e3da-922e-45e4-815e-9eaa3579b2ad"
      },
      "execution_count": 5,
      "outputs": [
        {
          "output_type": "stream",
          "name": "stderr",
          "text": [
            "/usr/local/lib/python3.7/dist-packages/seaborn/_decorators.py:43: FutureWarning: Pass the following variable as a keyword arg: x. From version 0.12, the only valid positional argument will be `data`, and passing other arguments without an explicit keyword will result in an error or misinterpretation.\n",
            "  FutureWarning\n"
          ]
        },
        {
          "output_type": "display_data",
          "data": {
            "image/png": "[encoded data removed]",
            "text/plain": [
              "<Figure size 1800x360 with 1 Axes>"
            ]
          },
          "metadata": {
            "needs_background": "light"
          }
        }
      ]
    },
    {
      "cell_type": "markdown",
      "source": [
        "#### Проверка пропущенных значений."
      ],
      "metadata": {
        "id": "tm-zrRgGjZes"
      }
    },
    {
      "cell_type": "code",
      "source": [
        "wine_data.isna().sum()"
      ],
      "metadata": {
        "colab": {
          "base_uri": "https://localhost:8080/"
        },
        "id": "dPE1rEIyE8EC",
        "outputId": "6cf1d108-1b25-46d2-f850-ad128c5549f5"
      },
      "execution_count": 6,
      "outputs": [
        {
          "output_type": "execute_result",
          "data": {
            "text/plain": [
              "type                     0\n",
              "fixed acidity           10\n",
              "volatile acidity         8\n",
              "citric acid              3\n",
              "residual sugar           2\n",
              "chlorides                2\n",
              "free sulfur dioxide      0\n",
              "total sulfur dioxide     0\n",
              "density                  0\n",
              "pH                       9\n",
              "sulphates                4\n",
              "alcohol                  0\n",
              "quality                  0\n",
              "dtype: int64"
            ]
          },
          "metadata": {},
          "execution_count": 6
        }
      ]
    },
    {
      "cell_type": "markdown",
      "source": [
        "#### Переименуем для удобства работы названия столбцов."
      ],
      "metadata": {
        "id": "cIQE9_ixjfky"
      }
    },
    {
      "cell_type": "code",
      "source": [
        "wine_data = wine_data.rename(columns={\n",
        "    'fixed acidity': 'f_acid', \n",
        "    'volatile acidity': 'v_acid', \n",
        "    'citric acid': 'c_acid', \n",
        "    'residual sugar': 'r_sugar',\n",
        "    'free sulfur dioxide': 'f_s_dioxide',\n",
        "    'total sulfur dioxide': 't_s_dioxide'})"
      ],
      "metadata": {
        "id": "GQSHYpHHE-kT"
      },
      "execution_count": 7,
      "outputs": []
    },
    {
      "cell_type": "markdown",
      "source": [
        "#### Заполним пропущенные значения."
      ],
      "metadata": {
        "id": "GuT42qSRjlCL"
      }
    },
    {
      "cell_type": "code",
      "source": [
        "wine_data.f_acid = wine_data.f_acid.fillna(wine_data.f_acid.mean())\n",
        "wine_data.v_acid = wine_data.v_acid.fillna(wine_data.v_acid.mean())\n",
        "wine_data.c_acid = wine_data.c_acid.fillna(wine_data.c_acid.mean())\n",
        "wine_data.r_sugar = wine_data.r_sugar.fillna(wine_data.r_sugar.mean())\n",
        "wine_data.chlorides = wine_data.chlorides.fillna(wine_data.chlorides.mean())\n",
        "wine_data.pH = wine_data.pH.fillna(wine_data.pH.mean())\n",
        "wine_data.sulphates = wine_data.sulphates.fillna(wine_data.sulphates.mean())"
      ],
      "metadata": {
        "id": "431EReKIFILC"
      },
      "execution_count": 8,
      "outputs": []
    },
    {
      "cell_type": "markdown",
      "source": [
        "#### Контрольная проверка пропущенных значений."
      ],
      "metadata": {
        "id": "cwEJ_l2DjxOx"
      }
    },
    {
      "cell_type": "code",
      "source": [
        "wine_data.isna().sum()"
      ],
      "metadata": {
        "colab": {
          "base_uri": "https://localhost:8080/"
        },
        "id": "Qi6Vi8QvFKSa",
        "outputId": "9afce1c3-7e61-4165-b633-bbf0fd0afa07"
      },
      "execution_count": 9,
      "outputs": [
        {
          "output_type": "execute_result",
          "data": {
            "text/plain": [
              "type           0\n",
              "f_acid         0\n",
              "v_acid         0\n",
              "c_acid         0\n",
              "r_sugar        0\n",
              "chlorides      0\n",
              "f_s_dioxide    0\n",
              "t_s_dioxide    0\n",
              "density        0\n",
              "pH             0\n",
              "sulphates      0\n",
              "alcohol        0\n",
              "quality        0\n",
              "dtype: int64"
            ]
          },
          "metadata": {},
          "execution_count": 9
        }
      ]
    },
    {
      "cell_type": "markdown",
      "source": [
        "#### Посмотрим корреляцию между признаками:"
      ],
      "metadata": {
        "id": "LTXBO8uZiXc0"
      }
    },
    {
      "cell_type": "code",
      "source": [
        "wine_features = {\n",
        "    'type': wine_data['type'],\n",
        "    'fix_acid': wine_data['f_acid'],\n",
        "    'vol_acid': wine_data['v_acid'],\n",
        "    'cit_acid': wine_data['c_acid'],\n",
        "    'resid_sugar': wine_data['r_sugar'],\n",
        "    'chlorides': wine_data['chlorides'],\n",
        "    'fsd': wine_data['f_s_dioxide'],\n",
        "    'tsd': wine_data['t_s_dioxide'],\n",
        "    'density': wine_data['density'],\n",
        "    'pH': wine_data['pH'],\n",
        "    'sulphates': wine_data['sulphates'],\n",
        "    'quality': wine_data['quality']\n",
        "}\n",
        "\n",
        "wine_features = pd.DataFrame.from_dict(wine_features)\n",
        "wine_features['type'] = wine_features['type'].astype('category').cat.codes\n",
        "wine_features['quality'] = wine_features['quality'].astype('category').cat.codes\n",
        "wine_features['pH'] = wine_features['pH'].astype('category').cat.codes\n",
        "\n",
        "corr = wine_features.corr(method='spearman')\n",
        "mask = np.zeros_like(corr, dtype=np.bool)\n",
        "mask[np.triu_indices_from(mask)] = True\n",
        "f, ax = plt.subplots(figsize=(10, 10))\n",
        "cmap = sns.diverging_palette(220, 10, 30, as_cmap=True)\n",
        "sns.heatmap(corr, \n",
        "            mask=mask, \n",
        "            cmap=cmap, \n",
        "            square=True, \n",
        "            linewidths=.5, \n",
        "            cbar_kws={\"shrink\": .5},\n",
        "            annot=True)\n",
        "plt.show()"
      ],
      "metadata": {
        "colab": {
          "base_uri": "https://localhost:8080/",
          "height": 597
        },
        "id": "1KOsYMhzFMqx",
        "outputId": "fe0c416d-fea6-44e6-8bf2-7bcbcc340421"
      },
      "execution_count": 10,
      "outputs": [
        {
          "output_type": "stream",
          "name": "stderr",
          "text": [
            "/usr/local/lib/python3.7/dist-packages/ipykernel_launcher.py:22: DeprecationWarning: `np.bool` is a deprecated alias for the builtin `bool`. To silence this warning, use `bool` by itself. Doing this will not modify any behavior and is safe. If you specifically wanted the numpy scalar type, use `np.bool_` here.\n",
            "Deprecated in NumPy 1.20; for more details and guidance: https://numpy.org/devdocs/release/1.20.0-notes.html#deprecations\n"
          ]
        },
        {
          "output_type": "display_data",
          "data": {
            "image/png": "[encoded data removed]",
            "text/plain": [
              "<Figure size 720x720 with 2 Axes>"
            ]
          },
          "metadata": {
            "needs_background": "light"
          }
        }
      ]
    },
    {
      "cell_type": "markdown",
      "source": [
        "Из графика очевидно, что целевая переменная хорошо коррелирует с признаками fsd, fix_acid и удовлетворительно коррелирует с признаком tsd."
      ],
      "metadata": {
        "id": "lOf-rxkoiwRW"
      }
    },
    {
      "cell_type": "markdown",
      "source": [
        "### Описание функций для поиска гиперпараметров и вывода результатов."
      ],
      "metadata": {
        "id": "jUnVK3Rej7S9"
      }
    },
    {
      "cell_type": "code",
      "source": [
        "# параметры для дерева решений\n",
        "params = dict(max_depth = np.linspace(1, 32, 32, endpoint=True), \n",
        "                      min_samples_split = np.linspace(0.01, 0.1, 10, endpoint=True),\n",
        "                      min_samples_leaf = np.linspace(0.01, 0.1, 10, endpoint=True)\n",
        "                      )\n",
        "\n",
        "# поиск лучших гиперпараметров\n",
        "def do_grid_search(model,params, x_train, y_train, x_test, refit='accuracy'):\n",
        "    cv = StratifiedKFold(n_splits=5, random_state=42, shuffle=True)\n",
        "    grid_search = GridSearchCV(model, params, scoring=['accuracy'], \n",
        "                                n_jobs=4, cv=cv, verbose=3, refit=refit) \n",
        "    grid_search.fit(x_train.values, y_train.values)\n",
        "    y_pred = grid_search.predict(x_test.values)\n",
        "    print('Best params for {}'.format(refit))\n",
        "    print(grid_search.best_params_)\n",
        "\n",
        "# вывод результата\n",
        "def print_result(y_test, pred=None):\n",
        "  print(\"результат классификации: \\n\", classification_report(y_test, pred))\n",
        "  conf_matrix = confusion_matrix(y_test, pred)\n",
        "  print(\"Матрица ошибок: \\n\", conf_matrix, \"\\n\")\n",
        "  sns.heatmap(conf_matrix, cmap = cmap, annot=True)\n",
        "  plt.show()"
      ],
      "metadata": {
        "id": "M2pWsVePFe7a"
      },
      "execution_count": 11,
      "outputs": []
    },
    {
      "cell_type": "markdown",
      "source": [
        "### Разделение данных на обучающую и тестовую выборки."
      ],
      "metadata": {
        "id": "8MB9Y1UTkUYV"
      }
    },
    {
      "cell_type": "code",
      "source": [
        "X_train, X_test, y_train, y_test = train_test_split(wine_features.drop('quality',axis=1), wine_features['quality'], test_size=0.6, random_state=42)"
      ],
      "metadata": {
        "id": "n734EnZVFiLa"
      },
      "execution_count": 12,
      "outputs": []
    },
    {
      "cell_type": "markdown",
      "source": [
        "### Классификация без настройки гиперпараметров"
      ],
      "metadata": {
        "id": "1z29U1TPkgX9"
      }
    },
    {
      "cell_type": "code",
      "source": [
        "dtree = DecisionTreeClassifier(random_state=42)\n",
        "dtree.fit(X_train, y_train)\n",
        "predictions = dtree.predict(X_test)\n",
        "\n",
        "print_result(y_test=y_test, pred=predictions)\n",
        "score = cross_val_score(dtree, X_train, y_train, cv=5, scoring='accuracy')\n",
        "print('Средняя точность без настройки гиперпараметров: ', np.mean(score))"
      ],
      "metadata": {
        "colab": {
          "base_uri": "https://localhost:8080/",
          "height": 734
        },
        "id": "2lieznRgFkKD",
        "outputId": "e4d16889-4161-4d70-9635-848aabd4aaaf"
      },
      "execution_count": 13,
      "outputs": [
        {
          "output_type": "stream",
          "name": "stdout",
          "text": [
            "результат классификации: \n",
            "               precision    recall  f1-score   support\n",
            "\n",
            "           0       0.00      0.00      0.00        13\n",
            "           1       0.18      0.11      0.14       136\n",
            "           2       0.57      0.56      0.56      1283\n",
            "           3       0.57      0.58      0.57      1694\n",
            "           4       0.47      0.48      0.47       656\n",
            "           5       0.27      0.28      0.27       116\n",
            "           6       0.00      0.00      0.00         1\n",
            "\n",
            "    accuracy                           0.53      3899\n",
            "   macro avg       0.29      0.29      0.29      3899\n",
            "weighted avg       0.52      0.53      0.53      3899\n",
            "\n",
            "Матрица ошибок: \n",
            " [[  0   0   7   5   1   0   0]\n",
            " [  2  15  61  49   7   2   0]\n",
            " [  9  33 721 433  71  15   1]\n",
            " [ 10  25 392 976 250  40   1]\n",
            " [  1   7  72 234 313  28   1]\n",
            " [  1   2  22  30  29  32   0]\n",
            " [  0   0   0   0   1   0   0]] \n",
            "\n"
          ]
        },
        {
          "output_type": "display_data",
          "data": {
            "image/png": "[encoded data removed]",
            "text/plain": [
              "<Figure size 432x288 with 2 Axes>"
            ]
          },
          "metadata": {
            "needs_background": "light"
          }
        },
        {
          "output_type": "stream",
          "name": "stdout",
          "text": [
            "Средняя точность без настройки гиперпараметров:  0.49846376167185413\n"
          ]
        },
        {
          "output_type": "stream",
          "name": "stderr",
          "text": [
            "/usr/local/lib/python3.7/dist-packages/sklearn/model_selection/_split.py:680: UserWarning: The least populated class in y has only 4 members, which is less than n_splits=5.\n",
            "  UserWarning,\n"
          ]
        }
      ]
    },
    {
      "cell_type": "markdown",
      "source": [
        "Точность низковата, предположим что настройка гиперпараметров даст улучшение."
      ],
      "metadata": {
        "id": "BldEnpR-41WT"
      }
    },
    {
      "cell_type": "markdown",
      "source": [
        "### Классификация с настройкой гиперпараметров"
      ],
      "metadata": {
        "id": "cJMgCSv3kw6d"
      }
    },
    {
      "cell_type": "code",
      "source": [
        "do_grid_search(model=dtree,  params=params, x_train=X_train, y_train=y_train, x_test=X_test)"
      ],
      "metadata": {
        "colab": {
          "base_uri": "https://localhost:8080/"
        },
        "id": "h0fmmZ9qFnxK",
        "outputId": "df9c9526-8d69-4da7-ed58-bbff071ba212"
      },
      "execution_count": 14,
      "outputs": [
        {
          "output_type": "stream",
          "name": "stdout",
          "text": [
            "Fitting 5 folds for each of 3200 candidates, totalling 16000 fits\n"
          ]
        },
        {
          "output_type": "stream",
          "name": "stderr",
          "text": [
            "/usr/local/lib/python3.7/dist-packages/sklearn/model_selection/_split.py:680: UserWarning: The least populated class in y has only 4 members, which is less than n_splits=5.\n",
            "  UserWarning,\n"
          ]
        },
        {
          "output_type": "stream",
          "name": "stdout",
          "text": [
            "Best params for accuracy\n",
            "{'max_depth': 8.0, 'min_samples_leaf': 0.030000000000000006, 'min_samples_split': 0.01}\n"
          ]
        }
      ]
    },
    {
      "cell_type": "code",
      "source": [
        "dtree_grid = DecisionTreeClassifier(random_state=42, max_depth=4.0, min_samples_leaf=0.01, min_samples_split=0.01)\n",
        "\n",
        "print_result(y_test=y_test, pred=dtree_grid.fit(X_train, y_train).predict(X_test))\n",
        "score = cross_val_score(dtree_grid, X_train, y_train, cv=5, scoring='accuracy')\n",
        "print('Средняя точность с настройкой гиперпараметров GridSearch: ', np.mean(score))"
      ],
      "metadata": {
        "colab": {
          "base_uri": "https://localhost:8080/",
          "height": 858
        },
        "id": "p15mRU1PF5MS",
        "outputId": "2d732b4d-8150-423f-ea5b-97e7b0fbd6d2"
      },
      "execution_count": 15,
      "outputs": [
        {
          "output_type": "stream",
          "name": "stderr",
          "text": [
            "/usr/local/lib/python3.7/dist-packages/sklearn/metrics/_classification.py:1318: UndefinedMetricWarning: Precision and F-score are ill-defined and being set to 0.0 in labels with no predicted samples. Use `zero_division` parameter to control this behavior.\n",
            "  _warn_prf(average, modifier, msg_start, len(result))\n",
            "/usr/local/lib/python3.7/dist-packages/sklearn/metrics/_classification.py:1318: UndefinedMetricWarning: Precision and F-score are ill-defined and being set to 0.0 in labels with no predicted samples. Use `zero_division` parameter to control this behavior.\n",
            "  _warn_prf(average, modifier, msg_start, len(result))\n",
            "/usr/local/lib/python3.7/dist-packages/sklearn/metrics/_classification.py:1318: UndefinedMetricWarning: Precision and F-score are ill-defined and being set to 0.0 in labels with no predicted samples. Use `zero_division` parameter to control this behavior.\n",
            "  _warn_prf(average, modifier, msg_start, len(result))\n"
          ]
        },
        {
          "output_type": "stream",
          "name": "stdout",
          "text": [
            "результат классификации: \n",
            "               precision    recall  f1-score   support\n",
            "\n",
            "           0       0.00      0.00      0.00        13\n",
            "           1       0.00      0.00      0.00       136\n",
            "           2       0.52      0.60      0.55      1283\n",
            "           3       0.49      0.65      0.56      1694\n",
            "           4       0.42      0.12      0.18       656\n",
            "           5       0.00      0.00      0.00       116\n",
            "           6       0.00      0.00      0.00         1\n",
            "\n",
            "    accuracy                           0.50      3899\n",
            "   macro avg       0.20      0.19      0.18      3899\n",
            "weighted avg       0.45      0.50      0.46      3899\n",
            "\n",
            "Матрица ошибок: \n",
            " [[   0    0    7    6    0    0    0]\n",
            " [   0    0   85   48    3    0    0]\n",
            " [   0    0  765  499   19    0    0]\n",
            " [   0    0  525 1099   70    0    0]\n",
            " [   0    0   83  497   76    0    0]\n",
            " [   0    0   11   91   14    0    0]\n",
            " [   0    0    0    0    1    0    0]] \n",
            "\n"
          ]
        },
        {
          "output_type": "display_data",
          "data": {
            "image/png": "[encoded data removed]",
            "text/plain": [
              "<Figure size 432x288 with 2 Axes>"
            ]
          },
          "metadata": {
            "needs_background": "light"
          }
        },
        {
          "output_type": "stream",
          "name": "stdout",
          "text": [
            "Средняя точность с настройкой гиперпараметров GridSearch:  0.4996079739143323\n"
          ]
        },
        {
          "output_type": "stream",
          "name": "stderr",
          "text": [
            "/usr/local/lib/python3.7/dist-packages/sklearn/model_selection/_split.py:680: UserWarning: The least populated class in y has only 4 members, which is less than n_splits=5.\n",
            "  UserWarning,\n"
          ]
        }
      ]
    },
    {
      "cell_type": "markdown",
      "source": [
        "### Оценка точности классификаций тестовой и обучающей выборок."
      ],
      "metadata": {
        "id": "sOsfbDQolDae"
      }
    },
    {
      "cell_type": "code",
      "source": [
        "from sklearn.metrics import accuracy_score\n",
        "\n",
        "max_depth = np.linspace(1, 32, 32, endpoint=True)\n",
        "accuracy_result = []\n",
        "cv_result = []\n",
        "for md in max_depth:\n",
        "  model = DecisionTreeClassifier(random_state=42, max_depth=md)\n",
        "  model.fit(X_train ,y_train)\n",
        "  model_pred = model.predict(X_test)\n",
        "  accuracy_result.append(accuracy_score(y_test, model_pred))\n",
        "  scores = cross_val_score(model, X_train, y_train, cv=5)\n",
        "  cv_result.append(np.mean(scores))"
      ],
      "metadata": {
        "id": "Wk6JmkAtGvOE"
      },
      "execution_count": null,
      "outputs": []
    },
    {
      "cell_type": "code",
      "source": [
        "plt.plot(max_depth, accuracy_result, color='b', label='Accuracy')\n",
        "plt.plot(max_depth, cv_result, color='r', label='CV accuracy')\n",
        "plt.title('Train-Test accuracy vs CV accuracy')\n",
        "plt.xlabel('max depth'); plt.ylabel('accuracy')\n",
        "plt.legend()\n",
        "plt.show()"
      ],
      "metadata": {
        "colab": {
          "base_uri": "https://localhost:8080/",
          "height": 295
        },
        "id": "GSP5ioitGx7L",
        "outputId": "2540ac50-4151-45c7-e4d8-c3c73c4f32ec"
      },
      "execution_count": 17,
      "outputs": [
        {
          "output_type": "display_data",
          "data": {
            "image/png": "[encoded data removed]",
            "text/plain": [
              "<Figure size 432x288 with 1 Axes>"
            ]
          },
          "metadata": {
            "needs_background": "light"
          }
        }
      ]
    },
    {
      "cell_type": "markdown",
      "source": [
        "Рост точности происходит до глубины 23, далее точность константна. Вывод: значение max_depth, дающее максимальную точность, 23.\n",
        "Иной результат дала настройка гиперпараметров поиском по сетке. \n",
        "Так как настройка гиперпараметров дала минимальный прирост значений, рост точности, пусть и незначительно, но достиг немного раньше глубины."
      ],
      "metadata": {
        "id": "H0aYvmeJ6HED"
      }
    },
    {
      "cell_type": "code",
      "source": [
        "accuracy_result_train, accuracy_result_test = [],[]\n",
        "for md in max_depth:\n",
        "  model = DecisionTreeClassifier(random_state=42, max_depth=md)\n",
        "  model.fit(X_train ,y_train)\n",
        "  model_pred = model.predict(X_train)\n",
        "  accuracy_result_train.append(accuracy_score(y_train, model_pred))\n",
        "\n",
        "  model.fit(X_test ,y_test)\n",
        "  model_pred = model.predict(X_test)\n",
        "  accuracy_result_test.append(accuracy_score(y_test, model_pred))"
      ],
      "metadata": {
        "id": "Dju-TyZbG4tC"
      },
      "execution_count": 18,
      "outputs": []
    },
    {
      "cell_type": "code",
      "source": [
        "plt.plot(max_depth, accuracy_result_test, color='b', label='Test')\n",
        "plt.plot(max_depth, accuracy_result_train, color='r', label='Train')\n",
        "plt.title('Train vs Test accuracy')\n",
        "plt.xlabel('max depth'); plt.ylabel('accuracy')\n",
        "plt.legend()\n",
        "plt.show()"
      ],
      "metadata": {
        "colab": {
          "base_uri": "https://localhost:8080/",
          "height": 295
        },
        "id": "wKUabVhlG7La",
        "outputId": "c195588d-3f7c-469d-aac8-23a9a3f708af"
      },
      "execution_count": 19,
      "outputs": [
        {
          "output_type": "display_data",
          "data": {
            "image/png": "[encoded data removed]",
            "text/plain": [
              "<Figure size 432x288 with 1 Axes>"
            ]
          },
          "metadata": {
            "needs_background": "light"
          }
        }
      ]
    },
    {
      "cell_type": "markdown",
      "source": [
        "### Классификация с использованием масштабирования признаков"
      ],
      "metadata": {
        "id": "kYKthpB3lWYm"
      }
    },
    {
      "cell_type": "code",
      "source": [
        "from sklearn.preprocessing import StandardScaler\n",
        "\n",
        "scaler = StandardScaler()\n",
        "X_train_scaled = scaler.fit_transform(X_train)\n",
        "X_test_scaled = scaler.transform(X_test)"
      ],
      "metadata": {
        "id": "eukZnVV_HDq7"
      },
      "execution_count": 20,
      "outputs": []
    },
    {
      "cell_type": "code",
      "source": [
        "dtree_scaled = DecisionTreeClassifier(random_state=42)\n",
        "\n",
        "print_result(y_test=y_test, pred=dtree_scaled.fit(X_train_scaled, y_train).predict(X_test_scaled))\n",
        "score = cross_val_score(dtree_scaled, X_train_scaled, y_train, cv=5, scoring='accuracy')\n",
        "print('Средняя точность с масштабируемыми признаками: ', np.mean(score))"
      ],
      "metadata": {
        "colab": {
          "base_uri": "https://localhost:8080/",
          "height": 734
        },
        "id": "nB6vveclHGIz",
        "outputId": "461d68c6-668e-47d7-de86-6784c643633b"
      },
      "execution_count": 21,
      "outputs": [
        {
          "output_type": "stream",
          "name": "stdout",
          "text": [
            "результат классификации: \n",
            "               precision    recall  f1-score   support\n",
            "\n",
            "           0       0.00      0.00      0.00        13\n",
            "           1       0.18      0.11      0.14       136\n",
            "           2       0.56      0.57      0.57      1283\n",
            "           3       0.56      0.57      0.57      1694\n",
            "           4       0.47      0.48      0.48       656\n",
            "           5       0.28      0.28      0.28       116\n",
            "           6       0.00      0.00      0.00         1\n",
            "\n",
            "    accuracy                           0.53      3899\n",
            "   macro avg       0.29      0.29      0.29      3899\n",
            "weighted avg       0.53      0.53      0.53      3899\n",
            "\n",
            "Матрица ошибок: \n",
            " [[  0   0   7   5   1   0   0]\n",
            " [  2  15  63  48   7   1   0]\n",
            " [  9  33 726 433  66  15   1]\n",
            " [ 10  26 395 971 251  40   1]\n",
            " [  1   7  72 232 317  26   1]\n",
            " [  1   2  22  30  29  32   0]\n",
            " [  0   0   0   0   1   0   0]] \n",
            "\n"
          ]
        },
        {
          "output_type": "display_data",
          "data": {
            "image/png": "[encoded data removed]",
            "text/plain": [
              "<Figure size 432x288 with 2 Axes>"
            ]
          },
          "metadata": {
            "needs_background": "light"
          }
        },
        {
          "output_type": "stream",
          "name": "stdout",
          "text": [
            "Средняя точность с масштабируемыми признаками:  0.4996176078257003\n"
          ]
        },
        {
          "output_type": "stream",
          "name": "stderr",
          "text": [
            "/usr/local/lib/python3.7/dist-packages/sklearn/model_selection/_split.py:680: UserWarning: The least populated class in y has only 4 members, which is less than n_splits=5.\n",
            "  UserWarning,\n"
          ]
        }
      ]
    },
    {
      "cell_type": "markdown",
      "source": [
        "## Этап 2. Бинарная классификация."
      ],
      "metadata": {
        "id": "E4ad-Xy5lzXG"
      }
    },
    {
      "cell_type": "markdown",
      "source": [
        "### Загрузка данных."
      ],
      "metadata": {
        "id": "lX-LmBY-mFhN"
      }
    },
    {
      "cell_type": "code",
      "source": [
        "stud_data = pd.read_csv('/content/drive/MyDrive/datasets/student-mat.csv')"
      ],
      "metadata": {
        "id": "fwJK85mBmE82"
      },
      "execution_count": 22,
      "outputs": []
    },
    {
      "cell_type": "markdown",
      "source": [
        "### Посмотрим на полученные данные."
      ],
      "metadata": {
        "id": "fsCvNWmomUTd"
      }
    },
    {
      "cell_type": "code",
      "source": [
        "stud_data"
      ],
      "metadata": {
        "id": "R3KVKQ4uma1I",
        "colab": {
          "base_uri": "https://localhost:8080/",
          "height": 488
        },
        "outputId": "3428d32e-9bf7-4af3-c5cc-db99beb032f2"
      },
      "execution_count": 23,
      "outputs": [
        {
          "output_type": "execute_result",
          "data": {
            "text/html": [
              "\n",
              "  <div id=\"df-8caef165-dc76-476f-b8af-7987e0c5435d\">\n",
              "    <div class=\"colab-df-container\">\n",
              "      <div>\n",
              "<style scoped>\n",
              "    .dataframe tbody tr th:only-of-type {\n",
              "        vertical-align: middle;\n",
              "    }\n",
              "\n",
              "    .dataframe tbody tr th {\n",
              "        vertical-align: top;\n",
              "    }\n",
              "\n",
              "    .dataframe thead th {\n",
              "        text-align: right;\n",
              "    }\n",
              "</style>\n",
              "<table border=\"1\" class=\"dataframe\">\n",
              "  <thead>\n",
              "    <tr style=\"text-align: right;\">\n",
              "      <th></th>\n",
              "      <th>school</th>\n",
              "      <th>sex</th>\n",
              "      <th>age</th>\n",
              "      <th>address</th>\n",
              "      <th>famsize</th>\n",
              "      <th>Pstatus</th>\n",
              "      <th>Medu</th>\n",
              "      <th>Fedu</th>\n",
              "      <th>Mjob</th>\n",
              "      <th>Fjob</th>\n",
              "      <th>reason</th>\n",
              "      <th>guardian</th>\n",
              "      <th>traveltime</th>\n",
              "      <th>studytime</th>\n",
              "      <th>failures</th>\n",
              "      <th>schoolsup</th>\n",
              "      <th>famsup</th>\n",
              "      <th>paid</th>\n",
              "      <th>activities</th>\n",
              "      <th>nursery</th>\n",
              "      <th>higher</th>\n",
              "      <th>internet</th>\n",
              "      <th>romantic</th>\n",
              "      <th>famrel</th>\n",
              "      <th>freetime</th>\n",
              "      <th>goout</th>\n",
              "      <th>Dalc</th>\n",
              "      <th>Walc</th>\n",
              "      <th>health</th>\n",
              "      <th>absences</th>\n",
              "      <th>G1</th>\n",
              "      <th>G2</th>\n",
              "      <th>G3</th>\n",
              "    </tr>\n",
              "  </thead>\n",
              "  <tbody>\n",
              "    <tr>\n",
              "      <th>0</th>\n",
              "      <td>GP</td>\n",
              "      <td>F</td>\n",
              "      <td>18</td>\n",
              "      <td>U</td>\n",
              "      <td>GT3</td>\n",
              "      <td>A</td>\n",
              "      <td>4</td>\n",
              "      <td>4</td>\n",
              "      <td>at_home</td>\n",
              "      <td>teacher</td>\n",
              "      <td>course</td>\n",
              "      <td>mother</td>\n",
              "      <td>2</td>\n",
              "      <td>2</td>\n",
              "      <td>0</td>\n",
              "      <td>yes</td>\n",
              "      <td>no</td>\n",
              "      <td>no</td>\n",
              "      <td>no</td>\n",
              "      <td>yes</td>\n",
              "      <td>yes</td>\n",
              "      <td>no</td>\n",
              "      <td>no</td>\n",
              "      <td>4</td>\n",
              "      <td>3</td>\n",
              "      <td>4</td>\n",
              "      <td>1</td>\n",
              "      <td>1</td>\n",
              "      <td>3</td>\n",
              "      <td>6</td>\n",
              "      <td>5</td>\n",
              "      <td>6</td>\n",
              "      <td>6</td>\n",
              "    </tr>\n",
              "    <tr>\n",
              "      <th>1</th>\n",
              "      <td>GP</td>\n",
              "      <td>F</td>\n",
              "      <td>17</td>\n",
              "      <td>U</td>\n",
              "      <td>GT3</td>\n",
              "      <td>T</td>\n",
              "      <td>1</td>\n",
              "      <td>1</td>\n",
              "      <td>at_home</td>\n",
              "      <td>other</td>\n",
              "      <td>course</td>\n",
              "      <td>father</td>\n",
              "      <td>1</td>\n",
              "      <td>2</td>\n",
              "      <td>0</td>\n",
              "      <td>no</td>\n",
              "      <td>yes</td>\n",
              "      <td>no</td>\n",
              "      <td>no</td>\n",
              "      <td>no</td>\n",
              "      <td>yes</td>\n",
              "      <td>yes</td>\n",
              "      <td>no</td>\n",
              "      <td>5</td>\n",
              "      <td>3</td>\n",
              "      <td>3</td>\n",
              "      <td>1</td>\n",
              "      <td>1</td>\n",
              "      <td>3</td>\n",
              "      <td>4</td>\n",
              "      <td>5</td>\n",
              "      <td>5</td>\n",
              "      <td>6</td>\n",
              "    </tr>\n",
              "    <tr>\n",
              "      <th>2</th>\n",
              "      <td>GP</td>\n",
              "      <td>F</td>\n",
              "      <td>15</td>\n",
              "      <td>U</td>\n",
              "      <td>LE3</td>\n",
              "      <td>T</td>\n",
              "      <td>1</td>\n",
              "      <td>1</td>\n",
              "      <td>at_home</td>\n",
              "      <td>other</td>\n",
              "      <td>other</td>\n",
              "      <td>mother</td>\n",
              "      <td>1</td>\n",
              "      <td>2</td>\n",
              "      <td>3</td>\n",
              "      <td>yes</td>\n",
              "      <td>no</td>\n",
              "      <td>yes</td>\n",
              "      <td>no</td>\n",
              "      <td>yes</td>\n",
              "      <td>yes</td>\n",
              "      <td>yes</td>\n",
              "      <td>no</td>\n",
              "      <td>4</td>\n",
              "      <td>3</td>\n",
              "      <td>2</td>\n",
              "      <td>2</td>\n",
              "      <td>3</td>\n",
              "      <td>3</td>\n",
              "      <td>10</td>\n",
              "      <td>7</td>\n",
              "      <td>8</td>\n",
              "      <td>10</td>\n",
              "    </tr>\n",
              "    <tr>\n",
              "      <th>3</th>\n",
              "      <td>GP</td>\n",
              "      <td>F</td>\n",
              "      <td>15</td>\n",
              "      <td>U</td>\n",
              "      <td>GT3</td>\n",
              "      <td>T</td>\n",
              "      <td>4</td>\n",
              "      <td>2</td>\n",
              "      <td>health</td>\n",
              "      <td>services</td>\n",
              "      <td>home</td>\n",
              "      <td>mother</td>\n",
              "      <td>1</td>\n",
              "      <td>3</td>\n",
              "      <td>0</td>\n",
              "      <td>no</td>\n",
              "      <td>yes</td>\n",
              "      <td>yes</td>\n",
              "      <td>yes</td>\n",
              "      <td>yes</td>\n",
              "      <td>yes</td>\n",
              "      <td>yes</td>\n",
              "      <td>yes</td>\n",
              "      <td>3</td>\n",
              "      <td>2</td>\n",
              "      <td>2</td>\n",
              "      <td>1</td>\n",
              "      <td>1</td>\n",
              "      <td>5</td>\n",
              "      <td>2</td>\n",
              "      <td>15</td>\n",
              "      <td>14</td>\n",
              "      <td>15</td>\n",
              "    </tr>\n",
              "    <tr>\n",
              "      <th>4</th>\n",
              "      <td>GP</td>\n",
              "      <td>F</td>\n",
              "      <td>16</td>\n",
              "      <td>U</td>\n",
              "      <td>GT3</td>\n",
              "      <td>T</td>\n",
              "      <td>3</td>\n",
              "      <td>3</td>\n",
              "      <td>other</td>\n",
              "      <td>other</td>\n",
              "      <td>home</td>\n",
              "      <td>father</td>\n",
              "      <td>1</td>\n",
              "      <td>2</td>\n",
              "      <td>0</td>\n",
              "      <td>no</td>\n",
              "      <td>yes</td>\n",
              "      <td>yes</td>\n",
              "      <td>no</td>\n",
              "      <td>yes</td>\n",
              "      <td>yes</td>\n",
              "      <td>no</td>\n",
              "      <td>no</td>\n",
              "      <td>4</td>\n",
              "      <td>3</td>\n",
              "      <td>2</td>\n",
              "      <td>1</td>\n",
              "      <td>2</td>\n",
              "      <td>5</td>\n",
              "      <td>4</td>\n",
              "      <td>6</td>\n",
              "      <td>10</td>\n",
              "      <td>10</td>\n",
              "    </tr>\n",
              "    <tr>\n",
              "      <th>...</th>\n",
              "      <td>...</td>\n",
              "      <td>...</td>\n",
              "      <td>...</td>\n",
              "      <td>...</td>\n",
              "      <td>...</td>\n",
              "      <td>...</td>\n",
              "      <td>...</td>\n",
              "      <td>...</td>\n",
              "      <td>...</td>\n",
              "      <td>...</td>\n",
              "      <td>...</td>\n",
              "      <td>...</td>\n",
              "      <td>...</td>\n",
              "      <td>...</td>\n",
              "      <td>...</td>\n",
              "      <td>...</td>\n",
              "      <td>...</td>\n",
              "      <td>...</td>\n",
              "      <td>...</td>\n",
              "      <td>...</td>\n",
              "      <td>...</td>\n",
              "      <td>...</td>\n",
              "      <td>...</td>\n",
              "      <td>...</td>\n",
              "      <td>...</td>\n",
              "      <td>...</td>\n",
              "      <td>...</td>\n",
              "      <td>...</td>\n",
              "      <td>...</td>\n",
              "      <td>...</td>\n",
              "      <td>...</td>\n",
              "      <td>...</td>\n",
              "      <td>...</td>\n",
              "    </tr>\n",
              "    <tr>\n",
              "      <th>390</th>\n",
              "      <td>MS</td>\n",
              "      <td>M</td>\n",
              "      <td>20</td>\n",
              "      <td>U</td>\n",
              "      <td>LE3</td>\n",
              "      <td>A</td>\n",
              "      <td>2</td>\n",
              "      <td>2</td>\n",
              "      <td>services</td>\n",
              "      <td>services</td>\n",
              "      <td>course</td>\n",
              "      <td>other</td>\n",
              "      <td>1</td>\n",
              "      <td>2</td>\n",
              "      <td>2</td>\n",
              "      <td>no</td>\n",
              "      <td>yes</td>\n",
              "      <td>yes</td>\n",
              "      <td>no</td>\n",
              "      <td>yes</td>\n",
              "      <td>yes</td>\n",
              "      <td>no</td>\n",
              "      <td>no</td>\n",
              "      <td>5</td>\n",
              "      <td>5</td>\n",
              "      <td>4</td>\n",
              "      <td>4</td>\n",
              "      <td>5</td>\n",
              "      <td>4</td>\n",
              "      <td>11</td>\n",
              "      <td>9</td>\n",
              "      <td>9</td>\n",
              "      <td>9</td>\n",
              "    </tr>\n",
              "    <tr>\n",
              "      <th>391</th>\n",
              "      <td>MS</td>\n",
              "      <td>M</td>\n",
              "      <td>17</td>\n",
              "      <td>U</td>\n",
              "      <td>LE3</td>\n",
              "      <td>T</td>\n",
              "      <td>3</td>\n",
              "      <td>1</td>\n",
              "      <td>services</td>\n",
              "      <td>services</td>\n",
              "      <td>course</td>\n",
              "      <td>mother</td>\n",
              "      <td>2</td>\n",
              "      <td>1</td>\n",
              "      <td>0</td>\n",
              "      <td>no</td>\n",
              "      <td>no</td>\n",
              "      <td>no</td>\n",
              "      <td>no</td>\n",
              "      <td>no</td>\n",
              "      <td>yes</td>\n",
              "      <td>yes</td>\n",
              "      <td>no</td>\n",
              "      <td>2</td>\n",
              "      <td>4</td>\n",
              "      <td>5</td>\n",
              "      <td>3</td>\n",
              "      <td>4</td>\n",
              "      <td>2</td>\n",
              "      <td>3</td>\n",
              "      <td>14</td>\n",
              "      <td>16</td>\n",
              "      <td>16</td>\n",
              "    </tr>\n",
              "    <tr>\n",
              "      <th>392</th>\n",
              "      <td>MS</td>\n",
              "      <td>M</td>\n",
              "      <td>21</td>\n",
              "      <td>R</td>\n",
              "      <td>GT3</td>\n",
              "      <td>T</td>\n",
              "      <td>1</td>\n",
              "      <td>1</td>\n",
              "      <td>other</td>\n",
              "      <td>other</td>\n",
              "      <td>course</td>\n",
              "      <td>other</td>\n",
              "      <td>1</td>\n",
              "      <td>1</td>\n",
              "      <td>3</td>\n",
              "      <td>no</td>\n",
              "      <td>no</td>\n",
              "      <td>no</td>\n",
              "      <td>no</td>\n",
              "      <td>no</td>\n",
              "      <td>yes</td>\n",
              "      <td>no</td>\n",
              "      <td>no</td>\n",
              "      <td>5</td>\n",
              "      <td>5</td>\n",
              "      <td>3</td>\n",
              "      <td>3</td>\n",
              "      <td>3</td>\n",
              "      <td>3</td>\n",
              "      <td>3</td>\n",
              "      <td>10</td>\n",
              "      <td>8</td>\n",
              "      <td>7</td>\n",
              "    </tr>\n",
              "    <tr>\n",
              "      <th>393</th>\n",
              "      <td>MS</td>\n",
              "      <td>M</td>\n",
              "      <td>18</td>\n",
              "      <td>R</td>\n",
              "      <td>LE3</td>\n",
              "      <td>T</td>\n",
              "      <td>3</td>\n",
              "      <td>2</td>\n",
              "      <td>services</td>\n",
              "      <td>other</td>\n",
              "      <td>course</td>\n",
              "      <td>mother</td>\n",
              "      <td>3</td>\n",
              "      <td>1</td>\n",
              "      <td>0</td>\n",
              "      <td>no</td>\n",
              "      <td>no</td>\n",
              "      <td>no</td>\n",
              "      <td>no</td>\n",
              "      <td>no</td>\n",
              "      <td>yes</td>\n",
              "      <td>yes</td>\n",
              "      <td>no</td>\n",
              "      <td>4</td>\n",
              "      <td>4</td>\n",
              "      <td>1</td>\n",
              "      <td>3</td>\n",
              "      <td>4</td>\n",
              "      <td>5</td>\n",
              "      <td>0</td>\n",
              "      <td>11</td>\n",
              "      <td>12</td>\n",
              "      <td>10</td>\n",
              "    </tr>\n",
              "    <tr>\n",
              "      <th>394</th>\n",
              "      <td>MS</td>\n",
              "      <td>M</td>\n",
              "      <td>19</td>\n",
              "      <td>U</td>\n",
              "      <td>LE3</td>\n",
              "      <td>T</td>\n",
              "      <td>1</td>\n",
              "      <td>1</td>\n",
              "      <td>other</td>\n",
              "      <td>at_home</td>\n",
              "      <td>course</td>\n",
              "      <td>father</td>\n",
              "      <td>1</td>\n",
              "      <td>1</td>\n",
              "      <td>0</td>\n",
              "      <td>no</td>\n",
              "      <td>no</td>\n",
              "      <td>no</td>\n",
              "      <td>no</td>\n",
              "      <td>yes</td>\n",
              "      <td>yes</td>\n",
              "      <td>yes</td>\n",
              "      <td>no</td>\n",
              "      <td>3</td>\n",
              "      <td>2</td>\n",
              "      <td>3</td>\n",
              "      <td>3</td>\n",
              "      <td>3</td>\n",
              "      <td>5</td>\n",
              "      <td>5</td>\n",
              "      <td>8</td>\n",
              "      <td>9</td>\n",
              "      <td>9</td>\n",
              "    </tr>\n",
              "  </tbody>\n",
              "</table>\n",
              "<p>395 rows × 33 columns</p>\n",
              "</div>\n",
              "      <button class=\"colab-df-convert\" onclick=\"convertToInteractive('df-8caef165-dc76-476f-b8af-7987e0c5435d')\"\n",
              "              title=\"Convert this dataframe to an interactive table.\"\n",
              "              style=\"display:none;\">\n",
              "        \n",
              "  <svg xmlns=\"http://www.w3.org/2000/svg\" height=\"24px\"viewBox=\"0 0 24 24\"\n",
              "       width=\"24px\">\n",
              "    <path d=\"M0 0h24v24H0V0z\" fill=\"none\"/>\n",
              "    <path d=\"M18.56 5.44l.94 2.06.94-2.06 2.06-.94-2.06-.94-.94-2.06-.94 2.06-2.06.94zm-11 1L8.5 8.5l.94-2.06 2.06-.94-2.06-.94L8.5 2.5l-.94 2.06-2.06.94zm10 10l.94 2.06.94-2.06 2.06-.94-2.06-.94-.94-2.06-.94 2.06-2.06.94z\"/><path d=\"M17.41 7.96l-1.37-1.37c-.4-.4-.92-.59-1.43-.59-.52 0-1.04.2-1.43.59L10.3 9.45l-7.72 7.72c-.78.78-.78 2.05 0 2.83L4 21.41c.39.39.9.59 1.41.59.51 0 1.02-.2 1.41-.59l7.78-7.78 2.81-2.81c.8-.78.8-2.07 0-2.86zM5.41 20L4 18.59l7.72-7.72 1.47 1.35L5.41 20z\"/>\n",
              "  </svg>\n",
              "      </button>\n",
              "      \n",
              "  <style>\n",
              "    .colab-df-container {\n",
              "      display:flex;\n",
              "      flex-wrap:wrap;\n",
              "      gap: 12px;\n",
              "    }\n",
              "\n",
              "    .colab-df-convert {\n",
              "      background-color: #E8F0FE;\n",
              "      border: none;\n",
              "      border-radius: 50%;\n",
              "      cursor: pointer;\n",
              "      display: none;\n",
              "      fill: #1967D2;\n",
              "      height: 32px;\n",
              "      padding: 0 0 0 0;\n",
              "      width: 32px;\n",
              "    }\n",
              "\n",
              "    .colab-df-convert:hover {\n",
              "      background-color: #E2EBFA;\n",
              "      box-shadow: 0px 1px 2px rgba(60, 64, 67, 0.3), 0px 1px 3px 1px rgba(60, 64, 67, 0.15);\n",
              "      fill: #174EA6;\n",
              "    }\n",
              "\n",
              "    [theme=dark] .colab-df-convert {\n",
              "      background-color: #3B4455;\n",
              "      fill: #D2E3FC;\n",
              "    }\n",
              "\n",
              "    [theme=dark] .colab-df-convert:hover {\n",
              "      background-color: #434B5C;\n",
              "      box-shadow: 0px 1px 3px 1px rgba(0, 0, 0, 0.15);\n",
              "      filter: drop-shadow(0px 1px 2px rgba(0, 0, 0, 0.3));\n",
              "      fill: #FFFFFF;\n",
              "    }\n",
              "  </style>\n",
              "\n",
              "      <script>\n",
              "        const buttonEl =\n",
              "          document.querySelector('#df-8caef165-dc76-476f-b8af-7987e0c5435d button.colab-df-convert');\n",
              "        buttonEl.style.display =\n",
              "          google.colab.kernel.accessAllowed ? 'block' : 'none';\n",
              "\n",
              "        async function convertToInteractive(key) {\n",
              "          const element = document.querySelector('#df-8caef165-dc76-476f-b8af-7987e0c5435d');\n",
              "          const dataTable =\n",
              "            await google.colab.kernel.invokeFunction('convertToInteractive',\n",
              "                                                     [key], {});\n",
              "          if (!dataTable) return;\n",
              "\n",
              "          const docLinkHtml = 'Like what you see? Visit the ' +\n",
              "            '<a target=\"_blank\" href=https://colab.research.google.com/notebooks/data_table.ipynb>data table notebook</a>'\n",
              "            + ' to learn more about interactive tables.';\n",
              "          element.innerHTML = '';\n",
              "          dataTable['output_type'] = 'display_data';\n",
              "          await google.colab.output.renderOutput(dataTable, element);\n",
              "          const docLink = document.createElement('div');\n",
              "          docLink.innerHTML = docLinkHtml;\n",
              "          element.appendChild(docLink);\n",
              "        }\n",
              "      </script>\n",
              "    </div>\n",
              "  </div>\n",
              "  "
            ],
            "text/plain": [
              "    school sex  age address famsize Pstatus  ...  Walc  health absences  G1  G2  G3\n",
              "0       GP   F   18       U     GT3       A  ...     1       3        6   5   6   6\n",
              "1       GP   F   17       U     GT3       T  ...     1       3        4   5   5   6\n",
              "2       GP   F   15       U     LE3       T  ...     3       3       10   7   8  10\n",
              "3       GP   F   15       U     GT3       T  ...     1       5        2  15  14  15\n",
              "4       GP   F   16       U     GT3       T  ...     2       5        4   6  10  10\n",
              "..     ...  ..  ...     ...     ...     ...  ...   ...     ...      ...  ..  ..  ..\n",
              "390     MS   M   20       U     LE3       A  ...     5       4       11   9   9   9\n",
              "391     MS   M   17       U     LE3       T  ...     4       2        3  14  16  16\n",
              "392     MS   M   21       R     GT3       T  ...     3       3        3  10   8   7\n",
              "393     MS   M   18       R     LE3       T  ...     4       5        0  11  12  10\n",
              "394     MS   M   19       U     LE3       T  ...     3       5        5   8   9   9\n",
              "\n",
              "[395 rows x 33 columns]"
            ]
          },
          "metadata": {},
          "execution_count": 23
        }
      ]
    },
    {
      "cell_type": "markdown",
      "source": [
        "### Описание данных"
      ],
      "metadata": {
        "id": "iax9V0pJmfbN"
      }
    },
    {
      "cell_type": "markdown",
      "source": [
        "[***Dataset***](https://www.kaggle.com/uciml/student-alcohol-consumption)\n",
        "- school - школа ученика (двоичная: GP - Габриэль Перейра или MS - Мусиньо да Силвейра)\n",
        "- пол - пол студента (двоичные: 'F' - женский или 'M' - мужской)\n",
        "- age - возраст студента (числовое значение: от 15 до 22)\n",
        "- address - тип домашнего адреса студента (двоичный: 'U' - городской или 'R' - сельский)\n",
        "- famsize - размер семьи (двоичное: 'LE3' - меньше или равно 3 или 'GT3' - больше 3)\n",
        "- Pstatus - статус совместного проживания родителей (двоичный: «T» - проживают вместе или «A» - отдельно)\n",
        "- Medu - образование матери (числовое значение: 0 - нет, 1 - начальное образование (4-й класс), 2 - с 5-го по 9-й класс, 3 - среднее образование или 4 - высшее образование)\n",
        "- Fedu - образование отца (числовое значение: 0 - нет, 1 - начальное образование (4-й класс), 2 - с 5-го по 9-й класс, 3 - среднее образование или 4 - высшее образование)\n",
        "- Mjob - работа матери (номинальное: «учитель», «медицинское обслуживание», гражданские «службы» (например, административные или полицейские), «at_home» или «другое»)\n",
        "- Fjob - работа отца (номинальное: «учитель», «медицинское обслуживание», гражданские «службы» (например, административные или полицейские), «at_home» или «другое»)\n",
        "- reason - причина выбрать эту школу (номинальная: близко к «дому», «репутация» школы, «предпочтение по курсу» или «другое»)\n",
        "- guardian - опекун ученика (именное: «мать», «отец» или «другой»)\n",
        "- traveltime - время в пути от дома до школы (числовое значение: 1–1 час)\n",
        "- studytime - еженедельное учебное время (числовое значение: 1-10 часов)\n",
        "- failures - количество прошлых сбоев класса (числовое: n, если 1 <= n <3, иначе 4)\n",
        "- Schoolup - дополнительная образовательная поддержка (двоичная: да или нет)\n",
        "- famsup - семейная образовательная поддержка (двоичная: да или нет)\n",
        "- paid - дополнительные платные занятия по предмету курса (математика или португальский) (двоичный: да или нет)\n",
        "- activities - внеклассные мероприятия (бинарные: да или нет)\n",
        "- nursery - посещал детский сад (двоичный: да или нет)\n",
        "- high - хочет получить высшее образование (двоичное: да или нет)\n",
        "- internet - доступ в Интернет дома (двоичный: да или нет)\n",
        "- romantic - с романтическими отношениями (бинарные: да или нет)\n",
        "- famrel - качество семейных отношений (числовое значение: от 1 - очень плохо до 5 - отлично)\n",
        "- freetime - свободное время после школы (числовое значение: от 1 - очень низкий до 5 - очень высокий)\n",
        "- goout - встреча с друзьями (числовые: от 1 - очень низкий, до 5 - очень высокий)\n",
        "- Dalc - потребление алкоголя в течение рабочего дня (числовое значение: от 1 - очень низкий до 5 - очень высокий)\n",
        "- Walc - потребление алкоголя в выходные дни (числовое значение: от 1 - очень низкий до 5 - очень высокий)\n",
        "- health - текущее состояние здоровья (числовое значение: от 1 - очень плохо до 5 - очень хорошо)\n",
        "- absences - количество пропусков в школе (числовое значение: от 0 до 93)"
      ],
      "metadata": {
        "id": "asx2a0GPmioN"
      }
    },
    {
      "cell_type": "markdown",
      "source": [
        "### Предварительная обработка данных."
      ],
      "metadata": {
        "id": "35DU5iVoni4u"
      }
    },
    {
      "cell_type": "markdown",
      "source": [
        "#### Удаление полей, которые невозможно бинаризировать."
      ],
      "metadata": {
        "id": "fnM0PLsRnsL8"
      }
    },
    {
      "cell_type": "code",
      "source": [
        "stud_data.drop('school', axis=1, inplace=True)\n",
        "stud_data.drop('sex', axis=1, inplace=True)\n",
        "stud_data.drop('address', axis=1, inplace=True)\n",
        "stud_data.drop('famsize', axis=1, inplace=True)\n",
        "stud_data.drop('Pstatus', axis=1, inplace=True)\n",
        "stud_data.drop('Mjob', axis=1, inplace=True)\n",
        "stud_data.drop('Fjob', axis=1, inplace=True)\n",
        "stud_data.drop('reason', axis=1, inplace=True)\n",
        "stud_data.drop('guardian', axis=1, inplace=True)"
      ],
      "metadata": {
        "id": "wjPScuIAnqho"
      },
      "execution_count": 24,
      "outputs": []
    },
    {
      "cell_type": "markdown",
      "source": [
        "#### Бинаризация полей"
      ],
      "metadata": {
        "id": "lx9Gzc8Kov1-"
      }
    },
    {
      "cell_type": "code",
      "source": [
        "stud_data = stud_data.replace(['no', 'yes'], [0,1])\n",
        "target = stud_data.activities\n",
        "features = stud_data.drop(['activities'], axis=1)"
      ],
      "metadata": {
        "id": "ejP1wAOlowLG"
      },
      "execution_count": 25,
      "outputs": []
    },
    {
      "cell_type": "markdown",
      "source": [
        "### Разделение данных на выборки."
      ],
      "metadata": {
        "id": "DsLggPU2pGy-"
      }
    },
    {
      "cell_type": "code",
      "source": [
        "stud_data"
      ],
      "metadata": {
        "colab": {
          "base_uri": "https://localhost:8080/",
          "height": 424
        },
        "id": "_SEkBlB-64pN",
        "outputId": "42967a83-fda0-4601-88fc-326effbded08"
      },
      "execution_count": 26,
      "outputs": [
        {
          "output_type": "execute_result",
          "data": {
            "text/html": [
              "\n",
              "  <div id=\"df-8b93d4ce-3fd3-4a61-9caa-d51062bbdfd6\">\n",
              "    <div class=\"colab-df-container\">\n",
              "      <div>\n",
              "<style scoped>\n",
              "    .dataframe tbody tr th:only-of-type {\n",
              "        vertical-align: middle;\n",
              "    }\n",
              "\n",
              "    .dataframe tbody tr th {\n",
              "        vertical-align: top;\n",
              "    }\n",
              "\n",
              "    .dataframe thead th {\n",
              "        text-align: right;\n",
              "    }\n",
              "</style>\n",
              "<table border=\"1\" class=\"dataframe\">\n",
              "  <thead>\n",
              "    <tr style=\"text-align: right;\">\n",
              "      <th></th>\n",
              "      <th>age</th>\n",
              "      <th>Medu</th>\n",
              "      <th>Fedu</th>\n",
              "      <th>traveltime</th>\n",
              "      <th>studytime</th>\n",
              "      <th>failures</th>\n",
              "      <th>schoolsup</th>\n",
              "      <th>famsup</th>\n",
              "      <th>paid</th>\n",
              "      <th>activities</th>\n",
              "      <th>nursery</th>\n",
              "      <th>higher</th>\n",
              "      <th>internet</th>\n",
              "      <th>romantic</th>\n",
              "      <th>famrel</th>\n",
              "      <th>freetime</th>\n",
              "      <th>goout</th>\n",
              "      <th>Dalc</th>\n",
              "      <th>Walc</th>\n",
              "      <th>health</th>\n",
              "      <th>absences</th>\n",
              "      <th>G1</th>\n",
              "      <th>G2</th>\n",
              "      <th>G3</th>\n",
              "    </tr>\n",
              "  </thead>\n",
              "  <tbody>\n",
              "    <tr>\n",
              "      <th>0</th>\n",
              "      <td>18</td>\n",
              "      <td>4</td>\n",
              "      <td>4</td>\n",
              "      <td>2</td>\n",
              "      <td>2</td>\n",
              "      <td>0</td>\n",
              "      <td>1</td>\n",
              "      <td>0</td>\n",
              "      <td>0</td>\n",
              "      <td>0</td>\n",
              "      <td>1</td>\n",
              "      <td>1</td>\n",
              "      <td>0</td>\n",
              "      <td>0</td>\n",
              "      <td>4</td>\n",
              "      <td>3</td>\n",
              "      <td>4</td>\n",
              "      <td>1</td>\n",
              "      <td>1</td>\n",
              "      <td>3</td>\n",
              "      <td>6</td>\n",
              "      <td>5</td>\n",
              "      <td>6</td>\n",
              "      <td>6</td>\n",
              "    </tr>\n",
              "    <tr>\n",
              "      <th>1</th>\n",
              "      <td>17</td>\n",
              "      <td>1</td>\n",
              "      <td>1</td>\n",
              "      <td>1</td>\n",
              "      <td>2</td>\n",
              "      <td>0</td>\n",
              "      <td>0</td>\n",
              "      <td>1</td>\n",
              "      <td>0</td>\n",
              "      <td>0</td>\n",
              "      <td>0</td>\n",
              "      <td>1</td>\n",
              "      <td>1</td>\n",
              "      <td>0</td>\n",
              "      <td>5</td>\n",
              "      <td>3</td>\n",
              "      <td>3</td>\n",
              "      <td>1</td>\n",
              "      <td>1</td>\n",
              "      <td>3</td>\n",
              "      <td>4</td>\n",
              "      <td>5</td>\n",
              "      <td>5</td>\n",
              "      <td>6</td>\n",
              "    </tr>\n",
              "    <tr>\n",
              "      <th>2</th>\n",
              "      <td>15</td>\n",
              "      <td>1</td>\n",
              "      <td>1</td>\n",
              "      <td>1</td>\n",
              "      <td>2</td>\n",
              "      <td>3</td>\n",
              "      <td>1</td>\n",
              "      <td>0</td>\n",
              "      <td>1</td>\n",
              "      <td>0</td>\n",
              "      <td>1</td>\n",
              "      <td>1</td>\n",
              "      <td>1</td>\n",
              "      <td>0</td>\n",
              "      <td>4</td>\n",
              "      <td>3</td>\n",
              "      <td>2</td>\n",
              "      <td>2</td>\n",
              "      <td>3</td>\n",
              "      <td>3</td>\n",
              "      <td>10</td>\n",
              "      <td>7</td>\n",
              "      <td>8</td>\n",
              "      <td>10</td>\n",
              "    </tr>\n",
              "    <tr>\n",
              "      <th>3</th>\n",
              "      <td>15</td>\n",
              "      <td>4</td>\n",
              "      <td>2</td>\n",
              "      <td>1</td>\n",
              "      <td>3</td>\n",
              "      <td>0</td>\n",
              "      <td>0</td>\n",
              "      <td>1</td>\n",
              "      <td>1</td>\n",
              "      <td>1</td>\n",
              "      <td>1</td>\n",
              "      <td>1</td>\n",
              "      <td>1</td>\n",
              "      <td>1</td>\n",
              "      <td>3</td>\n",
              "      <td>2</td>\n",
              "      <td>2</td>\n",
              "      <td>1</td>\n",
              "      <td>1</td>\n",
              "      <td>5</td>\n",
              "      <td>2</td>\n",
              "      <td>15</td>\n",
              "      <td>14</td>\n",
              "      <td>15</td>\n",
              "    </tr>\n",
              "    <tr>\n",
              "      <th>4</th>\n",
              "      <td>16</td>\n",
              "      <td>3</td>\n",
              "      <td>3</td>\n",
              "      <td>1</td>\n",
              "      <td>2</td>\n",
              "      <td>0</td>\n",
              "      <td>0</td>\n",
              "      <td>1</td>\n",
              "      <td>1</td>\n",
              "      <td>0</td>\n",
              "      <td>1</td>\n",
              "      <td>1</td>\n",
              "      <td>0</td>\n",
              "      <td>0</td>\n",
              "      <td>4</td>\n",
              "      <td>3</td>\n",
              "      <td>2</td>\n",
              "      <td>1</td>\n",
              "      <td>2</td>\n",
              "      <td>5</td>\n",
              "      <td>4</td>\n",
              "      <td>6</td>\n",
              "      <td>10</td>\n",
              "      <td>10</td>\n",
              "    </tr>\n",
              "    <tr>\n",
              "      <th>...</th>\n",
              "      <td>...</td>\n",
              "      <td>...</td>\n",
              "      <td>...</td>\n",
              "      <td>...</td>\n",
              "      <td>...</td>\n",
              "      <td>...</td>\n",
              "      <td>...</td>\n",
              "      <td>...</td>\n",
              "      <td>...</td>\n",
              "      <td>...</td>\n",
              "      <td>...</td>\n",
              "      <td>...</td>\n",
              "      <td>...</td>\n",
              "      <td>...</td>\n",
              "      <td>...</td>\n",
              "      <td>...</td>\n",
              "      <td>...</td>\n",
              "      <td>...</td>\n",
              "      <td>...</td>\n",
              "      <td>...</td>\n",
              "      <td>...</td>\n",
              "      <td>...</td>\n",
              "      <td>...</td>\n",
              "      <td>...</td>\n",
              "    </tr>\n",
              "    <tr>\n",
              "      <th>390</th>\n",
              "      <td>20</td>\n",
              "      <td>2</td>\n",
              "      <td>2</td>\n",
              "      <td>1</td>\n",
              "      <td>2</td>\n",
              "      <td>2</td>\n",
              "      <td>0</td>\n",
              "      <td>1</td>\n",
              "      <td>1</td>\n",
              "      <td>0</td>\n",
              "      <td>1</td>\n",
              "      <td>1</td>\n",
              "      <td>0</td>\n",
              "      <td>0</td>\n",
              "      <td>5</td>\n",
              "      <td>5</td>\n",
              "      <td>4</td>\n",
              "      <td>4</td>\n",
              "      <td>5</td>\n",
              "      <td>4</td>\n",
              "      <td>11</td>\n",
              "      <td>9</td>\n",
              "      <td>9</td>\n",
              "      <td>9</td>\n",
              "    </tr>\n",
              "    <tr>\n",
              "      <th>391</th>\n",
              "      <td>17</td>\n",
              "      <td>3</td>\n",
              "      <td>1</td>\n",
              "      <td>2</td>\n",
              "      <td>1</td>\n",
              "      <td>0</td>\n",
              "      <td>0</td>\n",
              "      <td>0</td>\n",
              "      <td>0</td>\n",
              "      <td>0</td>\n",
              "      <td>0</td>\n",
              "      <td>1</td>\n",
              "      <td>1</td>\n",
              "      <td>0</td>\n",
              "      <td>2</td>\n",
              "      <td>4</td>\n",
              "      <td>5</td>\n",
              "      <td>3</td>\n",
              "      <td>4</td>\n",
              "      <td>2</td>\n",
              "      <td>3</td>\n",
              "      <td>14</td>\n",
              "      <td>16</td>\n",
              "      <td>16</td>\n",
              "    </tr>\n",
              "    <tr>\n",
              "      <th>392</th>\n",
              "      <td>21</td>\n",
              "      <td>1</td>\n",
              "      <td>1</td>\n",
              "      <td>1</td>\n",
              "      <td>1</td>\n",
              "      <td>3</td>\n",
              "      <td>0</td>\n",
              "      <td>0</td>\n",
              "      <td>0</td>\n",
              "      <td>0</td>\n",
              "      <td>0</td>\n",
              "      <td>1</td>\n",
              "      <td>0</td>\n",
              "      <td>0</td>\n",
              "      <td>5</td>\n",
              "      <td>5</td>\n",
              "      <td>3</td>\n",
              "      <td>3</td>\n",
              "      <td>3</td>\n",
              "      <td>3</td>\n",
              "      <td>3</td>\n",
              "      <td>10</td>\n",
              "      <td>8</td>\n",
              "      <td>7</td>\n",
              "    </tr>\n",
              "    <tr>\n",
              "      <th>393</th>\n",
              "      <td>18</td>\n",
              "      <td>3</td>\n",
              "      <td>2</td>\n",
              "      <td>3</td>\n",
              "      <td>1</td>\n",
              "      <td>0</td>\n",
              "      <td>0</td>\n",
              "      <td>0</td>\n",
              "      <td>0</td>\n",
              "      <td>0</td>\n",
              "      <td>0</td>\n",
              "      <td>1</td>\n",
              "      <td>1</td>\n",
              "      <td>0</td>\n",
              "      <td>4</td>\n",
              "      <td>4</td>\n",
              "      <td>1</td>\n",
              "      <td>3</td>\n",
              "      <td>4</td>\n",
              "      <td>5</td>\n",
              "      <td>0</td>\n",
              "      <td>11</td>\n",
              "      <td>12</td>\n",
              "      <td>10</td>\n",
              "    </tr>\n",
              "    <tr>\n",
              "      <th>394</th>\n",
              "      <td>19</td>\n",
              "      <td>1</td>\n",
              "      <td>1</td>\n",
              "      <td>1</td>\n",
              "      <td>1</td>\n",
              "      <td>0</td>\n",
              "      <td>0</td>\n",
              "      <td>0</td>\n",
              "      <td>0</td>\n",
              "      <td>0</td>\n",
              "      <td>1</td>\n",
              "      <td>1</td>\n",
              "      <td>1</td>\n",
              "      <td>0</td>\n",
              "      <td>3</td>\n",
              "      <td>2</td>\n",
              "      <td>3</td>\n",
              "      <td>3</td>\n",
              "      <td>3</td>\n",
              "      <td>5</td>\n",
              "      <td>5</td>\n",
              "      <td>8</td>\n",
              "      <td>9</td>\n",
              "      <td>9</td>\n",
              "    </tr>\n",
              "  </tbody>\n",
              "</table>\n",
              "<p>395 rows × 24 columns</p>\n",
              "</div>\n",
              "      <button class=\"colab-df-convert\" onclick=\"convertToInteractive('df-8b93d4ce-3fd3-4a61-9caa-d51062bbdfd6')\"\n",
              "              title=\"Convert this dataframe to an interactive table.\"\n",
              "              style=\"display:none;\">\n",
              "        \n",
              "  <svg xmlns=\"http://www.w3.org/2000/svg\" height=\"24px\"viewBox=\"0 0 24 24\"\n",
              "       width=\"24px\">\n",
              "    <path d=\"M0 0h24v24H0V0z\" fill=\"none\"/>\n",
              "    <path d=\"M18.56 5.44l.94 2.06.94-2.06 2.06-.94-2.06-.94-.94-2.06-.94 2.06-2.06.94zm-11 1L8.5 8.5l.94-2.06 2.06-.94-2.06-.94L8.5 2.5l-.94 2.06-2.06.94zm10 10l.94 2.06.94-2.06 2.06-.94-2.06-.94-.94-2.06-.94 2.06-2.06.94z\"/><path d=\"M17.41 7.96l-1.37-1.37c-.4-.4-.92-.59-1.43-.59-.52 0-1.04.2-1.43.59L10.3 9.45l-7.72 7.72c-.78.78-.78 2.05 0 2.83L4 21.41c.39.39.9.59 1.41.59.51 0 1.02-.2 1.41-.59l7.78-7.78 2.81-2.81c.8-.78.8-2.07 0-2.86zM5.41 20L4 18.59l7.72-7.72 1.47 1.35L5.41 20z\"/>\n",
              "  </svg>\n",
              "      </button>\n",
              "      \n",
              "  <style>\n",
              "    .colab-df-container {\n",
              "      display:flex;\n",
              "      flex-wrap:wrap;\n",
              "      gap: 12px;\n",
              "    }\n",
              "\n",
              "    .colab-df-convert {\n",
              "      background-color: #E8F0FE;\n",
              "      border: none;\n",
              "      border-radius: 50%;\n",
              "      cursor: pointer;\n",
              "      display: none;\n",
              "      fill: #1967D2;\n",
              "      height: 32px;\n",
              "      padding: 0 0 0 0;\n",
              "      width: 32px;\n",
              "    }\n",
              "\n",
              "    .colab-df-convert:hover {\n",
              "      background-color: #E2EBFA;\n",
              "      box-shadow: 0px 1px 2px rgba(60, 64, 67, 0.3), 0px 1px 3px 1px rgba(60, 64, 67, 0.15);\n",
              "      fill: #174EA6;\n",
              "    }\n",
              "\n",
              "    [theme=dark] .colab-df-convert {\n",
              "      background-color: #3B4455;\n",
              "      fill: #D2E3FC;\n",
              "    }\n",
              "\n",
              "    [theme=dark] .colab-df-convert:hover {\n",
              "      background-color: #434B5C;\n",
              "      box-shadow: 0px 1px 3px 1px rgba(0, 0, 0, 0.15);\n",
              "      filter: drop-shadow(0px 1px 2px rgba(0, 0, 0, 0.3));\n",
              "      fill: #FFFFFF;\n",
              "    }\n",
              "  </style>\n",
              "\n",
              "      <script>\n",
              "        const buttonEl =\n",
              "          document.querySelector('#df-8b93d4ce-3fd3-4a61-9caa-d51062bbdfd6 button.colab-df-convert');\n",
              "        buttonEl.style.display =\n",
              "          google.colab.kernel.accessAllowed ? 'block' : 'none';\n",
              "\n",
              "        async function convertToInteractive(key) {\n",
              "          const element = document.querySelector('#df-8b93d4ce-3fd3-4a61-9caa-d51062bbdfd6');\n",
              "          const dataTable =\n",
              "            await google.colab.kernel.invokeFunction('convertToInteractive',\n",
              "                                                     [key], {});\n",
              "          if (!dataTable) return;\n",
              "\n",
              "          const docLinkHtml = 'Like what you see? Visit the ' +\n",
              "            '<a target=\"_blank\" href=https://colab.research.google.com/notebooks/data_table.ipynb>data table notebook</a>'\n",
              "            + ' to learn more about interactive tables.';\n",
              "          element.innerHTML = '';\n",
              "          dataTable['output_type'] = 'display_data';\n",
              "          await google.colab.output.renderOutput(dataTable, element);\n",
              "          const docLink = document.createElement('div');\n",
              "          docLink.innerHTML = docLinkHtml;\n",
              "          element.appendChild(docLink);\n",
              "        }\n",
              "      </script>\n",
              "    </div>\n",
              "  </div>\n",
              "  "
            ],
            "text/plain": [
              "     age  Medu  Fedu  traveltime  studytime  ...  health  absences  G1  G2  G3\n",
              "0     18     4     4           2          2  ...       3         6   5   6   6\n",
              "1     17     1     1           1          2  ...       3         4   5   5   6\n",
              "2     15     1     1           1          2  ...       3        10   7   8  10\n",
              "3     15     4     2           1          3  ...       5         2  15  14  15\n",
              "4     16     3     3           1          2  ...       5         4   6  10  10\n",
              "..   ...   ...   ...         ...        ...  ...     ...       ...  ..  ..  ..\n",
              "390   20     2     2           1          2  ...       4        11   9   9   9\n",
              "391   17     3     1           2          1  ...       2         3  14  16  16\n",
              "392   21     1     1           1          1  ...       3         3  10   8   7\n",
              "393   18     3     2           3          1  ...       5         0  11  12  10\n",
              "394   19     1     1           1          1  ...       5         5   8   9   9\n",
              "\n",
              "[395 rows x 24 columns]"
            ]
          },
          "metadata": {},
          "execution_count": 26
        }
      ]
    },
    {
      "cell_type": "code",
      "source": [
        "X_train, X_test, y_train, y_test = train_test_split(features, target, test_size=0.3, random_state=42, shuffle=True)"
      ],
      "metadata": {
        "id": "DFEGJJZ7pG-e"
      },
      "execution_count": 27,
      "outputs": []
    },
    {
      "cell_type": "markdown",
      "source": [
        "### Классификация без настройки параметров."
      ],
      "metadata": {
        "id": "XAxAojzfpqcW"
      }
    },
    {
      "cell_type": "code",
      "source": [
        "from sklearn.linear_model import LogisticRegression\n",
        "\n",
        "lr = LogisticRegression(random_state=42, solver='newton-cg')\n",
        "lr.fit(X_train ,y_train)\n",
        "lr_pred = lr.predict(X_test)\n",
        "\n",
        "print_result(y_test=y_test, pred=lr_pred)"
      ],
      "metadata": {
        "id": "q5CHurJ8pwlm",
        "colab": {
          "base_uri": "https://localhost:8080/",
          "height": 512
        },
        "outputId": "70e7f432-a192-4ad7-d12a-cb1fa19320e7"
      },
      "execution_count": 28,
      "outputs": [
        {
          "output_type": "stream",
          "name": "stdout",
          "text": [
            "результат классификации: \n",
            "               precision    recall  f1-score   support\n",
            "\n",
            "           0       0.47      0.56      0.51        54\n",
            "           1       0.56      0.48      0.52        65\n",
            "\n",
            "    accuracy                           0.51       119\n",
            "   macro avg       0.52      0.52      0.51       119\n",
            "weighted avg       0.52      0.51      0.51       119\n",
            "\n",
            "Матрица ошибок: \n",
            " [[30 24]\n",
            " [34 31]] \n",
            "\n"
          ]
        },
        {
          "output_type": "display_data",
          "data": {
            "image/png": "[encoded data removed]",
            "text/plain": [
              "<Figure size 432x288 with 2 Axes>"
            ]
          },
          "metadata": {
            "needs_background": "light"
          }
        }
      ]
    },
    {
      "cell_type": "markdown",
      "source": [
        "#### Оценка точности"
      ],
      "metadata": {
        "id": "a8Zu3vj_pwW2"
      }
    },
    {
      "cell_type": "code",
      "source": [
        "from sklearn.model_selection import cross_val_score\n",
        "\n",
        "scores = cross_val_score(lr, X_train, y_train, cv=5)\n",
        "print('Средняя оценка точности: ', np.mean(scores))"
      ],
      "metadata": {
        "id": "-mMjPxWQqR1m",
        "colab": {
          "base_uri": "https://localhost:8080/"
        },
        "outputId": "d72e3ea2-615d-4301-d28a-03b33416d937"
      },
      "execution_count": 29,
      "outputs": [
        {
          "output_type": "stream",
          "name": "stdout",
          "text": [
            "Средняя оценка точности:  0.5578571428571428\n"
          ]
        }
      ]
    },
    {
      "cell_type": "markdown",
      "source": [
        "### Классификация c настройкой параметров."
      ],
      "metadata": {
        "id": "qMGDU06r2qgz"
      }
    },
    {
      "cell_type": "code",
      "source": [
        "from sklearn.metrics import accuracy_score\n",
        "\n",
        "penalties = ['l2', 'none']\n",
        "accuracy_result = []\n",
        "cv_result = []\n",
        "for penalty in penalties:\n",
        "  # для 'newton-cg' возможно испльзование только 'l2' или 'none' в качестве параметров\n",
        "  model = LogisticRegression(random_state=42, solver='newton-cg', penalty=penalty)\n",
        "  model.fit(X_train ,y_train)\n",
        "  model_pred = model.predict(X_test)\n",
        "  accuracy_result.append(accuracy_score(y_test, model_pred))\n",
        "  scores = cross_val_score(model, X_train, y_train, cv=5)\n",
        "  cv_result.append(np.mean(scores))"
      ],
      "metadata": {
        "id": "wJ4eepYY3QKU"
      },
      "execution_count": 30,
      "outputs": []
    },
    {
      "cell_type": "code",
      "source": [
        "plt.plot(penalties, accuracy_result, color='b', label='Accuracy')\n",
        "plt.plot(penalties, cv_result, color='r', label='CV accuracy')\n",
        "plt.title('Train-Test accuracy vs CV accuracy')\n",
        "plt.legend()\n",
        "plt.xlabel('penalties'); plt.ylabel('accuracy')\n",
        "plt.show()"
      ],
      "metadata": {
        "colab": {
          "base_uri": "https://localhost:8080/",
          "height": 295
        },
        "id": "0unB_Aq33TvT",
        "outputId": "34391fef-7fe2-479f-ca11-e24706e5112e"
      },
      "execution_count": 31,
      "outputs": [
        {
          "output_type": "display_data",
          "data": {
            "image/png": "[encoded data removed]",
            "text/plain": [
              "<Figure size 432x288 with 1 Axes>"
            ]
          },
          "metadata": {
            "needs_background": "light"
          }
        }
      ]
    },
    {
      "cell_type": "markdown",
      "source": [
        "Точность по оценке train-test без регуляризации даёт лучший результат."
      ],
      "metadata": {
        "id": "mC5upGVb3eH7"
      }
    },
    {
      "cell_type": "code",
      "source": [
        "accuracy_result_train, accuracy_result_test = [],[]\n",
        "for penalty in penalties:\n",
        "  model = LogisticRegression(random_state=42, solver='newton-cg', penalty=penalty)\n",
        "  model.fit(X_train ,y_train)\n",
        "  model_pred = model.predict(X_train)\n",
        "  accuracy_result_train.append(accuracy_score(y_train, model_pred))\n",
        "\n",
        "  model.fit(X_test ,y_test)\n",
        "  model_pred = model.predict(X_test)\n",
        "  accuracy_result_test.append(accuracy_score(y_test, model_pred))"
      ],
      "metadata": {
        "id": "UkKxNy363a-L"
      },
      "execution_count": 32,
      "outputs": []
    },
    {
      "cell_type": "code",
      "source": [
        "plt.plot(penalties, accuracy_result_test, color='b', label='Test')\n",
        "plt.plot(penalties, accuracy_result_train, color='r', label='Train')\n",
        "plt.title('Train vs Test accuracy')\n",
        "plt.xlabel('penalties'); plt.ylabel('accuracy')\n",
        "plt.legend()\n",
        "plt.show()"
      ],
      "metadata": {
        "colab": {
          "base_uri": "https://localhost:8080/",
          "height": 295
        },
        "id": "3kZpFSfN3cRa",
        "outputId": "dc00ea82-b8f0-4fd2-e191-3c4e9e1e689d"
      },
      "execution_count": 33,
      "outputs": [
        {
          "output_type": "display_data",
          "data": {
            "image/png": "[encoded data removed]",
            "text/plain": [
              "<Figure size 432x288 with 1 Axes>"
            ]
          },
          "metadata": {
            "needs_background": "light"
          }
        }
      ]
    },
    {
      "cell_type": "markdown",
      "source": [
        "### Масштабирование признаков"
      ],
      "metadata": {
        "id": "36fD8muj3hnz"
      }
    },
    {
      "cell_type": "code",
      "source": [
        "scaler = StandardScaler()\n",
        "X_train_scaled = scaler.fit_transform(X_train)\n",
        "X_test_scaled = scaler.transform(X_test)"
      ],
      "metadata": {
        "id": "mIYlWBg53l84"
      },
      "execution_count": 34,
      "outputs": []
    },
    {
      "cell_type": "code",
      "source": [
        "lr = LogisticRegression(random_state=42, solver='newton-cg')\n",
        "lr.fit(X_train_scaled ,y_train)\n",
        "lr_pred = lr.predict(X_test_scaled)\n",
        "\n",
        "print_result(y_test=y_test, pred=lr_pred)"
      ],
      "metadata": {
        "colab": {
          "base_uri": "https://localhost:8080/",
          "height": 512
        },
        "id": "S8SBx49g3nK6",
        "outputId": "6e70fa17-9a9d-4439-9886-d72b4695dcab"
      },
      "execution_count": 35,
      "outputs": [
        {
          "output_type": "stream",
          "name": "stdout",
          "text": [
            "результат классификации: \n",
            "               precision    recall  f1-score   support\n",
            "\n",
            "           0       0.47      0.54      0.50        54\n",
            "           1       0.56      0.49      0.52        65\n",
            "\n",
            "    accuracy                           0.51       119\n",
            "   macro avg       0.51      0.51      0.51       119\n",
            "weighted avg       0.52      0.51      0.51       119\n",
            "\n",
            "Матрица ошибок: \n",
            " [[29 25]\n",
            " [33 32]] \n",
            "\n"
          ]
        },
        {
          "output_type": "display_data",
          "data": {
            "image/png": "[encoded data removed]",
            "text/plain": [
              "<Figure size 432x288 with 2 Axes>"
            ]
          },
          "metadata": {
            "needs_background": "light"
          }
        }
      ]
    },
    {
      "cell_type": "code",
      "source": [
        "scores = cross_val_score(lr, X_train_scaled, y_train, cv=5)\n",
        "print('Средняя оценка точности: ', np.mean(scores))"
      ],
      "metadata": {
        "colab": {
          "base_uri": "https://localhost:8080/"
        },
        "id": "xZ-rI6t73p6k",
        "outputId": "3181e1f1-3b97-471c-860b-ef1ae0453465"
      },
      "execution_count": 36,
      "outputs": [
        {
          "output_type": "stream",
          "name": "stdout",
          "text": [
            "Средняя оценка точности:  0.5325324675324674\n"
          ]
        }
      ]
    },
    {
      "cell_type": "markdown",
      "source": [
        "### Настройка гиперпараметров"
      ],
      "metadata": {
        "id": "CwkcUEIP3tzb"
      }
    },
    {
      "cell_type": "code",
      "source": [
        "params={\"C\":[*np.arange(0,1,0.01)], \"penalty\":[\"none\",\"l2\"]}\n",
        "do_grid_search(model=lr,  params=params, x_train=X_train, y_train=y_train, x_test=X_test)"
      ],
      "metadata": {
        "colab": {
          "base_uri": "https://localhost:8080/"
        },
        "id": "RVcS_uYu3sR7",
        "outputId": "a57b054a-698d-4ba0-9d80-d2f0053638a4"
      },
      "execution_count": 37,
      "outputs": [
        {
          "output_type": "stream",
          "name": "stdout",
          "text": [
            "Fitting 5 folds for each of 200 candidates, totalling 1000 fits\n",
            "Best params for accuracy\n",
            "{'C': 0.56, 'penalty': 'l2'}\n"
          ]
        },
        {
          "output_type": "stream",
          "name": "stderr",
          "text": [
            "/usr/local/lib/python3.7/dist-packages/sklearn/model_selection/_validation.py:372: FitFailedWarning: \n",
            "5 fits failed out of a total of 1000.\n",
            "The score on these train-test partitions for these parameters will be set to nan.\n",
            "If these failures are not expected, you can try to debug them by setting error_score='raise'.\n",
            "\n",
            "Below are more details about the failures:\n",
            "--------------------------------------------------------------------------------\n",
            "5 fits failed with the following error:\n",
            "Traceback (most recent call last):\n",
            "  File \"/usr/local/lib/python3.7/dist-packages/sklearn/model_selection/_validation.py\", line 680, in _fit_and_score\n",
            "    estimator.fit(X_train, y_train, **fit_params)\n",
            "  File \"/usr/local/lib/python3.7/dist-packages/sklearn/linear_model/_logistic.py\", line 1614, in fit\n",
            "    for class_, warm_start_coef_ in zip(classes_, warm_start_coef)\n",
            "  File \"/usr/local/lib/python3.7/dist-packages/joblib/parallel.py\", line 1043, in __call__\n",
            "    if self.dispatch_one_batch(iterator):\n",
            "  File \"/usr/local/lib/python3.7/dist-packages/joblib/parallel.py\", line 861, in dispatch_one_batch\n",
            "    self._dispatch(tasks)\n",
            "  File \"/usr/local/lib/python3.7/dist-packages/joblib/parallel.py\", line 779, in _dispatch\n",
            "    job = self._backend.apply_async(batch, callback=cb)\n",
            "  File \"/usr/local/lib/python3.7/dist-packages/joblib/_parallel_backends.py\", line 208, in apply_async\n",
            "    result = ImmediateResult(func)\n",
            "  File \"/usr/local/lib/python3.7/dist-packages/joblib/_parallel_backends.py\", line 572, in __init__\n",
            "    self.results = batch()\n",
            "  File \"/usr/local/lib/python3.7/dist-packages/joblib/parallel.py\", line 263, in __call__\n",
            "    for func, args, kwargs in self.items]\n",
            "  File \"/usr/local/lib/python3.7/dist-packages/joblib/parallel.py\", line 263, in <listcomp>\n",
            "    for func, args, kwargs in self.items]\n",
            "  File \"/usr/local/lib/python3.7/dist-packages/sklearn/utils/fixes.py\", line 216, in __call__\n",
            "    return self.function(*args, **kwargs)\n",
            "  File \"/usr/local/lib/python3.7/dist-packages/sklearn/linear_model/_logistic.py\", line 824, in _logistic_regression_path\n",
            "    hess, func, grad, w0, args=args, maxiter=max_iter, tol=tol\n",
            "  File \"/usr/local/lib/python3.7/dist-packages/sklearn/utils/optimize.py\", line 200, in _newton_cg\n",
            "    func, grad, xk, xsupi, fgrad, old_fval, old_old_fval, args=args\n",
            "  File \"/usr/local/lib/python3.7/dist-packages/sklearn/utils/optimize.py\", line 39, in _line_search_wolfe12\n",
            "    ret = line_search_wolfe1(f, fprime, xk, pk, gfk, old_fval, old_old_fval, **kwargs)\n",
            "  File \"/usr/local/lib/python3.7/dist-packages/scipy/optimize/linesearch.py\", line 101, in line_search_wolfe1\n",
            "    c1=c1, c2=c2, amax=amax, amin=amin, xtol=xtol)\n",
            "  File \"/usr/local/lib/python3.7/dist-packages/scipy/optimize/linesearch.py\", line 175, in scalar_search_wolfe1\n",
            "    phi1 = phi(stp)\n",
            "  File \"/usr/local/lib/python3.7/dist-packages/scipy/optimize/linesearch.py\", line 87, in phi\n",
            "    return f(xk + s*pk, *args)\n",
            "  File \"/usr/local/lib/python3.7/dist-packages/sklearn/linear_model/_logistic.py\", line 167, in _logistic_loss\n",
            "    out = -np.sum(sample_weight * log_logistic(yz)) + 0.5 * alpha * np.dot(w, w)\n",
            "  File \"/usr/local/lib/python3.7/dist-packages/sklearn/utils/extmath.py\", line 785, in log_logistic\n",
            "    X = check_array(X, dtype=np.float64)\n",
            "  File \"/usr/local/lib/python3.7/dist-packages/sklearn/utils/validation.py\", line 800, in check_array\n",
            "    _assert_all_finite(array, allow_nan=force_all_finite == \"allow-nan\")\n",
            "  File \"/usr/local/lib/python3.7/dist-packages/sklearn/utils/validation.py\", line 116, in _assert_all_finite\n",
            "    type_err, msg_dtype if msg_dtype is not None else X.dtype\n",
            "ValueError: Input contains NaN, infinity or a value too large for dtype('float64').\n",
            "\n",
            "  warnings.warn(some_fits_failed_message, FitFailedWarning)\n",
            "/usr/local/lib/python3.7/dist-packages/sklearn/model_selection/_search.py:972: UserWarning: One or more of the test scores are non-finite: [0.52201299        nan 0.52201299 0.48214286 0.52201299 0.49311688\n",
            " 0.52201299 0.50766234 0.52201299 0.50402597 0.52201299 0.50402597\n",
            " 0.52201299 0.50766234 0.52201299 0.51487013 0.52201299 0.51850649\n",
            " 0.52201299 0.52571429 0.52201299 0.51844156 0.52201299 0.52207792\n",
            " 0.52201299 0.52922078 0.52201299 0.52922078 0.52201299 0.52201299\n",
            " 0.52201299 0.52201299 0.52201299 0.52201299 0.52201299 0.51837662\n",
            " 0.52201299 0.51837662 0.52201299 0.51837662 0.52201299 0.52201299\n",
            " 0.52201299 0.52201299 0.52201299 0.52201299 0.52201299 0.52201299\n",
            " 0.52201299 0.52201299 0.52201299 0.52201299 0.52201299 0.51837662\n",
            " 0.52201299 0.51837662 0.52201299 0.51837662 0.52201299 0.51480519\n",
            " 0.52201299 0.51480519 0.52201299 0.51480519 0.52201299 0.52207792\n",
            " 0.52201299 0.52207792 0.52201299 0.52207792 0.52201299 0.52207792\n",
            " 0.52201299 0.52207792 0.52201299 0.52207792 0.52201299 0.52207792\n",
            " 0.52201299 0.52207792 0.52201299 0.52207792 0.52201299 0.52207792\n",
            " 0.52201299 0.52571429 0.52201299 0.52571429 0.52201299 0.52571429\n",
            " 0.52201299 0.52571429 0.52201299 0.52928571 0.52201299 0.52564935\n",
            " 0.52201299 0.52564935 0.52201299 0.52928571 0.52201299 0.52928571\n",
            " 0.52201299 0.52928571 0.52201299 0.52928571 0.52201299 0.52928571\n",
            " 0.52201299 0.52928571 0.52201299 0.52928571 0.52201299 0.53292208\n",
            " 0.52201299 0.53292208 0.52201299 0.53292208 0.52201299 0.53292208\n",
            " 0.52201299 0.52928571 0.52201299 0.52928571 0.52201299 0.52928571\n",
            " 0.52201299 0.52928571 0.52201299 0.52564935 0.52201299 0.52564935\n",
            " 0.52201299 0.52564935 0.52201299 0.52564935 0.52201299 0.52201299\n",
            " 0.52201299 0.52201299 0.52201299 0.52201299 0.52201299 0.52201299\n",
            " 0.52201299 0.52201299 0.52201299 0.52201299 0.52201299 0.52201299\n",
            " 0.52201299 0.52201299 0.52201299 0.52201299 0.52201299 0.52564935\n",
            " 0.52201299 0.52564935 0.52201299 0.52564935 0.52201299 0.52564935\n",
            " 0.52201299 0.52564935 0.52201299 0.52564935 0.52201299 0.52564935\n",
            " 0.52201299 0.52564935 0.52201299 0.52564935 0.52201299 0.52564935\n",
            " 0.52201299 0.52564935 0.52201299 0.52564935 0.52201299 0.52201299\n",
            " 0.52201299 0.52201299 0.52201299 0.51837662 0.52201299 0.51837662\n",
            " 0.52201299 0.51837662 0.52201299 0.51837662 0.52201299 0.51837662\n",
            " 0.52201299 0.51837662 0.52201299 0.51837662 0.52201299 0.51837662\n",
            " 0.52201299 0.51837662]\n",
            "  category=UserWarning,\n"
          ]
        }
      ]
    },
    {
      "cell_type": "code",
      "source": [
        "lr = LogisticRegression(C=.34,penalty=\"l2\")\n",
        "lr.fit(X_train,y_train)\n",
        "\n",
        "print_result(y_test=y_test, pred=lr.fit(X_train, y_train).predict(X_test))\n",
        "score = cross_val_score(lr, X_train, y_train, cv=5, scoring='accuracy')\n",
        "print('Средняя точность с настройкой гиперпараметров GridSearch: ', np.mean(score))"
      ],
      "metadata": {
        "colab": {
          "base_uri": "https://localhost:8080/",
          "height": 1000
        },
        "id": "keSumU8o3xDT",
        "outputId": "cbd91ae9-7988-4bb9-9ece-2f654b5689fe"
      },
      "execution_count": 38,
      "outputs": [
        {
          "output_type": "stream",
          "name": "stderr",
          "text": [
            "/usr/local/lib/python3.7/dist-packages/sklearn/linear_model/_logistic.py:818: ConvergenceWarning: lbfgs failed to converge (status=1):\n",
            "STOP: TOTAL NO. of ITERATIONS REACHED LIMIT.\n",
            "\n",
            "Increase the number of iterations (max_iter) or scale the data as shown in:\n",
            "    https://scikit-learn.org/stable/modules/preprocessing.html\n",
            "Please also refer to the documentation for alternative solver options:\n",
            "    https://scikit-learn.org/stable/modules/linear_model.html#logistic-regression\n",
            "  extra_warning_msg=_LOGISTIC_SOLVER_CONVERGENCE_MSG,\n",
            "/usr/local/lib/python3.7/dist-packages/sklearn/linear_model/_logistic.py:818: ConvergenceWarning: lbfgs failed to converge (status=1):\n",
            "STOP: TOTAL NO. of ITERATIONS REACHED LIMIT.\n",
            "\n",
            "Increase the number of iterations (max_iter) or scale the data as shown in:\n",
            "    https://scikit-learn.org/stable/modules/preprocessing.html\n",
            "Please also refer to the documentation for alternative solver options:\n",
            "    https://scikit-learn.org/stable/modules/linear_model.html#logistic-regression\n",
            "  extra_warning_msg=_LOGISTIC_SOLVER_CONVERGENCE_MSG,\n"
          ]
        },
        {
          "output_type": "stream",
          "name": "stdout",
          "text": [
            "результат классификации: \n",
            "               precision    recall  f1-score   support\n",
            "\n",
            "           0       0.50      0.57      0.53        54\n",
            "           1       0.60      0.52      0.56        65\n",
            "\n",
            "    accuracy                           0.55       119\n",
            "   macro avg       0.55      0.55      0.55       119\n",
            "weighted avg       0.55      0.55      0.55       119\n",
            "\n",
            "Матрица ошибок: \n",
            " [[31 23]\n",
            " [31 34]] \n",
            "\n"
          ]
        },
        {
          "output_type": "display_data",
          "data": {
            "image/png": "[encoded data removed]",
            "text/plain": [
              "<Figure size 432x288 with 2 Axes>"
            ]
          },
          "metadata": {
            "needs_background": "light"
          }
        },
        {
          "output_type": "stream",
          "name": "stdout",
          "text": [
            "Средняя точность с настройкой гиперпараметров GridSearch:  0.5507142857142856\n"
          ]
        },
        {
          "output_type": "stream",
          "name": "stderr",
          "text": [
            "/usr/local/lib/python3.7/dist-packages/sklearn/linear_model/_logistic.py:818: ConvergenceWarning: lbfgs failed to converge (status=1):\n",
            "STOP: TOTAL NO. of ITERATIONS REACHED LIMIT.\n",
            "\n",
            "Increase the number of iterations (max_iter) or scale the data as shown in:\n",
            "    https://scikit-learn.org/stable/modules/preprocessing.html\n",
            "Please also refer to the documentation for alternative solver options:\n",
            "    https://scikit-learn.org/stable/modules/linear_model.html#logistic-regression\n",
            "  extra_warning_msg=_LOGISTIC_SOLVER_CONVERGENCE_MSG,\n",
            "/usr/local/lib/python3.7/dist-packages/sklearn/linear_model/_logistic.py:818: ConvergenceWarning: lbfgs failed to converge (status=1):\n",
            "STOP: TOTAL NO. of ITERATIONS REACHED LIMIT.\n",
            "\n",
            "Increase the number of iterations (max_iter) or scale the data as shown in:\n",
            "    https://scikit-learn.org/stable/modules/preprocessing.html\n",
            "Please also refer to the documentation for alternative solver options:\n",
            "    https://scikit-learn.org/stable/modules/linear_model.html#logistic-regression\n",
            "  extra_warning_msg=_LOGISTIC_SOLVER_CONVERGENCE_MSG,\n",
            "/usr/local/lib/python3.7/dist-packages/sklearn/linear_model/_logistic.py:818: ConvergenceWarning: lbfgs failed to converge (status=1):\n",
            "STOP: TOTAL NO. of ITERATIONS REACHED LIMIT.\n",
            "\n",
            "Increase the number of iterations (max_iter) or scale the data as shown in:\n",
            "    https://scikit-learn.org/stable/modules/preprocessing.html\n",
            "Please also refer to the documentation for alternative solver options:\n",
            "    https://scikit-learn.org/stable/modules/linear_model.html#logistic-regression\n",
            "  extra_warning_msg=_LOGISTIC_SOLVER_CONVERGENCE_MSG,\n",
            "/usr/local/lib/python3.7/dist-packages/sklearn/linear_model/_logistic.py:818: ConvergenceWarning: lbfgs failed to converge (status=1):\n",
            "STOP: TOTAL NO. of ITERATIONS REACHED LIMIT.\n",
            "\n",
            "Increase the number of iterations (max_iter) or scale the data as shown in:\n",
            "    https://scikit-learn.org/stable/modules/preprocessing.html\n",
            "Please also refer to the documentation for alternative solver options:\n",
            "    https://scikit-learn.org/stable/modules/linear_model.html#logistic-regression\n",
            "  extra_warning_msg=_LOGISTIC_SOLVER_CONVERGENCE_MSG,\n",
            "/usr/local/lib/python3.7/dist-packages/sklearn/linear_model/_logistic.py:818: ConvergenceWarning: lbfgs failed to converge (status=1):\n",
            "STOP: TOTAL NO. of ITERATIONS REACHED LIMIT.\n",
            "\n",
            "Increase the number of iterations (max_iter) or scale the data as shown in:\n",
            "    https://scikit-learn.org/stable/modules/preprocessing.html\n",
            "Please also refer to the documentation for alternative solver options:\n",
            "    https://scikit-learn.org/stable/modules/linear_model.html#logistic-regression\n",
            "  extra_warning_msg=_LOGISTIC_SOLVER_CONVERGENCE_MSG,\n"
          ]
        }
      ]
    },
    {
      "cell_type": "markdown",
      "source": [
        "С настройкой гиперпараметров точность алгоритма увеличались на 0.02 (примерно)"
      ],
      "metadata": {
        "id": "jqB30IL33y7s"
      }
    }
  ]
}