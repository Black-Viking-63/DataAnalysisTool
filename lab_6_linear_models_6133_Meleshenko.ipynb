{
  "nbformat": 4,
  "nbformat_minor": 0,
  "metadata": {
    "colab": {
      "name": "lab_6_linear_models_6133_Meleshenko.ipynb",
      "provenance": [],
      "toc_visible": true
    },
    "kernelspec": {
      "name": "python3",
      "display_name": "Python 3"
    },
    "language_info": {
      "name": "python"
    }
  },
  "cells": [
    {
      "cell_type": "markdown",
      "source": [
        "# Лабораторная работа №6 по курсу<br>\"Интеллектуальный анализ данных\"."
      ],
      "metadata": {
        "id": "fe9fz8C5hozW"
      }
    },
    {
      "cell_type": "markdown",
      "source": [
        "Лабораторная работа №6 \"Линейная Регрессия в sklearn\".<br>\n",
        "Выполнил студент группы 6133-010402 Мелешенко Иван."
      ],
      "metadata": {
        "id": "2x1mXnTlhwKU"
      }
    },
    {
      "cell_type": "markdown",
      "source": [
        "# [Задание на лабораторную работу](https://github.com/kvvik/DS_SamU/blob/main/tasks/lab_6_linear_models_groupNumber_secondName.ipynb)"
      ],
      "metadata": {
        "id": "wdV1chxSh22U"
      }
    },
    {
      "cell_type": "markdown",
      "source": [
        "## ***Задание 0.*** Найти и загрузить датасет, подходящий для задачи регрессии.<br>"
      ],
      "metadata": {
        "id": "GccvmnIbh2vc"
      }
    },
    {
      "cell_type": "markdown",
      "source": [
        "Набор данных должен содержать не только числовые, но и категориальные/бинарные признаки. Опишите данные, что обозначает каждый столбец, какого типа (категориальный, вещественный, целочисленный, бинарный) данный столбец, при необходимости для категориальных в том числе бинарных признаков привести расшифровку их значений."
      ],
      "metadata": {
        "id": "6NH4J0XRnhLV"
      }
    },
    {
      "cell_type": "markdown",
      "source": [
        "## ***Задание 1.*** Удалить категориальные / бинарные признаки, оставив только вещественные.<br>\n"
      ],
      "metadata": {
        "id": "-wTYGZuwmuan"
      }
    },
    {
      "cell_type": "markdown",
      "source": [
        "Данная операция производится временно, в последствии данные признаки будут возвращены."
      ],
      "metadata": {
        "id": "CdwZzKManjK3"
      }
    },
    {
      "cell_type": "markdown",
      "source": [
        "## ***Задание 2.*** Визуализировать heatmap-матрицу кореллированности признаков.<br>\n"
      ],
      "metadata": {
        "id": "GAbz1yygF1ZO"
      }
    },
    {
      "cell_type": "markdown",
      "source": [
        "## ***Задание 3.*** Визуализировать взаимосвязь между целевой переменной и каждым признаком.<br>"
      ],
      "metadata": {
        "id": "8-u6WkIXm70P"
      }
    },
    {
      "cell_type": "markdown",
      "source": [
        "Лучше всего это производить с помощью srs.pairplot или pandas.plotting.scatter_matrix или как-то ещё. Лучше всего, если будете строить диаграмму попарного распределения не между ВСЕМИ парами признаков, а только между признаками и целевой переменной."
      ],
      "metadata": {
        "id": "96gEh1TxnlwX"
      }
    },
    {
      "cell_type": "markdown",
      "source": [
        "## ***Задание 4.*** Разделить набор данных на обучающую и тестовую выборки.<br>"
      ],
      "metadata": {
        "id": "WqoAeHREnBw-"
      }
    },
    {
      "cell_type": "markdown",
      "source": [
        "## ***Задание 5.*** Линейная регрессия.<br>"
      ],
      "metadata": {
        "id": "RADu1mNhnGeu"
      }
    },
    {
      "cell_type": "markdown",
      "source": [
        "### ***Задание 5.1***\n"
      ],
      "metadata": {
        "id": "uGYyVOABnoYG"
      }
    },
    {
      "cell_type": "markdown",
      "source": [
        "Обучить модель линейной регрессии (LinearRegression).<br>"
      ],
      "metadata": {
        "id": "XOdrrf97nvre"
      }
    },
    {
      "cell_type": "markdown",
      "source": [
        "### ***Задание 5.2***"
      ],
      "metadata": {
        "id": "3jEm7DNfnqj2"
      }
    },
    {
      "cell_type": "markdown",
      "source": [
        "Вывести метрики MAE, MSE и R2 на обущающем и тестовом наборе.<br>\n"
      ],
      "metadata": {
        "id": "JoJZ77l9nzrI"
      }
    },
    {
      "cell_type": "markdown",
      "source": [
        "### ***Задание 5.3***\n",
        "\n"
      ],
      "metadata": {
        "id": "f2yTusFensMV"
      }
    },
    {
      "cell_type": "markdown",
      "source": [
        "Вывести model.coef_ и model.intercept_.<br>"
      ],
      "metadata": {
        "id": "8_gro9a_n1pW"
      }
    },
    {
      "cell_type": "markdown",
      "source": [
        "### ***Задание 5.4***\n"
      ],
      "metadata": {
        "id": "ynFZlV_rntUV"
      }
    },
    {
      "cell_type": "markdown",
      "source": [
        "Построить график (barh) с важностью коэфициентов при соответствующих признаках.\n",
        "Данный график строится точно так же, как мы строили графики для feature_importance в теме с деревьями. Желательно, чтобы сверху вниз шли коэффициенты по убыванию, а названия соответствующих признаков подписаны по вертикальной оси."
      ],
      "metadata": {
        "id": "rsrs-ifun4qG"
      }
    },
    {
      "cell_type": "markdown",
      "source": [
        "## ***Задание 6.*** Модель Lasso.<br>"
      ],
      "metadata": {
        "id": "qLja1OnonLRW"
      }
    },
    {
      "cell_type": "markdown",
      "source": [
        "### ***Задание 6.1***"
      ],
      "metadata": {
        "id": "2W1QEajtn-82"
      }
    },
    {
      "cell_type": "markdown",
      "source": [
        "Обучить модель регрессии (Lasso), с помощью GridSearchCV подобрать параметр alpha, дальше работаем с лучшей моделью.<br>"
      ],
      "metadata": {
        "id": "7AVQWAIOoBPN"
      }
    },
    {
      "cell_type": "markdown",
      "source": [
        "### ***Задание 6.2***"
      ],
      "metadata": {
        "id": "Kgn3_qtEoDCW"
      }
    },
    {
      "cell_type": "markdown",
      "source": [
        "Для лучшей модели вывести метрики MAE, MSE и R2 на обущающем и тестовом наборе."
      ],
      "metadata": {
        "id": "fn4Ji6yOoEa2"
      }
    },
    {
      "cell_type": "markdown",
      "source": [
        "### ***Задание 6.3***\n"
      ],
      "metadata": {
        "id": "GruUY51aoGPl"
      }
    },
    {
      "cell_type": "markdown",
      "source": [
        "Для лучшей модели вывести model.coef_ и model.intercept_.<br>"
      ],
      "metadata": {
        "id": "B_C1n7PToPm9"
      }
    },
    {
      "cell_type": "markdown",
      "source": [
        "### ***Задание 6.4***"
      ],
      "metadata": {
        "id": "kD4yN6myoRte"
      }
    },
    {
      "cell_type": "markdown",
      "source": [
        "Для лучшей модели построить график (barh) с важностью коэфициентов при соответствующих признаках.<br>"
      ],
      "metadata": {
        "id": "xcGGI76EoTgd"
      }
    },
    {
      "cell_type": "markdown",
      "source": [
        "## ***Задание 7.*** Модель Ridge.<br>"
      ],
      "metadata": {
        "id": "5WtbxUdFnO9m"
      }
    },
    {
      "cell_type": "markdown",
      "source": [
        "### ***Задание 7.1***"
      ],
      "metadata": {
        "id": "-U0Z-WGZpryu"
      }
    },
    {
      "cell_type": "markdown",
      "source": [
        "Обучить модель регрессии (Ridge), с помощью GridSearchCV подобрать параметр alpha, дальше работаем с лучшей моделью.<br>"
      ],
      "metadata": {
        "id": "nvwrIrJ0pw8m"
      }
    },
    {
      "cell_type": "markdown",
      "source": [
        "### ***Задание 7.2***"
      ],
      "metadata": {
        "id": "jqNb0mzOpzKW"
      }
    },
    {
      "cell_type": "markdown",
      "source": [
        "Для лучшей модели вывести метрики MAE, MSE и R2 на обущающем и тестовом наборе."
      ],
      "metadata": {
        "id": "PPLk1U9fp2m3"
      }
    },
    {
      "cell_type": "markdown",
      "source": [
        "### ***Задание 7.3***"
      ],
      "metadata": {
        "id": "zCyP6ctwp4qg"
      }
    },
    {
      "cell_type": "markdown",
      "source": [
        "Для лучшей модели вывести model.coef_ и model.intercept_.<br>"
      ],
      "metadata": {
        "id": "RXzZ1Ar3p6u-"
      }
    },
    {
      "cell_type": "markdown",
      "source": [
        "### ***Задание 7.4***\n"
      ],
      "metadata": {
        "id": "vnja41Opp8B2"
      }
    },
    {
      "cell_type": "markdown",
      "source": [
        "Для лучшей модели построить график (barh) с важностью коэфициентов при соответствующих признаках.<br>"
      ],
      "metadata": {
        "id": "Kdo1EKW6p9WG"
      }
    },
    {
      "cell_type": "markdown",
      "source": [
        "## ***Задание 8.*** Модель ElasticNet.<br>"
      ],
      "metadata": {
        "id": "zRw6jtWLnRwm"
      }
    },
    {
      "cell_type": "markdown",
      "source": [
        "### ***Задание 8.1***"
      ],
      "metadata": {
        "id": "n33u3vbMqUN2"
      }
    },
    {
      "cell_type": "markdown",
      "source": [
        "Обучить модель регрессии (ElasticNet), с помощью GridSearchCV подобрать параметры alpha и l1_ratio (в пределах 0:1), дальше работаем с лучшей моделью."
      ],
      "metadata": {
        "id": "KzgDErWMqbeG"
      }
    },
    {
      "cell_type": "markdown",
      "source": [
        "### ***Задание 8.2***"
      ],
      "metadata": {
        "id": "lDw6RrCaqdM4"
      }
    },
    {
      "cell_type": "markdown",
      "source": [
        "Для лучшей модели вывести метрики MAE, MSE и R2 на обущающем и тестовом наборе."
      ],
      "metadata": {
        "id": "vhguAGUkqefe"
      }
    },
    {
      "cell_type": "markdown",
      "source": [
        "### ***Задание 8.3***"
      ],
      "metadata": {
        "id": "EWMuqIs4qgMW"
      }
    },
    {
      "cell_type": "markdown",
      "source": [
        "Для лучшей модели вывести model.coef_ и model.intercept_."
      ],
      "metadata": {
        "id": "qs2YVbUHqh12"
      }
    },
    {
      "cell_type": "markdown",
      "source": [
        "### ***Задание 8.4***"
      ],
      "metadata": {
        "id": "Hp_waDE6qjYG"
      }
    },
    {
      "cell_type": "markdown",
      "source": [
        "\n",
        "Для лучшей модели построить график (barh) с важностью коэфициентов при соответствующих признаках."
      ],
      "metadata": {
        "id": "zwKUY6rEqjU9"
      }
    },
    {
      "cell_type": "markdown",
      "source": [
        "## ***Задание 9.*** Выбрать лучшую модель, указать значения MAE, MSE и R2 на тестовом наборе.<br>\n"
      ],
      "metadata": {
        "id": "4H6AQBqJnUoF"
      }
    },
    {
      "cell_type": "markdown",
      "source": [
        "## ***Задание 10.*** Возвращаем категориальные / бинарные признаки на место в датасет, категориальные признаки преобразуем в набор бинарных через pd.get_dummies( ..., drop_first = True ).<br> "
      ],
      "metadata": {
        "id": "NbEOpinHnYHW"
      }
    },
    {
      "cell_type": "markdown",
      "source": [
        "Обучаем лучшую модель."
      ],
      "metadata": {
        "id": "TCvsnoAsq6nf"
      }
    },
    {
      "cell_type": "markdown",
      "source": [
        "## ***Задание 11.*** Как изменились метрики MAE и MSE на тестовом наборе, вывести их и сделать выводы.<br> \n"
      ],
      "metadata": {
        "id": "-4ZH8J1CnaU0"
      }
    },
    {
      "cell_type": "markdown",
      "source": [
        "## ***Задание 12.*** Прогоняем датасет, который уже обогащён бинарными признаками, через StandardScaler, обучаем найденную на предыдущих шагах лучшую модель. Как изменились MAE, MSE и R2 на тестовом наборе, вывести метрики и сделать выводы.<br> \n"
      ],
      "metadata": {
        "id": "5Sn8lGzRnbq-"
      }
    },
    {
      "cell_type": "markdown",
      "source": [
        "## ***Задание 13.*** Построить график (barh) с важностью коэфициентов при соответствующих признаках для задания 12.<br> "
      ],
      "metadata": {
        "id": "q5dwXJYzndT1"
      }
    },
    {
      "cell_type": "markdown",
      "source": [
        "# Выполнение заданий лабораторной работы"
      ],
      "metadata": {
        "id": "tX95uN489869"
      }
    },
    {
      "cell_type": "markdown",
      "source": [
        "## Этап 00. Подключение библиотек и Google Drive."
      ],
      "metadata": {
        "id": "Z6CNVQsg_3p0"
      }
    },
    {
      "cell_type": "markdown",
      "source": [
        "### Импорт библиотек"
      ],
      "metadata": {
        "id": "-BlKfBctAdL_"
      }
    },
    {
      "cell_type": "code",
      "source": [
        "import pandas as pd\n",
        "import numpy as np\n",
        "import seaborn as sns\n",
        "import sklearn.model_selection\n",
        "import sklearn.linear_model\n",
        "import sklearn.metrics\n",
        "import matplotlib.pyplot as plt\n",
        "from sklearn.linear_model import Lasso\n",
        "from sklearn.model_selection import GridSearchCV\n",
        "from sklearn.metrics import r2_score\n",
        "from sklearn.linear_model import Ridge\n",
        "from sklearn.linear_model import ElasticNet\n",
        "from sklearn.preprocessing import StandardScaler\n",
        "import warnings\n",
        "warnings.simplefilter(\"ignore\")"
      ],
      "metadata": {
        "id": "97U_Zypa-kw1"
      },
      "execution_count": 1,
      "outputs": []
    },
    {
      "cell_type": "markdown",
      "source": [
        "### Подключение Google Drive"
      ],
      "metadata": {
        "id": "dml6XY7BAja0"
      }
    },
    {
      "cell_type": "code",
      "source": [
        "from google.colab import drive\n",
        "drive.mount('/content/drive')"
      ],
      "metadata": {
        "colab": {
          "base_uri": "https://localhost:8080/"
        },
        "id": "zAdSyVx0-tku",
        "outputId": "17486df3-0a17-49d5-9c91-7dc7f13f4750"
      },
      "execution_count": 2,
      "outputs": [
        {
          "output_type": "stream",
          "name": "stdout",
          "text": [
            "Mounted at /content/drive\n"
          ]
        }
      ]
    },
    {
      "cell_type": "markdown",
      "source": [
        "## Этап 0. Загрузка и обработка [Dataset-a](http://archive.ics.uci.edu/ml/datasets/Automobile)"
      ],
      "metadata": {
        "id": "OjKxfNSnBd8d"
      }
    },
    {
      "cell_type": "markdown",
      "source": [
        "### Описание [Dataset-a](http://archive.ics.uci.edu/ml/datasets/Automobile)"
      ],
      "metadata": {
        "id": "8EZNFjSeAZ9O"
      }
    },
    {
      "cell_type": "code",
      "source": [
        "fp = \"/content/drive/MyDrive/datasets/imports-85_inf.txt\" #вытащим описание датасета\n",
        "with open(fp) as file_handler:\n",
        "    for line in file_handler:\n",
        "        print(line)"
      ],
      "metadata": {
        "colab": {
          "base_uri": "https://localhost:8080/"
        },
        "id": "owhYzSTZAcpN",
        "outputId": "f6bb154e-cc46-455d-e6a2-7b8da146d7f7"
      },
      "execution_count": 3,
      "outputs": [
        {
          "output_type": "stream",
          "name": "stdout",
          "text": [
            "1. Title: 1985 Auto Imports Database\n",
            "\n",
            "\n",
            "\n",
            "2. Source Information:\n",
            "\n",
            "   -- Creator/Donor: Jeffrey C. Schlimmer (Jeffrey.Schlimmer@a.gp.cs.cmu.edu)\n",
            "\n",
            "   -- Date: 19 May 1987\n",
            "\n",
            "   -- Sources:\n",
            "\n",
            "     1) 1985 Model Import Car and Truck Specifications, 1985 Ward's\n",
            "\n",
            "        Automotive Yearbook.\n",
            "\n",
            "     2) Personal Auto Manuals, Insurance Services Office, 160 Water\n",
            "\n",
            "        Street, New York, NY 10038 \n",
            "\n",
            "     3) Insurance Collision Report, Insurance Institute for Highway\n",
            "\n",
            "        Safety, Watergate 600, Washington, DC 20037\n",
            "\n",
            "\n",
            "\n",
            "3. Past Usage:\n",
            "\n",
            "   -- Kibler,~D., Aha,~D.~W., \\& Albert,~M. (1989).  Instance-based prediction\n",
            "\n",
            "      of real-valued attributes.  {\\it Computational Intelligence}, {\\it 5},\n",
            "\n",
            "      51--57.\n",
            "\n",
            "\t -- Predicted price of car using all numeric and Boolean attributes\n",
            "\n",
            "\t -- Method: an instance-based learning (IBL) algorithm derived from a\n",
            "\n",
            "\t    localized k-nearest neighbor algorithm.  Compared with a\n",
            "\n",
            "\t    linear regression prediction...so all instances\n",
            "\n",
            "\t    with missing attribute values were discarded.  This resulted with\n",
            "\n",
            "\t    a training set of 159 instances, which was also used as a test\n",
            "\n",
            "\t    set (minus the actual instance during testing).\n",
            "\n",
            "\t -- Results: Percent Average Deviation Error of Prediction from Actual\n",
            "\n",
            "\t    -- 11.84% for the IBL algorithm\n",
            "\n",
            "\t    -- 14.12% for the resulting linear regression equation\n",
            "\n",
            "\n",
            "\n",
            "4. Relevant Information:\n",
            "\n",
            "   -- Description\n",
            "\n",
            "      This data set consists of three types of entities: (a) the\n",
            "\n",
            "      specification of an auto in terms of various characteristics, (b)\n",
            "\n",
            "      its assigned insurance risk rating, (c) its normalized losses in use\n",
            "\n",
            "      as compared to other cars.  The second rating corresponds to the\n",
            "\n",
            "      degree to which the auto is more risky than its price indicates.\n",
            "\n",
            "      Cars are initially assigned a risk factor symbol associated with its\n",
            "\n",
            "      price.   Then, if it is more risky (or less), this symbol is\n",
            "\n",
            "      adjusted by moving it up (or down) the scale.  Actuarians call this\n",
            "\n",
            "      process \"symboling\".  A value of +3 indicates that the auto is\n",
            "\n",
            "      risky, -3 that it is probably pretty safe.\n",
            "\n",
            "\n",
            "\n",
            "      The third factor is the relative average loss payment per insured\n",
            "\n",
            "      vehicle year.  This value is normalized for all autos within a\n",
            "\n",
            "      particular size classification (two-door small, station wagons,\n",
            "\n",
            "      sports/speciality, etc...), and represents the average loss per car\n",
            "\n",
            "      per year.\n",
            "\n",
            "\n",
            "\n",
            "   -- Note: Several of the attributes in the database could be used as a\n",
            "\n",
            "            \"class\" attribute.\n",
            "\n",
            "\n",
            "\n",
            "5. Number of Instances: 205\n",
            "\n",
            "\n",
            "\n",
            "6. Number of Attributes: 26 total\n",
            "\n",
            "   -- 15 continuous\n",
            "\n",
            "   -- 1 integer\n",
            "\n",
            "   -- 10 nominal\n",
            "\n",
            "\n",
            "\n",
            "7. Attribute Information:     \n",
            "\n",
            "     Attribute:                Attribute Range:\n",
            "\n",
            "     ------------------        -----------------------------------------------\n",
            "\n",
            "  1. symboling:                -3, -2, -1, 0, 1, 2, 3.\n",
            "\n",
            "  2. normalized-losses:        continuous from 65 to 256.\n",
            "\n",
            "  3. make:                     alfa-romero, audi, bmw, chevrolet, dodge, honda,\n",
            "\n",
            "                               isuzu, jaguar, mazda, mercedes-benz, mercury,\n",
            "\n",
            "                               mitsubishi, nissan, peugot, plymouth, porsche,\n",
            "\n",
            "                               renault, saab, subaru, toyota, volkswagen, volvo\n",
            "\n",
            "  4. fuel-type:                diesel, gas.\n",
            "\n",
            "  5. aspiration:               std, turbo.\n",
            "\n",
            "  6. num-of-doors:             four, two.\n",
            "\n",
            "  7. body-style:               hardtop, wagon, sedan, hatchback, convertible.\n",
            "\n",
            "  8. drive-wheels:             4wd, fwd, rwd.\n",
            "\n",
            "  9. engine-location:          front, rear.\n",
            "\n",
            " 10. wheel-base:               continuous from 86.6 120.9.\n",
            "\n",
            " 11. length:                   continuous from 141.1 to 208.1.\n",
            "\n",
            " 12. width:                    continuous from 60.3 to 72.3.\n",
            "\n",
            " 13. height:                   continuous from 47.8 to 59.8.\n",
            "\n",
            " 14. curb-weight:              continuous from 1488 to 4066.\n",
            "\n",
            " 15. engine-type:              dohc, dohcv, l, ohc, ohcf, ohcv, rotor.\n",
            "\n",
            " 16. num-of-cylinders:         eight, five, four, six, three, twelve, two.\n",
            "\n",
            " 17. engine-size:              continuous from 61 to 326.\n",
            "\n",
            " 18. fuel-system:              1bbl, 2bbl, 4bbl, idi, mfi, mpfi, spdi, spfi.\n",
            "\n",
            " 19. bore:                     continuous from 2.54 to 3.94.\n",
            "\n",
            " 20. stroke:                   continuous from 2.07 to 4.17.\n",
            "\n",
            " 21. compression-ratio:        continuous from 7 to 23.\n",
            "\n",
            " 22. horsepower:               continuous from 48 to 288.\n",
            "\n",
            " 23. peak-rpm:                 continuous from 4150 to 6600.\n",
            "\n",
            " 24. city-mpg:                 continuous from 13 to 49.\n",
            "\n",
            " 25. highway-mpg:              continuous from 16 to 54.\n",
            "\n",
            " 26. price:                    continuous from 5118 to 45400.\n",
            "\n",
            "\n",
            "\n",
            "8. Missing Attribute Values: (denoted by \"?\")\n",
            "\n",
            "   Attribute #:   Number of instances missing a value:\n",
            "\n",
            "   2.             41\n",
            "\n",
            "   6.             2\n",
            "\n",
            "   19.            4\n",
            "\n",
            "   20.            4\n",
            "\n",
            "   22.            2\n",
            "\n",
            "   23.            2\n",
            "\n",
            "   26.            4\n",
            "\n",
            "\n",
            "\n",
            "\n",
            "\n",
            "\n",
            "\n",
            "\n",
            "\n"
          ]
        }
      ]
    },
    {
      "cell_type": "markdown",
      "source": [
        "### Загрузка Dataset-а"
      ],
      "metadata": {
        "id": "Iu3qKD6_BEdd"
      }
    },
    {
      "cell_type": "code",
      "source": [
        "machframe = pd.read_csv(\"/content/drive/MyDrive/datasets/imports-85.txt\",names=['symboling', 'normalized-losses', 'make', 'fuel-type', \n",
        "                                           'aspiration', 'num-of-doors','body-style','drive-wheels',\n",
        "                                           'engine-location','wheel-base','length','width','height',\n",
        "                                           'curb-weight','engine-type','num-of-cylinders','engine-size',\n",
        "                                           'fuel-system','bore','stroke','compression-ratio','horsepower',\n",
        "                                          'peak-rpm','city-mpg','highway-mpg','price'])"
      ],
      "metadata": {
        "id": "Sbg6sBQPBENG"
      },
      "execution_count": 4,
      "outputs": []
    },
    {
      "cell_type": "code",
      "source": [
        "machframe.head(10)"
      ],
      "metadata": {
        "colab": {
          "base_uri": "https://localhost:8080/",
          "height": 505
        },
        "id": "Qx2cGs8EBNsU",
        "outputId": "2e632ca6-ae80-4ab5-abf4-c2cdc340b41f"
      },
      "execution_count": 5,
      "outputs": [
        {
          "output_type": "execute_result",
          "data": {
            "text/plain": [
              "   symboling normalized-losses         make fuel-type aspiration num-of-doors  \\\n",
              "0          3                 ?  alfa-romero       gas        std          two   \n",
              "1          3                 ?  alfa-romero       gas        std          two   \n",
              "2          1                 ?  alfa-romero       gas        std          two   \n",
              "3          2               164         audi       gas        std         four   \n",
              "4          2               164         audi       gas        std         four   \n",
              "5          2                 ?         audi       gas        std          two   \n",
              "6          1               158         audi       gas        std         four   \n",
              "7          1                 ?         audi       gas        std         four   \n",
              "8          1               158         audi       gas      turbo         four   \n",
              "9          0                 ?         audi       gas      turbo          two   \n",
              "\n",
              "    body-style drive-wheels engine-location  wheel-base  ...  engine-size  \\\n",
              "0  convertible          rwd           front        88.6  ...          130   \n",
              "1  convertible          rwd           front        88.6  ...          130   \n",
              "2    hatchback          rwd           front        94.5  ...          152   \n",
              "3        sedan          fwd           front        99.8  ...          109   \n",
              "4        sedan          4wd           front        99.4  ...          136   \n",
              "5        sedan          fwd           front        99.8  ...          136   \n",
              "6        sedan          fwd           front       105.8  ...          136   \n",
              "7        wagon          fwd           front       105.8  ...          136   \n",
              "8        sedan          fwd           front       105.8  ...          131   \n",
              "9    hatchback          4wd           front        99.5  ...          131   \n",
              "\n",
              "   fuel-system  bore  stroke compression-ratio horsepower  peak-rpm city-mpg  \\\n",
              "0         mpfi  3.47    2.68               9.0        111      5000       21   \n",
              "1         mpfi  3.47    2.68               9.0        111      5000       21   \n",
              "2         mpfi  2.68    3.47               9.0        154      5000       19   \n",
              "3         mpfi  3.19    3.40              10.0        102      5500       24   \n",
              "4         mpfi  3.19    3.40               8.0        115      5500       18   \n",
              "5         mpfi  3.19    3.40               8.5        110      5500       19   \n",
              "6         mpfi  3.19    3.40               8.5        110      5500       19   \n",
              "7         mpfi  3.19    3.40               8.5        110      5500       19   \n",
              "8         mpfi  3.13    3.40               8.3        140      5500       17   \n",
              "9         mpfi  3.13    3.40               7.0        160      5500       16   \n",
              "\n",
              "  highway-mpg  price  \n",
              "0          27  13495  \n",
              "1          27  16500  \n",
              "2          26  16500  \n",
              "3          30  13950  \n",
              "4          22  17450  \n",
              "5          25  15250  \n",
              "6          25  17710  \n",
              "7          25  18920  \n",
              "8          20  23875  \n",
              "9          22      ?  \n",
              "\n",
              "[10 rows x 26 columns]"
            ],
            "text/html": [
              "\n",
              "  <div id=\"df-c2303b85-768f-4ba2-acb3-4e39e50c552d\">\n",
              "    <div class=\"colab-df-container\">\n",
              "      <div>\n",
              "<style scoped>\n",
              "    .dataframe tbody tr th:only-of-type {\n",
              "        vertical-align: middle;\n",
              "    }\n",
              "\n",
              "    .dataframe tbody tr th {\n",
              "        vertical-align: top;\n",
              "    }\n",
              "\n",
              "    .dataframe thead th {\n",
              "        text-align: right;\n",
              "    }\n",
              "</style>\n",
              "<table border=\"1\" class=\"dataframe\">\n",
              "  <thead>\n",
              "    <tr style=\"text-align: right;\">\n",
              "      <th></th>\n",
              "      <th>symboling</th>\n",
              "      <th>normalized-losses</th>\n",
              "      <th>make</th>\n",
              "      <th>fuel-type</th>\n",
              "      <th>aspiration</th>\n",
              "      <th>num-of-doors</th>\n",
              "      <th>body-style</th>\n",
              "      <th>drive-wheels</th>\n",
              "      <th>engine-location</th>\n",
              "      <th>wheel-base</th>\n",
              "      <th>...</th>\n",
              "      <th>engine-size</th>\n",
              "      <th>fuel-system</th>\n",
              "      <th>bore</th>\n",
              "      <th>stroke</th>\n",
              "      <th>compression-ratio</th>\n",
              "      <th>horsepower</th>\n",
              "      <th>peak-rpm</th>\n",
              "      <th>city-mpg</th>\n",
              "      <th>highway-mpg</th>\n",
              "      <th>price</th>\n",
              "    </tr>\n",
              "  </thead>\n",
              "  <tbody>\n",
              "    <tr>\n",
              "      <th>0</th>\n",
              "      <td>3</td>\n",
              "      <td>?</td>\n",
              "      <td>alfa-romero</td>\n",
              "      <td>gas</td>\n",
              "      <td>std</td>\n",
              "      <td>two</td>\n",
              "      <td>convertible</td>\n",
              "      <td>rwd</td>\n",
              "      <td>front</td>\n",
              "      <td>88.6</td>\n",
              "      <td>...</td>\n",
              "      <td>130</td>\n",
              "      <td>mpfi</td>\n",
              "      <td>3.47</td>\n",
              "      <td>2.68</td>\n",
              "      <td>9.0</td>\n",
              "      <td>111</td>\n",
              "      <td>5000</td>\n",
              "      <td>21</td>\n",
              "      <td>27</td>\n",
              "      <td>13495</td>\n",
              "    </tr>\n",
              "    <tr>\n",
              "      <th>1</th>\n",
              "      <td>3</td>\n",
              "      <td>?</td>\n",
              "      <td>alfa-romero</td>\n",
              "      <td>gas</td>\n",
              "      <td>std</td>\n",
              "      <td>two</td>\n",
              "      <td>convertible</td>\n",
              "      <td>rwd</td>\n",
              "      <td>front</td>\n",
              "      <td>88.6</td>\n",
              "      <td>...</td>\n",
              "      <td>130</td>\n",
              "      <td>mpfi</td>\n",
              "      <td>3.47</td>\n",
              "      <td>2.68</td>\n",
              "      <td>9.0</td>\n",
              "      <td>111</td>\n",
              "      <td>5000</td>\n",
              "      <td>21</td>\n",
              "      <td>27</td>\n",
              "      <td>16500</td>\n",
              "    </tr>\n",
              "    <tr>\n",
              "      <th>2</th>\n",
              "      <td>1</td>\n",
              "      <td>?</td>\n",
              "      <td>alfa-romero</td>\n",
              "      <td>gas</td>\n",
              "      <td>std</td>\n",
              "      <td>two</td>\n",
              "      <td>hatchback</td>\n",
              "      <td>rwd</td>\n",
              "      <td>front</td>\n",
              "      <td>94.5</td>\n",
              "      <td>...</td>\n",
              "      <td>152</td>\n",
              "      <td>mpfi</td>\n",
              "      <td>2.68</td>\n",
              "      <td>3.47</td>\n",
              "      <td>9.0</td>\n",
              "      <td>154</td>\n",
              "      <td>5000</td>\n",
              "      <td>19</td>\n",
              "      <td>26</td>\n",
              "      <td>16500</td>\n",
              "    </tr>\n",
              "    <tr>\n",
              "      <th>3</th>\n",
              "      <td>2</td>\n",
              "      <td>164</td>\n",
              "      <td>audi</td>\n",
              "      <td>gas</td>\n",
              "      <td>std</td>\n",
              "      <td>four</td>\n",
              "      <td>sedan</td>\n",
              "      <td>fwd</td>\n",
              "      <td>front</td>\n",
              "      <td>99.8</td>\n",
              "      <td>...</td>\n",
              "      <td>109</td>\n",
              "      <td>mpfi</td>\n",
              "      <td>3.19</td>\n",
              "      <td>3.40</td>\n",
              "      <td>10.0</td>\n",
              "      <td>102</td>\n",
              "      <td>5500</td>\n",
              "      <td>24</td>\n",
              "      <td>30</td>\n",
              "      <td>13950</td>\n",
              "    </tr>\n",
              "    <tr>\n",
              "      <th>4</th>\n",
              "      <td>2</td>\n",
              "      <td>164</td>\n",
              "      <td>audi</td>\n",
              "      <td>gas</td>\n",
              "      <td>std</td>\n",
              "      <td>four</td>\n",
              "      <td>sedan</td>\n",
              "      <td>4wd</td>\n",
              "      <td>front</td>\n",
              "      <td>99.4</td>\n",
              "      <td>...</td>\n",
              "      <td>136</td>\n",
              "      <td>mpfi</td>\n",
              "      <td>3.19</td>\n",
              "      <td>3.40</td>\n",
              "      <td>8.0</td>\n",
              "      <td>115</td>\n",
              "      <td>5500</td>\n",
              "      <td>18</td>\n",
              "      <td>22</td>\n",
              "      <td>17450</td>\n",
              "    </tr>\n",
              "    <tr>\n",
              "      <th>5</th>\n",
              "      <td>2</td>\n",
              "      <td>?</td>\n",
              "      <td>audi</td>\n",
              "      <td>gas</td>\n",
              "      <td>std</td>\n",
              "      <td>two</td>\n",
              "      <td>sedan</td>\n",
              "      <td>fwd</td>\n",
              "      <td>front</td>\n",
              "      <td>99.8</td>\n",
              "      <td>...</td>\n",
              "      <td>136</td>\n",
              "      <td>mpfi</td>\n",
              "      <td>3.19</td>\n",
              "      <td>3.40</td>\n",
              "      <td>8.5</td>\n",
              "      <td>110</td>\n",
              "      <td>5500</td>\n",
              "      <td>19</td>\n",
              "      <td>25</td>\n",
              "      <td>15250</td>\n",
              "    </tr>\n",
              "    <tr>\n",
              "      <th>6</th>\n",
              "      <td>1</td>\n",
              "      <td>158</td>\n",
              "      <td>audi</td>\n",
              "      <td>gas</td>\n",
              "      <td>std</td>\n",
              "      <td>four</td>\n",
              "      <td>sedan</td>\n",
              "      <td>fwd</td>\n",
              "      <td>front</td>\n",
              "      <td>105.8</td>\n",
              "      <td>...</td>\n",
              "      <td>136</td>\n",
              "      <td>mpfi</td>\n",
              "      <td>3.19</td>\n",
              "      <td>3.40</td>\n",
              "      <td>8.5</td>\n",
              "      <td>110</td>\n",
              "      <td>5500</td>\n",
              "      <td>19</td>\n",
              "      <td>25</td>\n",
              "      <td>17710</td>\n",
              "    </tr>\n",
              "    <tr>\n",
              "      <th>7</th>\n",
              "      <td>1</td>\n",
              "      <td>?</td>\n",
              "      <td>audi</td>\n",
              "      <td>gas</td>\n",
              "      <td>std</td>\n",
              "      <td>four</td>\n",
              "      <td>wagon</td>\n",
              "      <td>fwd</td>\n",
              "      <td>front</td>\n",
              "      <td>105.8</td>\n",
              "      <td>...</td>\n",
              "      <td>136</td>\n",
              "      <td>mpfi</td>\n",
              "      <td>3.19</td>\n",
              "      <td>3.40</td>\n",
              "      <td>8.5</td>\n",
              "      <td>110</td>\n",
              "      <td>5500</td>\n",
              "      <td>19</td>\n",
              "      <td>25</td>\n",
              "      <td>18920</td>\n",
              "    </tr>\n",
              "    <tr>\n",
              "      <th>8</th>\n",
              "      <td>1</td>\n",
              "      <td>158</td>\n",
              "      <td>audi</td>\n",
              "      <td>gas</td>\n",
              "      <td>turbo</td>\n",
              "      <td>four</td>\n",
              "      <td>sedan</td>\n",
              "      <td>fwd</td>\n",
              "      <td>front</td>\n",
              "      <td>105.8</td>\n",
              "      <td>...</td>\n",
              "      <td>131</td>\n",
              "      <td>mpfi</td>\n",
              "      <td>3.13</td>\n",
              "      <td>3.40</td>\n",
              "      <td>8.3</td>\n",
              "      <td>140</td>\n",
              "      <td>5500</td>\n",
              "      <td>17</td>\n",
              "      <td>20</td>\n",
              "      <td>23875</td>\n",
              "    </tr>\n",
              "    <tr>\n",
              "      <th>9</th>\n",
              "      <td>0</td>\n",
              "      <td>?</td>\n",
              "      <td>audi</td>\n",
              "      <td>gas</td>\n",
              "      <td>turbo</td>\n",
              "      <td>two</td>\n",
              "      <td>hatchback</td>\n",
              "      <td>4wd</td>\n",
              "      <td>front</td>\n",
              "      <td>99.5</td>\n",
              "      <td>...</td>\n",
              "      <td>131</td>\n",
              "      <td>mpfi</td>\n",
              "      <td>3.13</td>\n",
              "      <td>3.40</td>\n",
              "      <td>7.0</td>\n",
              "      <td>160</td>\n",
              "      <td>5500</td>\n",
              "      <td>16</td>\n",
              "      <td>22</td>\n",
              "      <td>?</td>\n",
              "    </tr>\n",
              "  </tbody>\n",
              "</table>\n",
              "<p>10 rows × 26 columns</p>\n",
              "</div>\n",
              "      <button class=\"colab-df-convert\" onclick=\"convertToInteractive('df-c2303b85-768f-4ba2-acb3-4e39e50c552d')\"\n",
              "              title=\"Convert this dataframe to an interactive table.\"\n",
              "              style=\"display:none;\">\n",
              "        \n",
              "  <svg xmlns=\"http://www.w3.org/2000/svg\" height=\"24px\"viewBox=\"0 0 24 24\"\n",
              "       width=\"24px\">\n",
              "    <path d=\"M0 0h24v24H0V0z\" fill=\"none\"/>\n",
              "    <path d=\"M18.56 5.44l.94 2.06.94-2.06 2.06-.94-2.06-.94-.94-2.06-.94 2.06-2.06.94zm-11 1L8.5 8.5l.94-2.06 2.06-.94-2.06-.94L8.5 2.5l-.94 2.06-2.06.94zm10 10l.94 2.06.94-2.06 2.06-.94-2.06-.94-.94-2.06-.94 2.06-2.06.94z\"/><path d=\"M17.41 7.96l-1.37-1.37c-.4-.4-.92-.59-1.43-.59-.52 0-1.04.2-1.43.59L10.3 9.45l-7.72 7.72c-.78.78-.78 2.05 0 2.83L4 21.41c.39.39.9.59 1.41.59.51 0 1.02-.2 1.41-.59l7.78-7.78 2.81-2.81c.8-.78.8-2.07 0-2.86zM5.41 20L4 18.59l7.72-7.72 1.47 1.35L5.41 20z\"/>\n",
              "  </svg>\n",
              "      </button>\n",
              "      \n",
              "  <style>\n",
              "    .colab-df-container {\n",
              "      display:flex;\n",
              "      flex-wrap:wrap;\n",
              "      gap: 12px;\n",
              "    }\n",
              "\n",
              "    .colab-df-convert {\n",
              "      background-color: #E8F0FE;\n",
              "      border: none;\n",
              "      border-radius: 50%;\n",
              "      cursor: pointer;\n",
              "      display: none;\n",
              "      fill: #1967D2;\n",
              "      height: 32px;\n",
              "      padding: 0 0 0 0;\n",
              "      width: 32px;\n",
              "    }\n",
              "\n",
              "    .colab-df-convert:hover {\n",
              "      background-color: #E2EBFA;\n",
              "      box-shadow: 0px 1px 2px rgba(60, 64, 67, 0.3), 0px 1px 3px 1px rgba(60, 64, 67, 0.15);\n",
              "      fill: #174EA6;\n",
              "    }\n",
              "\n",
              "    [theme=dark] .colab-df-convert {\n",
              "      background-color: #3B4455;\n",
              "      fill: #D2E3FC;\n",
              "    }\n",
              "\n",
              "    [theme=dark] .colab-df-convert:hover {\n",
              "      background-color: #434B5C;\n",
              "      box-shadow: 0px 1px 3px 1px rgba(0, 0, 0, 0.15);\n",
              "      filter: drop-shadow(0px 1px 2px rgba(0, 0, 0, 0.3));\n",
              "      fill: #FFFFFF;\n",
              "    }\n",
              "  </style>\n",
              "\n",
              "      <script>\n",
              "        const buttonEl =\n",
              "          document.querySelector('#df-c2303b85-768f-4ba2-acb3-4e39e50c552d button.colab-df-convert');\n",
              "        buttonEl.style.display =\n",
              "          google.colab.kernel.accessAllowed ? 'block' : 'none';\n",
              "\n",
              "        async function convertToInteractive(key) {\n",
              "          const element = document.querySelector('#df-c2303b85-768f-4ba2-acb3-4e39e50c552d');\n",
              "          const dataTable =\n",
              "            await google.colab.kernel.invokeFunction('convertToInteractive',\n",
              "                                                     [key], {});\n",
              "          if (!dataTable) return;\n",
              "\n",
              "          const docLinkHtml = 'Like what you see? Visit the ' +\n",
              "            '<a target=\"_blank\" href=https://colab.research.google.com/notebooks/data_table.ipynb>data table notebook</a>'\n",
              "            + ' to learn more about interactive tables.';\n",
              "          element.innerHTML = '';\n",
              "          dataTable['output_type'] = 'display_data';\n",
              "          await google.colab.output.renderOutput(dataTable, element);\n",
              "          const docLink = document.createElement('div');\n",
              "          docLink.innerHTML = docLinkHtml;\n",
              "          element.appendChild(docLink);\n",
              "        }\n",
              "      </script>\n",
              "    </div>\n",
              "  </div>\n",
              "  "
            ]
          },
          "metadata": {},
          "execution_count": 5
        }
      ]
    },
    {
      "cell_type": "markdown",
      "source": [
        "### Предобработка данных"
      ],
      "metadata": {
        "id": "aAx_WV45BSP-"
      }
    },
    {
      "cell_type": "code",
      "source": [
        "machframe = machframe.drop(machframe[machframe['num-of-doors'] == '?'].index)\n",
        "machframe = machframe[machframe[:] != '?'].iloc[:,:] #найдем все пропуски в данных и заменим их на медианный\n",
        "machframe.fillna(machframe.median(),inplace = True)\n",
        "#проверим бинарный признак\n",
        "machframe[\"num-of-doors\"].unique() "
      ],
      "metadata": {
        "colab": {
          "base_uri": "https://localhost:8080/"
        },
        "id": "khJ1u3ROBR_l",
        "outputId": "76f7f8e7-a81b-40e6-9ca7-ad1c8d899d1c"
      },
      "execution_count": 6,
      "outputs": [
        {
          "output_type": "execute_result",
          "data": {
            "text/plain": [
              "array(['two', 'four'], dtype=object)"
            ]
          },
          "metadata": {},
          "execution_count": 6
        }
      ]
    },
    {
      "cell_type": "markdown",
      "source": [
        "## Этап 1.  Удаление категориальных и бинарных признаков."
      ],
      "metadata": {
        "id": "rzUqDT1uBwA8"
      }
    },
    {
      "cell_type": "code",
      "source": [
        "mach = machframe.drop(columns=['symboling','make','body-style','drive-wheels',\n",
        "                            'fuel-system','engine-type',\n",
        "                          'fuel-type', 'aspiration', 'num-of-doors','engine-location',\n",
        "                          'num-of-cylinders'])\n",
        "mach = mach.astype('float')"
      ],
      "metadata": {
        "id": "oKoGHrBPB3p9"
      },
      "execution_count": 7,
      "outputs": []
    },
    {
      "cell_type": "code",
      "source": [
        "mach"
      ],
      "metadata": {
        "colab": {
          "base_uri": "https://localhost:8080/",
          "height": 423
        },
        "id": "fzC-rBPzB791",
        "outputId": "d3143820-438c-40fa-b0d2-6e29791bcc39"
      },
      "execution_count": 8,
      "outputs": [
        {
          "output_type": "execute_result",
          "data": {
            "text/plain": [
              "     normalized-losses  wheel-base  length  width  height  curb-weight  \\\n",
              "0                115.0        88.6   168.8   64.1    48.8       2548.0   \n",
              "1                115.0        88.6   168.8   64.1    48.8       2548.0   \n",
              "2                115.0        94.5   171.2   65.5    52.4       2823.0   \n",
              "3                164.0        99.8   176.6   66.2    54.3       2337.0   \n",
              "4                164.0        99.4   176.6   66.4    54.3       2824.0   \n",
              "..                 ...         ...     ...    ...     ...          ...   \n",
              "200               95.0       109.1   188.8   68.9    55.5       2952.0   \n",
              "201               95.0       109.1   188.8   68.8    55.5       3049.0   \n",
              "202               95.0       109.1   188.8   68.9    55.5       3012.0   \n",
              "203               95.0       109.1   188.8   68.9    55.5       3217.0   \n",
              "204               95.0       109.1   188.8   68.9    55.5       3062.0   \n",
              "\n",
              "     engine-size  bore  stroke  compression-ratio  horsepower  peak-rpm  \\\n",
              "0          130.0  3.47    2.68                9.0       111.0    5000.0   \n",
              "1          130.0  3.47    2.68                9.0       111.0    5000.0   \n",
              "2          152.0  2.68    3.47                9.0       154.0    5000.0   \n",
              "3          109.0  3.19    3.40               10.0       102.0    5500.0   \n",
              "4          136.0  3.19    3.40                8.0       115.0    5500.0   \n",
              "..           ...   ...     ...                ...         ...       ...   \n",
              "200        141.0  3.78    3.15                9.5       114.0    5400.0   \n",
              "201        141.0  3.78    3.15                8.7       160.0    5300.0   \n",
              "202        173.0  3.58    2.87                8.8       134.0    5500.0   \n",
              "203        145.0  3.01    3.40               23.0       106.0    4800.0   \n",
              "204        141.0  3.78    3.15                9.5       114.0    5400.0   \n",
              "\n",
              "     city-mpg  highway-mpg    price  \n",
              "0        21.0         27.0  13495.0  \n",
              "1        21.0         27.0  16500.0  \n",
              "2        19.0         26.0  16500.0  \n",
              "3        24.0         30.0  13950.0  \n",
              "4        18.0         22.0  17450.0  \n",
              "..        ...          ...      ...  \n",
              "200      23.0         28.0  16845.0  \n",
              "201      19.0         25.0  19045.0  \n",
              "202      18.0         23.0  21485.0  \n",
              "203      26.0         27.0  22470.0  \n",
              "204      19.0         25.0  22625.0  \n",
              "\n",
              "[203 rows x 15 columns]"
            ],
            "text/html": [
              "\n",
              "  <div id=\"df-79c9a846-e8aa-4305-8284-a8998bf6440f\">\n",
              "    <div class=\"colab-df-container\">\n",
              "      <div>\n",
              "<style scoped>\n",
              "    .dataframe tbody tr th:only-of-type {\n",
              "        vertical-align: middle;\n",
              "    }\n",
              "\n",
              "    .dataframe tbody tr th {\n",
              "        vertical-align: top;\n",
              "    }\n",
              "\n",
              "    .dataframe thead th {\n",
              "        text-align: right;\n",
              "    }\n",
              "</style>\n",
              "<table border=\"1\" class=\"dataframe\">\n",
              "  <thead>\n",
              "    <tr style=\"text-align: right;\">\n",
              "      <th></th>\n",
              "      <th>normalized-losses</th>\n",
              "      <th>wheel-base</th>\n",
              "      <th>length</th>\n",
              "      <th>width</th>\n",
              "      <th>height</th>\n",
              "      <th>curb-weight</th>\n",
              "      <th>engine-size</th>\n",
              "      <th>bore</th>\n",
              "      <th>stroke</th>\n",
              "      <th>compression-ratio</th>\n",
              "      <th>horsepower</th>\n",
              "      <th>peak-rpm</th>\n",
              "      <th>city-mpg</th>\n",
              "      <th>highway-mpg</th>\n",
              "      <th>price</th>\n",
              "    </tr>\n",
              "  </thead>\n",
              "  <tbody>\n",
              "    <tr>\n",
              "      <th>0</th>\n",
              "      <td>115.0</td>\n",
              "      <td>88.6</td>\n",
              "      <td>168.8</td>\n",
              "      <td>64.1</td>\n",
              "      <td>48.8</td>\n",
              "      <td>2548.0</td>\n",
              "      <td>130.0</td>\n",
              "      <td>3.47</td>\n",
              "      <td>2.68</td>\n",
              "      <td>9.0</td>\n",
              "      <td>111.0</td>\n",
              "      <td>5000.0</td>\n",
              "      <td>21.0</td>\n",
              "      <td>27.0</td>\n",
              "      <td>13495.0</td>\n",
              "    </tr>\n",
              "    <tr>\n",
              "      <th>1</th>\n",
              "      <td>115.0</td>\n",
              "      <td>88.6</td>\n",
              "      <td>168.8</td>\n",
              "      <td>64.1</td>\n",
              "      <td>48.8</td>\n",
              "      <td>2548.0</td>\n",
              "      <td>130.0</td>\n",
              "      <td>3.47</td>\n",
              "      <td>2.68</td>\n",
              "      <td>9.0</td>\n",
              "      <td>111.0</td>\n",
              "      <td>5000.0</td>\n",
              "      <td>21.0</td>\n",
              "      <td>27.0</td>\n",
              "      <td>16500.0</td>\n",
              "    </tr>\n",
              "    <tr>\n",
              "      <th>2</th>\n",
              "      <td>115.0</td>\n",
              "      <td>94.5</td>\n",
              "      <td>171.2</td>\n",
              "      <td>65.5</td>\n",
              "      <td>52.4</td>\n",
              "      <td>2823.0</td>\n",
              "      <td>152.0</td>\n",
              "      <td>2.68</td>\n",
              "      <td>3.47</td>\n",
              "      <td>9.0</td>\n",
              "      <td>154.0</td>\n",
              "      <td>5000.0</td>\n",
              "      <td>19.0</td>\n",
              "      <td>26.0</td>\n",
              "      <td>16500.0</td>\n",
              "    </tr>\n",
              "    <tr>\n",
              "      <th>3</th>\n",
              "      <td>164.0</td>\n",
              "      <td>99.8</td>\n",
              "      <td>176.6</td>\n",
              "      <td>66.2</td>\n",
              "      <td>54.3</td>\n",
              "      <td>2337.0</td>\n",
              "      <td>109.0</td>\n",
              "      <td>3.19</td>\n",
              "      <td>3.40</td>\n",
              "      <td>10.0</td>\n",
              "      <td>102.0</td>\n",
              "      <td>5500.0</td>\n",
              "      <td>24.0</td>\n",
              "      <td>30.0</td>\n",
              "      <td>13950.0</td>\n",
              "    </tr>\n",
              "    <tr>\n",
              "      <th>4</th>\n",
              "      <td>164.0</td>\n",
              "      <td>99.4</td>\n",
              "      <td>176.6</td>\n",
              "      <td>66.4</td>\n",
              "      <td>54.3</td>\n",
              "      <td>2824.0</td>\n",
              "      <td>136.0</td>\n",
              "      <td>3.19</td>\n",
              "      <td>3.40</td>\n",
              "      <td>8.0</td>\n",
              "      <td>115.0</td>\n",
              "      <td>5500.0</td>\n",
              "      <td>18.0</td>\n",
              "      <td>22.0</td>\n",
              "      <td>17450.0</td>\n",
              "    </tr>\n",
              "    <tr>\n",
              "      <th>...</th>\n",
              "      <td>...</td>\n",
              "      <td>...</td>\n",
              "      <td>...</td>\n",
              "      <td>...</td>\n",
              "      <td>...</td>\n",
              "      <td>...</td>\n",
              "      <td>...</td>\n",
              "      <td>...</td>\n",
              "      <td>...</td>\n",
              "      <td>...</td>\n",
              "      <td>...</td>\n",
              "      <td>...</td>\n",
              "      <td>...</td>\n",
              "      <td>...</td>\n",
              "      <td>...</td>\n",
              "    </tr>\n",
              "    <tr>\n",
              "      <th>200</th>\n",
              "      <td>95.0</td>\n",
              "      <td>109.1</td>\n",
              "      <td>188.8</td>\n",
              "      <td>68.9</td>\n",
              "      <td>55.5</td>\n",
              "      <td>2952.0</td>\n",
              "      <td>141.0</td>\n",
              "      <td>3.78</td>\n",
              "      <td>3.15</td>\n",
              "      <td>9.5</td>\n",
              "      <td>114.0</td>\n",
              "      <td>5400.0</td>\n",
              "      <td>23.0</td>\n",
              "      <td>28.0</td>\n",
              "      <td>16845.0</td>\n",
              "    </tr>\n",
              "    <tr>\n",
              "      <th>201</th>\n",
              "      <td>95.0</td>\n",
              "      <td>109.1</td>\n",
              "      <td>188.8</td>\n",
              "      <td>68.8</td>\n",
              "      <td>55.5</td>\n",
              "      <td>3049.0</td>\n",
              "      <td>141.0</td>\n",
              "      <td>3.78</td>\n",
              "      <td>3.15</td>\n",
              "      <td>8.7</td>\n",
              "      <td>160.0</td>\n",
              "      <td>5300.0</td>\n",
              "      <td>19.0</td>\n",
              "      <td>25.0</td>\n",
              "      <td>19045.0</td>\n",
              "    </tr>\n",
              "    <tr>\n",
              "      <th>202</th>\n",
              "      <td>95.0</td>\n",
              "      <td>109.1</td>\n",
              "      <td>188.8</td>\n",
              "      <td>68.9</td>\n",
              "      <td>55.5</td>\n",
              "      <td>3012.0</td>\n",
              "      <td>173.0</td>\n",
              "      <td>3.58</td>\n",
              "      <td>2.87</td>\n",
              "      <td>8.8</td>\n",
              "      <td>134.0</td>\n",
              "      <td>5500.0</td>\n",
              "      <td>18.0</td>\n",
              "      <td>23.0</td>\n",
              "      <td>21485.0</td>\n",
              "    </tr>\n",
              "    <tr>\n",
              "      <th>203</th>\n",
              "      <td>95.0</td>\n",
              "      <td>109.1</td>\n",
              "      <td>188.8</td>\n",
              "      <td>68.9</td>\n",
              "      <td>55.5</td>\n",
              "      <td>3217.0</td>\n",
              "      <td>145.0</td>\n",
              "      <td>3.01</td>\n",
              "      <td>3.40</td>\n",
              "      <td>23.0</td>\n",
              "      <td>106.0</td>\n",
              "      <td>4800.0</td>\n",
              "      <td>26.0</td>\n",
              "      <td>27.0</td>\n",
              "      <td>22470.0</td>\n",
              "    </tr>\n",
              "    <tr>\n",
              "      <th>204</th>\n",
              "      <td>95.0</td>\n",
              "      <td>109.1</td>\n",
              "      <td>188.8</td>\n",
              "      <td>68.9</td>\n",
              "      <td>55.5</td>\n",
              "      <td>3062.0</td>\n",
              "      <td>141.0</td>\n",
              "      <td>3.78</td>\n",
              "      <td>3.15</td>\n",
              "      <td>9.5</td>\n",
              "      <td>114.0</td>\n",
              "      <td>5400.0</td>\n",
              "      <td>19.0</td>\n",
              "      <td>25.0</td>\n",
              "      <td>22625.0</td>\n",
              "    </tr>\n",
              "  </tbody>\n",
              "</table>\n",
              "<p>203 rows × 15 columns</p>\n",
              "</div>\n",
              "      <button class=\"colab-df-convert\" onclick=\"convertToInteractive('df-79c9a846-e8aa-4305-8284-a8998bf6440f')\"\n",
              "              title=\"Convert this dataframe to an interactive table.\"\n",
              "              style=\"display:none;\">\n",
              "        \n",
              "  <svg xmlns=\"http://www.w3.org/2000/svg\" height=\"24px\"viewBox=\"0 0 24 24\"\n",
              "       width=\"24px\">\n",
              "    <path d=\"M0 0h24v24H0V0z\" fill=\"none\"/>\n",
              "    <path d=\"M18.56 5.44l.94 2.06.94-2.06 2.06-.94-2.06-.94-.94-2.06-.94 2.06-2.06.94zm-11 1L8.5 8.5l.94-2.06 2.06-.94-2.06-.94L8.5 2.5l-.94 2.06-2.06.94zm10 10l.94 2.06.94-2.06 2.06-.94-2.06-.94-.94-2.06-.94 2.06-2.06.94z\"/><path d=\"M17.41 7.96l-1.37-1.37c-.4-.4-.92-.59-1.43-.59-.52 0-1.04.2-1.43.59L10.3 9.45l-7.72 7.72c-.78.78-.78 2.05 0 2.83L4 21.41c.39.39.9.59 1.41.59.51 0 1.02-.2 1.41-.59l7.78-7.78 2.81-2.81c.8-.78.8-2.07 0-2.86zM5.41 20L4 18.59l7.72-7.72 1.47 1.35L5.41 20z\"/>\n",
              "  </svg>\n",
              "      </button>\n",
              "      \n",
              "  <style>\n",
              "    .colab-df-container {\n",
              "      display:flex;\n",
              "      flex-wrap:wrap;\n",
              "      gap: 12px;\n",
              "    }\n",
              "\n",
              "    .colab-df-convert {\n",
              "      background-color: #E8F0FE;\n",
              "      border: none;\n",
              "      border-radius: 50%;\n",
              "      cursor: pointer;\n",
              "      display: none;\n",
              "      fill: #1967D2;\n",
              "      height: 32px;\n",
              "      padding: 0 0 0 0;\n",
              "      width: 32px;\n",
              "    }\n",
              "\n",
              "    .colab-df-convert:hover {\n",
              "      background-color: #E2EBFA;\n",
              "      box-shadow: 0px 1px 2px rgba(60, 64, 67, 0.3), 0px 1px 3px 1px rgba(60, 64, 67, 0.15);\n",
              "      fill: #174EA6;\n",
              "    }\n",
              "\n",
              "    [theme=dark] .colab-df-convert {\n",
              "      background-color: #3B4455;\n",
              "      fill: #D2E3FC;\n",
              "    }\n",
              "\n",
              "    [theme=dark] .colab-df-convert:hover {\n",
              "      background-color: #434B5C;\n",
              "      box-shadow: 0px 1px 3px 1px rgba(0, 0, 0, 0.15);\n",
              "      filter: drop-shadow(0px 1px 2px rgba(0, 0, 0, 0.3));\n",
              "      fill: #FFFFFF;\n",
              "    }\n",
              "  </style>\n",
              "\n",
              "      <script>\n",
              "        const buttonEl =\n",
              "          document.querySelector('#df-79c9a846-e8aa-4305-8284-a8998bf6440f button.colab-df-convert');\n",
              "        buttonEl.style.display =\n",
              "          google.colab.kernel.accessAllowed ? 'block' : 'none';\n",
              "\n",
              "        async function convertToInteractive(key) {\n",
              "          const element = document.querySelector('#df-79c9a846-e8aa-4305-8284-a8998bf6440f');\n",
              "          const dataTable =\n",
              "            await google.colab.kernel.invokeFunction('convertToInteractive',\n",
              "                                                     [key], {});\n",
              "          if (!dataTable) return;\n",
              "\n",
              "          const docLinkHtml = 'Like what you see? Visit the ' +\n",
              "            '<a target=\"_blank\" href=https://colab.research.google.com/notebooks/data_table.ipynb>data table notebook</a>'\n",
              "            + ' to learn more about interactive tables.';\n",
              "          element.innerHTML = '';\n",
              "          dataTable['output_type'] = 'display_data';\n",
              "          await google.colab.output.renderOutput(dataTable, element);\n",
              "          const docLink = document.createElement('div');\n",
              "          docLink.innerHTML = docLinkHtml;\n",
              "          element.appendChild(docLink);\n",
              "        }\n",
              "      </script>\n",
              "    </div>\n",
              "  </div>\n",
              "  "
            ]
          },
          "metadata": {},
          "execution_count": 8
        }
      ]
    },
    {
      "cell_type": "markdown",
      "source": [
        "## Этап 2. Визуализиция heatmap-матрицы кореллированности признаков."
      ],
      "metadata": {
        "id": "BosavNSHGHC-"
      }
    },
    {
      "cell_type": "code",
      "source": [
        "corr = mach.corr()\n",
        "sns.heatmap(corr, xticklabels=corr.columns, yticklabels=corr.columns)"
      ],
      "metadata": {
        "colab": {
          "base_uri": "https://localhost:8080/",
          "height": 366
        },
        "id": "BLq7E4n_GGqG",
        "outputId": "b1f24c6f-9178-4d6f-dad9-19883a2e273a"
      },
      "execution_count": 9,
      "outputs": [
        {
          "output_type": "execute_result",
          "data": {
            "text/plain": [
              "<matplotlib.axes._subplots.AxesSubplot at 0x7faa3e191b90>"
            ]
          },
          "metadata": {},
          "execution_count": 9
        },
        {
          "output_type": "display_data",
          "data": {
            "text/plain": [
              "<Figure size 432x288 with 2 Axes>"
            ],
            "image/png": "[encoded data removed]"
          },
          "metadata": {
            "needs_background": "light"
          }
        }
      ]
    },
    {
      "cell_type": "markdown",
      "source": [
        "## Этап 3. Визуализация взаимосвязи между целевой переменной и каждым признаком"
      ],
      "metadata": {
        "id": "Xjsn8_9VFPRy"
      }
    },
    {
      "cell_type": "code",
      "source": [
        "y = mach[\"horsepower\"]\n",
        "X = mach.drop(\"horsepower\", axis=1)\n",
        "X.columns"
      ],
      "metadata": {
        "colab": {
          "base_uri": "https://localhost:8080/"
        },
        "id": "kUew7LtWFhBt",
        "outputId": "72b06de2-8f87-48fb-97d9-f3e5040865c2"
      },
      "execution_count": 10,
      "outputs": [
        {
          "output_type": "execute_result",
          "data": {
            "text/plain": [
              "Index(['normalized-losses', 'wheel-base', 'length', 'width', 'height',\n",
              "       'curb-weight', 'engine-size', 'bore', 'stroke', 'compression-ratio',\n",
              "       'peak-rpm', 'city-mpg', 'highway-mpg', 'price'],\n",
              "      dtype='object')"
            ]
          },
          "metadata": {},
          "execution_count": 10
        }
      ]
    },
    {
      "cell_type": "code",
      "source": [
        "sns.pairplot(data = mach, y_vars = ['horsepower'], x_vars = X.columns, height=2.5)"
      ],
      "metadata": {
        "colab": {
          "base_uri": "https://localhost:8080/",
          "height": 158
        },
        "id": "lj5LWV4vGbZG",
        "outputId": "6d90f45f-f2ca-416e-c3ba-5e24e52fb59d"
      },
      "execution_count": 11,
      "outputs": [
        {
          "output_type": "execute_result",
          "data": {
            "text/plain": [
              "<seaborn.axisgrid.PairGrid at 0x7faa3e006e90>"
            ]
          },
          "metadata": {},
          "execution_count": 11
        },
        {
          "output_type": "display_data",
          "data": {
            "text/plain": [
              "<Figure size 2520x180 with 14 Axes>"
            ],
            "image/png": "[encoded data removed]"
          },
          "metadata": {
            "needs_background": "light"
          }
        }
      ]
    },
    {
      "cell_type": "markdown",
      "source": [
        "## Этап 4. Разделение данных на выборки."
      ],
      "metadata": {
        "id": "8G3aU4riGdlx"
      }
    },
    {
      "cell_type": "code",
      "source": [
        "X_train, X_test, y_train, y_test = sklearn.model_selection.train_test_split(X, y, random_state = 0)"
      ],
      "metadata": {
        "id": "L3h75EchGo4J"
      },
      "execution_count": 12,
      "outputs": []
    },
    {
      "cell_type": "markdown",
      "source": [
        "## Этап 5. Линейная регрессия."
      ],
      "metadata": {
        "id": "gnKgzZRbHJy-"
      }
    },
    {
      "cell_type": "markdown",
      "source": [
        "### Этап 5.1. Построение и обучение модели линейной регрессии"
      ],
      "metadata": {
        "id": "nnV09NBtM927"
      }
    },
    {
      "cell_type": "code",
      "source": [
        "model_lr = sklearn.linear_model.LinearRegression()\n",
        "model_lr.fit(X_train, y_train)"
      ],
      "metadata": {
        "colab": {
          "base_uri": "https://localhost:8080/"
        },
        "id": "iFuP863MHJYf",
        "outputId": "03a67d7a-abed-40db-9576-be0e1ff5ff33"
      },
      "execution_count": 13,
      "outputs": [
        {
          "output_type": "execute_result",
          "data": {
            "text/plain": [
              "LinearRegression()"
            ]
          },
          "metadata": {},
          "execution_count": 13
        }
      ]
    },
    {
      "cell_type": "markdown",
      "source": [
        "### Этап 5.2. Вывести метрики MAE, MSE и R2 на обущающем и тестовом наборе."
      ],
      "metadata": {
        "id": "IttaEbmuSVN5"
      }
    },
    {
      "cell_type": "code",
      "source": [
        "print(\"MAE: \" + str(sklearn.metrics.mean_absolute_error(y_train, model_lr.predict(X_train))))\n",
        "print(\"MSE: \" + str(sklearn.metrics.mean_squared_error(y_train, model_lr.predict(X_train))))\n",
        "print(\"R2: \" + str(sklearn.metrics.r2_score(y_train, model_lr.predict(X_train))))"
      ],
      "metadata": {
        "colab": {
          "base_uri": "https://localhost:8080/"
        },
        "id": "7HGQwK5EN4pv",
        "outputId": "6dfe5515-0796-408d-a045-6e15b09a69a6"
      },
      "execution_count": 14,
      "outputs": [
        {
          "output_type": "stream",
          "name": "stdout",
          "text": [
            "MAE: 10.60606937902567\n",
            "MSE: 187.51337331919294\n",
            "R2: 0.8843680557142173\n"
          ]
        }
      ]
    },
    {
      "cell_type": "code",
      "source": [
        "print(\"MAE: \" + str(sklearn.metrics.mean_absolute_error(y_test, model_lr.predict(X_test))))\n",
        "print(\"MSE: \" + str(sklearn.metrics.mean_squared_error(y_test, model_lr.predict(X_test))))\n",
        "print(\"R2: \" + str(sklearn.metrics.r2_score(y_test, model_lr.predict(X_test))))"
      ],
      "metadata": {
        "colab": {
          "base_uri": "https://localhost:8080/"
        },
        "id": "G0-rNnSVNqC5",
        "outputId": "571f44ac-6560-41b3-9136-84cbcf3b6065"
      },
      "execution_count": 15,
      "outputs": [
        {
          "output_type": "stream",
          "name": "stdout",
          "text": [
            "MAE: 11.61861312482972\n",
            "MSE: 215.23380731836036\n",
            "R2: 0.8437032335635376\n"
          ]
        }
      ]
    },
    {
      "cell_type": "markdown",
      "source": [
        "### Этап 5.3. Вывести model.coef_ и model.intercept_"
      ],
      "metadata": {
        "id": "SlB_d00bSjyi"
      }
    },
    {
      "cell_type": "code",
      "source": [
        "model_lr.coef_"
      ],
      "metadata": {
        "id": "uHQkf10jSuH9",
        "colab": {
          "base_uri": "https://localhost:8080/"
        },
        "outputId": "98a2241f-cbbe-463f-b4fe-86ac4666f7ef"
      },
      "execution_count": 16,
      "outputs": [
        {
          "output_type": "execute_result",
          "data": {
            "text/plain": [
              "array([-7.53482654e-02, -1.17493377e+00, -6.22400929e-01,  3.34341829e+00,\n",
              "       -8.61118302e-01,  3.84823123e-02,  4.21291099e-01,  9.97061150e+00,\n",
              "       -5.87245798e+00, -3.01201124e-01,  1.85435815e-02, -3.76007559e+00,\n",
              "        2.26418866e+00, -5.03468689e-04])"
            ]
          },
          "metadata": {},
          "execution_count": 16
        }
      ]
    },
    {
      "cell_type": "code",
      "source": [
        "model_lr.intercept_"
      ],
      "metadata": {
        "id": "3t5MaaANSv26",
        "colab": {
          "base_uri": "https://localhost:8080/"
        },
        "outputId": "5fcd3f7f-4e03-4882-b108-78b039eb566a"
      },
      "execution_count": 17,
      "outputs": [
        {
          "output_type": "execute_result",
          "data": {
            "text/plain": [
              "-61.905035761840196"
            ]
          },
          "metadata": {},
          "execution_count": 17
        }
      ]
    },
    {
      "cell_type": "markdown",
      "source": [
        "### Этап 5.4. Построить график (barh) с важностью коэфициентов при соответствующих признаках."
      ],
      "metadata": {
        "id": "9cPVxUc4TRb5"
      }
    },
    {
      "cell_type": "code",
      "source": [
        "coefs = []\n",
        "names = []\n",
        "z = zip(model_lr.coef_, X.columns)\n",
        "z = sorted(z, key=lambda x: x[0])\n",
        "for c, n in z:\n",
        "    coefs.append(c)\n",
        "    names.append(n)"
      ],
      "metadata": {
        "id": "Iul3YE0HTKNL"
      },
      "execution_count": 18,
      "outputs": []
    },
    {
      "cell_type": "code",
      "source": [
        "plt.figure(figsize=(10,8))\n",
        "plt.barh(range(len(model_lr.coef_)), coefs, align='center')\n",
        "plt.yticks(range(len(model_lr.coef_)), names)"
      ],
      "metadata": {
        "id": "9ltYQrYjTL-Q",
        "colab": {
          "base_uri": "https://localhost:8080/",
          "height": 968
        },
        "outputId": "aeb2a278-05b5-431e-8ce2-ac17529b4969"
      },
      "execution_count": 19,
      "outputs": [
        {
          "output_type": "execute_result",
          "data": {
            "text/plain": [
              "([<matplotlib.axis.YTick at 0x7faa3e072a50>,\n",
              "  <matplotlib.axis.YTick at 0x7faa3e03b450>,\n",
              "  <matplotlib.axis.YTick at 0x7faa3e006710>,\n",
              "  <matplotlib.axis.YTick at 0x7faa3dac2550>,\n",
              "  <matplotlib.axis.YTick at 0x7faa3dac27d0>,\n",
              "  <matplotlib.axis.YTick at 0x7faa3da7cb90>,\n",
              "  <matplotlib.axis.YTick at 0x7faa3afc32d0>,\n",
              "  <matplotlib.axis.YTick at 0x7faa3af5c750>,\n",
              "  <matplotlib.axis.YTick at 0x7faa3af14290>,\n",
              "  <matplotlib.axis.YTick at 0x7faa3e017910>,\n",
              "  <matplotlib.axis.YTick at 0x7faa3ae65290>,\n",
              "  <matplotlib.axis.YTick at 0x7faa3d96a8d0>,\n",
              "  <matplotlib.axis.YTick at 0x7faa3af45490>,\n",
              "  <matplotlib.axis.YTick at 0x7faa3da7c750>],\n",
              " [Text(0, 0, 'stroke'),\n",
              "  Text(0, 0, 'city-mpg'),\n",
              "  Text(0, 0, 'wheel-base'),\n",
              "  Text(0, 0, 'height'),\n",
              "  Text(0, 0, 'length'),\n",
              "  Text(0, 0, 'compression-ratio'),\n",
              "  Text(0, 0, 'normalized-losses'),\n",
              "  Text(0, 0, 'price'),\n",
              "  Text(0, 0, 'peak-rpm'),\n",
              "  Text(0, 0, 'curb-weight'),\n",
              "  Text(0, 0, 'engine-size'),\n",
              "  Text(0, 0, 'highway-mpg'),\n",
              "  Text(0, 0, 'width'),\n",
              "  Text(0, 0, 'bore')])"
            ]
          },
          "metadata": {},
          "execution_count": 19
        },
        {
          "output_type": "display_data",
          "data": {
            "text/plain": [
              "<Figure size 720x576 with 1 Axes>"
            ],
            "image/png": "[encoded data removed]"
          },
          "metadata": {
            "needs_background": "light"
          }
        }
      ]
    },
    {
      "cell_type": "markdown",
      "source": [
        "## Этап 6. Модель Lasso."
      ],
      "metadata": {
        "id": "jHPVVl82aDPQ"
      }
    },
    {
      "cell_type": "markdown",
      "source": [
        "### Этап 6.1. Обучить модель регрессии (Lasso), с помощью GridSearchCV подобрать параметр alpha, дальше работаем с лучшей моделью."
      ],
      "metadata": {
        "id": "3653ZbG7aM_d"
      }
    },
    {
      "cell_type": "markdown",
      "source": [
        "#### Построение модели"
      ],
      "metadata": {
        "id": "BU4VPtUmbEoV"
      }
    },
    {
      "cell_type": "code",
      "source": [
        "lasso = Lasso()"
      ],
      "metadata": {
        "id": "Bviu9HDHarG-"
      },
      "execution_count": 20,
      "outputs": []
    },
    {
      "cell_type": "markdown",
      "source": [
        "#### Подбор параметров и обучение модели"
      ],
      "metadata": {
        "id": "A8oPsNB1bHKP"
      }
    },
    {
      "cell_type": "code",
      "source": [
        "parameters = {'alpha': np.linspace(0,1,100)}\n",
        "lasso_grid = GridSearchCV(lasso,parameters)\n",
        "lasso_grid.fit(X_train, y_train)"
      ],
      "metadata": {
        "id": "kt6jIdoSatiG",
        "colab": {
          "base_uri": "https://localhost:8080/"
        },
        "outputId": "a2014f9c-eb0d-4501-bb53-5d17a1e15472"
      },
      "execution_count": 21,
      "outputs": [
        {
          "output_type": "execute_result",
          "data": {
            "text/plain": [
              "GridSearchCV(estimator=Lasso(),\n",
              "             param_grid={'alpha': array([0.        , 0.01010101, 0.02020202, 0.03030303, 0.04040404,\n",
              "       0.05050505, 0.06060606, 0.07070707, 0.08080808, 0.09090909,\n",
              "       0.1010101 , 0.11111111, 0.12121212, 0.13131313, 0.14141414,\n",
              "       0.15151515, 0.16161616, 0.17171717, 0.18181818, 0.19191919,\n",
              "       0.2020202 , 0.21212121, 0.22222222, 0.23232323, 0.24242424,\n",
              "       0.25252525, 0.26262626, 0.272...\n",
              "       0.65656566, 0.66666667, 0.67676768, 0.68686869, 0.6969697 ,\n",
              "       0.70707071, 0.71717172, 0.72727273, 0.73737374, 0.74747475,\n",
              "       0.75757576, 0.76767677, 0.77777778, 0.78787879, 0.7979798 ,\n",
              "       0.80808081, 0.81818182, 0.82828283, 0.83838384, 0.84848485,\n",
              "       0.85858586, 0.86868687, 0.87878788, 0.88888889, 0.8989899 ,\n",
              "       0.90909091, 0.91919192, 0.92929293, 0.93939394, 0.94949495,\n",
              "       0.95959596, 0.96969697, 0.97979798, 0.98989899, 1.        ])})"
            ]
          },
          "metadata": {},
          "execution_count": 21
        }
      ]
    },
    {
      "cell_type": "markdown",
      "source": [
        "#### Подбор параметра alpha."
      ],
      "metadata": {
        "id": "eN1Qfx4eaxRv"
      }
    },
    {
      "cell_type": "code",
      "source": [
        "lasso_grid.best_params_"
      ],
      "metadata": {
        "id": "BsaiVV2maxDW",
        "colab": {
          "base_uri": "https://localhost:8080/"
        },
        "outputId": "74e3f556-84dd-4355-ce7d-f6b2df507a1a"
      },
      "execution_count": 22,
      "outputs": [
        {
          "output_type": "execute_result",
          "data": {
            "text/plain": [
              "{'alpha': 0.04040404040404041}"
            ]
          },
          "metadata": {},
          "execution_count": 22
        }
      ]
    },
    {
      "cell_type": "markdown",
      "source": [
        "#### Сохранение лучшего регрессора"
      ],
      "metadata": {
        "id": "0EryHnUUbRvd"
      }
    },
    {
      "cell_type": "code",
      "source": [
        "lasso = lasso_grid.best_estimator_ "
      ],
      "metadata": {
        "id": "Lyw2JggpbWN9"
      },
      "execution_count": 23,
      "outputs": []
    },
    {
      "cell_type": "markdown",
      "source": [
        "### Этап 6.2. Для лучшей модели вывести метрики MAE, MSE и R2 на обущающем и тестовом наборе."
      ],
      "metadata": {
        "id": "4dXQ5v52g6n_"
      }
    },
    {
      "cell_type": "code",
      "source": [
        "print(\"MAE: \" + str(sklearn.metrics.mean_absolute_error(y_train, lasso.predict(X_train))))\n",
        "print(\"MSE: \" + str(sklearn.metrics.mean_squared_error(y_train, lasso.predict(X_train))))\n",
        "print(\"R2: \" + str(sklearn.metrics.r2_score(y_train, lasso.predict(X_train))))"
      ],
      "metadata": {
        "id": "Ow3t_v_whE6v",
        "colab": {
          "base_uri": "https://localhost:8080/"
        },
        "outputId": "96b98021-2d39-4f8a-dd13-d59126d07300"
      },
      "execution_count": 24,
      "outputs": [
        {
          "output_type": "stream",
          "name": "stdout",
          "text": [
            "MAE: 10.58969830766503\n",
            "MSE: 187.56611306376888\n",
            "R2: 0.8843355332380946\n"
          ]
        }
      ]
    },
    {
      "cell_type": "code",
      "source": [
        "print(\"MAE: \" + str(sklearn.metrics.mean_absolute_error(y_test, lasso.predict(X_test))))\n",
        "print(\"MSE: \" + str(sklearn.metrics.mean_squared_error(y_test, lasso.predict(X_test))))\n",
        "print(\"R2: \" + str(sklearn.metrics.r2_score(y_test, lasso.predict(X_test))))"
      ],
      "metadata": {
        "id": "AX5fPjMohE-J",
        "colab": {
          "base_uri": "https://localhost:8080/"
        },
        "outputId": "1731da95-d837-40ee-c307-7602c0b03911"
      },
      "execution_count": 25,
      "outputs": [
        {
          "output_type": "stream",
          "name": "stdout",
          "text": [
            "MAE: 11.597940640882246\n",
            "MSE: 215.9797689236435\n",
            "R2: 0.8431615371253983\n"
          ]
        }
      ]
    },
    {
      "cell_type": "markdown",
      "source": [
        "### Этап 6.3. Для наилучшей модели вывести model.coef_ и model.intercept_"
      ],
      "metadata": {
        "id": "D5I6WWLqhEsR"
      }
    },
    {
      "cell_type": "code",
      "source": [
        "lasso.coef_"
      ],
      "metadata": {
        "id": "CHoCFbFihVvf",
        "colab": {
          "base_uri": "https://localhost:8080/"
        },
        "outputId": "9623facc-5fc2-4481-97eb-b8dc5cec2b09"
      },
      "execution_count": 26,
      "outputs": [
        {
          "output_type": "execute_result",
          "data": {
            "text/plain": [
              "array([-7.53677731e-02, -1.18477459e+00, -6.16382400e-01,  3.31940333e+00,\n",
              "       -8.51458534e-01,  3.86546669e-02,  4.20671430e-01,  9.10390505e+00,\n",
              "       -5.52475089e+00, -3.09864891e-01,  1.84539360e-02, -3.73052391e+00,\n",
              "        2.22565447e+00, -5.01818020e-04])"
            ]
          },
          "metadata": {},
          "execution_count": 26
        }
      ]
    },
    {
      "cell_type": "code",
      "source": [
        "lasso.intercept_"
      ],
      "metadata": {
        "id": "3AgYQZqxhXZH",
        "colab": {
          "base_uri": "https://localhost:8080/"
        },
        "outputId": "e391a41d-0b9f-4abb-9713-b219f8c0acb5"
      },
      "execution_count": 27,
      "outputs": [
        {
          "output_type": "execute_result",
          "data": {
            "text/plain": [
              "-58.561698858121474"
            ]
          },
          "metadata": {},
          "execution_count": 27
        }
      ]
    },
    {
      "cell_type": "markdown",
      "source": [
        "### Этап 6.4. Для наилучшей модели построить график (barh) с важностью коэфициентов при соответствующих признаках\n",
        "\n"
      ],
      "metadata": {
        "id": "_bZh4ifRhYnx"
      }
    },
    {
      "cell_type": "code",
      "source": [
        "coefs_2 = []\n",
        "names_2 = []\n",
        "zz = zip(lasso.coef_, X.columns)\n",
        "zz = sorted(zz, key=lambda x: x[0])\n",
        "for c, n in zz:\n",
        "    coefs_2.append(c)\n",
        "    names_2.append(n)"
      ],
      "metadata": {
        "id": "vNVWWGDhhebI"
      },
      "execution_count": 28,
      "outputs": []
    },
    {
      "cell_type": "code",
      "source": [
        "plt.figure(figsize=(10,8))\n",
        "plt.barh(range(len(lasso.coef_)), coefs_2, align='center')\n",
        "plt.yticks(range(len(lasso.coef_)), names_2)"
      ],
      "metadata": {
        "id": "Lvjyuosfhfe_",
        "colab": {
          "base_uri": "https://localhost:8080/",
          "height": 968
        },
        "outputId": "b8704926-dd02-4122-e2df-a7922e821c91"
      },
      "execution_count": 29,
      "outputs": [
        {
          "output_type": "execute_result",
          "data": {
            "text/plain": [
              "([<matplotlib.axis.YTick at 0x7faa3e040150>,\n",
              "  <matplotlib.axis.YTick at 0x7faa3af2b9d0>,\n",
              "  <matplotlib.axis.YTick at 0x7faa3ae5c910>,\n",
              "  <matplotlib.axis.YTick at 0x7faa39535410>,\n",
              "  <matplotlib.axis.YTick at 0x7faa39535950>,\n",
              "  <matplotlib.axis.YTick at 0x7faa39535e90>,\n",
              "  <matplotlib.axis.YTick at 0x7faa39538450>,\n",
              "  <matplotlib.axis.YTick at 0x7faa39538990>,\n",
              "  <matplotlib.axis.YTick at 0x7faa39535ad0>,\n",
              "  <matplotlib.axis.YTick at 0x7faa39538e10>,\n",
              "  <matplotlib.axis.YTick at 0x7faa39538190>,\n",
              "  <matplotlib.axis.YTick at 0x7faa39540590>,\n",
              "  <matplotlib.axis.YTick at 0x7faa39540ad0>,\n",
              "  <matplotlib.axis.YTick at 0x7faa39540110>],\n",
              " [Text(0, 0, 'stroke'),\n",
              "  Text(0, 0, 'city-mpg'),\n",
              "  Text(0, 0, 'wheel-base'),\n",
              "  Text(0, 0, 'height'),\n",
              "  Text(0, 0, 'length'),\n",
              "  Text(0, 0, 'compression-ratio'),\n",
              "  Text(0, 0, 'normalized-losses'),\n",
              "  Text(0, 0, 'price'),\n",
              "  Text(0, 0, 'peak-rpm'),\n",
              "  Text(0, 0, 'curb-weight'),\n",
              "  Text(0, 0, 'engine-size'),\n",
              "  Text(0, 0, 'highway-mpg'),\n",
              "  Text(0, 0, 'width'),\n",
              "  Text(0, 0, 'bore')])"
            ]
          },
          "metadata": {},
          "execution_count": 29
        },
        {
          "output_type": "display_data",
          "data": {
            "text/plain": [
              "<Figure size 720x576 with 1 Axes>"
            ],
            "image/png": "[encoded data removed]"
          },
          "metadata": {
            "needs_background": "light"
          }
        }
      ]
    },
    {
      "cell_type": "markdown",
      "source": [
        "## Этап 7. Модель Ridge"
      ],
      "metadata": {
        "id": "MPL-8VNfhpTO"
      }
    },
    {
      "cell_type": "markdown",
      "source": [
        "### Этап 7.1. Обучить модель регрессии (Ridge), с помощью GridSearchCV подобрать параметр alpha, дальше работаем с лучшей моделью."
      ],
      "metadata": {
        "id": "rqL03CWNh2WT"
      }
    },
    {
      "cell_type": "markdown",
      "source": [
        "#### Построение модели"
      ],
      "metadata": {
        "id": "TOa_BxVWiSCL"
      }
    },
    {
      "cell_type": "code",
      "source": [
        "ridge = Ridge()"
      ],
      "metadata": {
        "id": "pj_DGRT2h_hY"
      },
      "execution_count": 30,
      "outputs": []
    },
    {
      "cell_type": "markdown",
      "source": [
        "#### Определение параметров"
      ],
      "metadata": {
        "id": "XQj68X3xibEA"
      }
    },
    {
      "cell_type": "code",
      "source": [
        "parameters = {'alpha': np.linspace(0,1,100)}\n",
        "ridge_grid = GridSearchCV(ridge,parameters)\n",
        "ridge_grid.fit(X_train, y_train)"
      ],
      "metadata": {
        "id": "g6jfBFmEiGMv",
        "colab": {
          "base_uri": "https://localhost:8080/"
        },
        "outputId": "e018568c-bbc9-480b-d9ba-8c1dc3668654"
      },
      "execution_count": 31,
      "outputs": [
        {
          "output_type": "execute_result",
          "data": {
            "text/plain": [
              "GridSearchCV(estimator=Ridge(),\n",
              "             param_grid={'alpha': array([0.        , 0.01010101, 0.02020202, 0.03030303, 0.04040404,\n",
              "       0.05050505, 0.06060606, 0.07070707, 0.08080808, 0.09090909,\n",
              "       0.1010101 , 0.11111111, 0.12121212, 0.13131313, 0.14141414,\n",
              "       0.15151515, 0.16161616, 0.17171717, 0.18181818, 0.19191919,\n",
              "       0.2020202 , 0.21212121, 0.22222222, 0.23232323, 0.24242424,\n",
              "       0.25252525, 0.26262626, 0.272...\n",
              "       0.65656566, 0.66666667, 0.67676768, 0.68686869, 0.6969697 ,\n",
              "       0.70707071, 0.71717172, 0.72727273, 0.73737374, 0.74747475,\n",
              "       0.75757576, 0.76767677, 0.77777778, 0.78787879, 0.7979798 ,\n",
              "       0.80808081, 0.81818182, 0.82828283, 0.83838384, 0.84848485,\n",
              "       0.85858586, 0.86868687, 0.87878788, 0.88888889, 0.8989899 ,\n",
              "       0.90909091, 0.91919192, 0.92929293, 0.93939394, 0.94949495,\n",
              "       0.95959596, 0.96969697, 0.97979798, 0.98989899, 1.        ])})"
            ]
          },
          "metadata": {},
          "execution_count": 31
        }
      ]
    },
    {
      "cell_type": "code",
      "source": [
        "ridge_grid.best_params_"
      ],
      "metadata": {
        "id": "DvLEbcXBiJlu",
        "colab": {
          "base_uri": "https://localhost:8080/"
        },
        "outputId": "ad8b1114-ab22-43d6-f240-7b8f759c394f"
      },
      "execution_count": 32,
      "outputs": [
        {
          "output_type": "execute_result",
          "data": {
            "text/plain": [
              "{'alpha': 1.0}"
            ]
          },
          "metadata": {},
          "execution_count": 32
        }
      ]
    },
    {
      "cell_type": "markdown",
      "source": [
        "#### Сохранение лучшей модели"
      ],
      "metadata": {
        "id": "WmlGp3Q4_hAB"
      }
    },
    {
      "cell_type": "code",
      "source": [
        "ridge = ridge_grid.best_estimator_"
      ],
      "metadata": {
        "id": "KYJvsFfYiNye"
      },
      "execution_count": 33,
      "outputs": []
    },
    {
      "cell_type": "markdown",
      "source": [
        "### Этап 7.2. Для лучшей модели вывести метрики MAE, MSE и R2 на обущающем и тестовом наборе."
      ],
      "metadata": {
        "id": "s6I8jY2q_ua_"
      }
    },
    {
      "cell_type": "code",
      "source": [
        "print(\"MAE: \" + str(sklearn.metrics.mean_absolute_error(y_train, ridge.predict(X_train))))\n",
        "print(\"MSE: \" + str(sklearn.metrics.mean_squared_error(y_train, ridge.predict(X_train))))\n",
        "print(\"R2: \" + str(sklearn.metrics.r2_score(y_train, ridge.predict(X_train))))"
      ],
      "metadata": {
        "id": "ZQOA8hmb_0vn",
        "colab": {
          "base_uri": "https://localhost:8080/"
        },
        "outputId": "e091b35f-d3fc-4337-bfa3-2c97ad5a51ae"
      },
      "execution_count": 34,
      "outputs": [
        {
          "output_type": "stream",
          "name": "stdout",
          "text": [
            "MAE: 10.586606453872012\n",
            "MSE: 187.59829610418188\n",
            "R2: 0.884315687253405\n"
          ]
        }
      ]
    },
    {
      "cell_type": "code",
      "source": [
        "print(\"MAE: \" + str(sklearn.metrics.mean_absolute_error(y_test, ridge.predict(X_test))))\n",
        "print(\"MSE: \" + str(sklearn.metrics.mean_squared_error(y_test, ridge.predict(X_test))))\n",
        "print(\"R2: \" + str(sklearn.metrics.r2_score(y_test, ridge.predict(X_test))))"
      ],
      "metadata": {
        "id": "kYAiYpIX_16w",
        "colab": {
          "base_uri": "https://localhost:8080/"
        },
        "outputId": "db6675d4-74b0-49ce-aa8d-e3839db2f1bc"
      },
      "execution_count": 35,
      "outputs": [
        {
          "output_type": "stream",
          "name": "stdout",
          "text": [
            "MAE: 11.612956932844755\n",
            "MSE: 216.8446196730232\n",
            "R2: 0.8425335067185475\n"
          ]
        }
      ]
    },
    {
      "cell_type": "markdown",
      "source": [
        "### Этап 7.3. Для наилучшей модели вывести model.coef_ и model.intercept_"
      ],
      "metadata": {
        "id": "IAFFhuR3_mIP"
      }
    },
    {
      "cell_type": "code",
      "source": [
        "ridge.coef_"
      ],
      "metadata": {
        "id": "TMewv46H_86O",
        "colab": {
          "base_uri": "https://localhost:8080/"
        },
        "outputId": "20509f69-af16-4751-9bcf-e279e70d661b"
      },
      "execution_count": 36,
      "outputs": [
        {
          "output_type": "execute_result",
          "data": {
            "text/plain": [
              "array([-7.59547573e-02, -1.18440032e+00, -6.16299515e-01,  3.34356005e+00,\n",
              "       -8.62591002e-01,  3.87888663e-02,  4.20297008e-01,  8.64560435e+00,\n",
              "       -5.62774209e+00, -3.15325823e-01,  1.83958799e-02, -3.74932441e+00,\n",
              "        2.24253651e+00, -5.04141589e-04])"
            ]
          },
          "metadata": {},
          "execution_count": 36
        }
      ]
    },
    {
      "cell_type": "code",
      "source": [
        "ridge.intercept_"
      ],
      "metadata": {
        "id": "29KJCu-T_91P",
        "colab": {
          "base_uri": "https://localhost:8080/"
        },
        "outputId": "1d4ce9f2-dacf-47bd-b284-6d1440233938"
      },
      "execution_count": 37,
      "outputs": [
        {
          "output_type": "execute_result",
          "data": {
            "text/plain": [
              "-57.633354303327536"
            ]
          },
          "metadata": {},
          "execution_count": 37
        }
      ]
    },
    {
      "cell_type": "markdown",
      "source": [
        "### Этап 7.4. Для наилучшей модели построить график (barh) с важностью коэфициентов при соответствующих признаках"
      ],
      "metadata": {
        "id": "c7x6JmEFADqv"
      }
    },
    {
      "cell_type": "code",
      "source": [
        "coefs_3 = []\n",
        "names_3 = []\n",
        "zzz = zip(ridge.coef_, X.columns)\n",
        "zzz = sorted(zzz, key=lambda x: x[0])\n",
        "for c, n in zzz:\n",
        "    coefs_3.append(c)\n",
        "    names_3.append(n)"
      ],
      "metadata": {
        "id": "StR0t40WALmf"
      },
      "execution_count": 38,
      "outputs": []
    },
    {
      "cell_type": "code",
      "source": [
        "plt.figure(figsize=(10,8))\n",
        "plt.barh(range(len(ridge.coef_)), coefs_3, align='center')\n",
        "plt.yticks(range(len(ridge.coef_)), names_3)"
      ],
      "metadata": {
        "id": "T5_K1q4sAPlf",
        "colab": {
          "base_uri": "https://localhost:8080/",
          "height": 968
        },
        "outputId": "36a2b0ec-fc72-4b98-aac9-a911e3ff1b82"
      },
      "execution_count": 39,
      "outputs": [
        {
          "output_type": "execute_result",
          "data": {
            "text/plain": [
              "([<matplotlib.axis.YTick at 0x7faa394ce890>,\n",
              "  <matplotlib.axis.YTick at 0x7faa394ceb50>,\n",
              "  <matplotlib.axis.YTick at 0x7faa394fcc90>,\n",
              "  <matplotlib.axis.YTick at 0x7faa3947d090>,\n",
              "  <matplotlib.axis.YTick at 0x7faa3947d690>,\n",
              "  <matplotlib.axis.YTick at 0x7faa3947dbd0>,\n",
              "  <matplotlib.axis.YTick at 0x7faa394800d0>,\n",
              "  <matplotlib.axis.YTick at 0x7faa394806d0>,\n",
              "  <matplotlib.axis.YTick at 0x7faa39480c10>,\n",
              "  <matplotlib.axis.YTick at 0x7faa39480b50>,\n",
              "  <matplotlib.axis.YTick at 0x7faa3947dc90>,\n",
              "  <matplotlib.axis.YTick at 0x7faa39487090>,\n",
              "  <matplotlib.axis.YTick at 0x7faa39487810>,\n",
              "  <matplotlib.axis.YTick at 0x7faa39487d50>],\n",
              " [Text(0, 0, 'stroke'),\n",
              "  Text(0, 0, 'city-mpg'),\n",
              "  Text(0, 0, 'wheel-base'),\n",
              "  Text(0, 0, 'height'),\n",
              "  Text(0, 0, 'length'),\n",
              "  Text(0, 0, 'compression-ratio'),\n",
              "  Text(0, 0, 'normalized-losses'),\n",
              "  Text(0, 0, 'price'),\n",
              "  Text(0, 0, 'peak-rpm'),\n",
              "  Text(0, 0, 'curb-weight'),\n",
              "  Text(0, 0, 'engine-size'),\n",
              "  Text(0, 0, 'highway-mpg'),\n",
              "  Text(0, 0, 'width'),\n",
              "  Text(0, 0, 'bore')])"
            ]
          },
          "metadata": {},
          "execution_count": 39
        },
        {
          "output_type": "display_data",
          "data": {
            "text/plain": [
              "<Figure size 720x576 with 1 Axes>"
            ],
            "image/png": "[encoded data removed]"
          },
          "metadata": {
            "needs_background": "light"
          }
        }
      ]
    },
    {
      "cell_type": "markdown",
      "source": [
        "## Этап 8. Модель ElasticNet"
      ],
      "metadata": {
        "id": "m5O3kjZSAq4n"
      }
    },
    {
      "cell_type": "markdown",
      "source": [
        "### Этап 8.1. Обучить модель регрессии (ElasticNet), с помощью GridSearchCV подобрать параметр alpha, дальше работаем с лучшей моделью."
      ],
      "metadata": {
        "id": "8s2xA7hlAiYe"
      }
    },
    {
      "cell_type": "markdown",
      "source": [
        "#### Построение модели"
      ],
      "metadata": {
        "id": "LGlYqtc0AyrY"
      }
    },
    {
      "cell_type": "code",
      "source": [
        "elnet = ElasticNet()"
      ],
      "metadata": {
        "id": "3x-aJG6fAyaL"
      },
      "execution_count": 40,
      "outputs": []
    },
    {
      "cell_type": "markdown",
      "source": [
        "#### Подбор параметров "
      ],
      "metadata": {
        "id": "reL0Iq0aA3ff"
      }
    },
    {
      "cell_type": "code",
      "source": [
        "parameters = {'alpha': np.linspace(0,1,100),\n",
        "                 'l1_ratio': np.linspace(0,1,100)}\n",
        "elnet_grid = GridSearchCV(elnet,parameters)\n",
        "elnet_grid.fit(X_train, y_train)"
      ],
      "metadata": {
        "id": "JqkldTLWA6b3",
        "colab": {
          "base_uri": "https://localhost:8080/"
        },
        "outputId": "ecf2f090-a804-4fc2-a0ee-912986193652"
      },
      "execution_count": 41,
      "outputs": [
        {
          "output_type": "execute_result",
          "data": {
            "text/plain": [
              "GridSearchCV(estimator=ElasticNet(),\n",
              "             param_grid={'alpha': array([0.        , 0.01010101, 0.02020202, 0.03030303, 0.04040404,\n",
              "       0.05050505, 0.06060606, 0.07070707, 0.08080808, 0.09090909,\n",
              "       0.1010101 , 0.11111111, 0.12121212, 0.13131313, 0.14141414,\n",
              "       0.15151515, 0.16161616, 0.17171717, 0.18181818, 0.19191919,\n",
              "       0.2020202 , 0.21212121, 0.22222222, 0.23232323, 0.24242424,\n",
              "       0.25252525, 0.26262626,...\n",
              "       0.65656566, 0.66666667, 0.67676768, 0.68686869, 0.6969697 ,\n",
              "       0.70707071, 0.71717172, 0.72727273, 0.73737374, 0.74747475,\n",
              "       0.75757576, 0.76767677, 0.77777778, 0.78787879, 0.7979798 ,\n",
              "       0.80808081, 0.81818182, 0.82828283, 0.83838384, 0.84848485,\n",
              "       0.85858586, 0.86868687, 0.87878788, 0.88888889, 0.8989899 ,\n",
              "       0.90909091, 0.91919192, 0.92929293, 0.93939394, 0.94949495,\n",
              "       0.95959596, 0.96969697, 0.97979798, 0.98989899, 1.        ])})"
            ]
          },
          "metadata": {},
          "execution_count": 41
        }
      ]
    },
    {
      "cell_type": "code",
      "source": [
        "elnet_grid.best_params_"
      ],
      "metadata": {
        "colab": {
          "base_uri": "https://localhost:8080/"
        },
        "id": "XutQMQBSSU60",
        "outputId": "9be6ba9f-ccf4-446a-c210-705993cdfc7a"
      },
      "execution_count": 42,
      "outputs": [
        {
          "output_type": "execute_result",
          "data": {
            "text/plain": [
              "{'alpha': 0.696969696969697, 'l1_ratio': 0.0}"
            ]
          },
          "metadata": {},
          "execution_count": 42
        }
      ]
    },
    {
      "cell_type": "markdown",
      "source": [
        "#### Сохранение лучшей модели"
      ],
      "metadata": {
        "id": "ZPNniCFUA8n3"
      }
    },
    {
      "cell_type": "code",
      "source": [
        "elnet = elnet_grid.best_estimator_"
      ],
      "metadata": {
        "id": "a7tlRSSzBAlW"
      },
      "execution_count": 43,
      "outputs": []
    },
    {
      "cell_type": "markdown",
      "source": [
        "### Этап 8.2 Для лучшей модели вывести метрики MAE, MSE и R2 на обущающем и тестовом наборе."
      ],
      "metadata": {
        "id": "LsCMAikoAdTO"
      }
    },
    {
      "cell_type": "code",
      "source": [
        "print(\"MAE: \" + str(sklearn.metrics.mean_absolute_error(y_train, elnet.predict(X_train))))\n",
        "print(\"MSE: \" + str(sklearn.metrics.mean_squared_error(y_train, elnet.predict(X_train))))\n",
        "print(\"R2: \" + str(sklearn.metrics.r2_score(y_train, elnet.predict(X_train))))"
      ],
      "metadata": {
        "id": "Nvap_TRUBEV3",
        "colab": {
          "base_uri": "https://localhost:8080/"
        },
        "outputId": "3b963032-07fd-494a-8597-fe6473afeff8"
      },
      "execution_count": 44,
      "outputs": [
        {
          "output_type": "stream",
          "name": "stdout",
          "text": [
            "MAE: 10.320188564340292\n",
            "MSE: 199.39040978655365\n",
            "R2: 0.8770439657319189\n"
          ]
        }
      ]
    },
    {
      "cell_type": "code",
      "source": [
        "print(\"MAE: \" + str(sklearn.metrics.mean_absolute_error(y_test, elnet.predict(X_test))))\n",
        "print(\"MSE: \" + str(sklearn.metrics.mean_squared_error(y_test, elnet.predict(X_test))))\n",
        "print(\"R2: \" + str(sklearn.metrics.r2_score(y_test, elnet.predict(X_test))))"
      ],
      "metadata": {
        "id": "I4BUGDMdBCFp",
        "colab": {
          "base_uri": "https://localhost:8080/"
        },
        "outputId": "81230471-4554-4a9c-f512-117a475a6b5b"
      },
      "execution_count": 45,
      "outputs": [
        {
          "output_type": "stream",
          "name": "stdout",
          "text": [
            "MAE: 11.110025380328247\n",
            "MSE: 224.17448667306758\n",
            "R2: 0.8372107624675864\n"
          ]
        }
      ]
    },
    {
      "cell_type": "markdown",
      "source": [
        "### Этап 8.3. Для наилучшей модели вывести model.coef_ и model.intercept_"
      ],
      "metadata": {
        "id": "vP-w6Oe8AY7W"
      }
    },
    {
      "cell_type": "code",
      "source": [
        "elnet.coef_"
      ],
      "metadata": {
        "id": "gZ1qpuWaBPQA",
        "colab": {
          "base_uri": "https://localhost:8080/"
        },
        "outputId": "af4506c8-50b2-4bfa-bfe6-d80a843cfbc0"
      },
      "execution_count": 46,
      "outputs": [
        {
          "output_type": "execute_result",
          "data": {
            "text/plain": [
              "array([-7.00834079e-02, -1.25461704e+00, -5.02590398e-01,  2.05627028e+00,\n",
              "       -8.64650587e-01,  4.33861851e-02,  4.11740840e-01,  6.82398523e-01,\n",
              "       -7.75698216e-01, -5.08622506e-01,  1.80006524e-02, -2.63174972e+00,\n",
              "        1.19892584e+00, -4.54603465e-04])"
            ]
          },
          "metadata": {},
          "execution_count": 46
        }
      ]
    },
    {
      "cell_type": "code",
      "source": [
        "elnet.intercept_"
      ],
      "metadata": {
        "id": "wIWVV0UCBRcp",
        "colab": {
          "base_uri": "https://localhost:8080/"
        },
        "outputId": "38e66d9b-215a-408c-cce5-ac765724b1c4"
      },
      "execution_count": 47,
      "outputs": [
        {
          "output_type": "execute_result",
          "data": {
            "text/plain": [
              "20.957251924762502"
            ]
          },
          "metadata": {},
          "execution_count": 47
        }
      ]
    },
    {
      "cell_type": "markdown",
      "source": [
        "### Этап 8.4. Для наилучшей модели построить график (barh) с важностью коэфициентов при соответствующих признаках"
      ],
      "metadata": {
        "id": "-rYFXh5UATqb"
      }
    },
    {
      "cell_type": "code",
      "source": [
        "coefs_4 = []\n",
        "names_4 = []\n",
        "zzzz = zip(elnet.coef_, X.columns)\n",
        "zzzz = sorted(zzzz, key=lambda x: x[0])\n",
        "for c, n in zzzz:\n",
        "    coefs_4.append(c)\n",
        "    names_4.append(n)"
      ],
      "metadata": {
        "id": "_lGlAhivBUIX"
      },
      "execution_count": 48,
      "outputs": []
    },
    {
      "cell_type": "code",
      "source": [
        "plt.figure(figsize=(10,8))\n",
        "plt.barh(range(len(elnet.coef_)), coefs_4, align='center')\n",
        "plt.yticks(range(len(elnet.coef_)), names_4)"
      ],
      "metadata": {
        "id": "8VehQIZNBViZ",
        "colab": {
          "base_uri": "https://localhost:8080/",
          "height": 968
        },
        "outputId": "687de1c8-a5aa-42aa-8b12-4637ccd9d82f"
      },
      "execution_count": 49,
      "outputs": [
        {
          "output_type": "execute_result",
          "data": {
            "text/plain": [
              "([<matplotlib.axis.YTick at 0x7faa37097f90>,\n",
              "  <matplotlib.axis.YTick at 0x7faa37097350>,\n",
              "  <matplotlib.axis.YTick at 0x7faa37ca2dd0>,\n",
              "  <matplotlib.axis.YTick at 0x7faa3e006590>,\n",
              "  <matplotlib.axis.YTick at 0x7faa3e03b6d0>,\n",
              "  <matplotlib.axis.YTick at 0x7faa3d9dba10>,\n",
              "  <matplotlib.axis.YTick at 0x7faa3e017690>,\n",
              "  <matplotlib.axis.YTick at 0x7faa38ec8190>,\n",
              "  <matplotlib.axis.YTick at 0x7faa38ec8890>,\n",
              "  <matplotlib.axis.YTick at 0x7faa38ec8410>,\n",
              "  <matplotlib.axis.YTick at 0x7faa38f07390>,\n",
              "  <matplotlib.axis.YTick at 0x7faa38f07b90>,\n",
              "  <matplotlib.axis.YTick at 0x7faa38f071d0>,\n",
              "  <matplotlib.axis.YTick at 0x7faa38f55290>],\n",
              " [Text(0, 0, 'city-mpg'),\n",
              "  Text(0, 0, 'wheel-base'),\n",
              "  Text(0, 0, 'height'),\n",
              "  Text(0, 0, 'stroke'),\n",
              "  Text(0, 0, 'compression-ratio'),\n",
              "  Text(0, 0, 'length'),\n",
              "  Text(0, 0, 'normalized-losses'),\n",
              "  Text(0, 0, 'price'),\n",
              "  Text(0, 0, 'peak-rpm'),\n",
              "  Text(0, 0, 'curb-weight'),\n",
              "  Text(0, 0, 'engine-size'),\n",
              "  Text(0, 0, 'bore'),\n",
              "  Text(0, 0, 'highway-mpg'),\n",
              "  Text(0, 0, 'width')])"
            ]
          },
          "metadata": {},
          "execution_count": 49
        },
        {
          "output_type": "display_data",
          "data": {
            "text/plain": [
              "<Figure size 720x576 with 1 Axes>"
            ],
            "image/png": "[encoded data removed]"
          },
          "metadata": {
            "needs_background": "light"
          }
        }
      ]
    },
    {
      "cell_type": "markdown",
      "source": [
        "## Этап 9. Выбрать лучшую модель, указать значения MAE, MSE и R2 на тестовом наборе."
      ],
      "metadata": {
        "id": "dwllEmL5CL7b"
      }
    },
    {
      "cell_type": "code",
      "source": [
        "print(\"MAE LR: \" + str(sklearn.metrics.mean_absolute_error(y_test, model_lr.predict(X_test))))\n",
        "print(\"MAE lasso: \" + str(sklearn.metrics.mean_absolute_error(y_test, lasso.predict(X_test))))\n",
        "print(\"MAE ridge: \" + str(sklearn.metrics.mean_absolute_error(y_test, ridge.predict(X_test))))\n",
        "print(\"MAE elastic net: \" + str(sklearn.metrics.mean_absolute_error(y_test, elnet.predict(X_test))))"
      ],
      "metadata": {
        "id": "I9bHs3klCUcI",
        "colab": {
          "base_uri": "https://localhost:8080/"
        },
        "outputId": "139da801-2835-4285-d8d6-72b0517546b9"
      },
      "execution_count": 50,
      "outputs": [
        {
          "output_type": "stream",
          "name": "stdout",
          "text": [
            "MAE LR: 11.61861312482972\n",
            "MAE lasso: 11.597940640882246\n",
            "MAE ridge: 11.612956932844755\n",
            "MAE elastic net: 11.110025380328247\n"
          ]
        }
      ]
    },
    {
      "cell_type": "markdown",
      "source": [
        "## Этап 10. Возвращаем категориальные / бинарные признаки на место в датасет."
      ],
      "metadata": {
        "id": "Aojb0n-SEKOg"
      }
    },
    {
      "cell_type": "code",
      "source": [
        "mach1 = machframe.drop(columns=['make','body-style','drive-wheels',\n",
        "                            'fuel-system','engine-type'])"
      ],
      "metadata": {
        "id": "0EouyvxlET15"
      },
      "execution_count": 51,
      "outputs": []
    },
    {
      "cell_type": "code",
      "source": [
        "mach1 = pd.concat([mach1,pd.get_dummies(machframe['make'],drop_first = True)],axis = 1)\n",
        "mach1 = pd.concat([mach1,pd.get_dummies(machframe['body-style'],drop_first = True)],axis = 1)\n",
        "mach1 = pd.concat([mach1,pd.get_dummies(machframe['drive-wheels'],drop_first = True)],axis = 1)\n",
        "mach1 = pd.concat([mach1,pd.get_dummies(machframe['fuel-system'],drop_first = True)],axis = 1)\n",
        "mach1 = pd.concat([mach1,pd.get_dummies(machframe['engine-type'], drop_first = True)],axis = 1)\n",
        "mach1"
      ],
      "metadata": {
        "id": "-iX3H1oeEWKQ",
        "colab": {
          "base_uri": "https://localhost:8080/",
          "height": 423
        },
        "outputId": "548e5bd1-2ad3-4149-f44e-a28126197523"
      },
      "execution_count": 52,
      "outputs": [
        {
          "output_type": "execute_result",
          "data": {
            "text/plain": [
              "     symboling normalized-losses fuel-type aspiration num-of-doors  \\\n",
              "0            3             115.0       gas        std          two   \n",
              "1            3             115.0       gas        std          two   \n",
              "2            1             115.0       gas        std          two   \n",
              "3            2               164       gas        std         four   \n",
              "4            2               164       gas        std         four   \n",
              "..         ...               ...       ...        ...          ...   \n",
              "200         -1                95       gas        std         four   \n",
              "201         -1                95       gas      turbo         four   \n",
              "202         -1                95       gas        std         four   \n",
              "203         -1                95    diesel      turbo         four   \n",
              "204         -1                95       gas      turbo         four   \n",
              "\n",
              "    engine-location  wheel-base  length  width  height  ...  mfi mpfi  spdi  \\\n",
              "0             front        88.6   168.8   64.1    48.8  ...    0    1     0   \n",
              "1             front        88.6   168.8   64.1    48.8  ...    0    1     0   \n",
              "2             front        94.5   171.2   65.5    52.4  ...    0    1     0   \n",
              "3             front        99.8   176.6   66.2    54.3  ...    0    1     0   \n",
              "4             front        99.4   176.6   66.4    54.3  ...    0    1     0   \n",
              "..              ...         ...     ...    ...     ...  ...  ...  ...   ...   \n",
              "200           front       109.1   188.8   68.9    55.5  ...    0    1     0   \n",
              "201           front       109.1   188.8   68.8    55.5  ...    0    1     0   \n",
              "202           front       109.1   188.8   68.9    55.5  ...    0    1     0   \n",
              "203           front       109.1   188.8   68.9    55.5  ...    0    0     0   \n",
              "204           front       109.1   188.8   68.9    55.5  ...    0    1     0   \n",
              "\n",
              "    spfi dohcv  l ohc ohcf  ohcv  rotor  \n",
              "0      0     0  0   0    0     0      0  \n",
              "1      0     0  0   0    0     0      0  \n",
              "2      0     0  0   0    0     1      0  \n",
              "3      0     0  0   1    0     0      0  \n",
              "4      0     0  0   1    0     0      0  \n",
              "..   ...   ... ..  ..  ...   ...    ...  \n",
              "200    0     0  0   1    0     0      0  \n",
              "201    0     0  0   1    0     0      0  \n",
              "202    0     0  0   0    0     1      0  \n",
              "203    0     0  0   1    0     0      0  \n",
              "204    0     0  0   1    0     0      0  \n",
              "\n",
              "[203 rows x 61 columns]"
            ],
            "text/html": [
              "\n",
              "  <div id=\"df-77971c56-2460-4096-aa9c-48dae07f8e1d\">\n",
              "    <div class=\"colab-df-container\">\n",
              "      <div>\n",
              "<style scoped>\n",
              "    .dataframe tbody tr th:only-of-type {\n",
              "        vertical-align: middle;\n",
              "    }\n",
              "\n",
              "    .dataframe tbody tr th {\n",
              "        vertical-align: top;\n",
              "    }\n",
              "\n",
              "    .dataframe thead th {\n",
              "        text-align: right;\n",
              "    }\n",
              "</style>\n",
              "<table border=\"1\" class=\"dataframe\">\n",
              "  <thead>\n",
              "    <tr style=\"text-align: right;\">\n",
              "      <th></th>\n",
              "      <th>symboling</th>\n",
              "      <th>normalized-losses</th>\n",
              "      <th>fuel-type</th>\n",
              "      <th>aspiration</th>\n",
              "      <th>num-of-doors</th>\n",
              "      <th>engine-location</th>\n",
              "      <th>wheel-base</th>\n",
              "      <th>length</th>\n",
              "      <th>width</th>\n",
              "      <th>height</th>\n",
              "      <th>...</th>\n",
              "      <th>mfi</th>\n",
              "      <th>mpfi</th>\n",
              "      <th>spdi</th>\n",
              "      <th>spfi</th>\n",
              "      <th>dohcv</th>\n",
              "      <th>l</th>\n",
              "      <th>ohc</th>\n",
              "      <th>ohcf</th>\n",
              "      <th>ohcv</th>\n",
              "      <th>rotor</th>\n",
              "    </tr>\n",
              "  </thead>\n",
              "  <tbody>\n",
              "    <tr>\n",
              "      <th>0</th>\n",
              "      <td>3</td>\n",
              "      <td>115.0</td>\n",
              "      <td>gas</td>\n",
              "      <td>std</td>\n",
              "      <td>two</td>\n",
              "      <td>front</td>\n",
              "      <td>88.6</td>\n",
              "      <td>168.8</td>\n",
              "      <td>64.1</td>\n",
              "      <td>48.8</td>\n",
              "      <td>...</td>\n",
              "      <td>0</td>\n",
              "      <td>1</td>\n",
              "      <td>0</td>\n",
              "      <td>0</td>\n",
              "      <td>0</td>\n",
              "      <td>0</td>\n",
              "      <td>0</td>\n",
              "      <td>0</td>\n",
              "      <td>0</td>\n",
              "      <td>0</td>\n",
              "    </tr>\n",
              "    <tr>\n",
              "      <th>1</th>\n",
              "      <td>3</td>\n",
              "      <td>115.0</td>\n",
              "      <td>gas</td>\n",
              "      <td>std</td>\n",
              "      <td>two</td>\n",
              "      <td>front</td>\n",
              "      <td>88.6</td>\n",
              "      <td>168.8</td>\n",
              "      <td>64.1</td>\n",
              "      <td>48.8</td>\n",
              "      <td>...</td>\n",
              "      <td>0</td>\n",
              "      <td>1</td>\n",
              "      <td>0</td>\n",
              "      <td>0</td>\n",
              "      <td>0</td>\n",
              "      <td>0</td>\n",
              "      <td>0</td>\n",
              "      <td>0</td>\n",
              "      <td>0</td>\n",
              "      <td>0</td>\n",
              "    </tr>\n",
              "    <tr>\n",
              "      <th>2</th>\n",
              "      <td>1</td>\n",
              "      <td>115.0</td>\n",
              "      <td>gas</td>\n",
              "      <td>std</td>\n",
              "      <td>two</td>\n",
              "      <td>front</td>\n",
              "      <td>94.5</td>\n",
              "      <td>171.2</td>\n",
              "      <td>65.5</td>\n",
              "      <td>52.4</td>\n",
              "      <td>...</td>\n",
              "      <td>0</td>\n",
              "      <td>1</td>\n",
              "      <td>0</td>\n",
              "      <td>0</td>\n",
              "      <td>0</td>\n",
              "      <td>0</td>\n",
              "      <td>0</td>\n",
              "      <td>0</td>\n",
              "      <td>1</td>\n",
              "      <td>0</td>\n",
              "    </tr>\n",
              "    <tr>\n",
              "      <th>3</th>\n",
              "      <td>2</td>\n",
              "      <td>164</td>\n",
              "      <td>gas</td>\n",
              "      <td>std</td>\n",
              "      <td>four</td>\n",
              "      <td>front</td>\n",
              "      <td>99.8</td>\n",
              "      <td>176.6</td>\n",
              "      <td>66.2</td>\n",
              "      <td>54.3</td>\n",
              "      <td>...</td>\n",
              "      <td>0</td>\n",
              "      <td>1</td>\n",
              "      <td>0</td>\n",
              "      <td>0</td>\n",
              "      <td>0</td>\n",
              "      <td>0</td>\n",
              "      <td>1</td>\n",
              "      <td>0</td>\n",
              "      <td>0</td>\n",
              "      <td>0</td>\n",
              "    </tr>\n",
              "    <tr>\n",
              "      <th>4</th>\n",
              "      <td>2</td>\n",
              "      <td>164</td>\n",
              "      <td>gas</td>\n",
              "      <td>std</td>\n",
              "      <td>four</td>\n",
              "      <td>front</td>\n",
              "      <td>99.4</td>\n",
              "      <td>176.6</td>\n",
              "      <td>66.4</td>\n",
              "      <td>54.3</td>\n",
              "      <td>...</td>\n",
              "      <td>0</td>\n",
              "      <td>1</td>\n",
              "      <td>0</td>\n",
              "      <td>0</td>\n",
              "      <td>0</td>\n",
              "      <td>0</td>\n",
              "      <td>1</td>\n",
              "      <td>0</td>\n",
              "      <td>0</td>\n",
              "      <td>0</td>\n",
              "    </tr>\n",
              "    <tr>\n",
              "      <th>...</th>\n",
              "      <td>...</td>\n",
              "      <td>...</td>\n",
              "      <td>...</td>\n",
              "      <td>...</td>\n",
              "      <td>...</td>\n",
              "      <td>...</td>\n",
              "      <td>...</td>\n",
              "      <td>...</td>\n",
              "      <td>...</td>\n",
              "      <td>...</td>\n",
              "      <td>...</td>\n",
              "      <td>...</td>\n",
              "      <td>...</td>\n",
              "      <td>...</td>\n",
              "      <td>...</td>\n",
              "      <td>...</td>\n",
              "      <td>...</td>\n",
              "      <td>...</td>\n",
              "      <td>...</td>\n",
              "      <td>...</td>\n",
              "      <td>...</td>\n",
              "    </tr>\n",
              "    <tr>\n",
              "      <th>200</th>\n",
              "      <td>-1</td>\n",
              "      <td>95</td>\n",
              "      <td>gas</td>\n",
              "      <td>std</td>\n",
              "      <td>four</td>\n",
              "      <td>front</td>\n",
              "      <td>109.1</td>\n",
              "      <td>188.8</td>\n",
              "      <td>68.9</td>\n",
              "      <td>55.5</td>\n",
              "      <td>...</td>\n",
              "      <td>0</td>\n",
              "      <td>1</td>\n",
              "      <td>0</td>\n",
              "      <td>0</td>\n",
              "      <td>0</td>\n",
              "      <td>0</td>\n",
              "      <td>1</td>\n",
              "      <td>0</td>\n",
              "      <td>0</td>\n",
              "      <td>0</td>\n",
              "    </tr>\n",
              "    <tr>\n",
              "      <th>201</th>\n",
              "      <td>-1</td>\n",
              "      <td>95</td>\n",
              "      <td>gas</td>\n",
              "      <td>turbo</td>\n",
              "      <td>four</td>\n",
              "      <td>front</td>\n",
              "      <td>109.1</td>\n",
              "      <td>188.8</td>\n",
              "      <td>68.8</td>\n",
              "      <td>55.5</td>\n",
              "      <td>...</td>\n",
              "      <td>0</td>\n",
              "      <td>1</td>\n",
              "      <td>0</td>\n",
              "      <td>0</td>\n",
              "      <td>0</td>\n",
              "      <td>0</td>\n",
              "      <td>1</td>\n",
              "      <td>0</td>\n",
              "      <td>0</td>\n",
              "      <td>0</td>\n",
              "    </tr>\n",
              "    <tr>\n",
              "      <th>202</th>\n",
              "      <td>-1</td>\n",
              "      <td>95</td>\n",
              "      <td>gas</td>\n",
              "      <td>std</td>\n",
              "      <td>four</td>\n",
              "      <td>front</td>\n",
              "      <td>109.1</td>\n",
              "      <td>188.8</td>\n",
              "      <td>68.9</td>\n",
              "      <td>55.5</td>\n",
              "      <td>...</td>\n",
              "      <td>0</td>\n",
              "      <td>1</td>\n",
              "      <td>0</td>\n",
              "      <td>0</td>\n",
              "      <td>0</td>\n",
              "      <td>0</td>\n",
              "      <td>0</td>\n",
              "      <td>0</td>\n",
              "      <td>1</td>\n",
              "      <td>0</td>\n",
              "    </tr>\n",
              "    <tr>\n",
              "      <th>203</th>\n",
              "      <td>-1</td>\n",
              "      <td>95</td>\n",
              "      <td>diesel</td>\n",
              "      <td>turbo</td>\n",
              "      <td>four</td>\n",
              "      <td>front</td>\n",
              "      <td>109.1</td>\n",
              "      <td>188.8</td>\n",
              "      <td>68.9</td>\n",
              "      <td>55.5</td>\n",
              "      <td>...</td>\n",
              "      <td>0</td>\n",
              "      <td>0</td>\n",
              "      <td>0</td>\n",
              "      <td>0</td>\n",
              "      <td>0</td>\n",
              "      <td>0</td>\n",
              "      <td>1</td>\n",
              "      <td>0</td>\n",
              "      <td>0</td>\n",
              "      <td>0</td>\n",
              "    </tr>\n",
              "    <tr>\n",
              "      <th>204</th>\n",
              "      <td>-1</td>\n",
              "      <td>95</td>\n",
              "      <td>gas</td>\n",
              "      <td>turbo</td>\n",
              "      <td>four</td>\n",
              "      <td>front</td>\n",
              "      <td>109.1</td>\n",
              "      <td>188.8</td>\n",
              "      <td>68.9</td>\n",
              "      <td>55.5</td>\n",
              "      <td>...</td>\n",
              "      <td>0</td>\n",
              "      <td>1</td>\n",
              "      <td>0</td>\n",
              "      <td>0</td>\n",
              "      <td>0</td>\n",
              "      <td>0</td>\n",
              "      <td>1</td>\n",
              "      <td>0</td>\n",
              "      <td>0</td>\n",
              "      <td>0</td>\n",
              "    </tr>\n",
              "  </tbody>\n",
              "</table>\n",
              "<p>203 rows × 61 columns</p>\n",
              "</div>\n",
              "      <button class=\"colab-df-convert\" onclick=\"convertToInteractive('df-77971c56-2460-4096-aa9c-48dae07f8e1d')\"\n",
              "              title=\"Convert this dataframe to an interactive table.\"\n",
              "              style=\"display:none;\">\n",
              "        \n",
              "  <svg xmlns=\"http://www.w3.org/2000/svg\" height=\"24px\"viewBox=\"0 0 24 24\"\n",
              "       width=\"24px\">\n",
              "    <path d=\"M0 0h24v24H0V0z\" fill=\"none\"/>\n",
              "    <path d=\"M18.56 5.44l.94 2.06.94-2.06 2.06-.94-2.06-.94-.94-2.06-.94 2.06-2.06.94zm-11 1L8.5 8.5l.94-2.06 2.06-.94-2.06-.94L8.5 2.5l-.94 2.06-2.06.94zm10 10l.94 2.06.94-2.06 2.06-.94-2.06-.94-.94-2.06-.94 2.06-2.06.94z\"/><path d=\"M17.41 7.96l-1.37-1.37c-.4-.4-.92-.59-1.43-.59-.52 0-1.04.2-1.43.59L10.3 9.45l-7.72 7.72c-.78.78-.78 2.05 0 2.83L4 21.41c.39.39.9.59 1.41.59.51 0 1.02-.2 1.41-.59l7.78-7.78 2.81-2.81c.8-.78.8-2.07 0-2.86zM5.41 20L4 18.59l7.72-7.72 1.47 1.35L5.41 20z\"/>\n",
              "  </svg>\n",
              "      </button>\n",
              "      \n",
              "  <style>\n",
              "    .colab-df-container {\n",
              "      display:flex;\n",
              "      flex-wrap:wrap;\n",
              "      gap: 12px;\n",
              "    }\n",
              "\n",
              "    .colab-df-convert {\n",
              "      background-color: #E8F0FE;\n",
              "      border: none;\n",
              "      border-radius: 50%;\n",
              "      cursor: pointer;\n",
              "      display: none;\n",
              "      fill: #1967D2;\n",
              "      height: 32px;\n",
              "      padding: 0 0 0 0;\n",
              "      width: 32px;\n",
              "    }\n",
              "\n",
              "    .colab-df-convert:hover {\n",
              "      background-color: #E2EBFA;\n",
              "      box-shadow: 0px 1px 2px rgba(60, 64, 67, 0.3), 0px 1px 3px 1px rgba(60, 64, 67, 0.15);\n",
              "      fill: #174EA6;\n",
              "    }\n",
              "\n",
              "    [theme=dark] .colab-df-convert {\n",
              "      background-color: #3B4455;\n",
              "      fill: #D2E3FC;\n",
              "    }\n",
              "\n",
              "    [theme=dark] .colab-df-convert:hover {\n",
              "      background-color: #434B5C;\n",
              "      box-shadow: 0px 1px 3px 1px rgba(0, 0, 0, 0.15);\n",
              "      filter: drop-shadow(0px 1px 2px rgba(0, 0, 0, 0.3));\n",
              "      fill: #FFFFFF;\n",
              "    }\n",
              "  </style>\n",
              "\n",
              "      <script>\n",
              "        const buttonEl =\n",
              "          document.querySelector('#df-77971c56-2460-4096-aa9c-48dae07f8e1d button.colab-df-convert');\n",
              "        buttonEl.style.display =\n",
              "          google.colab.kernel.accessAllowed ? 'block' : 'none';\n",
              "\n",
              "        async function convertToInteractive(key) {\n",
              "          const element = document.querySelector('#df-77971c56-2460-4096-aa9c-48dae07f8e1d');\n",
              "          const dataTable =\n",
              "            await google.colab.kernel.invokeFunction('convertToInteractive',\n",
              "                                                     [key], {});\n",
              "          if (!dataTable) return;\n",
              "\n",
              "          const docLinkHtml = 'Like what you see? Visit the ' +\n",
              "            '<a target=\"_blank\" href=https://colab.research.google.com/notebooks/data_table.ipynb>data table notebook</a>'\n",
              "            + ' to learn more about interactive tables.';\n",
              "          element.innerHTML = '';\n",
              "          dataTable['output_type'] = 'display_data';\n",
              "          await google.colab.output.renderOutput(dataTable, element);\n",
              "          const docLink = document.createElement('div');\n",
              "          docLink.innerHTML = docLinkHtml;\n",
              "          element.appendChild(docLink);\n",
              "        }\n",
              "      </script>\n",
              "    </div>\n",
              "  </div>\n",
              "  "
            ]
          },
          "metadata": {},
          "execution_count": 52
        }
      ]
    },
    {
      "cell_type": "code",
      "source": [
        "mach1['fuel-type'] = pd.factorize(machframe['fuel-type'])[0]\n",
        "mach1['aspiration'] = pd.factorize(machframe['aspiration'])[0]\n",
        "mach1['num-of-doors'] = pd.factorize(machframe['num-of-doors'])[0]\n",
        "mach1['engine-location'] = pd.factorize(machframe['engine-location'])[0]\n",
        "mach1['num-of-cylinders'] = pd.factorize(machframe['num-of-cylinders'])[0]\n",
        "mach1"
      ],
      "metadata": {
        "id": "5QeVkj8LEYxy",
        "colab": {
          "base_uri": "https://localhost:8080/",
          "height": 423
        },
        "outputId": "ffc4efd9-149a-45a0-ea72-d387cd1510ba"
      },
      "execution_count": 53,
      "outputs": [
        {
          "output_type": "execute_result",
          "data": {
            "text/plain": [
              "     symboling normalized-losses  fuel-type  aspiration  num-of-doors  \\\n",
              "0            3             115.0          0           0             0   \n",
              "1            3             115.0          0           0             0   \n",
              "2            1             115.0          0           0             0   \n",
              "3            2               164          0           0             1   \n",
              "4            2               164          0           0             1   \n",
              "..         ...               ...        ...         ...           ...   \n",
              "200         -1                95          0           0             1   \n",
              "201         -1                95          0           1             1   \n",
              "202         -1                95          0           0             1   \n",
              "203         -1                95          1           1             1   \n",
              "204         -1                95          0           1             1   \n",
              "\n",
              "     engine-location  wheel-base  length  width  height  ...  mfi  mpfi  spdi  \\\n",
              "0                  0        88.6   168.8   64.1    48.8  ...    0     1     0   \n",
              "1                  0        88.6   168.8   64.1    48.8  ...    0     1     0   \n",
              "2                  0        94.5   171.2   65.5    52.4  ...    0     1     0   \n",
              "3                  0        99.8   176.6   66.2    54.3  ...    0     1     0   \n",
              "4                  0        99.4   176.6   66.4    54.3  ...    0     1     0   \n",
              "..               ...         ...     ...    ...     ...  ...  ...   ...   ...   \n",
              "200                0       109.1   188.8   68.9    55.5  ...    0     1     0   \n",
              "201                0       109.1   188.8   68.8    55.5  ...    0     1     0   \n",
              "202                0       109.1   188.8   68.9    55.5  ...    0     1     0   \n",
              "203                0       109.1   188.8   68.9    55.5  ...    0     0     0   \n",
              "204                0       109.1   188.8   68.9    55.5  ...    0     1     0   \n",
              "\n",
              "    spfi dohcv  l ohc ohcf  ohcv  rotor  \n",
              "0      0     0  0   0    0     0      0  \n",
              "1      0     0  0   0    0     0      0  \n",
              "2      0     0  0   0    0     1      0  \n",
              "3      0     0  0   1    0     0      0  \n",
              "4      0     0  0   1    0     0      0  \n",
              "..   ...   ... ..  ..  ...   ...    ...  \n",
              "200    0     0  0   1    0     0      0  \n",
              "201    0     0  0   1    0     0      0  \n",
              "202    0     0  0   0    0     1      0  \n",
              "203    0     0  0   1    0     0      0  \n",
              "204    0     0  0   1    0     0      0  \n",
              "\n",
              "[203 rows x 61 columns]"
            ],
            "text/html": [
              "\n",
              "  <div id=\"df-903b4877-bd88-4d23-adbc-0ece8636e7d6\">\n",
              "    <div class=\"colab-df-container\">\n",
              "      <div>\n",
              "<style scoped>\n",
              "    .dataframe tbody tr th:only-of-type {\n",
              "        vertical-align: middle;\n",
              "    }\n",
              "\n",
              "    .dataframe tbody tr th {\n",
              "        vertical-align: top;\n",
              "    }\n",
              "\n",
              "    .dataframe thead th {\n",
              "        text-align: right;\n",
              "    }\n",
              "</style>\n",
              "<table border=\"1\" class=\"dataframe\">\n",
              "  <thead>\n",
              "    <tr style=\"text-align: right;\">\n",
              "      <th></th>\n",
              "      <th>symboling</th>\n",
              "      <th>normalized-losses</th>\n",
              "      <th>fuel-type</th>\n",
              "      <th>aspiration</th>\n",
              "      <th>num-of-doors</th>\n",
              "      <th>engine-location</th>\n",
              "      <th>wheel-base</th>\n",
              "      <th>length</th>\n",
              "      <th>width</th>\n",
              "      <th>height</th>\n",
              "      <th>...</th>\n",
              "      <th>mfi</th>\n",
              "      <th>mpfi</th>\n",
              "      <th>spdi</th>\n",
              "      <th>spfi</th>\n",
              "      <th>dohcv</th>\n",
              "      <th>l</th>\n",
              "      <th>ohc</th>\n",
              "      <th>ohcf</th>\n",
              "      <th>ohcv</th>\n",
              "      <th>rotor</th>\n",
              "    </tr>\n",
              "  </thead>\n",
              "  <tbody>\n",
              "    <tr>\n",
              "      <th>0</th>\n",
              "      <td>3</td>\n",
              "      <td>115.0</td>\n",
              "      <td>0</td>\n",
              "      <td>0</td>\n",
              "      <td>0</td>\n",
              "      <td>0</td>\n",
              "      <td>88.6</td>\n",
              "      <td>168.8</td>\n",
              "      <td>64.1</td>\n",
              "      <td>48.8</td>\n",
              "      <td>...</td>\n",
              "      <td>0</td>\n",
              "      <td>1</td>\n",
              "      <td>0</td>\n",
              "      <td>0</td>\n",
              "      <td>0</td>\n",
              "      <td>0</td>\n",
              "      <td>0</td>\n",
              "      <td>0</td>\n",
              "      <td>0</td>\n",
              "      <td>0</td>\n",
              "    </tr>\n",
              "    <tr>\n",
              "      <th>1</th>\n",
              "      <td>3</td>\n",
              "      <td>115.0</td>\n",
              "      <td>0</td>\n",
              "      <td>0</td>\n",
              "      <td>0</td>\n",
              "      <td>0</td>\n",
              "      <td>88.6</td>\n",
              "      <td>168.8</td>\n",
              "      <td>64.1</td>\n",
              "      <td>48.8</td>\n",
              "      <td>...</td>\n",
              "      <td>0</td>\n",
              "      <td>1</td>\n",
              "      <td>0</td>\n",
              "      <td>0</td>\n",
              "      <td>0</td>\n",
              "      <td>0</td>\n",
              "      <td>0</td>\n",
              "      <td>0</td>\n",
              "      <td>0</td>\n",
              "      <td>0</td>\n",
              "    </tr>\n",
              "    <tr>\n",
              "      <th>2</th>\n",
              "      <td>1</td>\n",
              "      <td>115.0</td>\n",
              "      <td>0</td>\n",
              "      <td>0</td>\n",
              "      <td>0</td>\n",
              "      <td>0</td>\n",
              "      <td>94.5</td>\n",
              "      <td>171.2</td>\n",
              "      <td>65.5</td>\n",
              "      <td>52.4</td>\n",
              "      <td>...</td>\n",
              "      <td>0</td>\n",
              "      <td>1</td>\n",
              "      <td>0</td>\n",
              "      <td>0</td>\n",
              "      <td>0</td>\n",
              "      <td>0</td>\n",
              "      <td>0</td>\n",
              "      <td>0</td>\n",
              "      <td>1</td>\n",
              "      <td>0</td>\n",
              "    </tr>\n",
              "    <tr>\n",
              "      <th>3</th>\n",
              "      <td>2</td>\n",
              "      <td>164</td>\n",
              "      <td>0</td>\n",
              "      <td>0</td>\n",
              "      <td>1</td>\n",
              "      <td>0</td>\n",
              "      <td>99.8</td>\n",
              "      <td>176.6</td>\n",
              "      <td>66.2</td>\n",
              "      <td>54.3</td>\n",
              "      <td>...</td>\n",
              "      <td>0</td>\n",
              "      <td>1</td>\n",
              "      <td>0</td>\n",
              "      <td>0</td>\n",
              "      <td>0</td>\n",
              "      <td>0</td>\n",
              "      <td>1</td>\n",
              "      <td>0</td>\n",
              "      <td>0</td>\n",
              "      <td>0</td>\n",
              "    </tr>\n",
              "    <tr>\n",
              "      <th>4</th>\n",
              "      <td>2</td>\n",
              "      <td>164</td>\n",
              "      <td>0</td>\n",
              "      <td>0</td>\n",
              "      <td>1</td>\n",
              "      <td>0</td>\n",
              "      <td>99.4</td>\n",
              "      <td>176.6</td>\n",
              "      <td>66.4</td>\n",
              "      <td>54.3</td>\n",
              "      <td>...</td>\n",
              "      <td>0</td>\n",
              "      <td>1</td>\n",
              "      <td>0</td>\n",
              "      <td>0</td>\n",
              "      <td>0</td>\n",
              "      <td>0</td>\n",
              "      <td>1</td>\n",
              "      <td>0</td>\n",
              "      <td>0</td>\n",
              "      <td>0</td>\n",
              "    </tr>\n",
              "    <tr>\n",
              "      <th>...</th>\n",
              "      <td>...</td>\n",
              "      <td>...</td>\n",
              "      <td>...</td>\n",
              "      <td>...</td>\n",
              "      <td>...</td>\n",
              "      <td>...</td>\n",
              "      <td>...</td>\n",
              "      <td>...</td>\n",
              "      <td>...</td>\n",
              "      <td>...</td>\n",
              "      <td>...</td>\n",
              "      <td>...</td>\n",
              "      <td>...</td>\n",
              "      <td>...</td>\n",
              "      <td>...</td>\n",
              "      <td>...</td>\n",
              "      <td>...</td>\n",
              "      <td>...</td>\n",
              "      <td>...</td>\n",
              "      <td>...</td>\n",
              "      <td>...</td>\n",
              "    </tr>\n",
              "    <tr>\n",
              "      <th>200</th>\n",
              "      <td>-1</td>\n",
              "      <td>95</td>\n",
              "      <td>0</td>\n",
              "      <td>0</td>\n",
              "      <td>1</td>\n",
              "      <td>0</td>\n",
              "      <td>109.1</td>\n",
              "      <td>188.8</td>\n",
              "      <td>68.9</td>\n",
              "      <td>55.5</td>\n",
              "      <td>...</td>\n",
              "      <td>0</td>\n",
              "      <td>1</td>\n",
              "      <td>0</td>\n",
              "      <td>0</td>\n",
              "      <td>0</td>\n",
              "      <td>0</td>\n",
              "      <td>1</td>\n",
              "      <td>0</td>\n",
              "      <td>0</td>\n",
              "      <td>0</td>\n",
              "    </tr>\n",
              "    <tr>\n",
              "      <th>201</th>\n",
              "      <td>-1</td>\n",
              "      <td>95</td>\n",
              "      <td>0</td>\n",
              "      <td>1</td>\n",
              "      <td>1</td>\n",
              "      <td>0</td>\n",
              "      <td>109.1</td>\n",
              "      <td>188.8</td>\n",
              "      <td>68.8</td>\n",
              "      <td>55.5</td>\n",
              "      <td>...</td>\n",
              "      <td>0</td>\n",
              "      <td>1</td>\n",
              "      <td>0</td>\n",
              "      <td>0</td>\n",
              "      <td>0</td>\n",
              "      <td>0</td>\n",
              "      <td>1</td>\n",
              "      <td>0</td>\n",
              "      <td>0</td>\n",
              "      <td>0</td>\n",
              "    </tr>\n",
              "    <tr>\n",
              "      <th>202</th>\n",
              "      <td>-1</td>\n",
              "      <td>95</td>\n",
              "      <td>0</td>\n",
              "      <td>0</td>\n",
              "      <td>1</td>\n",
              "      <td>0</td>\n",
              "      <td>109.1</td>\n",
              "      <td>188.8</td>\n",
              "      <td>68.9</td>\n",
              "      <td>55.5</td>\n",
              "      <td>...</td>\n",
              "      <td>0</td>\n",
              "      <td>1</td>\n",
              "      <td>0</td>\n",
              "      <td>0</td>\n",
              "      <td>0</td>\n",
              "      <td>0</td>\n",
              "      <td>0</td>\n",
              "      <td>0</td>\n",
              "      <td>1</td>\n",
              "      <td>0</td>\n",
              "    </tr>\n",
              "    <tr>\n",
              "      <th>203</th>\n",
              "      <td>-1</td>\n",
              "      <td>95</td>\n",
              "      <td>1</td>\n",
              "      <td>1</td>\n",
              "      <td>1</td>\n",
              "      <td>0</td>\n",
              "      <td>109.1</td>\n",
              "      <td>188.8</td>\n",
              "      <td>68.9</td>\n",
              "      <td>55.5</td>\n",
              "      <td>...</td>\n",
              "      <td>0</td>\n",
              "      <td>0</td>\n",
              "      <td>0</td>\n",
              "      <td>0</td>\n",
              "      <td>0</td>\n",
              "      <td>0</td>\n",
              "      <td>1</td>\n",
              "      <td>0</td>\n",
              "      <td>0</td>\n",
              "      <td>0</td>\n",
              "    </tr>\n",
              "    <tr>\n",
              "      <th>204</th>\n",
              "      <td>-1</td>\n",
              "      <td>95</td>\n",
              "      <td>0</td>\n",
              "      <td>1</td>\n",
              "      <td>1</td>\n",
              "      <td>0</td>\n",
              "      <td>109.1</td>\n",
              "      <td>188.8</td>\n",
              "      <td>68.9</td>\n",
              "      <td>55.5</td>\n",
              "      <td>...</td>\n",
              "      <td>0</td>\n",
              "      <td>1</td>\n",
              "      <td>0</td>\n",
              "      <td>0</td>\n",
              "      <td>0</td>\n",
              "      <td>0</td>\n",
              "      <td>1</td>\n",
              "      <td>0</td>\n",
              "      <td>0</td>\n",
              "      <td>0</td>\n",
              "    </tr>\n",
              "  </tbody>\n",
              "</table>\n",
              "<p>203 rows × 61 columns</p>\n",
              "</div>\n",
              "      <button class=\"colab-df-convert\" onclick=\"convertToInteractive('df-903b4877-bd88-4d23-adbc-0ece8636e7d6')\"\n",
              "              title=\"Convert this dataframe to an interactive table.\"\n",
              "              style=\"display:none;\">\n",
              "        \n",
              "  <svg xmlns=\"http://www.w3.org/2000/svg\" height=\"24px\"viewBox=\"0 0 24 24\"\n",
              "       width=\"24px\">\n",
              "    <path d=\"M0 0h24v24H0V0z\" fill=\"none\"/>\n",
              "    <path d=\"M18.56 5.44l.94 2.06.94-2.06 2.06-.94-2.06-.94-.94-2.06-.94 2.06-2.06.94zm-11 1L8.5 8.5l.94-2.06 2.06-.94-2.06-.94L8.5 2.5l-.94 2.06-2.06.94zm10 10l.94 2.06.94-2.06 2.06-.94-2.06-.94-.94-2.06-.94 2.06-2.06.94z\"/><path d=\"M17.41 7.96l-1.37-1.37c-.4-.4-.92-.59-1.43-.59-.52 0-1.04.2-1.43.59L10.3 9.45l-7.72 7.72c-.78.78-.78 2.05 0 2.83L4 21.41c.39.39.9.59 1.41.59.51 0 1.02-.2 1.41-.59l7.78-7.78 2.81-2.81c.8-.78.8-2.07 0-2.86zM5.41 20L4 18.59l7.72-7.72 1.47 1.35L5.41 20z\"/>\n",
              "  </svg>\n",
              "      </button>\n",
              "      \n",
              "  <style>\n",
              "    .colab-df-container {\n",
              "      display:flex;\n",
              "      flex-wrap:wrap;\n",
              "      gap: 12px;\n",
              "    }\n",
              "\n",
              "    .colab-df-convert {\n",
              "      background-color: #E8F0FE;\n",
              "      border: none;\n",
              "      border-radius: 50%;\n",
              "      cursor: pointer;\n",
              "      display: none;\n",
              "      fill: #1967D2;\n",
              "      height: 32px;\n",
              "      padding: 0 0 0 0;\n",
              "      width: 32px;\n",
              "    }\n",
              "\n",
              "    .colab-df-convert:hover {\n",
              "      background-color: #E2EBFA;\n",
              "      box-shadow: 0px 1px 2px rgba(60, 64, 67, 0.3), 0px 1px 3px 1px rgba(60, 64, 67, 0.15);\n",
              "      fill: #174EA6;\n",
              "    }\n",
              "\n",
              "    [theme=dark] .colab-df-convert {\n",
              "      background-color: #3B4455;\n",
              "      fill: #D2E3FC;\n",
              "    }\n",
              "\n",
              "    [theme=dark] .colab-df-convert:hover {\n",
              "      background-color: #434B5C;\n",
              "      box-shadow: 0px 1px 3px 1px rgba(0, 0, 0, 0.15);\n",
              "      filter: drop-shadow(0px 1px 2px rgba(0, 0, 0, 0.3));\n",
              "      fill: #FFFFFF;\n",
              "    }\n",
              "  </style>\n",
              "\n",
              "      <script>\n",
              "        const buttonEl =\n",
              "          document.querySelector('#df-903b4877-bd88-4d23-adbc-0ece8636e7d6 button.colab-df-convert');\n",
              "        buttonEl.style.display =\n",
              "          google.colab.kernel.accessAllowed ? 'block' : 'none';\n",
              "\n",
              "        async function convertToInteractive(key) {\n",
              "          const element = document.querySelector('#df-903b4877-bd88-4d23-adbc-0ece8636e7d6');\n",
              "          const dataTable =\n",
              "            await google.colab.kernel.invokeFunction('convertToInteractive',\n",
              "                                                     [key], {});\n",
              "          if (!dataTable) return;\n",
              "\n",
              "          const docLinkHtml = 'Like what you see? Visit the ' +\n",
              "            '<a target=\"_blank\" href=https://colab.research.google.com/notebooks/data_table.ipynb>data table notebook</a>'\n",
              "            + ' to learn more about interactive tables.';\n",
              "          element.innerHTML = '';\n",
              "          dataTable['output_type'] = 'display_data';\n",
              "          await google.colab.output.renderOutput(dataTable, element);\n",
              "          const docLink = document.createElement('div');\n",
              "          docLink.innerHTML = docLinkHtml;\n",
              "          element.appendChild(docLink);\n",
              "        }\n",
              "      </script>\n",
              "    </div>\n",
              "  </div>\n",
              "  "
            ]
          },
          "metadata": {},
          "execution_count": 53
        }
      ]
    },
    {
      "cell_type": "markdown",
      "source": [
        "## Этап 11.  Как изменились метрики MAE и MSE на тестовом наборе, вывести их и сделать выводы."
      ],
      "metadata": {
        "id": "bhOyjC8TElEg"
      }
    },
    {
      "cell_type": "markdown",
      "source": [
        "### Подготовка данных для разделения на выборки"
      ],
      "metadata": {
        "id": "mB0Ut6jEBbZh"
      }
    },
    {
      "cell_type": "code",
      "source": [
        "y1 = mach1[\"horsepower\"]\n",
        "X1 = mach1.drop(\"horsepower\", axis=1)"
      ],
      "metadata": {
        "id": "mkiO-yeZBNf4"
      },
      "execution_count": 54,
      "outputs": []
    },
    {
      "cell_type": "markdown",
      "source": [
        "### Разделение данных на выборки"
      ],
      "metadata": {
        "id": "95lL1P2NBjAn"
      }
    },
    {
      "cell_type": "code",
      "source": [
        "X_train1, X_test1, y_train1, y_test1 = sklearn.model_selection.train_test_split(X1, y1, random_state = 0)"
      ],
      "metadata": {
        "id": "y5PK8wqaBPOQ"
      },
      "execution_count": 55,
      "outputs": []
    },
    {
      "cell_type": "markdown",
      "source": [
        "### Использование модели ElasticNet"
      ],
      "metadata": {
        "id": "U3_rKqWEBoY-"
      }
    },
    {
      "cell_type": "code",
      "source": [
        "elnet1 = ElasticNet()\n",
        "parameters = {'alpha': np.linspace(0,1,100),\n",
        "                 'l1_ratio': np.linspace(0,1,100)}\n",
        "elnet_grid1 = GridSearchCV(elnet1,parameters)\n",
        "elnet_grid1.fit(X_train1, y_train1)"
      ],
      "metadata": {
        "id": "xrtQkfVOBQyO",
        "colab": {
          "base_uri": "https://localhost:8080/"
        },
        "outputId": "13665544-d1b0-4708-9174-a402678031a7"
      },
      "execution_count": 56,
      "outputs": [
        {
          "output_type": "execute_result",
          "data": {
            "text/plain": [
              "GridSearchCV(estimator=ElasticNet(),\n",
              "             param_grid={'alpha': array([0.        , 0.01010101, 0.02020202, 0.03030303, 0.04040404,\n",
              "       0.05050505, 0.06060606, 0.07070707, 0.08080808, 0.09090909,\n",
              "       0.1010101 , 0.11111111, 0.12121212, 0.13131313, 0.14141414,\n",
              "       0.15151515, 0.16161616, 0.17171717, 0.18181818, 0.19191919,\n",
              "       0.2020202 , 0.21212121, 0.22222222, 0.23232323, 0.24242424,\n",
              "       0.25252525, 0.26262626,...\n",
              "       0.65656566, 0.66666667, 0.67676768, 0.68686869, 0.6969697 ,\n",
              "       0.70707071, 0.71717172, 0.72727273, 0.73737374, 0.74747475,\n",
              "       0.75757576, 0.76767677, 0.77777778, 0.78787879, 0.7979798 ,\n",
              "       0.80808081, 0.81818182, 0.82828283, 0.83838384, 0.84848485,\n",
              "       0.85858586, 0.86868687, 0.87878788, 0.88888889, 0.8989899 ,\n",
              "       0.90909091, 0.91919192, 0.92929293, 0.93939394, 0.94949495,\n",
              "       0.95959596, 0.96969697, 0.97979798, 0.98989899, 1.        ])})"
            ]
          },
          "metadata": {},
          "execution_count": 56
        }
      ]
    },
    {
      "cell_type": "code",
      "source": [
        "elnet_grid1.best_params_"
      ],
      "metadata": {
        "colab": {
          "base_uri": "https://localhost:8080/"
        },
        "id": "yW-TzEwETt_9",
        "outputId": "d5ee0f19-504d-4d10-a32c-a8c90b78af97"
      },
      "execution_count": 57,
      "outputs": [
        {
          "output_type": "execute_result",
          "data": {
            "text/plain": [
              "{'alpha': 0.020202020202020204, 'l1_ratio': 0.7676767676767677}"
            ]
          },
          "metadata": {},
          "execution_count": 57
        }
      ]
    },
    {
      "cell_type": "markdown",
      "source": [
        "### Сохранение лучшей модели"
      ],
      "metadata": {
        "id": "kGGCcB8UB1aO"
      }
    },
    {
      "cell_type": "code",
      "source": [
        "elnet1 = elnet_grid1.best_estimator_"
      ],
      "metadata": {
        "id": "SKBazTvvBTDO"
      },
      "execution_count": 58,
      "outputs": []
    },
    {
      "cell_type": "markdown",
      "source": [
        "### Метрики MAE, MSE, R2"
      ],
      "metadata": {
        "id": "QAA4EghSB-DI"
      }
    },
    {
      "cell_type": "code",
      "source": [
        "print(\"MAE: \" + str(sklearn.metrics.mean_absolute_error(y_test1, elnet1.predict(X_test1))))\n",
        "print(\"MSE: \" + str(sklearn.metrics.mean_squared_error(y_test1, elnet1.predict(X_test1))))\n",
        "print(\"R2: \" + str(sklearn.metrics.r2_score(y_test1, elnet1.predict(X_test1))))"
      ],
      "metadata": {
        "id": "0En8fPZLBUst",
        "colab": {
          "base_uri": "https://localhost:8080/"
        },
        "outputId": "93238143-468e-45c4-b640-ab9da216d702"
      },
      "execution_count": 59,
      "outputs": [
        {
          "output_type": "stream",
          "name": "stdout",
          "text": [
            "MAE: 6.462764660895067\n",
            "MSE: 80.24133527927476\n",
            "R2: 0.9417309882915181\n"
          ]
        }
      ]
    },
    {
      "cell_type": "markdown",
      "source": [
        "## Этап 12. Прогоняем датасет, который уже обогащён бинарными признаками, через StandardScaler, обучаем найденную на предыдущих шагах лучшую модель"
      ],
      "metadata": {
        "id": "67mMumg5CO7Y"
      }
    },
    {
      "cell_type": "markdown",
      "source": [
        "### Построим Standard Scaler"
      ],
      "metadata": {
        "id": "_vB8DKqODdVv"
      }
    },
    {
      "cell_type": "code",
      "source": [
        "scaler = StandardScaler()"
      ],
      "metadata": {
        "id": "AK31D7fcCUMM"
      },
      "execution_count": 60,
      "outputs": []
    },
    {
      "cell_type": "markdown",
      "source": [
        "### Нормируем данные"
      ],
      "metadata": {
        "id": "QeX6E4yzDmSG"
      }
    },
    {
      "cell_type": "code",
      "source": [
        "data_tr = mach1.drop(\"horsepower\",axis = 1)\n",
        "target = mach1[\"horsepower\"]\n",
        "scaler.fit(data_tr)\n",
        "tdtr = scaler.transform(data_tr)"
      ],
      "metadata": {
        "id": "OUIiD9jhCVn_"
      },
      "execution_count": 61,
      "outputs": []
    },
    {
      "cell_type": "markdown",
      "source": [
        "### Разделение данных на выборки"
      ],
      "metadata": {
        "id": "F7Eo7TiZDpBJ"
      }
    },
    {
      "cell_type": "code",
      "source": [
        "X_train2, X_test2, y_train2, y_test2 = sklearn.model_selection.train_test_split(tdtr, target, random_state = 0)"
      ],
      "metadata": {
        "id": "DMX88MM4CYtn"
      },
      "execution_count": 62,
      "outputs": []
    },
    {
      "cell_type": "markdown",
      "source": [
        "### Построение и обучение модели ElasticNet"
      ],
      "metadata": {
        "id": "fo8r9GkIDscm"
      }
    },
    {
      "cell_type": "code",
      "source": [
        "elnet2 = ElasticNet()\n",
        "parameters = {'alpha': np.linspace(0,1,100),\n",
        "                 'l1_ratio': np.linspace(0,1,100)}\n",
        "elnet_grid2 = GridSearchCV(elnet2,parameters)\n",
        "elnet_grid2.fit(X_train2, y_train2)"
      ],
      "metadata": {
        "id": "Wl3I-0d1CaNS",
        "colab": {
          "base_uri": "https://localhost:8080/"
        },
        "outputId": "dc682e0c-e12d-4e89-d19f-b69f96f93fc4"
      },
      "execution_count": 63,
      "outputs": [
        {
          "output_type": "execute_result",
          "data": {
            "text/plain": [
              "GridSearchCV(estimator=ElasticNet(),\n",
              "             param_grid={'alpha': array([0.        , 0.01010101, 0.02020202, 0.03030303, 0.04040404,\n",
              "       0.05050505, 0.06060606, 0.07070707, 0.08080808, 0.09090909,\n",
              "       0.1010101 , 0.11111111, 0.12121212, 0.13131313, 0.14141414,\n",
              "       0.15151515, 0.16161616, 0.17171717, 0.18181818, 0.19191919,\n",
              "       0.2020202 , 0.21212121, 0.22222222, 0.23232323, 0.24242424,\n",
              "       0.25252525, 0.26262626,...\n",
              "       0.65656566, 0.66666667, 0.67676768, 0.68686869, 0.6969697 ,\n",
              "       0.70707071, 0.71717172, 0.72727273, 0.73737374, 0.74747475,\n",
              "       0.75757576, 0.76767677, 0.77777778, 0.78787879, 0.7979798 ,\n",
              "       0.80808081, 0.81818182, 0.82828283, 0.83838384, 0.84848485,\n",
              "       0.85858586, 0.86868687, 0.87878788, 0.88888889, 0.8989899 ,\n",
              "       0.90909091, 0.91919192, 0.92929293, 0.93939394, 0.94949495,\n",
              "       0.95959596, 0.96969697, 0.97979798, 0.98989899, 1.        ])})"
            ]
          },
          "metadata": {},
          "execution_count": 63
        }
      ]
    },
    {
      "cell_type": "code",
      "source": [
        "elnet_grid2.best_params_"
      ],
      "metadata": {
        "colab": {
          "base_uri": "https://localhost:8080/"
        },
        "id": "nea-_RfkWdKl",
        "outputId": "dec04373-b910-4c5e-a5c2-ed2ce7046608"
      },
      "execution_count": 64,
      "outputs": [
        {
          "output_type": "execute_result",
          "data": {
            "text/plain": [
              "{'alpha': 0.06060606060606061, 'l1_ratio': 0.8282828282828284}"
            ]
          },
          "metadata": {},
          "execution_count": 64
        }
      ]
    },
    {
      "cell_type": "markdown",
      "source": [
        "### Выбор лучшей модели"
      ],
      "metadata": {
        "id": "Ns8q6WEUDzOw"
      }
    },
    {
      "cell_type": "code",
      "source": [
        "elnet2 = elnet_grid2.best_estimator_"
      ],
      "metadata": {
        "id": "hcz3uTrsCcau"
      },
      "execution_count": 65,
      "outputs": []
    },
    {
      "cell_type": "markdown",
      "source": [
        "### Метрики MAE, MSE, R2"
      ],
      "metadata": {
        "id": "Tq2k2vdpD4eh"
      }
    },
    {
      "cell_type": "code",
      "source": [
        "print(\"MAE: \" + str(sklearn.metrics.mean_absolute_error(y_test2, elnet2.predict(X_test2))))\n",
        "print(\"MSE: \" + str(sklearn.metrics.mean_squared_error(y_test2, elnet2.predict(X_test2))))\n",
        "print(\"R2: \" + str(sklearn.metrics.r2_score(y_test2, elnet2.predict(X_test2))))"
      ],
      "metadata": {
        "id": "bM60cCLyCd33",
        "colab": {
          "base_uri": "https://localhost:8080/"
        },
        "outputId": "013cc4e4-6fcb-47d9-d17a-83a72c59fd8d"
      },
      "execution_count": 66,
      "outputs": [
        {
          "output_type": "stream",
          "name": "stdout",
          "text": [
            "MAE: 6.129618626389239\n",
            "MSE: 83.52732859865593\n",
            "R2: 0.9393447919186062\n"
          ]
        }
      ]
    },
    {
      "cell_type": "markdown",
      "source": [
        "## Этап 13. Построить график (barh) с важностью коэфициентов при соответствующих признаках для предыдущего задания."
      ],
      "metadata": {
        "id": "bovYDCjjCuFH"
      }
    },
    {
      "cell_type": "markdown",
      "source": [
        "### Построение графика"
      ],
      "metadata": {
        "id": "biIuEZZzEFnX"
      }
    },
    {
      "cell_type": "code",
      "source": [
        "coefs_5 = []\n",
        "names_5 = []\n",
        "zzzzz = zip(elnet2.coef_, data_tr.columns)\n",
        "zzzzz = sorted(zzzzz, key=lambda x: x[0])\n",
        "for c, n in zzzzz:\n",
        "    coefs_5.append(c)\n",
        "    names_5.append(n)"
      ],
      "metadata": {
        "id": "d91ED_3RC0eX"
      },
      "execution_count": 67,
      "outputs": []
    },
    {
      "cell_type": "code",
      "source": [
        "plt.figure(figsize=(10,15))\n",
        "plt.barh(range(len(elnet2.coef_)), coefs_5, align='center')\n",
        "plt.yticks(range(len(elnet2.coef_)), names_5)"
      ],
      "metadata": {
        "id": "uakM593iC1rn",
        "colab": {
          "base_uri": "https://localhost:8080/",
          "height": 1000
        },
        "outputId": "96a0d94b-0321-43fa-c5ab-04b321ee682e"
      },
      "execution_count": 68,
      "outputs": [
        {
          "output_type": "execute_result",
          "data": {
            "text/plain": [
              "([<matplotlib.axis.YTick at 0x7faa394d6990>,\n",
              "  <matplotlib.axis.YTick at 0x7faa38f559d0>,\n",
              "  <matplotlib.axis.YTick at 0x7faa3777d8d0>,\n",
              "  <matplotlib.axis.YTick at 0x7faa37783510>,\n",
              "  <matplotlib.axis.YTick at 0x7faa37783a50>,\n",
              "  <matplotlib.axis.YTick at 0x7faa37783910>,\n",
              "  <matplotlib.axis.YTick at 0x7faa37776190>,\n",
              "  <matplotlib.axis.YTick at 0x7faa37776790>,\n",
              "  <matplotlib.axis.YTick at 0x7faa37776cd0>,\n",
              "  <matplotlib.axis.YTick at 0x7faa377742d0>,\n",
              "  <matplotlib.axis.YTick at 0x7faa37774750>,\n",
              "  <matplotlib.axis.YTick at 0x7faa37774c90>,\n",
              "  <matplotlib.axis.YTick at 0x7faa3778c290>,\n",
              "  <matplotlib.axis.YTick at 0x7faa3778c750>,\n",
              "  <matplotlib.axis.YTick at 0x7faa3778cc90>,\n",
              "  <matplotlib.axis.YTick at 0x7faa3778cbd0>,\n",
              "  <matplotlib.axis.YTick at 0x7faa37774650>,\n",
              "  <matplotlib.axis.YTick at 0x7faa37776310>,\n",
              "  <matplotlib.axis.YTick at 0x7faa37758450>,\n",
              "  <matplotlib.axis.YTick at 0x7faa37758990>,\n",
              "  <matplotlib.axis.YTick at 0x7faa37758ed0>,\n",
              "  <matplotlib.axis.YTick at 0x7faa3811c450>,\n",
              "  <matplotlib.axis.YTick at 0x7faa3811c990>,\n",
              "  <matplotlib.axis.YTick at 0x7faa3811ced0>,\n",
              "  <matplotlib.axis.YTick at 0x7faa3812b450>,\n",
              "  <matplotlib.axis.YTick at 0x7faa3811c3d0>,\n",
              "  <matplotlib.axis.YTick at 0x7faa37758210>,\n",
              "  <matplotlib.axis.YTick at 0x7faa37776050>,\n",
              "  <matplotlib.axis.YTick at 0x7faa3812b390>,\n",
              "  <matplotlib.axis.YTick at 0x7faa3812be10>,\n",
              "  <matplotlib.axis.YTick at 0x7faa3813b390>,\n",
              "  <matplotlib.axis.YTick at 0x7faa3813b8d0>,\n",
              "  <matplotlib.axis.YTick at 0x7faa3813be10>,\n",
              "  <matplotlib.axis.YTick at 0x7faa38144390>,\n",
              "  <matplotlib.axis.YTick at 0x7faa381448d0>,\n",
              "  <matplotlib.axis.YTick at 0x7faa38144e10>,\n",
              "  <matplotlib.axis.YTick at 0x7faa38144b90>,\n",
              "  <matplotlib.axis.YTick at 0x7faa3813bd50>,\n",
              "  <matplotlib.axis.YTick at 0x7faa3812b790>,\n",
              "  <matplotlib.axis.YTick at 0x7faa3814f5d0>,\n",
              "  <matplotlib.axis.YTick at 0x7faa3814fb10>,\n",
              "  <matplotlib.axis.YTick at 0x7faa3814fd50>,\n",
              "  <matplotlib.axis.YTick at 0x7faa3814dc10>,\n",
              "  <matplotlib.axis.YTick at 0x7faa3814d6d0>,\n",
              "  <matplotlib.axis.YTick at 0x7faa3814d490>,\n",
              "  <matplotlib.axis.YTick at 0x7faa3814db50>,\n",
              "  <matplotlib.axis.YTick at 0x7faa3814f510>,\n",
              "  <matplotlib.axis.YTick at 0x7faa38144310>,\n",
              "  <matplotlib.axis.YTick at 0x7faa38139350>,\n",
              "  <matplotlib.axis.YTick at 0x7faa38139d50>,\n",
              "  <matplotlib.axis.YTick at 0x7faa380dd350>,\n",
              "  <matplotlib.axis.YTick at 0x7faa380dd810>,\n",
              "  <matplotlib.axis.YTick at 0x7faa380ddd50>,\n",
              "  <matplotlib.axis.YTick at 0x7faa380eb350>,\n",
              "  <matplotlib.axis.YTick at 0x7faa380eb810>,\n",
              "  <matplotlib.axis.YTick at 0x7faa380ebd50>,\n",
              "  <matplotlib.axis.YTick at 0x7faa380eb290>,\n",
              "  <matplotlib.axis.YTick at 0x7faa38144f10>,\n",
              "  <matplotlib.axis.YTick at 0x7faa3814f790>,\n",
              "  <matplotlib.axis.YTick at 0x7faa380f9510>],\n",
              " [Text(0, 0, 'city-mpg'),\n",
              "  Text(0, 0, 'mercedes-benz'),\n",
              "  Text(0, 0, 'wheel-base'),\n",
              "  Text(0, 0, 'idi'),\n",
              "  Text(0, 0, 'fuel-type'),\n",
              "  Text(0, 0, 'num-of-doors'),\n",
              "  Text(0, 0, 'peugot'),\n",
              "  Text(0, 0, 'ohc'),\n",
              "  Text(0, 0, 'symboling'),\n",
              "  Text(0, 0, 'l'),\n",
              "  Text(0, 0, 'jaguar'),\n",
              "  Text(0, 0, '4bbl'),\n",
              "  Text(0, 0, 'height'),\n",
              "  Text(0, 0, 'volvo'),\n",
              "  Text(0, 0, 'renault'),\n",
              "  Text(0, 0, 'normalized-losses'),\n",
              "  Text(0, 0, 'spdi'),\n",
              "  Text(0, 0, 'bore'),\n",
              "  Text(0, 0, 'plymouth'),\n",
              "  Text(0, 0, 'dodge'),\n",
              "  Text(0, 0, 'subaru'),\n",
              "  Text(0, 0, 'isuzu'),\n",
              "  Text(0, 0, 'volkswagen'),\n",
              "  Text(0, 0, 'length'),\n",
              "  Text(0, 0, 'num-of-cylinders'),\n",
              "  Text(0, 0, 'compression-ratio'),\n",
              "  Text(0, 0, 'honda'),\n",
              "  Text(0, 0, 'mitsubishi'),\n",
              "  Text(0, 0, 'spfi'),\n",
              "  Text(0, 0, 'ohcf'),\n",
              "  Text(0, 0, 'stroke'),\n",
              "  Text(0, 0, 'mfi'),\n",
              "  Text(0, 0, 'mazda'),\n",
              "  Text(0, 0, 'hardtop'),\n",
              "  Text(0, 0, '2bbl'),\n",
              "  Text(0, 0, 'bmw'),\n",
              "  Text(0, 0, 'chevrolet'),\n",
              "  Text(0, 0, 'ohcv'),\n",
              "  Text(0, 0, 'audi'),\n",
              "  Text(0, 0, 'nissan'),\n",
              "  Text(0, 0, 'fwd'),\n",
              "  Text(0, 0, 'porsche'),\n",
              "  Text(0, 0, 'toyota'),\n",
              "  Text(0, 0, 'price'),\n",
              "  Text(0, 0, 'mercury'),\n",
              "  Text(0, 0, 'saab'),\n",
              "  Text(0, 0, 'wagon'),\n",
              "  Text(0, 0, 'highway-mpg'),\n",
              "  Text(0, 0, 'width'),\n",
              "  Text(0, 0, 'hatchback'),\n",
              "  Text(0, 0, 'rotor'),\n",
              "  Text(0, 0, 'mpfi'),\n",
              "  Text(0, 0, 'engine-location'),\n",
              "  Text(0, 0, 'sedan'),\n",
              "  Text(0, 0, 'rwd'),\n",
              "  Text(0, 0, 'peak-rpm'),\n",
              "  Text(0, 0, 'dohcv'),\n",
              "  Text(0, 0, 'curb-weight'),\n",
              "  Text(0, 0, 'aspiration'),\n",
              "  Text(0, 0, 'engine-size')])"
            ]
          },
          "metadata": {},
          "execution_count": 68
        },
        {
          "output_type": "display_data",
          "data": {
            "text/plain": [
              "<Figure size 720x1080 with 1 Axes>"
            ],
            "image/png": "[encoded data removed]"
          },
          "metadata": {
            "needs_background": "light"
          }
        }
      ]
    },
    {
      "cell_type": "markdown",
      "source": [
        "### Cравнение MAE для всех моделей"
      ],
      "metadata": {
        "id": "gLSS65SaELnp"
      }
    },
    {
      "cell_type": "code",
      "source": [
        "print(\"MAE LR: \" + str(sklearn.metrics.mean_absolute_error(y_test, model_lr.predict(X_test))))\n",
        "print(\"MAE lasso: \" + str(sklearn.metrics.mean_absolute_error(y_test, lasso.predict(X_test))))\n",
        "print(\"MAE ridge: \" + str(sklearn.metrics.mean_absolute_error(y_test, ridge.predict(X_test))))\n",
        "print(\"MAE elastic net: \" + str(sklearn.metrics.mean_absolute_error(y_test, elnet.predict(X_test))))\n",
        "print(\"MAE elastic net with all features: \" + str(sklearn.metrics.mean_absolute_error(y_test2, elnet1.predict(X_test1))))\n",
        "print(\"MAE elastic net with normalize: \" + str(sklearn.metrics.mean_absolute_error(y_test2, elnet2.predict(X_test2))))"
      ],
      "metadata": {
        "id": "h3D0pO0XC3di",
        "colab": {
          "base_uri": "https://localhost:8080/"
        },
        "outputId": "7f5c55bf-d383-4552-e41f-225f3a152f71"
      },
      "execution_count": 69,
      "outputs": [
        {
          "output_type": "stream",
          "name": "stdout",
          "text": [
            "MAE LR: 11.61861312482972\n",
            "MAE lasso: 11.597940640882246\n",
            "MAE ridge: 11.612956932844755\n",
            "MAE elastic net: 11.110025380328247\n",
            "MAE elastic net with all features: 6.462764660895067\n",
            "MAE elastic net with normalize: 6.129618626389239\n"
          ]
        }
      ]
    },
    {
      "cell_type": "markdown",
      "source": [
        "# Итоги"
      ],
      "metadata": {
        "id": "24_TGQtfC9Z4"
      }
    },
    {
      "cell_type": "markdown",
      "source": [
        "Наилучшим регрессором оказался elastic net с нормализацией признаков"
      ],
      "metadata": {
        "id": "eY1Z5d0CC6co"
      }
    }
  ]
}